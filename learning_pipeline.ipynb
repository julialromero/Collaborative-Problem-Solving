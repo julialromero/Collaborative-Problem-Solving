{
  "cells": [
    {
      "cell_type": "markdown",
      "metadata": {
        "id": "view-in-github",
        "colab_type": "text"
      },
      "source": [
        "<a href=\"https://colab.research.google.com/github/julialromero/Collaborative-Problem-Solving/blob/main/learning_pipeline.ipynb\" target=\"_parent\"><img src=\"https://colab.research.google.com/assets/colab-badge.svg\" alt=\"Open In Colab\"/></a>"
      ]
    },
    {
      "cell_type": "code",
      "source": [
        "from google.colab import drive\n",
        "drive.mount('/content/drive')"
      ],
      "metadata": {
        "colab": {
          "base_uri": "https://localhost:8080/"
        },
        "id": "O3iQDKYwuL10",
        "outputId": "2c3e5fc7-cba3-4330-88af-49c831a7fb19"
      },
      "id": "O3iQDKYwuL10",
      "execution_count": 1,
      "outputs": [
        {
          "output_type": "stream",
          "name": "stdout",
          "text": [
            "Drive already mounted at /content/drive; to attempt to forcibly remount, call drive.mount(\"/content/drive\", force_remount=True).\n"
          ]
        }
      ]
    },
    {
      "cell_type": "code",
      "execution_count": 2,
      "id": "91956b3e",
      "metadata": {
        "id": "91956b3e"
      },
      "outputs": [],
      "source": [
        "import pandas as pd\n",
        "import numpy as np\n",
        "import sklearn\n",
        "import seaborn as sns\n",
        "import matplotlib.pyplot as plt\n",
        "import tensorflow as tf\n",
        "from tensorflow import keras\n",
        "from tensorflow.keras.preprocessing import image\n",
        "from tensorflow.keras.applications.inception_v3 import preprocess_input\n",
        "from keras import layers, Input, Model, optimizers"
      ]
    },
    {
      "cell_type": "markdown",
      "id": "276ad7ff",
      "metadata": {
        "id": "276ad7ff"
      },
      "source": [
        "# Scratchwork"
      ]
    },
    {
      "cell_type": "code",
      "execution_count": 148,
      "id": "a72ba0c3",
      "metadata": {
        "colab": {
          "base_uri": "https://localhost:8080/",
          "height": 314
        },
        "id": "a72ba0c3",
        "outputId": "2e271e9a-dddb-4edc-eb3d-5025314c400a"
      },
      "outputs": [
        {
          "output_type": "execute_result",
          "data": {
            "text/plain": [
              "<matplotlib.image.AxesImage at 0x7f7b7a263a50>"
            ]
          },
          "metadata": {},
          "execution_count": 148
        },
        {
          "output_type": "display_data",
          "data": {
            "text/plain": [
              "<Figure size 432x288 with 1 Axes>"
            ],
            "image/png": "[encoded data removed]"
          },
          "metadata": {
            "needs_background": "light"
          }
        }
      ],
      "source": [
        "from skimage import io\n",
        "\n",
        "imag = io.imread('drive/MyDrive/data/RAW/1010-ExpBlock1_RAW.png', as_gray=True)\n",
        "x = image.img_to_array(imag)\n",
        "\n",
        "x = tf.image.resize(x, imgsize)\n",
        "x = np.array(x)\n",
        "io.imshow(x.squeeze())\n",
        "#n = preprocess_input(x)    # preprocess input for Inception v3"
      ]
    },
    {
      "cell_type": "markdown",
      "id": "fbbc8090",
      "metadata": {
        "id": "fbbc8090"
      },
      "source": [
        "### (760, 598, 4)"
      ]
    },
    {
      "cell_type": "code",
      "execution_count": 150,
      "id": "70a3bd6c",
      "metadata": {
        "id": "70a3bd6c"
      },
      "outputs": [],
      "source": [
        "# read, preprocess, and scale images to uniform dimension\n",
        "imgsize = (int(760/2), int(598/2))  \n",
        "def extract_image(image_path):\n",
        "    imag = io.imread(image_path, as_gray=True)\n",
        "    x = image.img_to_array(imag)\n",
        "\n",
        "    x = tf.image.resize(x, imgsize)\n",
        "    \n",
        "    #n = preprocess_input(x)\n",
        "    return x"
      ]
    },
    {
      "cell_type": "code",
      "execution_count": 7,
      "id": "e301c5d2",
      "metadata": {
        "id": "e301c5d2"
      },
      "outputs": [],
      "source": [
        "# Use InceptionV3 model for feature extraction\n",
        "base_model = tf.keras.applications.InceptionV3(\n",
        "    include_top=False,\n",
        "    weights=\"imagenet\",\n",
        "    input_tensor=None,\n",
        "    input_shape=(None, None, 3),\n",
        "    pooling='max',\n",
        ")"
      ]
    },
    {
      "cell_type": "code",
      "execution_count": 90,
      "id": "be75deee",
      "metadata": {
        "colab": {
          "base_uri": "https://localhost:8080/"
        },
        "id": "be75deee",
        "outputId": "63ed6954-8ccc-4daf-e001-c9c8f04fede5"
      },
      "outputs": [
        {
          "output_type": "stream",
          "name": "stdout",
          "text": [
            "Model: \"model_9\"\n",
            "_________________________________________________________________\n",
            " Layer (type)                Output Shape              Param #   \n",
            "=================================================================\n",
            " input_12 (InputLayer)       [(None, 380, 299, 1)]     0         \n",
            "                                                                 \n",
            " conv2d_130 (Conv2D)         (None, 378, 297, 16)      160       \n",
            "                                                                 \n",
            " conv2d_131 (Conv2D)         (None, 376, 295, 16)      2320      \n",
            "                                                                 \n",
            " max_pooling2d_22 (MaxPoolin  (None, 188, 147, 16)     0         \n",
            " g2D)                                                            \n",
            "                                                                 \n",
            " dropout_27 (Dropout)        (None, 188, 147, 16)      0         \n",
            "                                                                 \n",
            " conv2d_132 (Conv2D)         (None, 186, 145, 32)      4640      \n",
            "                                                                 \n",
            " conv2d_133 (Conv2D)         (None, 184, 143, 32)      9248      \n",
            "                                                                 \n",
            " max_pooling2d_23 (MaxPoolin  (None, 92, 71, 32)       0         \n",
            " g2D)                                                            \n",
            "                                                                 \n",
            " dropout_28 (Dropout)        (None, 92, 71, 32)        0         \n",
            "                                                                 \n",
            " dense_18 (Dense)            (None, 92, 71, 512)       16896     \n",
            "                                                                 \n",
            " dropout_29 (Dropout)        (None, 92, 71, 512)       0         \n",
            "                                                                 \n",
            " flatten_8 (Flatten)         (None, 3344384)           0         \n",
            "                                                                 \n",
            " dense_19 (Dense)            (None, 16)                53510160  \n",
            "                                                                 \n",
            "=================================================================\n",
            "Total params: 53,543,424\n",
            "Trainable params: 53,543,424\n",
            "Non-trainable params: 0\n",
            "_________________________________________________________________\n"
          ]
        }
      ],
      "source": [
        "# Garcia-Ceja paper feeds CNN images with dims 100 x 100 x 4 (width x height x channels)\n",
        "# Labels are one hot encoded\n",
        "\n",
        "inputs = Input(shape=(int(760/2), int(598/2), 1))\n",
        "x = layers.Conv2D(filters=16, kernel_size=3, strides=(1, 1), activation=\"relu\")(inputs)\n",
        "x = layers.Conv2D(filters=16, kernel_size=3, strides=(1, 1), activation=\"relu\")(x)\n",
        "x = layers.MaxPooling2D(pool_size=(2, 2))(x)\n",
        "x = layers.Dropout(0.25)(x)\n",
        "x = layers.Conv2D(filters=32, kernel_size=3, strides=(1, 1), activation=\"relu\")(x)\n",
        "x = layers.Conv2D(filters=32, kernel_size=3, strides=(1, 1), activation=\"relu\")(x)\n",
        "x = layers.MaxPooling2D(pool_size=(2, 2))(x)\n",
        "x = layers.Dropout(0.25)(x)\n",
        "x = layers.Dense(512, activation=\"relu\")(x) \n",
        "x = layers.Dropout(0.50)(x)\n",
        "x = layers.Flatten()(x)\n",
        "out = layers.Dense(16, activation=\"softmax\")(x) \n",
        "\n",
        "# ---- Output layer ----\n",
        "# Try a ReLU6 activation function -> f(x) = min(max(0,x),6). Restricted between 0 and 6, inclusive.\n",
        "# Then scale the range [0,6] to our target [0, 15] range and round to nearest integer\n",
        "\n",
        "model = Model(inputs=inputs, outputs=out)\n",
        "model.compile(\n",
        "  optimizer = 'adam',\n",
        "  loss=tf.keras.losses.CategoricalCrossentropy(), #\"mse\", #tf.keras.losses.MeanSquaredError(),  \n",
        "  metrics=['accuracy'],\n",
        ")\n",
        "\n",
        "model.summary()"
      ]
    },
    {
      "cell_type": "code",
      "execution_count": 167,
      "id": "9a53b3c9",
      "metadata": {
        "id": "9a53b3c9"
      },
      "outputs": [],
      "source": [
        "def accuracy(predicted, observed):\n",
        "    if(len(predicted) != len(observed)):\n",
        "        print(\"Error - length of input series is not equal.\")\n",
        "        return np.nan\n",
        "    \n",
        "    correct = 0\n",
        "    for pred, obs in zip(predicted, observed):\n",
        "        if pred == obs:\n",
        "            correct += 1\n",
        "    acc = correct / len(predicted)\n",
        "    return acc"
      ]
    },
    {
      "cell_type": "markdown",
      "id": "c7dd6e80",
      "metadata": {
        "id": "c7dd6e80"
      },
      "source": [
        "## Load and preprocess data"
      ]
    },
    {
      "cell_type": "code",
      "execution_count": 25,
      "id": "272cb1c9",
      "metadata": {
        "id": "272cb1c9"
      },
      "outputs": [],
      "source": [
        "import os\n",
        "import random"
      ]
    },
    {
      "cell_type": "code",
      "execution_count": 26,
      "id": "ab77eaa2",
      "metadata": {
        "id": "ab77eaa2"
      },
      "outputs": [],
      "source": [
        "outcome_df = pd.read_csv(\"drive/MyDrive/data/team_block_outcomes.csv\")"
      ]
    },
    {
      "cell_type": "code",
      "execution_count": 27,
      "id": "e1ee2f2a",
      "metadata": {
        "id": "e1ee2f2a"
      },
      "outputs": [],
      "source": [
        "def extract_score(filename, outcome_df, score_col=\"task_score\"):\n",
        "    #  match this file's id/block with task score and return\n",
        "    groupid, splitname = filename.split(\"-\")\n",
        "    block = splitname.split(\"_\")[0]\n",
        "    row = outcome_df.loc[(outcome_df.GROUPID == int(groupid)) & (outcome_df.block == block)]\n",
        "    if(row.shape[0] != 1):\n",
        "        print(f\"Error -- Number of task scores recorded is not 1 for block {block} and groupid {groupid}.\")\n",
        "        return np.nan\n",
        "    score = row[score_col].values[0]\n",
        "    return score"
      ]
    },
    {
      "cell_type": "code",
      "execution_count": 151,
      "id": "97137e7d",
      "metadata": {
        "colab": {
          "base_uri": "https://localhost:8080/"
        },
        "id": "97137e7d",
        "outputId": "69c8a893-5752-43a5-bc92-9245ef49c43c"
      },
      "outputs": [
        {
          "output_type": "stream",
          "name": "stdout",
          "text": [
            "Number of samples: 271\n"
          ]
        }
      ],
      "source": [
        "# read data to np arrays\n",
        "recurrence_plot_list = []\n",
        "labels = []\n",
        "for filename in os.listdir('drive/MyDrive/data/RAW/'):\n",
        "    # preprocess image\n",
        "    t = extract_image('drive/MyDrive/data/RAW/' + filename)\n",
        "    \n",
        "    # get task score\n",
        "    lab = extract_score(filename, outcome_df, score_col=\"task_score\")\n",
        "    \n",
        "    recurrence_plot_list.append(t)\n",
        "    labels.append(lab)\n",
        "\n",
        "recurrence_plot_list = np.array(recurrence_plot_list)\n",
        "labels = np.array(labels)\n",
        "\n",
        "print(f\"Number of samples: {recurrence_plot_list.shape[0]}\")"
      ]
    },
    {
      "cell_type": "code",
      "source": [
        "from sklearn.preprocessing import StandardScaler, OneHotEncoder"
      ],
      "metadata": {
        "id": "wnba4OIz0tBd"
      },
      "id": "wnba4OIz0tBd",
      "execution_count": 152,
      "outputs": []
    },
    {
      "cell_type": "code",
      "execution_count": 186,
      "id": "972e5553",
      "metadata": {
        "id": "972e5553"
      },
      "outputs": [],
      "source": [
        "import sklearn\n",
        "from sklearn.model_selection import train_test_split\n",
        "\n",
        "# Split into train/test/val set\n",
        "# Roughly val - 15%, test - 15%, train - 70%\n",
        "X_train, X_test, y_train, y_test = train_test_split(recurrence_plot_list, labels, train_size=0.85, random_state=46)\n",
        "X_train, X_val, y_train, y_val = train_test_split(X_train, y_train, train_size=0.82, random_state=46)"
      ]
    },
    {
      "cell_type": "code",
      "source": [
        "# one hot encode\n",
        "enc = OneHotEncoder()\n",
        "y_train_enc = enc.fit_transform(y_train.reshape(-1, 1))\n",
        "#y_test_enc = enc.transform(y_test.reshape(-1, 1))\n",
        "y_val_enc = enc.transform(y_val.reshape(-1, 1))\n",
        "\n",
        "# Scale y train data from [0, 15] to [0, 6] for training the neural network\n",
        "# scaler = StandardScaler()\n",
        "# y_train = scaler.fit_transform(y_train.reshape(-1, 1))\n",
        "# # y_train = y_train/15 * 6\n",
        "\n",
        "# y_test_scaled = scaler.transform(y_test.reshape(-1, 1)) #/15 * 6"
      ],
      "metadata": {
        "id": "6fhZ990gC_aA"
      },
      "id": "6fhZ990gC_aA",
      "execution_count": 187,
      "outputs": []
    },
    {
      "cell_type": "code",
      "source": [
        "y_train_enc = y_train_enc.toarray()\n",
        "#y_test_enc = y_test_enc.toarray()\n",
        "y_val_enc = y_val_enc.toarray()"
      ],
      "metadata": {
        "colab": {
          "base_uri": "https://localhost:8080/",
          "height": 201
        },
        "id": "j48qhSaQ1QTB",
        "outputId": "76d30990-8d3d-43ab-9d1c-2fc850ecf54a"
      },
      "id": "j48qhSaQ1QTB",
      "execution_count": 189,
      "outputs": [
        {
          "output_type": "error",
          "ename": "AttributeError",
          "evalue": "ignored",
          "traceback": [
            "\u001b[0;31m---------------------------------------------------------------------------\u001b[0m",
            "\u001b[0;31mAttributeError\u001b[0m                            Traceback (most recent call last)",
            "\u001b[0;32m<ipython-input-189-63d26ed61809>\u001b[0m in \u001b[0;36m<module>\u001b[0;34m()\u001b[0m\n\u001b[0;32m----> 1\u001b[0;31m \u001b[0my_train_enc\u001b[0m \u001b[0;34m=\u001b[0m \u001b[0my_train_enc\u001b[0m\u001b[0;34m.\u001b[0m\u001b[0mtoarray\u001b[0m\u001b[0;34m(\u001b[0m\u001b[0;34m)\u001b[0m\u001b[0;34m\u001b[0m\u001b[0;34m\u001b[0m\u001b[0m\n\u001b[0m\u001b[1;32m      2\u001b[0m \u001b[0;31m#y_test_enc = y_test_enc.toarray()\u001b[0m\u001b[0;34m\u001b[0m\u001b[0;34m\u001b[0m\u001b[0;34m\u001b[0m\u001b[0m\n\u001b[1;32m      3\u001b[0m \u001b[0my_val_enc\u001b[0m \u001b[0;34m=\u001b[0m \u001b[0my_val_enc\u001b[0m\u001b[0;34m.\u001b[0m\u001b[0mtoarray\u001b[0m\u001b[0;34m(\u001b[0m\u001b[0;34m)\u001b[0m\u001b[0;34m\u001b[0m\u001b[0;34m\u001b[0m\u001b[0m\n",
            "\u001b[0;31mAttributeError\u001b[0m: 'numpy.ndarray' object has no attribute 'toarray'"
          ]
        }
      ]
    },
    {
      "cell_type": "code",
      "execution_count": 190,
      "id": "7ff35da3",
      "metadata": {
        "colab": {
          "base_uri": "https://localhost:8080/"
        },
        "id": "7ff35da3",
        "outputId": "a2fb8695-bdb4-45b8-b243-32c9aafbc980"
      },
      "outputs": [
        {
          "output_type": "stream",
          "name": "stdout",
          "text": [
            "Epoch 1/50\n",
            "6/6 [==============================] - 6s 1s/step - loss: 0.5008 - accuracy: 0.9415 - val_loss: 0.4542 - val_accuracy: 0.9048\n",
            "Epoch 2/50\n",
            "6/6 [==============================] - 4s 746ms/step - loss: 0.0593 - accuracy: 1.0000 - val_loss: 0.3177 - val_accuracy: 0.9524\n",
            "Epoch 3/50\n",
            "6/6 [==============================] - 4s 715ms/step - loss: 0.0202 - accuracy: 1.0000 - val_loss: 0.2984 - val_accuracy: 0.9524\n",
            "Epoch 4/50\n",
            "6/6 [==============================] - 1s 236ms/step - loss: 0.0077 - accuracy: 1.0000 - val_loss: 0.3644 - val_accuracy: 0.9286\n",
            "Epoch 5/50\n",
            "6/6 [==============================] - 1s 225ms/step - loss: 0.0014 - accuracy: 1.0000 - val_loss: 0.4318 - val_accuracy: 0.9286\n",
            "Epoch 6/50\n",
            "6/6 [==============================] - 1s 224ms/step - loss: 5.3958e-04 - accuracy: 1.0000 - val_loss: 0.3793 - val_accuracy: 0.9286\n",
            "Epoch 7/50\n",
            "6/6 [==============================] - 1s 232ms/step - loss: 3.3859e-04 - accuracy: 1.0000 - val_loss: 0.3379 - val_accuracy: 0.9524\n",
            "Epoch 8/50\n",
            "6/6 [==============================] - 1s 235ms/step - loss: 1.8385e-04 - accuracy: 1.0000 - val_loss: 0.3203 - val_accuracy: 0.9524\n",
            "Epoch 9/50\n",
            "6/6 [==============================] - 1s 233ms/step - loss: 2.0121e-04 - accuracy: 1.0000 - val_loss: 0.3176 - val_accuracy: 0.9524\n",
            "Epoch 10/50\n",
            "6/6 [==============================] - 1s 236ms/step - loss: 2.3779e-04 - accuracy: 1.0000 - val_loss: 0.3196 - val_accuracy: 0.9524\n",
            "Epoch 11/50\n",
            "6/6 [==============================] - 1s 224ms/step - loss: 1.2106e-04 - accuracy: 1.0000 - val_loss: 0.3270 - val_accuracy: 0.9524\n",
            "Epoch 12/50\n",
            "6/6 [==============================] - 1s 235ms/step - loss: 1.5279e-04 - accuracy: 1.0000 - val_loss: 0.3361 - val_accuracy: 0.9524\n",
            "Epoch 13/50\n",
            "6/6 [==============================] - 1s 235ms/step - loss: 6.7660e-05 - accuracy: 1.0000 - val_loss: 0.3423 - val_accuracy: 0.9524\n",
            "Epoch 14/50\n",
            "6/6 [==============================] - 1s 228ms/step - loss: 1.1392e-04 - accuracy: 1.0000 - val_loss: 0.3455 - val_accuracy: 0.9524\n",
            "Epoch 15/50\n",
            "6/6 [==============================] - 1s 235ms/step - loss: 1.4741e-04 - accuracy: 1.0000 - val_loss: 0.3448 - val_accuracy: 0.9524\n",
            "Epoch 16/50\n",
            "6/6 [==============================] - 1s 232ms/step - loss: 8.3656e-05 - accuracy: 1.0000 - val_loss: 0.3452 - val_accuracy: 0.9524\n",
            "Epoch 17/50\n",
            "6/6 [==============================] - 1s 235ms/step - loss: 2.1858e-04 - accuracy: 1.0000 - val_loss: 0.3454 - val_accuracy: 0.9524\n",
            "Epoch 18/50\n",
            "6/6 [==============================] - 1s 223ms/step - loss: 5.7087e-05 - accuracy: 1.0000 - val_loss: 0.3499 - val_accuracy: 0.9524\n",
            "Epoch 19/50\n",
            "6/6 [==============================] - 1s 225ms/step - loss: 9.6857e-05 - accuracy: 1.0000 - val_loss: 0.3540 - val_accuracy: 0.9524\n",
            "Epoch 20/50\n",
            "6/6 [==============================] - 1s 229ms/step - loss: 5.7154e-05 - accuracy: 1.0000 - val_loss: 0.3575 - val_accuracy: 0.9524\n",
            "Epoch 21/50\n",
            "6/6 [==============================] - 1s 238ms/step - loss: 8.4534e-05 - accuracy: 1.0000 - val_loss: 0.3603 - val_accuracy: 0.9524\n",
            "Epoch 22/50\n",
            "6/6 [==============================] - 1s 235ms/step - loss: 6.2992e-05 - accuracy: 1.0000 - val_loss: 0.3631 - val_accuracy: 0.9524\n",
            "Epoch 23/50\n",
            "6/6 [==============================] - 1s 237ms/step - loss: 7.8580e-05 - accuracy: 1.0000 - val_loss: 0.3648 - val_accuracy: 0.9524\n",
            "Epoch 24/50\n",
            "6/6 [==============================] - 1s 234ms/step - loss: 7.9061e-05 - accuracy: 1.0000 - val_loss: 0.3649 - val_accuracy: 0.9524\n",
            "Epoch 25/50\n",
            "6/6 [==============================] - 1s 236ms/step - loss: 6.9632e-05 - accuracy: 1.0000 - val_loss: 0.3649 - val_accuracy: 0.9524\n",
            "Epoch 26/50\n",
            "6/6 [==============================] - 1s 256ms/step - loss: 1.0765e-04 - accuracy: 1.0000 - val_loss: 0.3642 - val_accuracy: 0.9524\n",
            "Epoch 27/50\n",
            "6/6 [==============================] - 1s 236ms/step - loss: 3.2424e-05 - accuracy: 1.0000 - val_loss: 0.3659 - val_accuracy: 0.9524\n",
            "Epoch 28/50\n",
            "6/6 [==============================] - 1s 236ms/step - loss: 2.9610e-05 - accuracy: 1.0000 - val_loss: 0.3670 - val_accuracy: 0.9524\n",
            "Epoch 29/50\n",
            "6/6 [==============================] - 1s 238ms/step - loss: 5.4784e-05 - accuracy: 1.0000 - val_loss: 0.3680 - val_accuracy: 0.9524\n",
            "Epoch 30/50\n",
            "6/6 [==============================] - 1s 235ms/step - loss: 1.0915e-04 - accuracy: 1.0000 - val_loss: 0.3650 - val_accuracy: 0.9524\n",
            "Epoch 31/50\n",
            "6/6 [==============================] - 1s 233ms/step - loss: 3.2109e-05 - accuracy: 1.0000 - val_loss: 0.3639 - val_accuracy: 0.9524\n",
            "Epoch 32/50\n",
            "6/6 [==============================] - 1s 234ms/step - loss: 5.7662e-05 - accuracy: 1.0000 - val_loss: 0.3628 - val_accuracy: 0.9524\n",
            "Epoch 33/50\n",
            "6/6 [==============================] - 1s 234ms/step - loss: 8.6632e-05 - accuracy: 1.0000 - val_loss: 0.3609 - val_accuracy: 0.9524\n",
            "Epoch 34/50\n",
            "6/6 [==============================] - 1s 236ms/step - loss: 1.0523e-04 - accuracy: 1.0000 - val_loss: 0.3599 - val_accuracy: 0.9524\n",
            "Epoch 35/50\n",
            "6/6 [==============================] - 1s 236ms/step - loss: 4.0387e-05 - accuracy: 1.0000 - val_loss: 0.3597 - val_accuracy: 0.9524\n",
            "Epoch 36/50\n",
            "6/6 [==============================] - 1s 235ms/step - loss: 5.1899e-05 - accuracy: 1.0000 - val_loss: 0.3602 - val_accuracy: 0.9524\n",
            "Epoch 37/50\n",
            "6/6 [==============================] - 1s 241ms/step - loss: 4.2276e-05 - accuracy: 1.0000 - val_loss: 0.3621 - val_accuracy: 0.9524\n",
            "Epoch 38/50\n",
            "6/6 [==============================] - 1s 232ms/step - loss: 4.9048e-05 - accuracy: 1.0000 - val_loss: 0.3633 - val_accuracy: 0.9524\n",
            "Epoch 39/50\n",
            "6/6 [==============================] - 1s 238ms/step - loss: 6.5403e-05 - accuracy: 1.0000 - val_loss: 0.3666 - val_accuracy: 0.9524\n",
            "Epoch 40/50\n",
            "6/6 [==============================] - 1s 231ms/step - loss: 6.5471e-05 - accuracy: 1.0000 - val_loss: 0.3682 - val_accuracy: 0.9524\n",
            "Epoch 41/50\n",
            "6/6 [==============================] - 1s 234ms/step - loss: 3.4781e-05 - accuracy: 1.0000 - val_loss: 0.3680 - val_accuracy: 0.9524\n",
            "Epoch 42/50\n",
            "6/6 [==============================] - 1s 236ms/step - loss: 3.5965e-05 - accuracy: 1.0000 - val_loss: 0.3683 - val_accuracy: 0.9524\n",
            "Epoch 43/50\n",
            "6/6 [==============================] - 1s 236ms/step - loss: 2.4543e-05 - accuracy: 1.0000 - val_loss: 0.3683 - val_accuracy: 0.9524\n",
            "Epoch 44/50\n",
            "6/6 [==============================] - 1s 235ms/step - loss: 4.6031e-05 - accuracy: 1.0000 - val_loss: 0.3675 - val_accuracy: 0.9524\n",
            "Epoch 45/50\n",
            "6/6 [==============================] - 1s 233ms/step - loss: 3.2373e-05 - accuracy: 1.0000 - val_loss: 0.3667 - val_accuracy: 0.9524\n",
            "Epoch 46/50\n",
            "6/6 [==============================] - 1s 237ms/step - loss: 6.2763e-05 - accuracy: 1.0000 - val_loss: 0.3648 - val_accuracy: 0.9524\n",
            "Epoch 47/50\n",
            "6/6 [==============================] - 1s 239ms/step - loss: 2.1765e-05 - accuracy: 1.0000 - val_loss: 0.3634 - val_accuracy: 0.9524\n",
            "Epoch 48/50\n",
            "6/6 [==============================] - 1s 236ms/step - loss: 5.0783e-05 - accuracy: 1.0000 - val_loss: 0.3628 - val_accuracy: 0.9524\n",
            "Epoch 49/50\n",
            "6/6 [==============================] - 1s 256ms/step - loss: 6.1587e-05 - accuracy: 1.0000 - val_loss: 0.3623 - val_accuracy: 0.9524\n",
            "Epoch 50/50\n",
            "6/6 [==============================] - 1s 235ms/step - loss: 3.7304e-05 - accuracy: 1.0000 - val_loss: 0.3632 - val_accuracy: 0.9524\n"
          ]
        }
      ],
      "source": [
        "from keras.callbacks import EarlyStopping, ModelCheckpoint\n",
        "\n",
        "#callback = EarlyStopping(monitor='loss', patience=10)\n",
        "mcp_save = ModelCheckpoint('.best_weights.hdf5', save_best_only=True, monitor='val_loss', mode='min')\n",
        "\n",
        "info1 = model.fit(x=X_train, y=y_train_enc, epochs=50, verbose=True, validation_data=(X_val, y_val_enc), callbacks=[mcp_save])"
      ]
    },
    {
      "cell_type": "code",
      "source": [
        "model.load_weights(filepath = '.best_weights.hdf5')"
      ],
      "metadata": {
        "id": "HvSFyOERMBXb"
      },
      "id": "HvSFyOERMBXb",
      "execution_count": 192,
      "outputs": []
    },
    {
      "cell_type": "code",
      "source": [
        "epochs = [i for i in range(len(info1.history['accuracy']))]\n",
        "plt.figure(figsize=(8,6))\n",
        "plt.plot(epochs, info1.history['loss'], label=\"Train loss\")\n",
        "plt.plot(epochs, info1.history['val_loss'], label=\"Validation loss\")\n",
        "plt.legend(fontsize=12)\n",
        "plt.xlabel(\"Epoch\", fontsize=15)\n",
        "plt.ylabel(\"Categorical Crossentropy Loss\", fontsize=15)\n",
        "plt.title(\"Loss for Softmax, 16 nodes in output\", fontsize=18)\n",
        "plt.savefig('drive/MyDrive/data/results/Softmax_categorical')"
      ],
      "metadata": {
        "colab": {
          "base_uri": "https://localhost:8080/",
          "height": 413
        },
        "id": "JuNTurILIJgP",
        "outputId": "5fdcb081-26ea-4e88-ca20-3610977751dc"
      },
      "id": "JuNTurILIJgP",
      "execution_count": 200,
      "outputs": [
        {
          "output_type": "display_data",
          "data": {
            "text/plain": [
              "<Figure size 576x432 with 1 Axes>"
            ],
            "image/png": "[encoded data removed]"
          },
          "metadata": {
            "needs_background": "light"
          }
        }
      ]
    },
    {
      "cell_type": "code",
      "execution_count": 201,
      "id": "e737ad8b",
      "metadata": {
        "id": "e737ad8b"
      },
      "outputs": [],
      "source": [
        "# now calculate the actual accuracy\n",
        "test_predictions = model.predict(X_test)\n",
        "train_predictions = model.predict(X_train)\n",
        "val_predictions = model.predict(X_val)\n",
        "\n",
        "# scale to our target range [0, 15]\n",
        "# scaled_predictions = scaler.inverse_transform(test_predictions) #/6 * 15\n",
        "\n",
        "# # round to nearest int\n",
        "# final_pred = np.array([round(i) for i in scaled_predictions])"
      ]
    },
    {
      "cell_type": "code",
      "source": [
        "final_pred = enc.inverse_transform(test_predictions)\n",
        "final_train_pred = enc.inverse_transform(train_predictions)\n",
        "final_val_pred = enc.inverse_transform(val_predictions)"
      ],
      "metadata": {
        "id": "xa0ry8wB2Icx"
      },
      "id": "xa0ry8wB2Icx",
      "execution_count": 202,
      "outputs": []
    },
    {
      "cell_type": "code",
      "source": [
        "test_acc = accuracy(final_pred, y_test)\n",
        "train_acc = accuracy(final_train_pred, y_train)\n",
        "val_acc = accuracy(final_val_pred, y_val)\n",
        "print(\"----Results----\")\n",
        "print(f\"Size of train set: {y_train.shape[0]}\")\n",
        "print(f\"Train acc: {train_acc}\")\n",
        "print(f\"----\\nSize of validation set: {y_val.shape[0]}\")\n",
        "print(f\"Validation acc: {val_acc}\")\n",
        "print(f\"----\\nSize of test set: {y_test.shape[0]}\")\n",
        "print(f\"Test acc: {test_acc}\")"
      ],
      "metadata": {
        "colab": {
          "base_uri": "https://localhost:8080/"
        },
        "id": "6VKKBL8yJF3V",
        "outputId": "a216d5ec-2316-4098-c427-ac95a26618c0"
      },
      "id": "6VKKBL8yJF3V",
      "execution_count": 220,
      "outputs": [
        {
          "output_type": "stream",
          "name": "stdout",
          "text": [
            "----Results----\n",
            "Size of train set: 188\n",
            "Train acc: 1.0\n",
            "----\n",
            "Size of validation set: 42\n",
            "Validation acc: 0.9523809523809523\n",
            "----\n",
            "Size of test set: 41\n",
            "Test acc: 0.975609756097561\n"
          ]
        }
      ]
    },
    {
      "cell_type": "code",
      "source": [
        "(final_pred == y_test)#.sum()"
      ],
      "metadata": {
        "colab": {
          "base_uri": "https://localhost:8080/"
        },
        "id": "cEWLFPzoNzr7",
        "outputId": "be325df8-e633-432a-9fe1-6ff5e9fc2c88"
      },
      "id": "cEWLFPzoNzr7",
      "execution_count": 212,
      "outputs": [
        {
          "output_type": "execute_result",
          "data": {
            "text/plain": [
              "array([[ True,  True, False, ..., False, False, False],\n",
              "       [ True,  True, False, ..., False, False, False],\n",
              "       [False, False,  True, ..., False, False, False],\n",
              "       ...,\n",
              "       [False, False, False, ...,  True, False, False],\n",
              "       [False, False, False, ..., False,  True, False],\n",
              "       [False, False, False, ..., False, False,  True]])"
            ]
          },
          "metadata": {},
          "execution_count": 212
        }
      ]
    },
    {
      "cell_type": "code",
      "source": [
        "(y_test.reshape(-1, 1) == final_pred).sum()"
      ],
      "metadata": {
        "colab": {
          "base_uri": "https://localhost:8080/"
        },
        "id": "4-XJTzoWOAxF",
        "outputId": "02f53778-7909-4742-f61a-9c0d42488728"
      },
      "id": "4-XJTzoWOAxF",
      "execution_count": 219,
      "outputs": [
        {
          "output_type": "execute_result",
          "data": {
            "text/plain": [
              "40"
            ]
          },
          "metadata": {},
          "execution_count": 219
        }
      ]
    },
    {
      "cell_type": "code",
      "source": [
        ""
      ],
      "metadata": {
        "id": "Cg36Y5IoOXoo"
      },
      "id": "Cg36Y5IoOXoo",
      "execution_count": null,
      "outputs": []
    }
  ],
  "metadata": {
    "kernelspec": {
      "display_name": "Python 3 (ipykernel)",
      "language": "python",
      "name": "python3"
    },
    "language_info": {
      "codemirror_mode": {
        "name": "ipython",
        "version": 3
      },
      "file_extension": ".py",
      "mimetype": "text/x-python",
      "name": "python",
      "nbconvert_exporter": "python",
      "pygments_lexer": "ipython3",
      "version": "3.9.7"
    },
    "colab": {
      "name": "learning-pipeline.ipynb",
      "provenance": [],
      "include_colab_link": true
    },
    "accelerator": "GPU"
  },
  "nbformat": 4,
  "nbformat_minor": 5
}