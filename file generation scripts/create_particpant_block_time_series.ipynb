{
 "cells": [
  {
   "cell_type": "code",
   "execution_count": 1,
   "id": "11efbb72",
   "metadata": {},
   "outputs": [],
   "source": [
    "import pandas as pd\n",
    "import numpy as np\n",
    "import scipy.stats\n",
    "import matplotlib.pyplot as plt\n"
   ]
  },
  {
   "cell_type": "markdown",
   "id": "574761bf",
   "metadata": {},
   "source": [
    "# Define Functions, File Paths, and Parameters"
   ]
  },
  {
   "cell_type": "code",
   "execution_count": 2,
   "id": "4c5c195a",
   "metadata": {},
   "outputs": [],
   "source": [
    "def getValidityCPS2(df):\n",
    "    df['validity'] = 1\n",
    "    df['validity'] = np.where( ( df['LeftPupilValidity'] == 'Invalid') & (df['RightPupilValidity'] == 'Invalid'), 0, df['validity'] )\n",
    "    df['validity'] = np.where( ( df['LeftPupilValidity'] == 'Valid') & (df['RightPupilValidity'] == 'Invalid'), 0.3, df['validity'] )\n",
    "    df['validity'] = np.where( ( df['LeftPupilValidity'] == 'Invalid') & (df['RightPupilValidity'] == 'Valid'), 0.7, df['validity'] )\n",
    "    return df['validity']"
   ]
  },
  {
   "cell_type": "code",
   "execution_count": 3,
   "id": "5cce3029",
   "metadata": {},
   "outputs": [],
   "source": [
    "MASTERFILE = \"/Users/angelina/Dropbox (Emotive Computing)/CPS_Gaze_Fixations/utils/CPS2_Gaze_All_Participants_Masterfile.csv\"\n",
    "OUTPUTDIR = '/Users/angelina/Dropbox (Emotive Computing)/CPS_Gaze_Fixations/RQA/'\n",
    "PARTICIPANT_BLOCK_FULL_TIME_SERIES = OUTPUTDIR + 'Participant_Block_Full_Time_Series/'\n",
    "PARTICIPANT_BLOCK_225ms_TIME_SERIES = OUTPUTDIR + 'Participant_Block_225ms_Time_Series/'\n"
   ]
  },
  {
   "cell_type": "code",
   "execution_count": 4,
   "id": "520604ec",
   "metadata": {},
   "outputs": [
    {
     "name": "stdout",
     "output_type": "stream",
     "text": [
      "[[  1   2   3   4   5   6   7   8   9  10]\n",
      " [ 11  12  13  14  15  16  17  18  19  20]\n",
      " [ 21  22  23  24  25  26  27  28  29  30]\n",
      " [ 31  32  33  34  35  36  37  38  39  40]\n",
      " [ 41  42  43  44  45  46  47  48  49  50]\n",
      " [ 51  52  53  54  55  56  57  58  59  60]\n",
      " [ 61  62  63  64  65  66  67  68  69  70]\n",
      " [ 71  72  73  74  75  76  77  78  79  80]\n",
      " [ 81  82  83  84  85  86  87  88  89  90]\n",
      " [ 91  92  93  94  95  96  97  98  99 100]]\n"
     ]
    },
    {
     "data": {
      "text/html": [
       "<div>\n",
       "<style scoped>\n",
       "    .dataframe tbody tr th:only-of-type {\n",
       "        vertical-align: middle;\n",
       "    }\n",
       "\n",
       "    .dataframe tbody tr th {\n",
       "        vertical-align: top;\n",
       "    }\n",
       "\n",
       "    .dataframe thead th {\n",
       "        text-align: right;\n",
       "    }\n",
       "</style>\n",
       "<table border=\"1\" class=\"dataframe\">\n",
       "  <thead>\n",
       "    <tr style=\"text-align: right;\">\n",
       "      <th></th>\n",
       "      <th>time_step_start</th>\n",
       "      <th>time_step_end</th>\n",
       "    </tr>\n",
       "  </thead>\n",
       "  <tbody>\n",
       "    <tr>\n",
       "      <th>0</th>\n",
       "      <td>0</td>\n",
       "      <td>225</td>\n",
       "    </tr>\n",
       "    <tr>\n",
       "      <th>1</th>\n",
       "      <td>225</td>\n",
       "      <td>450</td>\n",
       "    </tr>\n",
       "    <tr>\n",
       "      <th>2</th>\n",
       "      <td>450</td>\n",
       "      <td>675</td>\n",
       "    </tr>\n",
       "    <tr>\n",
       "      <th>3</th>\n",
       "      <td>675</td>\n",
       "      <td>900</td>\n",
       "    </tr>\n",
       "    <tr>\n",
       "      <th>4</th>\n",
       "      <td>900</td>\n",
       "      <td>1125</td>\n",
       "    </tr>\n",
       "    <tr>\n",
       "      <th>...</th>\n",
       "      <td>...</td>\n",
       "      <td>...</td>\n",
       "    </tr>\n",
       "    <tr>\n",
       "      <th>3995</th>\n",
       "      <td>898875</td>\n",
       "      <td>899100</td>\n",
       "    </tr>\n",
       "    <tr>\n",
       "      <th>3996</th>\n",
       "      <td>899100</td>\n",
       "      <td>899325</td>\n",
       "    </tr>\n",
       "    <tr>\n",
       "      <th>3997</th>\n",
       "      <td>899325</td>\n",
       "      <td>899550</td>\n",
       "    </tr>\n",
       "    <tr>\n",
       "      <th>3998</th>\n",
       "      <td>899550</td>\n",
       "      <td>899775</td>\n",
       "    </tr>\n",
       "    <tr>\n",
       "      <th>3999</th>\n",
       "      <td>899775</td>\n",
       "      <td>900000</td>\n",
       "    </tr>\n",
       "  </tbody>\n",
       "</table>\n",
       "<p>4000 rows × 2 columns</p>\n",
       "</div>"
      ],
      "text/plain": [
       "      time_step_start  time_step_end\n",
       "0                   0            225\n",
       "1                 225            450\n",
       "2                 450            675\n",
       "3                 675            900\n",
       "4                 900           1125\n",
       "...               ...            ...\n",
       "3995           898875         899100\n",
       "3996           899100         899325\n",
       "3997           899325         899550\n",
       "3998           899550         899775\n",
       "3999           899775         900000\n",
       "\n",
       "[4000 rows x 2 columns]"
      ]
     },
     "metadata": {},
     "output_type": "display_data"
    }
   ],
   "source": [
    "# Time series parameters\n",
    "ms_in_block = 900000 # ms\n",
    "time_step = 225      # ms\n",
    "num_bins = int(ms_in_block / time_step)\n",
    "time_step_labels = np.arange(0, ms_in_block+time_step, time_step)   # label for start ms of time step\n",
    "\n",
    "# Screen grid parameters\n",
    "screen_width = 1920\n",
    "screen_height = 1080\n",
    "num_cols = 10\n",
    "num_rows = 10\n",
    "col_width = screen_width/num_cols\n",
    "row_height = screen_height/num_rows\n",
    "\n",
    "# Create array to hold name ID of all screen-grid locations\n",
    "grid_locations = np.arange(1, (num_rows * num_cols) + 1)   # (1, 101)\n",
    "grid_locations = np.reshape(grid_locations, (num_rows, num_cols))  # (10,10)\n",
    "print(grid_locations)\n",
    "\n",
    "# DataFrame for all time steps to merge w/ participant and block's DataFrame\n",
    "participant_block_time_steps = pd.DataFrame()\n",
    "participant_block_time_steps['time_step_start'] = np.arange(0, ms_in_block, time_step)\n",
    "participant_block_time_steps['time_step_end'] = np.arange(time_step, ms_in_block+time_step, time_step)\n",
    "display(participant_block_time_steps)\n",
    "\n",
    "# columns of participant and block's DataFrame to group by\n",
    "cols_for_grp = [\"school\", \"team\", \"GROUPID\", \"block\", \"pid\", \"time_step_start\", \"time_step_end\"]\n"
   ]
  },
  {
   "cell_type": "markdown",
   "id": "30915b87",
   "metadata": {},
   "source": [
    "# Import Masterfile"
   ]
  },
  {
   "cell_type": "code",
   "execution_count": 5,
   "id": "dde38f5e",
   "metadata": {},
   "outputs": [
    {
     "name": "stdout",
     "output_type": "stream",
     "text": [
      "Number of unique team + blocks in Masterfile:  582\n",
      "Number of participant + blocks in Masterfile:  1516\n"
     ]
    }
   ],
   "source": [
    "# Read in masterfile which contains one row per participant + block and filepaths to each file we need\n",
    "dfMaster = pd.read_csv(MASTERFILE)\n",
    "\n",
    "dfMaster['Analyze'] = np.where(dfMaster['ParticipantBlock'] == \"CPS2-CU-T60-PB-Transfer\", \"no\", dfMaster['Analyze'])\n",
    "dfMaster['Analyze'] = np.where(dfMaster['ParticipantBlock'] == \"CPS2-CU-T29-PC-Transfer\", \"no\", dfMaster['Analyze'])\n",
    "dfMaster['Analyze'] = np.where(dfMaster['ParticipantBlock'] == \"CPS2-CU-T27-PA-Transfer\", \"no\", dfMaster['Analyze'])\n",
    "\n",
    "dfMasterSelected = dfMaster.loc[dfMaster['Analyze'] == 'yes']\n",
    "dfMasterSelected.reset_index(drop=True, inplace=True)\n",
    "\n",
    "# Informational\n",
    "print(\"Number of unique team + blocks in Masterfile: \", len(dfMasterSelected['GROUPID_block'].unique()))\n",
    "print(\"Number of participant + blocks in Masterfile: \", len(dfMasterSelected))\n"
   ]
  },
  {
   "cell_type": "markdown",
   "id": "4d8427d8",
   "metadata": {},
   "source": [
    "# Loop through all files for each participant and block"
   ]
  },
  {
   "cell_type": "code",
   "execution_count": 6,
   "id": "c5b627c7",
   "metadata": {},
   "outputs": [
    {
     "name": "stdout",
     "output_type": "stream",
     "text": [
      "Processing 1: CPS2-CU-T63-PB-ExpBlock1\n"
     ]
    },
    {
     "name": "stderr",
     "output_type": "stream",
     "text": [
      "/Users/angelina/miniforge3/envs/env_tf/lib/python3.9/site-packages/scipy/interpolate/_fitpack2.py:280: UserWarning: \n",
      "The maximal number of iterations maxit (set to 20 by the program)\n",
      "allowed for finding a smoothing spline with fp=s has been reached: s\n",
      "too small.\n",
      "There is an approximation returned but the corresponding weighted sum\n",
      "of squared residuals does not satisfy the condition abs(fp-s)/s < tol.\n",
      "  warnings.warn(message)\n"
     ]
    },
    {
     "name": "stdout",
     "output_type": "stream",
     "text": [
      "Processing 2: CPS2-CU-T16-PA-ExpBlock2\n",
      "Processing 3: CPS2-CU-T36-PC-Transfer\n",
      "Processing 4: CPS2-ASU-T67-PC-Warmup\n",
      "Processing 5: CPS2-ASU-T80-PC-ExpBlock1\n",
      "Processing 6: CPS2-ASU-T86-PD-ExpBlock1\n",
      "Processing 7: CPS2-ASU-T42-PC-ExpBlock1\n",
      "Processing 8: CPS2-CU-T33-PB-Transfer\n"
     ]
    },
    {
     "name": "stderr",
     "output_type": "stream",
     "text": [
      "/Users/angelina/miniforge3/envs/env_tf/lib/python3.9/site-packages/scipy/interpolate/_fitpack2.py:280: UserWarning: \n",
      "The maximal number of iterations maxit (set to 20 by the program)\n",
      "allowed for finding a smoothing spline with fp=s has been reached: s\n",
      "too small.\n",
      "There is an approximation returned but the corresponding weighted sum\n",
      "of squared residuals does not satisfy the condition abs(fp-s)/s < tol.\n",
      "  warnings.warn(message)\n"
     ]
    },
    {
     "name": "stdout",
     "output_type": "stream",
     "text": [
      "Processing 9: CPS2-ASU-T60-PD-ExpBlock2\n"
     ]
    },
    {
     "name": "stderr",
     "output_type": "stream",
     "text": [
      "/Users/angelina/miniforge3/envs/env_tf/lib/python3.9/site-packages/scipy/interpolate/_fitpack2.py:280: UserWarning: \n",
      "The maximal number of iterations maxit (set to 20 by the program)\n",
      "allowed for finding a smoothing spline with fp=s has been reached: s\n",
      "too small.\n",
      "There is an approximation returned but the corresponding weighted sum\n",
      "of squared residuals does not satisfy the condition abs(fp-s)/s < tol.\n",
      "  warnings.warn(message)\n"
     ]
    },
    {
     "name": "stdout",
     "output_type": "stream",
     "text": [
      "Processing 10: CPS2-ASU-T44-PA-Warmup\n",
      "Processing 11: CPS2-CU-T22-PA-Warmup\n"
     ]
    },
    {
     "name": "stderr",
     "output_type": "stream",
     "text": [
      "/Users/angelina/miniforge3/envs/env_tf/lib/python3.9/site-packages/scipy/interpolate/_fitpack2.py:280: UserWarning: \n",
      "The maximal number of iterations maxit (set to 20 by the program)\n",
      "allowed for finding a smoothing spline with fp=s has been reached: s\n",
      "too small.\n",
      "There is an approximation returned but the corresponding weighted sum\n",
      "of squared residuals does not satisfy the condition abs(fp-s)/s < tol.\n",
      "  warnings.warn(message)\n"
     ]
    },
    {
     "name": "stdout",
     "output_type": "stream",
     "text": [
      "Processing 12: CPS2-CU-T32-PA-ExpBlock1\n",
      "Processing 13: CPS2-CU-T47-PB-ExpBlock2\n",
      "Processing 14: CPS2-ASU-T24-PB-ExpBlock1\n",
      "Processing 15: CPS2-ASU-T51-PA-ExpBlock2\n"
     ]
    },
    {
     "name": "stderr",
     "output_type": "stream",
     "text": [
      "/Users/angelina/miniforge3/envs/env_tf/lib/python3.9/site-packages/scipy/interpolate/_fitpack2.py:280: UserWarning: \n",
      "The maximal number of iterations maxit (set to 20 by the program)\n",
      "allowed for finding a smoothing spline with fp=s has been reached: s\n",
      "too small.\n",
      "There is an approximation returned but the corresponding weighted sum\n",
      "of squared residuals does not satisfy the condition abs(fp-s)/s < tol.\n",
      "  warnings.warn(message)\n"
     ]
    },
    {
     "name": "stdout",
     "output_type": "stream",
     "text": [
      "Processing 16: CPS2-CU-T44-PB-Transfer\n",
      "Processing 17: CPS2-ASU-T75-PA-ExpBlock1\n",
      "Processing 18: CPS2-CU-T37-PB-Warmup\n",
      "Processing 19: CPS2-ASU-T93-PA-ExpBlock2\n",
      "Processing 20: CPS2-ASU-T59-PC-Warmup\n",
      "Processing 21: CPS2-CU-T41-PC-Transfer\n",
      "Processing 22: CPS2-ASU-T35-PA-Warmup\n"
     ]
    },
    {
     "name": "stderr",
     "output_type": "stream",
     "text": [
      "/Users/angelina/miniforge3/envs/env_tf/lib/python3.9/site-packages/scipy/interpolate/_fitpack2.py:280: UserWarning: \n",
      "The maximal number of iterations maxit (set to 20 by the program)\n",
      "allowed for finding a smoothing spline with fp=s has been reached: s\n",
      "too small.\n",
      "There is an approximation returned but the corresponding weighted sum\n",
      "of squared residuals does not satisfy the condition abs(fp-s)/s < tol.\n",
      "  warnings.warn(message)\n"
     ]
    },
    {
     "name": "stdout",
     "output_type": "stream",
     "text": [
      "Processing 23: CPS2-CU-T30-PC-ExpBlock1\n",
      "Processing 24: CPS2-CU-T53-PA-Warmup\n",
      "Processing 25: CPS2-ASU-T40-PA-ExpBlock1\n"
     ]
    },
    {
     "name": "stderr",
     "output_type": "stream",
     "text": [
      "/Users/angelina/miniforge3/envs/env_tf/lib/python3.9/site-packages/scipy/interpolate/_fitpack2.py:280: UserWarning: \n",
      "The maximal number of iterations maxit (set to 20 by the program)\n",
      "allowed for finding a smoothing spline with fp=s has been reached: s\n",
      "too small.\n",
      "There is an approximation returned but the corresponding weighted sum\n",
      "of squared residuals does not satisfy the condition abs(fp-s)/s < tol.\n",
      "  warnings.warn(message)\n"
     ]
    },
    {
     "name": "stdout",
     "output_type": "stream",
     "text": [
      "Processing 26: CPS2-ASU-T102-PB-ExpBlock1\n",
      "Processing 27: CPS2-ASU-T59-PD-ExpBlock2\n"
     ]
    },
    {
     "name": "stderr",
     "output_type": "stream",
     "text": [
      "/Users/angelina/miniforge3/envs/env_tf/lib/python3.9/site-packages/scipy/interpolate/_fitpack2.py:280: UserWarning: \n",
      "The maximal number of iterations maxit (set to 20 by the program)\n",
      "allowed for finding a smoothing spline with fp=s has been reached: s\n",
      "too small.\n",
      "There is an approximation returned but the corresponding weighted sum\n",
      "of squared residuals does not satisfy the condition abs(fp-s)/s < tol.\n",
      "  warnings.warn(message)\n"
     ]
    },
    {
     "name": "stdout",
     "output_type": "stream",
     "text": [
      "Processing 28: CPS2-ASU-T11-PB-ExpBlock1\n",
      "Processing 29: CPS2-CU-T70-PC-Warmup\n",
      "Processing 30: CPS2-ASU-T90-PC-Transfer\n",
      "Processing 31: CPS2-CU-T36-PD-ExpBlock1\n",
      "Processing 32: CPS2-CU-T14-PC-ExpBlock2\n",
      "Processing 33: CPS2-ASU-T104-PA-Warmup\n",
      "Processing 34: CPS2-ASU-T50-PC-Transfer\n",
      "Processing 35: CPS2-CU-T46-PB-Warmup\n",
      "Processing 36: CPS2-ASU-T91-PC-ExpBlock2\n"
     ]
    },
    {
     "name": "stderr",
     "output_type": "stream",
     "text": [
      "/Users/angelina/miniforge3/envs/env_tf/lib/python3.9/site-packages/scipy/interpolate/_fitpack2.py:280: UserWarning: \n",
      "The maximal number of iterations maxit (set to 20 by the program)\n",
      "allowed for finding a smoothing spline with fp=s has been reached: s\n",
      "too small.\n",
      "There is an approximation returned but the corresponding weighted sum\n",
      "of squared residuals does not satisfy the condition abs(fp-s)/s < tol.\n",
      "  warnings.warn(message)\n"
     ]
    },
    {
     "name": "stdout",
     "output_type": "stream",
     "text": [
      "Processing 37: CPS2-ASU-T68-PA-ExpBlock2\n"
     ]
    },
    {
     "name": "stderr",
     "output_type": "stream",
     "text": [
      "/Users/angelina/miniforge3/envs/env_tf/lib/python3.9/site-packages/scipy/interpolate/_fitpack2.py:280: UserWarning: \n",
      "The maximal number of iterations maxit (set to 20 by the program)\n",
      "allowed for finding a smoothing spline with fp=s has been reached: s\n",
      "too small.\n",
      "There is an approximation returned but the corresponding weighted sum\n",
      "of squared residuals does not satisfy the condition abs(fp-s)/s < tol.\n",
      "  warnings.warn(message)\n"
     ]
    },
    {
     "name": "stdout",
     "output_type": "stream",
     "text": [
      "Processing 38: CPS2-ASU-T20-PB-Warmup\n",
      "Processing 39: CPS2-ASU-T77-PC-ExpBlock1\n",
      "Processing 40: CPS2-ASU-T97-PA-Warmup\n",
      "Processing 41: CPS2-ASU-T55-PB-Transfer\n"
     ]
    },
    {
     "name": "stderr",
     "output_type": "stream",
     "text": [
      "/Users/angelina/miniforge3/envs/env_tf/lib/python3.9/site-packages/scipy/interpolate/_fitpack2.py:280: UserWarning: \n",
      "The maximal number of iterations maxit (set to 20 by the program)\n",
      "allowed for finding a smoothing spline with fp=s has been reached: s\n",
      "too small.\n",
      "There is an approximation returned but the corresponding weighted sum\n",
      "of squared residuals does not satisfy the condition abs(fp-s)/s < tol.\n",
      "  warnings.warn(message)\n"
     ]
    },
    {
     "name": "stdout",
     "output_type": "stream",
     "text": [
      "Processing 42: CPS2-ASU-T53-PC-ExpBlock2\n",
      "Processing 43: CPS2-ASU-T39-PB-ExpBlock2\n",
      "Processing 44: CPS2-ASU-T71-PD-ExpBlock1\n",
      "Processing 45: CPS2-CU-T23-PA-ExpBlock2\n",
      "Processing 46: CPS2-CU-T56-PB-ExpBlock1\n",
      "Processing 47: CPS2-CU-T62-PA-Warmup\n",
      "Processing 48: CPS2-ASU-T89-PA-ExpBlock2\n",
      "Processing 49: CPS2-ASU-T70-PC-ExpBlock2\n",
      "Processing 50: CPS2-ASU-T96-PC-ExpBlock1\n",
      "Processing 51: CPS2-ASU-T52-PD-ExpBlock1\n",
      "Processing 52: CPS2-ASU-T73-PB-Transfer\n",
      "Processing 53: CPS2-CU-T49-PC-Transfer\n",
      "Processing 54: CPS2-CU-T41-PC-Warmup\n",
      "Processing 55: CPS2-CU-T51-PB-ExpBlock2\n",
      "Processing 56: CPS2-CU-T34-PA-Transfer\n",
      "Processing 57: CPS2-ASU-T76-PC-Transfer\n",
      "Processing 58: CPS2-ASU-T98-PA-Warmup\n"
     ]
    },
    {
     "name": "stderr",
     "output_type": "stream",
     "text": [
      "/Users/angelina/miniforge3/envs/env_tf/lib/python3.9/site-packages/scipy/interpolate/_fitpack2.py:280: UserWarning: \n",
      "The maximal number of iterations maxit (set to 20 by the program)\n",
      "allowed for finding a smoothing spline with fp=s has been reached: s\n",
      "too small.\n",
      "There is an approximation returned but the corresponding weighted sum\n",
      "of squared residuals does not satisfy the condition abs(fp-s)/s < tol.\n",
      "  warnings.warn(message)\n"
     ]
    },
    {
     "name": "stdout",
     "output_type": "stream",
     "text": [
      "Processing 59: CPS2-CU-T49-PB-Warmup\n",
      "Processing 60: CPS2-ASU-T54-PC-ExpBlock1\n"
     ]
    },
    {
     "name": "stderr",
     "output_type": "stream",
     "text": [
      "/Users/angelina/miniforge3/envs/env_tf/lib/python3.9/site-packages/scipy/interpolate/_fitpack2.py:280: UserWarning: \n",
      "The maximal number of iterations maxit (set to 20 by the program)\n",
      "allowed for finding a smoothing spline with fp=s has been reached: s\n",
      "too small.\n",
      "There is an approximation returned but the corresponding weighted sum\n",
      "of squared residuals does not satisfy the condition abs(fp-s)/s < tol.\n",
      "  warnings.warn(message)\n"
     ]
    },
    {
     "name": "stdout",
     "output_type": "stream",
     "text": [
      "Processing 61: CPS2-ASU-T90-PD-ExpBlock1\n",
      "Processing 62: CPS2-ASU-T32-PB-ExpBlock1\n",
      "Processing 63: CPS2-ASU-T47-PA-ExpBlock2\n",
      "Processing 64: CPS2-ASU-T58-PC-ExpBlock1\n",
      "Processing 65: CPS2-CU-T28-PA-ExpBlock1\n",
      "Processing 66: CPS2-CU-T43-PA-Transfer\n",
      "Processing 67: CPS2-ASU-T11-PB-Warmup\n"
     ]
    },
    {
     "name": "stderr",
     "output_type": "stream",
     "text": [
      "/Users/angelina/miniforge3/envs/env_tf/lib/python3.9/site-packages/scipy/interpolate/_fitpack2.py:280: UserWarning: \n",
      "The maximal number of iterations maxit (set to 20 by the program)\n",
      "allowed for finding a smoothing spline with fp=s has been reached: s\n",
      "too small.\n",
      "There is an approximation returned but the corresponding weighted sum\n",
      "of squared residuals does not satisfy the condition abs(fp-s)/s < tol.\n",
      "  warnings.warn(message)\n"
     ]
    },
    {
     "name": "stdout",
     "output_type": "stream",
     "text": [
      "Processing 68: CPS2-CU-T37-PC-ExpBlock2\n"
     ]
    },
    {
     "name": "stderr",
     "output_type": "stream",
     "text": [
      "/Users/angelina/miniforge3/envs/env_tf/lib/python3.9/site-packages/scipy/interpolate/_fitpack2.py:280: UserWarning: \n",
      "The maximal number of iterations maxit (set to 20 by the program)\n",
      "allowed for finding a smoothing spline with fp=s has been reached: s\n",
      "too small.\n",
      "There is an approximation returned but the corresponding weighted sum\n",
      "of squared residuals does not satisfy the condition abs(fp-s)/s < tol.\n",
      "  warnings.warn(message)\n"
     ]
    },
    {
     "name": "stdout",
     "output_type": "stream",
     "text": [
      "Processing 69: CPS2-ASU-T63-PA-ExpBlock1\n",
      "Processing 70: CPS2-ASU-T56-PA-ExpBlock1\n"
     ]
    },
    {
     "name": "stderr",
     "output_type": "stream",
     "text": [
      "/Users/angelina/miniforge3/envs/env_tf/lib/python3.9/site-packages/scipy/interpolate/_fitpack2.py:280: UserWarning: \n",
      "The maximal number of iterations maxit (set to 20 by the program)\n",
      "allowed for finding a smoothing spline with fp=s has been reached: s\n",
      "too small.\n",
      "There is an approximation returned but the corresponding weighted sum\n",
      "of squared residuals does not satisfy the condition abs(fp-s)/s < tol.\n",
      "  warnings.warn(message)\n"
     ]
    },
    {
     "name": "stdout",
     "output_type": "stream",
     "text": [
      "Processing 71: CPS2-CU-T38-PB-Warmup\n",
      "Processing 72: CPS2-CU-T67-PC-Transfer\n",
      "Processing 73: CPS2-CU-T30-PC-Warmup\n"
     ]
    },
    {
     "name": "stderr",
     "output_type": "stream",
     "text": [
      "/Users/angelina/miniforge3/envs/env_tf/lib/python3.9/site-packages/scipy/interpolate/_fitpack2.py:280: UserWarning: \n",
      "The maximal number of iterations maxit (set to 20 by the program)\n",
      "allowed for finding a smoothing spline with fp=s has been reached: s\n",
      "too small.\n",
      "There is an approximation returned but the corresponding weighted sum\n",
      "of squared residuals does not satisfy the condition abs(fp-s)/s < tol.\n",
      "  warnings.warn(message)\n"
     ]
    },
    {
     "name": "stdout",
     "output_type": "stream",
     "text": [
      "Processing 74: CPS2-CU-T39-PA-ExpBlock2\n",
      "Processing 75: CPS2-ASU-T25-PA-Transfer\n",
      "Processing 76: CPS2-CU-T26-PC-ExpBlock1\n"
     ]
    },
    {
     "name": "stderr",
     "output_type": "stream",
     "text": [
      "/Users/angelina/miniforge3/envs/env_tf/lib/python3.9/site-packages/scipy/interpolate/_fitpack2.py:280: UserWarning: \n",
      "The maximal number of iterations maxit (set to 20 by the program)\n",
      "allowed for finding a smoothing spline with fp=s has been reached: s\n",
      "too small.\n",
      "There is an approximation returned but the corresponding weighted sum\n",
      "of squared residuals does not satisfy the condition abs(fp-s)/s < tol.\n",
      "  warnings.warn(message)\n"
     ]
    },
    {
     "name": "stdout",
     "output_type": "stream",
     "text": [
      "Processing 77: CPS2-ASU-T56-PC-Warmup\n",
      "Processing 78: CPS2-ASU-T58-PC-Transfer\n",
      "Processing 79: CPS2-CU-T68-PB-ExpBlock2\n",
      "Processing 80: CPS2-CU-T62-PB-Transfer\n",
      "Processing 81: CPS2-CU-T13-PA-Warmup\n",
      "Processing 82: CPS2-ASU-T85-PD-Transfer\n",
      "Processing 83: CPS2-ASU-T75-PA-Warmup\n",
      "Processing 84: CPS2-ASU-T98-PA-ExpBlock1\n",
      "Processing 85: CPS2-ASU-T61-PC-ExpBlock1\n"
     ]
    },
    {
     "name": "stderr",
     "output_type": "stream",
     "text": [
      "/Users/angelina/miniforge3/envs/env_tf/lib/python3.9/site-packages/scipy/interpolate/_fitpack2.py:280: UserWarning: \n",
      "The maximal number of iterations maxit (set to 20 by the program)\n",
      "allowed for finding a smoothing spline with fp=s has been reached: s\n",
      "too small.\n",
      "There is an approximation returned but the corresponding weighted sum\n",
      "of squared residuals does not satisfy the condition abs(fp-s)/s < tol.\n",
      "  warnings.warn(message)\n"
     ]
    },
    {
     "name": "stdout",
     "output_type": "stream",
     "text": [
      "Processing 86: CPS2-ASU-T87-PC-ExpBlock2\n"
     ]
    },
    {
     "name": "stderr",
     "output_type": "stream",
     "text": [
      "/Users/angelina/miniforge3/envs/env_tf/lib/python3.9/site-packages/scipy/interpolate/_fitpack2.py:280: UserWarning: \n",
      "The maximal number of iterations maxit (set to 20 by the program)\n",
      "allowed for finding a smoothing spline with fp=s has been reached: s\n",
      "too small.\n",
      "There is an approximation returned but the corresponding weighted sum\n",
      "of squared residuals does not satisfy the condition abs(fp-s)/s < tol.\n",
      "  warnings.warn(message)\n"
     ]
    },
    {
     "name": "stdout",
     "output_type": "stream",
     "text": [
      "Processing 87: CPS2-ASU-T45-PD-Transfer\n",
      "Processing 88: CPS2-CU-T15-PB-Transfer\n",
      "Processing 89: CPS2-ASU-T98-PC-Transfer\n",
      "Processing 90: CPS2-CU-T64-PB-ExpBlock2\n"
     ]
    },
    {
     "name": "stderr",
     "output_type": "stream",
     "text": [
      "/Users/angelina/miniforge3/envs/env_tf/lib/python3.9/site-packages/scipy/interpolate/_fitpack2.py:280: UserWarning: \n",
      "The maximal number of iterations maxit (set to 20 by the program)\n",
      "allowed for finding a smoothing spline with fp=s has been reached: s\n",
      "too small.\n",
      "There is an approximation returned but the corresponding weighted sum\n",
      "of squared residuals does not satisfy the condition abs(fp-s)/s < tol.\n",
      "  warnings.warn(message)\n"
     ]
    },
    {
     "name": "stdout",
     "output_type": "stream",
     "text": [
      "Processing 91: CPS2-CU-T35-PA-ExpBlock2\n",
      "Processing 92: CPS2-CU-T40-PB-ExpBlock1\n",
      "Processing 93: CPS2-ASU-T67-PD-ExpBlock1\n",
      "Processing 94: CPS2-ASU-T45-PC-ExpBlock2\n",
      "Processing 95: CPS2-ASU-T35-PD-Warmup\n",
      "Processing 96: CPS2-ASU-T68-PC-Warmup\n"
     ]
    },
    {
     "name": "stderr",
     "output_type": "stream",
     "text": [
      "/Users/angelina/miniforge3/envs/env_tf/lib/python3.9/site-packages/scipy/interpolate/_fitpack2.py:280: UserWarning: \n",
      "The maximal number of iterations maxit (set to 20 by the program)\n",
      "allowed for finding a smoothing spline with fp=s has been reached: s\n",
      "too small.\n",
      "There is an approximation returned but the corresponding weighted sum\n",
      "of squared residuals does not satisfy the condition abs(fp-s)/s < tol.\n",
      "  warnings.warn(message)\n"
     ]
    },
    {
     "name": "stdout",
     "output_type": "stream",
     "text": [
      "Processing 97: CPS2-CU-T36-PD-Transfer\n"
     ]
    },
    {
     "name": "stderr",
     "output_type": "stream",
     "text": [
      "/Users/angelina/miniforge3/envs/env_tf/lib/python3.9/site-packages/scipy/interpolate/_fitpack2.py:280: UserWarning: \n",
      "The maximal number of iterations maxit (set to 20 by the program)\n",
      "allowed for finding a smoothing spline with fp=s has been reached: s\n",
      "too small.\n",
      "There is an approximation returned but the corresponding weighted sum\n",
      "of squared residuals does not satisfy the condition abs(fp-s)/s < tol.\n",
      "  warnings.warn(message)\n"
     ]
    },
    {
     "name": "stdout",
     "output_type": "stream",
     "text": [
      "Processing 98: CPS2-ASU-T38-PA-ExpBlock2\n",
      "Processing 99: CPS2-ASU-T66-PA-Warmup\n",
      "Processing 100: CPS2-CU-T48-PC-ExpBlock2\n"
     ]
    },
    {
     "name": "stderr",
     "output_type": "stream",
     "text": [
      "/Users/angelina/miniforge3/envs/env_tf/lib/python3.9/site-packages/scipy/interpolate/_fitpack2.py:280: UserWarning: \n",
      "The maximal number of iterations maxit (set to 20 by the program)\n",
      "allowed for finding a smoothing spline with fp=s has been reached: s\n",
      "too small.\n",
      "There is an approximation returned but the corresponding weighted sum\n",
      "of squared residuals does not satisfy the condition abs(fp-s)/s < tol.\n",
      "  warnings.warn(message)\n"
     ]
    },
    {
     "name": "stdout",
     "output_type": "stream",
     "text": [
      "Processing 101: CPS2-CU-T22-PB-ExpBlock2\n",
      "Processing 102: CPS2-CU-T57-PA-ExpBlock1\n"
     ]
    },
    {
     "name": "stderr",
     "output_type": "stream",
     "text": [
      "/Users/angelina/miniforge3/envs/env_tf/lib/python3.9/site-packages/scipy/interpolate/_fitpack2.py:280: UserWarning: \n",
      "The maximal number of iterations maxit (set to 20 by the program)\n",
      "allowed for finding a smoothing spline with fp=s has been reached: s\n",
      "too small.\n",
      "There is an approximation returned but the corresponding weighted sum\n",
      "of squared residuals does not satisfy the condition abs(fp-s)/s < tol.\n",
      "  warnings.warn(message)\n"
     ]
    },
    {
     "name": "stdout",
     "output_type": "stream",
     "text": [
      "Processing 103: CPS2-ASU-T45-PC-Warmup\n",
      "Processing 104: CPS2-ASU-T21-PD-ExpBlock1\n",
      "Processing 105: CPS2-ASU-T69-PB-ExpBlock2\n",
      "Processing 106: CPS2-ASU-T10-PA-ExpBlock1\n",
      "Processing 107: CPS2-CU-T15-PB-Warmup\n"
     ]
    },
    {
     "name": "stderr",
     "output_type": "stream",
     "text": [
      "/Users/angelina/miniforge3/envs/env_tf/lib/python3.9/site-packages/scipy/interpolate/_fitpack2.py:280: UserWarning: \n",
      "The maximal number of iterations maxit (set to 20 by the program)\n",
      "allowed for finding a smoothing spline with fp=s has been reached: s\n",
      "too small.\n",
      "There is an approximation returned but the corresponding weighted sum\n",
      "of squared residuals does not satisfy the condition abs(fp-s)/s < tol.\n",
      "  warnings.warn(message)\n"
     ]
    },
    {
     "name": "stdout",
     "output_type": "stream",
     "text": [
      "Processing 108: CPS2-ASU-T83-PB-ExpBlock1\n",
      "Processing 109: CPS2-ASU-T103-PB-Transfer\n",
      "Processing 110: CPS2-CU-T56-PA-Transfer\n",
      "Processing 111: CPS2-CU-T60-PC-ExpBlock1\n",
      "Processing 112: CPS2-CU-T44-PC-ExpBlock2\n"
     ]
    },
    {
     "name": "stderr",
     "output_type": "stream",
     "text": [
      "/Users/angelina/miniforge3/envs/env_tf/lib/python3.9/site-packages/scipy/interpolate/_fitpack2.py:280: UserWarning: \n",
      "The maximal number of iterations maxit (set to 20 by the program)\n",
      "allowed for finding a smoothing spline with fp=s has been reached: s\n",
      "too small.\n",
      "There is an approximation returned but the corresponding weighted sum\n",
      "of squared residuals does not satisfy the condition abs(fp-s)/s < tol.\n",
      "  warnings.warn(message)\n"
     ]
    },
    {
     "name": "stdout",
     "output_type": "stream",
     "text": [
      "Processing 113: CPS2-ASU-T11-PB-Transfer\n",
      "Processing 114: CPS2-ASU-T34-PA-ExpBlock2\n"
     ]
    },
    {
     "name": "stderr",
     "output_type": "stream",
     "text": [
      "/Users/angelina/miniforge3/envs/env_tf/lib/python3.9/site-packages/scipy/interpolate/_fitpack2.py:280: UserWarning: \n",
      "The maximal number of iterations maxit (set to 20 by the program)\n",
      "allowed for finding a smoothing spline with fp=s has been reached: s\n",
      "too small.\n",
      "There is an approximation returned but the corresponding weighted sum\n",
      "of squared residuals does not satisfy the condition abs(fp-s)/s < tol.\n",
      "  warnings.warn(message)\n"
     ]
    },
    {
     "name": "stdout",
     "output_type": "stream",
     "text": [
      "Processing 115: CPS2-ASU-T41-PB-ExpBlock1\n",
      "Processing 116: CPS2-ASU-T69-PA-Transfer\n",
      "Processing 117: CPS2-ASU-T34-PC-Warmup\n",
      "Processing 118: CPS2-ASU-T69-PD-Warmup\n",
      "Processing 119: CPS2-ASU-T74-PB-ExpBlock1\n",
      "Processing 120: CPS2-ASU-T92-PB-ExpBlock2\n"
     ]
    },
    {
     "name": "stderr",
     "output_type": "stream",
     "text": [
      "/Users/angelina/miniforge3/envs/env_tf/lib/python3.9/site-packages/scipy/interpolate/_fitpack2.py:280: UserWarning: \n",
      "The maximal number of iterations maxit (set to 20 by the program)\n",
      "allowed for finding a smoothing spline with fp=s has been reached: s\n",
      "too small.\n",
      "There is an approximation returned but the corresponding weighted sum\n",
      "of squared residuals does not satisfy the condition abs(fp-s)/s < tol.\n",
      "  warnings.warn(message)\n"
     ]
    },
    {
     "name": "stdout",
     "output_type": "stream",
     "text": [
      "Processing 121: CPS2-ASU-T87-PA-Transfer\n",
      "Processing 122: CPS2-CU-T71-PC-ExpBlock2\n"
     ]
    },
    {
     "name": "stderr",
     "output_type": "stream",
     "text": [
      "/Users/angelina/miniforge3/envs/env_tf/lib/python3.9/site-packages/scipy/interpolate/_fitpack2.py:280: UserWarning: \n",
      "The maximal number of iterations maxit (set to 20 by the program)\n",
      "allowed for finding a smoothing spline with fp=s has been reached: s\n",
      "too small.\n",
      "There is an approximation returned but the corresponding weighted sum\n",
      "of squared residuals does not satisfy the condition abs(fp-s)/s < tol.\n",
      "  warnings.warn(message)\n"
     ]
    },
    {
     "name": "stdout",
     "output_type": "stream",
     "text": [
      "Processing 123: CPS2-CU-T55-PC-ExpBlock1\n"
     ]
    },
    {
     "name": "stderr",
     "output_type": "stream",
     "text": [
      "/Users/angelina/miniforge3/envs/env_tf/lib/python3.9/site-packages/scipy/interpolate/_fitpack2.py:280: UserWarning: \n",
      "The maximal number of iterations maxit (set to 20 by the program)\n",
      "allowed for finding a smoothing spline with fp=s has been reached: s\n",
      "too small.\n",
      "There is an approximation returned but the corresponding weighted sum\n",
      "of squared residuals does not satisfy the condition abs(fp-s)/s < tol.\n",
      "  warnings.warn(message)\n"
     ]
    },
    {
     "name": "stdout",
     "output_type": "stream",
     "text": [
      "Processing 124: CPS2-CU-T71-PA-Warmup\n"
     ]
    },
    {
     "name": "stderr",
     "output_type": "stream",
     "text": [
      "/Users/angelina/miniforge3/envs/env_tf/lib/python3.9/site-packages/scipy/interpolate/_fitpack2.py:280: UserWarning: \n",
      "The maximal number of iterations maxit (set to 20 by the program)\n",
      "allowed for finding a smoothing spline with fp=s has been reached: s\n",
      "too small.\n",
      "There is an approximation returned but the corresponding weighted sum\n",
      "of squared residuals does not satisfy the condition abs(fp-s)/s < tol.\n",
      "  warnings.warn(message)\n"
     ]
    },
    {
     "name": "stdout",
     "output_type": "stream",
     "text": [
      "Processing 125: CPS2-ASU-T90-PD-Transfer\n",
      "Processing 126: CPS2-ASU-T25-PA-ExpBlock1\n",
      "Processing 127: CPS2-ASU-T50-PB-ExpBlock2\n",
      "Processing 128: CPS2-ASU-T50-PD-Transfer\n",
      "Processing 129: CPS2-ASU-T36-PC-ExpBlock2\n"
     ]
    },
    {
     "name": "stderr",
     "output_type": "stream",
     "text": [
      "/Users/angelina/miniforge3/envs/env_tf/lib/python3.9/site-packages/scipy/interpolate/_fitpack2.py:280: UserWarning: \n",
      "The maximal number of iterations maxit (set to 20 by the program)\n",
      "allowed for finding a smoothing spline with fp=s has been reached: s\n",
      "too small.\n",
      "There is an approximation returned but the corresponding weighted sum\n",
      "of squared residuals does not satisfy the condition abs(fp-s)/s < tol.\n",
      "  warnings.warn(message)\n"
     ]
    },
    {
     "name": "stdout",
     "output_type": "stream",
     "text": [
      "Processing 130: CPS2-ASU-T96-PC-Warmup\n"
     ]
    },
    {
     "name": "stderr",
     "output_type": "stream",
     "text": [
      "/Users/angelina/miniforge3/envs/env_tf/lib/python3.9/site-packages/scipy/interpolate/_fitpack2.py:280: UserWarning: \n",
      "The maximal number of iterations maxit (set to 20 by the program)\n",
      "allowed for finding a smoothing spline with fp=s has been reached: s\n",
      "too small.\n",
      "There is an approximation returned but the corresponding weighted sum\n",
      "of squared residuals does not satisfy the condition abs(fp-s)/s < tol.\n",
      "  warnings.warn(message)\n"
     ]
    },
    {
     "name": "stdout",
     "output_type": "stream",
     "text": [
      "Processing 131: CPS2-CU-T33-PB-ExpBlock1\n"
     ]
    },
    {
     "name": "stderr",
     "output_type": "stream",
     "text": [
      "/Users/angelina/miniforge3/envs/env_tf/lib/python3.9/site-packages/scipy/interpolate/_fitpack2.py:280: UserWarning: \n",
      "The maximal number of iterations maxit (set to 20 by the program)\n",
      "allowed for finding a smoothing spline with fp=s has been reached: s\n",
      "too small.\n",
      "There is an approximation returned but the corresponding weighted sum\n",
      "of squared residuals does not satisfy the condition abs(fp-s)/s < tol.\n",
      "  warnings.warn(message)\n"
     ]
    },
    {
     "name": "stdout",
     "output_type": "stream",
     "text": [
      "Processing 132: CPS2-CU-T46-PA-ExpBlock2\n",
      "Processing 133: CPS2-CU-T62-PA-ExpBlock1\n"
     ]
    },
    {
     "name": "stderr",
     "output_type": "stream",
     "text": [
      "/Users/angelina/miniforge3/envs/env_tf/lib/python3.9/site-packages/scipy/interpolate/_fitpack2.py:280: UserWarning: \n",
      "The maximal number of iterations maxit (set to 20 by the program)\n",
      "allowed for finding a smoothing spline with fp=s has been reached: s\n",
      "too small.\n",
      "There is an approximation returned but the corresponding weighted sum\n",
      "of squared residuals does not satisfy the condition abs(fp-s)/s < tol.\n",
      "  warnings.warn(message)\n"
     ]
    },
    {
     "name": "stdout",
     "output_type": "stream",
     "text": [
      "Processing 134: CPS2-CU-T17-PB-ExpBlock2\n",
      "Processing 135: CPS2-ASU-T47-PA-Transfer\n"
     ]
    },
    {
     "name": "stderr",
     "output_type": "stream",
     "text": [
      "/Users/angelina/miniforge3/envs/env_tf/lib/python3.9/site-packages/scipy/interpolate/_fitpack2.py:280: UserWarning: \n",
      "The maximal number of iterations maxit (set to 20 by the program)\n",
      "allowed for finding a smoothing spline with fp=s has been reached: s\n",
      "too small.\n",
      "There is an approximation returned but the corresponding weighted sum\n",
      "of squared residuals does not satisfy the condition abs(fp-s)/s < tol.\n",
      "  warnings.warn(message)\n"
     ]
    },
    {
     "name": "stdout",
     "output_type": "stream",
     "text": [
      "Processing 136: CPS2-CU-T64-PB-Warmup\n",
      "Processing 137: CPS2-CU-T34-PB-ExpBlock2\n",
      "Processing 138: CPS2-CU-T63-PC-Warmup\n"
     ]
    },
    {
     "name": "stderr",
     "output_type": "stream",
     "text": [
      "/Users/angelina/miniforge3/envs/env_tf/lib/python3.9/site-packages/scipy/interpolate/_fitpack2.py:280: UserWarning: \n",
      "The maximal number of iterations maxit (set to 20 by the program)\n",
      "allowed for finding a smoothing spline with fp=s has been reached: s\n",
      "too small.\n",
      "There is an approximation returned but the corresponding weighted sum\n",
      "of squared residuals does not satisfy the condition abs(fp-s)/s < tol.\n",
      "  warnings.warn(message)\n"
     ]
    },
    {
     "name": "stdout",
     "output_type": "stream",
     "text": [
      "Processing 139: CPS2-CU-T41-PA-ExpBlock1\n",
      "Processing 140: CPS2-ASU-T19-PB-Transfer\n",
      "Processing 141: CPS2-ASU-T61-PA-Transfer\n",
      "Processing 142: CPS2-ASU-T31-PC-ExpBlock1\n",
      "Processing 143: CPS2-CU-T40-PA-Warmup\n",
      "Processing 144: CPS2-ASU-T99-PB-ExpBlock1\n"
     ]
    },
    {
     "name": "stderr",
     "output_type": "stream",
     "text": [
      "/Users/angelina/miniforge3/envs/env_tf/lib/python3.9/site-packages/scipy/interpolate/_fitpack2.py:280: UserWarning: \n",
      "The maximal number of iterations maxit (set to 20 by the program)\n",
      "allowed for finding a smoothing spline with fp=s has been reached: s\n",
      "too small.\n",
      "There is an approximation returned but the corresponding weighted sum\n",
      "of squared residuals does not satisfy the condition abs(fp-s)/s < tol.\n",
      "  warnings.warn(message)\n"
     ]
    },
    {
     "name": "stdout",
     "output_type": "stream",
     "text": [
      "Processing 145: CPS2-ASU-T15-PC-ExpBlock2\n"
     ]
    },
    {
     "name": "stderr",
     "output_type": "stream",
     "text": [
      "/Users/angelina/miniforge3/envs/env_tf/lib/python3.9/site-packages/scipy/interpolate/_fitpack2.py:280: UserWarning: \n",
      "The maximal number of iterations maxit (set to 20 by the program)\n",
      "allowed for finding a smoothing spline with fp=s has been reached: s\n",
      "too small.\n",
      "There is an approximation returned but the corresponding weighted sum\n",
      "of squared residuals does not satisfy the condition abs(fp-s)/s < tol.\n",
      "  warnings.warn(message)\n"
     ]
    },
    {
     "name": "stdout",
     "output_type": "stream",
     "text": [
      "Processing 146: CPS2-ASU-T100-PD-ExpBlock2\n"
     ]
    },
    {
     "name": "stderr",
     "output_type": "stream",
     "text": [
      "/Users/angelina/miniforge3/envs/env_tf/lib/python3.9/site-packages/scipy/interpolate/_fitpack2.py:280: UserWarning: \n",
      "The maximal number of iterations maxit (set to 20 by the program)\n",
      "allowed for finding a smoothing spline with fp=s has been reached: s\n",
      "too small.\n",
      "There is an approximation returned but the corresponding weighted sum\n",
      "of squared residuals does not satisfy the condition abs(fp-s)/s < tol.\n",
      "  warnings.warn(message)\n"
     ]
    },
    {
     "name": "stdout",
     "output_type": "stream",
     "text": [
      "Processing 147: CPS2-ASU-T37-PD-ExpBlock1\n",
      "Processing 148: CPS2-ASU-T91-PB-Warmup\n"
     ]
    },
    {
     "name": "stderr",
     "output_type": "stream",
     "text": [
      "/Users/angelina/miniforge3/envs/env_tf/lib/python3.9/site-packages/scipy/interpolate/_fitpack2.py:280: UserWarning: \n",
      "The maximal number of iterations maxit (set to 20 by the program)\n",
      "allowed for finding a smoothing spline with fp=s has been reached: s\n",
      "too small.\n",
      "There is an approximation returned but the corresponding weighted sum\n",
      "of squared residuals does not satisfy the condition abs(fp-s)/s < tol.\n",
      "  warnings.warn(message)\n"
     ]
    },
    {
     "name": "stdout",
     "output_type": "stream",
     "text": [
      "Processing 149: CPS2-ASU-T26-PA-Warmup\n",
      "Processing 150: CPS2-ASU-T99-PC-Warmup\n"
     ]
    },
    {
     "name": "stderr",
     "output_type": "stream",
     "text": [
      "/Users/angelina/miniforge3/envs/env_tf/lib/python3.9/site-packages/scipy/interpolate/_fitpack2.py:280: UserWarning: \n",
      "The maximal number of iterations maxit (set to 20 by the program)\n",
      "allowed for finding a smoothing spline with fp=s has been reached: s\n",
      "too small.\n",
      "There is an approximation returned but the corresponding weighted sum\n",
      "of squared residuals does not satisfy the condition abs(fp-s)/s < tol.\n",
      "  warnings.warn(message)\n"
     ]
    },
    {
     "name": "stdout",
     "output_type": "stream",
     "text": [
      "Processing 151: CPS2-CU-T58-PD-ExpBlock2\n",
      "Processing 152: CPS2-ASU-T104-PA-Transfer\n",
      "Processing 153: CPS2-CU-T29-PA-Transfer\n",
      "Processing 154: CPS2-ASU-T102-PB-Warmup\n",
      "Processing 155: CPS2-CU-T69-PA-ExpBlock2\n",
      "Processing 156: CPS2-CU-T51-PB-Transfer\n",
      "Processing 157: CPS2-ASU-T57-PB-ExpBlock1\n"
     ]
    },
    {
     "name": "stderr",
     "output_type": "stream",
     "text": [
      "/Users/angelina/miniforge3/envs/env_tf/lib/python3.9/site-packages/scipy/interpolate/_fitpack2.py:280: UserWarning: \n",
      "The maximal number of iterations maxit (set to 20 by the program)\n",
      "allowed for finding a smoothing spline with fp=s has been reached: s\n",
      "too small.\n",
      "There is an approximation returned but the corresponding weighted sum\n",
      "of squared residuals does not satisfy the condition abs(fp-s)/s < tol.\n",
      "  warnings.warn(message)\n"
     ]
    },
    {
     "name": "stdout",
     "output_type": "stream",
     "text": [
      "Processing 158: CPS2-ASU-T66-PD-Warmup\n"
     ]
    },
    {
     "name": "stderr",
     "output_type": "stream",
     "text": [
      "/Users/angelina/miniforge3/envs/env_tf/lib/python3.9/site-packages/scipy/interpolate/_fitpack2.py:280: UserWarning: \n",
      "The maximal number of iterations maxit (set to 20 by the program)\n",
      "allowed for finding a smoothing spline with fp=s has been reached: s\n",
      "too small.\n",
      "There is an approximation returned but the corresponding weighted sum\n",
      "of squared residuals does not satisfy the condition abs(fp-s)/s < tol.\n",
      "  warnings.warn(message)\n"
     ]
    },
    {
     "name": "stdout",
     "output_type": "stream",
     "text": [
      "Processing 159: CPS2-CU-T38-PB-ExpBlock2\n",
      "Processing 160: CPS2-ASU-T84-PA-Warmup\n",
      "Processing 161: CPS2-CU-T54-PC-Transfer\n"
     ]
    },
    {
     "name": "stderr",
     "output_type": "stream",
     "text": [
      "/Users/angelina/miniforge3/envs/env_tf/lib/python3.9/site-packages/scipy/interpolate/_fitpack2.py:280: UserWarning: \n",
      "The maximal number of iterations maxit (set to 20 by the program)\n",
      "allowed for finding a smoothing spline with fp=s has been reached: s\n",
      "too small.\n",
      "There is an approximation returned but the corresponding weighted sum\n",
      "of squared residuals does not satisfy the condition abs(fp-s)/s < tol.\n",
      "  warnings.warn(message)\n"
     ]
    },
    {
     "name": "stdout",
     "output_type": "stream",
     "text": [
      "Processing 162: CPS2-CU-T67-PC-ExpBlock2\n"
     ]
    },
    {
     "name": "stderr",
     "output_type": "stream",
     "text": [
      "/Users/angelina/miniforge3/envs/env_tf/lib/python3.9/site-packages/scipy/interpolate/_fitpack2.py:280: UserWarning: \n",
      "The maximal number of iterations maxit (set to 20 by the program)\n",
      "allowed for finding a smoothing spline with fp=s has been reached: s\n",
      "too small.\n",
      "There is an approximation returned but the corresponding weighted sum\n",
      "of squared residuals does not satisfy the condition abs(fp-s)/s < tol.\n",
      "  warnings.warn(message)\n"
     ]
    },
    {
     "name": "stdout",
     "output_type": "stream",
     "text": [
      "Processing 163: CPS2-CU-T31-PA-Warmup\n"
     ]
    },
    {
     "name": "stderr",
     "output_type": "stream",
     "text": [
      "/Users/angelina/miniforge3/envs/env_tf/lib/python3.9/site-packages/scipy/interpolate/_fitpack2.py:280: UserWarning: \n",
      "The maximal number of iterations maxit (set to 20 by the program)\n",
      "allowed for finding a smoothing spline with fp=s has been reached: s\n",
      "too small.\n",
      "There is an approximation returned but the corresponding weighted sum\n",
      "of squared residuals does not satisfy the condition abs(fp-s)/s < tol.\n",
      "  warnings.warn(message)\n"
     ]
    },
    {
     "name": "stdout",
     "output_type": "stream",
     "text": [
      "Processing 164: CPS2-ASU-T84-PB-ExpBlock2\n",
      "Processing 165: CPS2-ASU-T62-PB-ExpBlock1\n",
      "Processing 166: CPS2-ASU-T37-PB-Transfer\n",
      "Processing 167: CPS2-ASU-T104-PA-ExpBlock2\n",
      "Processing 168: CPS2-ASU-T46-PB-ExpBlock2\n",
      "Processing 169: CPS2-CU-T70-PA-Transfer\n"
     ]
    },
    {
     "name": "stderr",
     "output_type": "stream",
     "text": [
      "/Users/angelina/miniforge3/envs/env_tf/lib/python3.9/site-packages/scipy/interpolate/_fitpack2.py:280: UserWarning: \n",
      "The maximal number of iterations maxit (set to 20 by the program)\n",
      "allowed for finding a smoothing spline with fp=s has been reached: s\n",
      "too small.\n",
      "There is an approximation returned but the corresponding weighted sum\n",
      "of squared residuals does not satisfy the condition abs(fp-s)/s < tol.\n",
      "  warnings.warn(message)\n"
     ]
    },
    {
     "name": "stdout",
     "output_type": "stream",
     "text": [
      "Processing 170: CPS2-CU-T29-PB-ExpBlock1\n"
     ]
    },
    {
     "name": "stderr",
     "output_type": "stream",
     "text": [
      "/Users/angelina/miniforge3/envs/env_tf/lib/python3.9/site-packages/scipy/interpolate/_fitpack2.py:280: UserWarning: \n",
      "The maximal number of iterations maxit (set to 20 by the program)\n",
      "allowed for finding a smoothing spline with fp=s has been reached: s\n",
      "too small.\n",
      "There is an approximation returned but the corresponding weighted sum\n",
      "of squared residuals does not satisfy the condition abs(fp-s)/s < tol.\n",
      "  warnings.warn(message)\n"
     ]
    },
    {
     "name": "stdout",
     "output_type": "stream",
     "text": [
      "Processing 171: CPS2-CU-T43-PC-ExpBlock1\n"
     ]
    },
    {
     "name": "stderr",
     "output_type": "stream",
     "text": [
      "/Users/angelina/miniforge3/envs/env_tf/lib/python3.9/site-packages/scipy/interpolate/_fitpack2.py:280: UserWarning: \n",
      "The maximal number of iterations maxit (set to 20 by the program)\n",
      "allowed for finding a smoothing spline with fp=s has been reached: s\n",
      "too small.\n",
      "There is an approximation returned but the corresponding weighted sum\n",
      "of squared residuals does not satisfy the condition abs(fp-s)/s < tol.\n",
      "  warnings.warn(message)\n"
     ]
    },
    {
     "name": "stdout",
     "output_type": "stream",
     "text": [
      "Processing 172: CPS2-ASU-T74-PC-Warmup\n",
      "Processing 173: CPS2-CU-T25-PB-ExpBlock1\n",
      "Processing 174: CPS2-CU-T50-PA-ExpBlock2\n",
      "Processing 175: CPS2-ASU-T42-PB-Warmup\n"
     ]
    },
    {
     "name": "stderr",
     "output_type": "stream",
     "text": [
      "/Users/angelina/miniforge3/envs/env_tf/lib/python3.9/site-packages/scipy/interpolate/_fitpack2.py:280: UserWarning: \n",
      "The maximal number of iterations maxit (set to 20 by the program)\n",
      "allowed for finding a smoothing spline with fp=s has been reached: s\n",
      "too small.\n",
      "There is an approximation returned but the corresponding weighted sum\n",
      "of squared residuals does not satisfy the condition abs(fp-s)/s < tol.\n",
      "  warnings.warn(message)\n"
     ]
    },
    {
     "name": "stdout",
     "output_type": "stream",
     "text": [
      "Processing 176: CPS2-CU-T24-PB-Warmup\n",
      "Processing 177: CPS2-ASU-T45-PC-Transfer\n",
      "Processing 178: CPS2-ASU-T20-PC-ExpBlock2\n"
     ]
    },
    {
     "name": "stderr",
     "output_type": "stream",
     "text": [
      "/Users/angelina/miniforge3/envs/env_tf/lib/python3.9/site-packages/scipy/interpolate/_fitpack2.py:280: UserWarning: \n",
      "The maximal number of iterations maxit (set to 20 by the program)\n",
      "allowed for finding a smoothing spline with fp=s has been reached: s\n",
      "too small.\n",
      "There is an approximation returned but the corresponding weighted sum\n",
      "of squared residuals does not satisfy the condition abs(fp-s)/s < tol.\n",
      "  warnings.warn(message)\n"
     ]
    },
    {
     "name": "stdout",
     "output_type": "stream",
     "text": [
      "Processing 179: CPS2-ASU-T40-PB-Transfer\n",
      "Processing 180: CPS2-ASU-T69-PA-Warmup\n",
      "Processing 181: CPS2-ASU-T34-PA-ExpBlock1\n"
     ]
    },
    {
     "name": "stderr",
     "output_type": "stream",
     "text": [
      "/Users/angelina/miniforge3/envs/env_tf/lib/python3.9/site-packages/scipy/interpolate/_fitpack2.py:280: UserWarning: \n",
      "The maximal number of iterations maxit (set to 20 by the program)\n",
      "allowed for finding a smoothing spline with fp=s has been reached: s\n",
      "too small.\n",
      "There is an approximation returned but the corresponding weighted sum\n",
      "of squared residuals does not satisfy the condition abs(fp-s)/s < tol.\n",
      "  warnings.warn(message)\n"
     ]
    },
    {
     "name": "stdout",
     "output_type": "stream",
     "text": [
      "Processing 182: CPS2-ASU-T41-PB-ExpBlock2\n",
      "Processing 183: CPS2-ASU-T89-PB-Warmup\n",
      "Processing 184: CPS2-CU-T44-PC-ExpBlock1\n"
     ]
    },
    {
     "name": "stderr",
     "output_type": "stream",
     "text": [
      "/Users/angelina/miniforge3/envs/env_tf/lib/python3.9/site-packages/scipy/interpolate/_fitpack2.py:280: UserWarning: \n",
      "The maximal number of iterations maxit (set to 20 by the program)\n",
      "allowed for finding a smoothing spline with fp=s has been reached: s\n",
      "too small.\n",
      "There is an approximation returned but the corresponding weighted sum\n",
      "of squared residuals does not satisfy the condition abs(fp-s)/s < tol.\n",
      "  warnings.warn(message)\n"
     ]
    },
    {
     "name": "stdout",
     "output_type": "stream",
     "text": [
      "Processing 185: CPS2-ASU-T42-PC-Transfer\n",
      "Processing 186: CPS2-CU-T60-PC-ExpBlock2\n",
      "Processing 187: CPS2-ASU-T10-PA-ExpBlock2\n",
      "Processing 188: CPS2-ASU-T47-PB-Transfer\n",
      "Processing 189: CPS2-ASU-T40-PD-Warmup\n",
      "Processing 190: CPS2-ASU-T83-PB-ExpBlock2\n",
      "Processing 191: CPS2-ASU-T30-PB-Transfer\n",
      "Processing 192: CPS2-ASU-T69-PB-ExpBlock1\n",
      "Processing 193: CPS2-ASU-T21-PD-ExpBlock2\n",
      "Processing 194: CPS2-CU-T60-PD-Transfer\n",
      "Processing 195: CPS2-CU-T18-PD-Warmup\n",
      "Processing 196: CPS2-CU-T45-PC-Warmup\n"
     ]
    },
    {
     "name": "stderr",
     "output_type": "stream",
     "text": [
      "/Users/angelina/miniforge3/envs/env_tf/lib/python3.9/site-packages/scipy/interpolate/_fitpack2.py:280: UserWarning: \n",
      "The maximal number of iterations maxit (set to 20 by the program)\n",
      "allowed for finding a smoothing spline with fp=s has been reached: s\n",
      "too small.\n",
      "There is an approximation returned but the corresponding weighted sum\n",
      "of squared residuals does not satisfy the condition abs(fp-s)/s < tol.\n",
      "  warnings.warn(message)\n"
     ]
    },
    {
     "name": "stdout",
     "output_type": "stream",
     "text": [
      "Processing 197: CPS2-ASU-T35-PC-Transfer\n"
     ]
    },
    {
     "name": "stderr",
     "output_type": "stream",
     "text": [
      "/Users/angelina/miniforge3/envs/env_tf/lib/python3.9/site-packages/scipy/interpolate/_fitpack2.py:280: UserWarning: \n",
      "The maximal number of iterations maxit (set to 20 by the program)\n",
      "allowed for finding a smoothing spline with fp=s has been reached: s\n",
      "too small.\n",
      "There is an approximation returned but the corresponding weighted sum\n",
      "of squared residuals does not satisfy the condition abs(fp-s)/s < tol.\n",
      "  warnings.warn(message)\n"
     ]
    },
    {
     "name": "stdout",
     "output_type": "stream",
     "text": [
      "Processing 198: CPS2-CU-T48-PC-ExpBlock1\n"
     ]
    },
    {
     "name": "stderr",
     "output_type": "stream",
     "text": [
      "/Users/angelina/miniforge3/envs/env_tf/lib/python3.9/site-packages/scipy/interpolate/_fitpack2.py:280: UserWarning: \n",
      "The maximal number of iterations maxit (set to 20 by the program)\n",
      "allowed for finding a smoothing spline with fp=s has been reached: s\n",
      "too small.\n",
      "There is an approximation returned but the corresponding weighted sum\n",
      "of squared residuals does not satisfy the condition abs(fp-s)/s < tol.\n",
      "  warnings.warn(message)\n"
     ]
    },
    {
     "name": "stdout",
     "output_type": "stream",
     "text": [
      "Processing 199: CPS2-CU-T22-PB-ExpBlock1\n",
      "Processing 200: CPS2-CU-T57-PA-ExpBlock2\n",
      "Processing 201: CPS2-ASU-T38-PA-ExpBlock1\n",
      "Processing 202: CPS2-CU-T66-PA-Warmup\n"
     ]
    },
    {
     "name": "stderr",
     "output_type": "stream",
     "text": [
      "/Users/angelina/miniforge3/envs/env_tf/lib/python3.9/site-packages/scipy/interpolate/_fitpack2.py:280: UserWarning: \n",
      "The maximal number of iterations maxit (set to 20 by the program)\n",
      "allowed for finding a smoothing spline with fp=s has been reached: s\n",
      "too small.\n",
      "There is an approximation returned but the corresponding weighted sum\n",
      "of squared residuals does not satisfy the condition abs(fp-s)/s < tol.\n",
      "  warnings.warn(message)\n"
     ]
    },
    {
     "name": "stdout",
     "output_type": "stream",
     "text": [
      "Processing 203: CPS2-CU-T56-PB-Transfer\n",
      "Processing 204: CPS2-CU-T62-PA-ExpBlock2\n",
      "Processing 205: CPS2-CU-T17-PB-ExpBlock1\n",
      "Processing 206: CPS2-ASU-T64-PB-Warmup\n"
     ]
    },
    {
     "name": "stderr",
     "output_type": "stream",
     "text": [
      "/Users/angelina/miniforge3/envs/env_tf/lib/python3.9/site-packages/scipy/interpolate/_fitpack2.py:280: UserWarning: \n",
      "The maximal number of iterations maxit (set to 20 by the program)\n",
      "allowed for finding a smoothing spline with fp=s has been reached: s\n",
      "too small.\n",
      "There is an approximation returned but the corresponding weighted sum\n",
      "of squared residuals does not satisfy the condition abs(fp-s)/s < tol.\n",
      "  warnings.warn(message)\n"
     ]
    },
    {
     "name": "stdout",
     "output_type": "stream",
     "text": [
      "Processing 207: CPS2-CU-T33-PB-ExpBlock2\n"
     ]
    },
    {
     "name": "stderr",
     "output_type": "stream",
     "text": [
      "/Users/angelina/miniforge3/envs/env_tf/lib/python3.9/site-packages/scipy/interpolate/_fitpack2.py:280: UserWarning: \n",
      "The maximal number of iterations maxit (set to 20 by the program)\n",
      "allowed for finding a smoothing spline with fp=s has been reached: s\n",
      "too small.\n",
      "There is an approximation returned but the corresponding weighted sum\n",
      "of squared residuals does not satisfy the condition abs(fp-s)/s < tol.\n",
      "  warnings.warn(message)\n"
     ]
    },
    {
     "name": "stdout",
     "output_type": "stream",
     "text": [
      "Processing 208: CPS2-CU-T46-PA-ExpBlock1\n",
      "Processing 209: CPS2-CU-T53-PC-Transfer\n"
     ]
    },
    {
     "name": "stderr",
     "output_type": "stream",
     "text": [
      "/Users/angelina/miniforge3/envs/env_tf/lib/python3.9/site-packages/scipy/interpolate/_fitpack2.py:280: UserWarning: \n",
      "The maximal number of iterations maxit (set to 20 by the program)\n",
      "allowed for finding a smoothing spline with fp=s has been reached: s\n",
      "too small.\n",
      "There is an approximation returned but the corresponding weighted sum\n",
      "of squared residuals does not satisfy the condition abs(fp-s)/s < tol.\n",
      "  warnings.warn(message)\n"
     ]
    },
    {
     "name": "stdout",
     "output_type": "stream",
     "text": [
      "Processing 210: CPS2-ASU-T69-PB-Transfer\n",
      "Processing 211: CPS2-CU-T29-PA-Warmup\n",
      "Processing 212: CPS2-ASU-T36-PC-ExpBlock1\n"
     ]
    },
    {
     "name": "stderr",
     "output_type": "stream",
     "text": [
      "/Users/angelina/miniforge3/envs/env_tf/lib/python3.9/site-packages/scipy/interpolate/_fitpack2.py:280: UserWarning: \n",
      "The maximal number of iterations maxit (set to 20 by the program)\n",
      "allowed for finding a smoothing spline with fp=s has been reached: s\n",
      "too small.\n",
      "There is an approximation returned but the corresponding weighted sum\n",
      "of squared residuals does not satisfy the condition abs(fp-s)/s < tol.\n",
      "  warnings.warn(message)\n"
     ]
    },
    {
     "name": "stdout",
     "output_type": "stream",
     "text": [
      "Processing 213: CPS2-ASU-T100-PD-Warmup\n"
     ]
    },
    {
     "name": "stderr",
     "output_type": "stream",
     "text": [
      "/Users/angelina/miniforge3/envs/env_tf/lib/python3.9/site-packages/scipy/interpolate/_fitpack2.py:280: UserWarning: \n",
      "The maximal number of iterations maxit (set to 20 by the program)\n",
      "allowed for finding a smoothing spline with fp=s has been reached: s\n",
      "too small.\n",
      "There is an approximation returned but the corresponding weighted sum\n",
      "of squared residuals does not satisfy the condition abs(fp-s)/s < tol.\n",
      "  warnings.warn(message)\n"
     ]
    },
    {
     "name": "stdout",
     "output_type": "stream",
     "text": [
      "Processing 214: CPS2-ASU-T66-PA-Transfer\n",
      "Processing 215: CPS2-CU-T17-PA-Warmup\n",
      "Processing 216: CPS2-ASU-T25-PA-ExpBlock2\n",
      "Processing 217: CPS2-ASU-T50-PB-ExpBlock1\n",
      "Processing 218: CPS2-CU-T55-PC-ExpBlock2\n"
     ]
    },
    {
     "name": "stderr",
     "output_type": "stream",
     "text": [
      "/Users/angelina/miniforge3/envs/env_tf/lib/python3.9/site-packages/scipy/interpolate/_fitpack2.py:280: UserWarning: \n",
      "The maximal number of iterations maxit (set to 20 by the program)\n",
      "allowed for finding a smoothing spline with fp=s has been reached: s\n",
      "too small.\n",
      "There is an approximation returned but the corresponding weighted sum\n",
      "of squared residuals does not satisfy the condition abs(fp-s)/s < tol.\n",
      "  warnings.warn(message)\n"
     ]
    },
    {
     "name": "stdout",
     "output_type": "stream",
     "text": [
      "Processing 219: CPS2-ASU-T93-PD-Warmup\n",
      "Processing 220: CPS2-ASU-T52-PC-Warmup\n",
      "Processing 221: CPS2-CU-T71-PC-ExpBlock1\n",
      "Processing 222: CPS2-CU-T34-PC-Warmup\n",
      "Processing 223: CPS2-ASU-T71-PD-Transfer\n",
      "Processing 224: CPS2-CU-T59-PA-Transfer\n",
      "Processing 225: CPS2-ASU-T74-PB-ExpBlock2\n"
     ]
    },
    {
     "name": "stderr",
     "output_type": "stream",
     "text": [
      "/Users/angelina/miniforge3/envs/env_tf/lib/python3.9/site-packages/scipy/interpolate/_fitpack2.py:280: UserWarning: \n",
      "The maximal number of iterations maxit (set to 20 by the program)\n",
      "allowed for finding a smoothing spline with fp=s has been reached: s\n",
      "too small.\n",
      "There is an approximation returned but the corresponding weighted sum\n",
      "of squared residuals does not satisfy the condition abs(fp-s)/s < tol.\n",
      "  warnings.warn(message)\n"
     ]
    },
    {
     "name": "stdout",
     "output_type": "stream",
     "text": [
      "Processing 226: CPS2-ASU-T92-PB-ExpBlock1\n",
      "Processing 227: CPS2-CU-T38-PB-ExpBlock1\n"
     ]
    },
    {
     "name": "stderr",
     "output_type": "stream",
     "text": [
      "/Users/angelina/miniforge3/envs/env_tf/lib/python3.9/site-packages/scipy/interpolate/_fitpack2.py:280: UserWarning: \n",
      "The maximal number of iterations maxit (set to 20 by the program)\n",
      "allowed for finding a smoothing spline with fp=s has been reached: s\n",
      "too small.\n",
      "There is an approximation returned but the corresponding weighted sum\n",
      "of squared residuals does not satisfy the condition abs(fp-s)/s < tol.\n",
      "  warnings.warn(message)\n"
     ]
    },
    {
     "name": "stdout",
     "output_type": "stream",
     "text": [
      "Processing 228: CPS2-ASU-T57-PB-ExpBlock2\n",
      "Processing 229: CPS2-ASU-T55-PB-Warmup\n",
      "Processing 230: CPS2-CU-T33-PB-Warmup\n"
     ]
    },
    {
     "name": "stderr",
     "output_type": "stream",
     "text": [
      "/Users/angelina/miniforge3/envs/env_tf/lib/python3.9/site-packages/scipy/interpolate/_fitpack2.py:280: UserWarning: \n",
      "The maximal number of iterations maxit (set to 20 by the program)\n",
      "allowed for finding a smoothing spline with fp=s has been reached: s\n",
      "too small.\n",
      "There is an approximation returned but the corresponding weighted sum\n",
      "of squared residuals does not satisfy the condition abs(fp-s)/s < tol.\n",
      "  warnings.warn(message)\n"
     ]
    },
    {
     "name": "stdout",
     "output_type": "stream",
     "text": [
      "Processing 231: CPS2-CU-T18-PA-Warmup\n",
      "Processing 232: CPS2-ASU-T40-PA-Transfer\n"
     ]
    },
    {
     "name": "stderr",
     "output_type": "stream",
     "text": [
      "/Users/angelina/miniforge3/envs/env_tf/lib/python3.9/site-packages/scipy/interpolate/_fitpack2.py:280: UserWarning: \n",
      "The maximal number of iterations maxit (set to 20 by the program)\n",
      "allowed for finding a smoothing spline with fp=s has been reached: s\n",
      "too small.\n",
      "There is an approximation returned but the corresponding weighted sum\n",
      "of squared residuals does not satisfy the condition abs(fp-s)/s < tol.\n",
      "  warnings.warn(message)\n"
     ]
    },
    {
     "name": "stdout",
     "output_type": "stream",
     "text": [
      "Processing 233: CPS2-CU-T69-PA-ExpBlock1\n",
      "Processing 234: CPS2-CU-T26-PA-Warmup\n",
      "Processing 235: CPS2-ASU-T80-PA-Transfer\n",
      "Processing 236: CPS2-CU-T58-PD-ExpBlock1\n",
      "Processing 237: CPS2-ASU-T40-PA-Warmup\n"
     ]
    },
    {
     "name": "stderr",
     "output_type": "stream",
     "text": [
      "/Users/angelina/miniforge3/envs/env_tf/lib/python3.9/site-packages/scipy/interpolate/_fitpack2.py:280: UserWarning: \n",
      "The maximal number of iterations maxit (set to 20 by the program)\n",
      "allowed for finding a smoothing spline with fp=s has been reached: s\n",
      "too small.\n",
      "There is an approximation returned but the corresponding weighted sum\n",
      "of squared residuals does not satisfy the condition abs(fp-s)/s < tol.\n",
      "  warnings.warn(message)\n"
     ]
    },
    {
     "name": "stdout",
     "output_type": "stream",
     "text": [
      "Processing 238: CPS2-ASU-T15-PC-ExpBlock1\n",
      "Processing 239: CPS2-ASU-T99-PB-ExpBlock2\n",
      "Processing 240: CPS2-ASU-T37-PD-ExpBlock2\n",
      "Processing 241: CPS2-ASU-T100-PD-ExpBlock1\n",
      "Processing 242: CPS2-CU-T58-PD-Warmup\n",
      "Processing 243: CPS2-ASU-T20-PD-Transfer\n",
      "Processing 244: CPS2-ASU-T31-PC-ExpBlock2\n",
      "Processing 245: CPS2-CU-T34-PB-ExpBlock1\n",
      "Processing 246: CPS2-CU-T41-PA-ExpBlock2\n",
      "Processing 247: CPS2-CU-T70-PB-Transfer\n",
      "Processing 248: CPS2-ASU-T79-PD-Transfer\n",
      "Processing 249: CPS2-ASU-T104-PB-Transfer\n",
      "Processing 250: CPS2-CU-T69-PA-Warmup\n"
     ]
    },
    {
     "name": "stderr",
     "output_type": "stream",
     "text": [
      "/Users/angelina/miniforge3/envs/env_tf/lib/python3.9/site-packages/scipy/interpolate/_fitpack2.py:280: UserWarning: \n",
      "The maximal number of iterations maxit (set to 20 by the program)\n",
      "allowed for finding a smoothing spline with fp=s has been reached: s\n",
      "too small.\n",
      "There is an approximation returned but the corresponding weighted sum\n",
      "of squared residuals does not satisfy the condition abs(fp-s)/s < tol.\n",
      "  warnings.warn(message)\n"
     ]
    },
    {
     "name": "stdout",
     "output_type": "stream",
     "text": [
      "Processing 251: CPS2-CU-T29-PB-Transfer\n",
      "Processing 252: CPS2-ASU-T24-PB-Warmup\n",
      "Processing 253: CPS2-ASU-T93-PA-Warmup\n",
      "Processing 254: CPS2-ASU-T20-PC-ExpBlock1\n"
     ]
    },
    {
     "name": "stderr",
     "output_type": "stream",
     "text": [
      "/Users/angelina/miniforge3/envs/env_tf/lib/python3.9/site-packages/scipy/interpolate/_fitpack2.py:280: UserWarning: \n",
      "The maximal number of iterations maxit (set to 20 by the program)\n",
      "allowed for finding a smoothing spline with fp=s has been reached: s\n",
      "too small.\n",
      "There is an approximation returned but the corresponding weighted sum\n",
      "of squared residuals does not satisfy the condition abs(fp-s)/s < tol.\n",
      "  warnings.warn(message)\n"
     ]
    },
    {
     "name": "stdout",
     "output_type": "stream",
     "text": [
      "Processing 255: CPS2-CU-T25-PB-ExpBlock2\n",
      "Processing 256: CPS2-CU-T50-PA-ExpBlock1\n"
     ]
    },
    {
     "name": "stderr",
     "output_type": "stream",
     "text": [
      "/Users/angelina/miniforge3/envs/env_tf/lib/python3.9/site-packages/scipy/interpolate/_fitpack2.py:280: UserWarning: \n",
      "The maximal number of iterations maxit (set to 20 by the program)\n",
      "allowed for finding a smoothing spline with fp=s has been reached: s\n",
      "too small.\n",
      "There is an approximation returned but the corresponding weighted sum\n",
      "of squared residuals does not satisfy the condition abs(fp-s)/s < tol.\n",
      "  warnings.warn(message)\n"
     ]
    },
    {
     "name": "stdout",
     "output_type": "stream",
     "text": [
      "Processing 257: CPS2-ASU-T71-PD-Warmup\n",
      "Processing 258: CPS2-ASU-T100-PA-Warmup\n",
      "Processing 259: CPS2-CU-T29-PB-ExpBlock2\n"
     ]
    },
    {
     "name": "stderr",
     "output_type": "stream",
     "text": [
      "/Users/angelina/miniforge3/envs/env_tf/lib/python3.9/site-packages/scipy/interpolate/_fitpack2.py:280: UserWarning: \n",
      "The maximal number of iterations maxit (set to 20 by the program)\n",
      "allowed for finding a smoothing spline with fp=s has been reached: s\n",
      "too small.\n",
      "There is an approximation returned but the corresponding weighted sum\n",
      "of squared residuals does not satisfy the condition abs(fp-s)/s < tol.\n",
      "  warnings.warn(message)\n"
     ]
    },
    {
     "name": "stdout",
     "output_type": "stream",
     "text": [
      "Processing 260: CPS2-ASU-T61-PB-Transfer\n"
     ]
    },
    {
     "name": "stderr",
     "output_type": "stream",
     "text": [
      "/Users/angelina/miniforge3/envs/env_tf/lib/python3.9/site-packages/scipy/interpolate/_fitpack2.py:280: UserWarning: \n",
      "The maximal number of iterations maxit (set to 20 by the program)\n",
      "allowed for finding a smoothing spline with fp=s has been reached: s\n",
      "too small.\n",
      "There is an approximation returned but the corresponding weighted sum\n",
      "of squared residuals does not satisfy the condition abs(fp-s)/s < tol.\n",
      "  warnings.warn(message)\n"
     ]
    },
    {
     "name": "stdout",
     "output_type": "stream",
     "text": [
      "Processing 261: CPS2-CU-T43-PC-ExpBlock2\n"
     ]
    },
    {
     "name": "stderr",
     "output_type": "stream",
     "text": [
      "/Users/angelina/miniforge3/envs/env_tf/lib/python3.9/site-packages/scipy/interpolate/_fitpack2.py:280: UserWarning: \n",
      "The maximal number of iterations maxit (set to 20 by the program)\n",
      "allowed for finding a smoothing spline with fp=s has been reached: s\n",
      "too small.\n",
      "There is an approximation returned but the corresponding weighted sum\n",
      "of squared residuals does not satisfy the condition abs(fp-s)/s < tol.\n",
      "  warnings.warn(message)\n"
     ]
    },
    {
     "name": "stdout",
     "output_type": "stream",
     "text": [
      "Processing 262: CPS2-ASU-T46-PB-ExpBlock1\n",
      "Processing 263: CPS2-ASU-T19-PA-Transfer\n",
      "Processing 264: CPS2-ASU-T104-PA-ExpBlock1\n"
     ]
    },
    {
     "name": "stderr",
     "output_type": "stream",
     "text": [
      "/Users/angelina/miniforge3/envs/env_tf/lib/python3.9/site-packages/scipy/interpolate/_fitpack2.py:280: UserWarning: \n",
      "The maximal number of iterations maxit (set to 20 by the program)\n",
      "allowed for finding a smoothing spline with fp=s has been reached: s\n",
      "too small.\n",
      "There is an approximation returned but the corresponding weighted sum\n",
      "of squared residuals does not satisfy the condition abs(fp-s)/s < tol.\n",
      "  warnings.warn(message)\n"
     ]
    },
    {
     "name": "stdout",
     "output_type": "stream",
     "text": [
      "Processing 265: CPS2-ASU-T84-PB-ExpBlock1\n",
      "Processing 266: CPS2-ASU-T64-PC-Transfer\n"
     ]
    },
    {
     "name": "stderr",
     "output_type": "stream",
     "text": [
      "/Users/angelina/miniforge3/envs/env_tf/lib/python3.9/site-packages/scipy/interpolate/_fitpack2.py:280: UserWarning: \n",
      "The maximal number of iterations maxit (set to 20 by the program)\n",
      "allowed for finding a smoothing spline with fp=s has been reached: s\n",
      "too small.\n",
      "There is an approximation returned but the corresponding weighted sum\n",
      "of squared residuals does not satisfy the condition abs(fp-s)/s < tol.\n",
      "  warnings.warn(message)\n"
     ]
    },
    {
     "name": "stdout",
     "output_type": "stream",
     "text": [
      "Processing 267: CPS2-ASU-T62-PB-ExpBlock2\n"
     ]
    },
    {
     "name": "stderr",
     "output_type": "stream",
     "text": [
      "/Users/angelina/miniforge3/envs/env_tf/lib/python3.9/site-packages/scipy/interpolate/_fitpack2.py:280: UserWarning: \n",
      "The maximal number of iterations maxit (set to 20 by the program)\n",
      "allowed for finding a smoothing spline with fp=s has been reached: s\n",
      "too small.\n",
      "There is an approximation returned but the corresponding weighted sum\n",
      "of squared residuals does not satisfy the condition abs(fp-s)/s < tol.\n",
      "  warnings.warn(message)\n"
     ]
    },
    {
     "name": "stdout",
     "output_type": "stream",
     "text": [
      "Processing 268: CPS2-CU-T57-PA-Warmup\n"
     ]
    },
    {
     "name": "stderr",
     "output_type": "stream",
     "text": [
      "/Users/angelina/miniforge3/envs/env_tf/lib/python3.9/site-packages/scipy/interpolate/_fitpack2.py:280: UserWarning: \n",
      "The maximal number of iterations maxit (set to 20 by the program)\n",
      "allowed for finding a smoothing spline with fp=s has been reached: s\n",
      "too small.\n",
      "There is an approximation returned but the corresponding weighted sum\n",
      "of squared residuals does not satisfy the condition abs(fp-s)/s < tol.\n",
      "  warnings.warn(message)\n"
     ]
    },
    {
     "name": "stdout",
     "output_type": "stream",
     "text": [
      "Processing 269: CPS2-CU-T26-PA-Transfer\n"
     ]
    },
    {
     "name": "stderr",
     "output_type": "stream",
     "text": [
      "/Users/angelina/miniforge3/envs/env_tf/lib/python3.9/site-packages/scipy/interpolate/_fitpack2.py:280: UserWarning: \n",
      "The maximal number of iterations maxit (set to 20 by the program)\n",
      "allowed for finding a smoothing spline with fp=s has been reached: s\n",
      "too small.\n",
      "There is an approximation returned but the corresponding weighted sum\n",
      "of squared residuals does not satisfy the condition abs(fp-s)/s < tol.\n",
      "  warnings.warn(message)\n"
     ]
    },
    {
     "name": "stdout",
     "output_type": "stream",
     "text": [
      "Processing 270: CPS2-CU-T67-PC-ExpBlock1\n",
      "Processing 271: CPS2-ASU-T31-PA-Warmup\n"
     ]
    },
    {
     "name": "stderr",
     "output_type": "stream",
     "text": [
      "/Users/angelina/miniforge3/envs/env_tf/lib/python3.9/site-packages/scipy/interpolate/_fitpack2.py:280: UserWarning: \n",
      "The maximal number of iterations maxit (set to 20 by the program)\n",
      "allowed for finding a smoothing spline with fp=s has been reached: s\n",
      "too small.\n",
      "There is an approximation returned but the corresponding weighted sum\n",
      "of squared residuals does not satisfy the condition abs(fp-s)/s < tol.\n",
      "  warnings.warn(message)\n"
     ]
    },
    {
     "name": "stdout",
     "output_type": "stream",
     "text": [
      "Processing 272: CPS2-ASU-T86-PB-Warmup\n"
     ]
    },
    {
     "name": "stderr",
     "output_type": "stream",
     "text": [
      "/Users/angelina/miniforge3/envs/env_tf/lib/python3.9/site-packages/scipy/interpolate/_fitpack2.py:280: UserWarning: \n",
      "The maximal number of iterations maxit (set to 20 by the program)\n",
      "allowed for finding a smoothing spline with fp=s has been reached: s\n",
      "too small.\n",
      "There is an approximation returned but the corresponding weighted sum\n",
      "of squared residuals does not satisfy the condition abs(fp-s)/s < tol.\n",
      "  warnings.warn(message)\n"
     ]
    },
    {
     "name": "stdout",
     "output_type": "stream",
     "text": [
      "Processing 273: CPS2-CU-T51-PB-Warmup\n",
      "Processing 274: CPS2-ASU-T80-PA-Warmup\n"
     ]
    },
    {
     "name": "stderr",
     "output_type": "stream",
     "text": [
      "/Users/angelina/miniforge3/envs/env_tf/lib/python3.9/site-packages/scipy/interpolate/_fitpack2.py:280: UserWarning: \n",
      "The maximal number of iterations maxit (set to 20 by the program)\n",
      "allowed for finding a smoothing spline with fp=s has been reached: s\n",
      "too small.\n",
      "There is an approximation returned but the corresponding weighted sum\n",
      "of squared residuals does not satisfy the condition abs(fp-s)/s < tol.\n",
      "  warnings.warn(message)\n"
     ]
    },
    {
     "name": "stdout",
     "output_type": "stream",
     "text": [
      "Processing 275: CPS2-ASU-T37-PB-Warmup\n",
      "Processing 276: CPS2-ASU-T75-PA-ExpBlock2\n",
      "Processing 277: CPS2-ASU-T42-PD-Transfer\n",
      "Processing 278: CPS2-ASU-T62-PD-Warmup\n",
      "Processing 279: CPS2-ASU-T93-PA-ExpBlock1\n",
      "Processing 280: CPS2-ASU-T24-PB-ExpBlock2\n"
     ]
    },
    {
     "name": "stderr",
     "output_type": "stream",
     "text": [
      "/Users/angelina/miniforge3/envs/env_tf/lib/python3.9/site-packages/scipy/interpolate/_fitpack2.py:280: UserWarning: \n",
      "The maximal number of iterations maxit (set to 20 by the program)\n",
      "allowed for finding a smoothing spline with fp=s has been reached: s\n",
      "too small.\n",
      "There is an approximation returned but the corresponding weighted sum\n",
      "of squared residuals does not satisfy the condition abs(fp-s)/s < tol.\n",
      "  warnings.warn(message)\n"
     ]
    },
    {
     "name": "stdout",
     "output_type": "stream",
     "text": [
      "Processing 281: CPS2-ASU-T51-PA-ExpBlock1\n",
      "Processing 282: CPS2-ASU-T55-PA-Transfer\n",
      "Processing 283: CPS2-CU-T32-PA-ExpBlock2\n"
     ]
    },
    {
     "name": "stderr",
     "output_type": "stream",
     "text": [
      "/Users/angelina/miniforge3/envs/env_tf/lib/python3.9/site-packages/scipy/interpolate/_fitpack2.py:280: UserWarning: \n",
      "The maximal number of iterations maxit (set to 20 by the program)\n",
      "allowed for finding a smoothing spline with fp=s has been reached: s\n",
      "too small.\n",
      "There is an approximation returned but the corresponding weighted sum\n",
      "of squared residuals does not satisfy the condition abs(fp-s)/s < tol.\n",
      "  warnings.warn(message)\n"
     ]
    },
    {
     "name": "stdout",
     "output_type": "stream",
     "text": [
      "Processing 284: CPS2-CU-T47-PB-ExpBlock1\n"
     ]
    },
    {
     "name": "stderr",
     "output_type": "stream",
     "text": [
      "/Users/angelina/miniforge3/envs/env_tf/lib/python3.9/site-packages/scipy/interpolate/_fitpack2.py:280: UserWarning: \n",
      "The maximal number of iterations maxit (set to 20 by the program)\n",
      "allowed for finding a smoothing spline with fp=s has been reached: s\n",
      "too small.\n",
      "There is an approximation returned but the corresponding weighted sum\n",
      "of squared residuals does not satisfy the condition abs(fp-s)/s < tol.\n",
      "  warnings.warn(message)\n"
     ]
    },
    {
     "name": "stdout",
     "output_type": "stream",
     "text": [
      "Processing 285: CPS2-ASU-T42-PC-ExpBlock2\n",
      "Processing 286: CPS2-CU-T60-PC-Transfer\n"
     ]
    },
    {
     "name": "stderr",
     "output_type": "stream",
     "text": [
      "/Users/angelina/miniforge3/envs/env_tf/lib/python3.9/site-packages/scipy/interpolate/_fitpack2.py:280: UserWarning: \n",
      "The maximal number of iterations maxit (set to 20 by the program)\n",
      "allowed for finding a smoothing spline with fp=s has been reached: s\n",
      "too small.\n",
      "There is an approximation returned but the corresponding weighted sum\n",
      "of squared residuals does not satisfy the condition abs(fp-s)/s < tol.\n",
      "  warnings.warn(message)\n"
     ]
    },
    {
     "name": "stdout",
     "output_type": "stream",
     "text": [
      "Processing 287: CPS2-ASU-T86-PD-ExpBlock2\n"
     ]
    },
    {
     "name": "stderr",
     "output_type": "stream",
     "text": [
      "/Users/angelina/miniforge3/envs/env_tf/lib/python3.9/site-packages/scipy/interpolate/_fitpack2.py:280: UserWarning: \n",
      "The maximal number of iterations maxit (set to 20 by the program)\n",
      "allowed for finding a smoothing spline with fp=s has been reached: s\n",
      "too small.\n",
      "There is an approximation returned but the corresponding weighted sum\n",
      "of squared residuals does not satisfy the condition abs(fp-s)/s < tol.\n",
      "  warnings.warn(message)\n"
     ]
    },
    {
     "name": "stdout",
     "output_type": "stream",
     "text": [
      "Processing 288: CPS2-ASU-T60-PD-ExpBlock1\n"
     ]
    },
    {
     "name": "stderr",
     "output_type": "stream",
     "text": [
      "/Users/angelina/miniforge3/envs/env_tf/lib/python3.9/site-packages/scipy/interpolate/_fitpack2.py:280: UserWarning: \n",
      "The maximal number of iterations maxit (set to 20 by the program)\n",
      "allowed for finding a smoothing spline with fp=s has been reached: s\n",
      "too small.\n",
      "There is an approximation returned but the corresponding weighted sum\n",
      "of squared residuals does not satisfy the condition abs(fp-s)/s < tol.\n",
      "  warnings.warn(message)\n"
     ]
    },
    {
     "name": "stdout",
     "output_type": "stream",
     "text": [
      "Processing 289: CPS2-CU-T44-PA-Warmup\n",
      "Processing 290: CPS2-ASU-T80-PC-ExpBlock2\n",
      "Processing 291: CPS2-ASU-T35-PD-Transfer\n",
      "Processing 292: CPS2-CU-T65-PB-Transfer\n",
      "Processing 293: CPS2-CU-T63-PB-ExpBlock2\n"
     ]
    },
    {
     "name": "stderr",
     "output_type": "stream",
     "text": [
      "/Users/angelina/miniforge3/envs/env_tf/lib/python3.9/site-packages/scipy/interpolate/_fitpack2.py:280: UserWarning: \n",
      "The maximal number of iterations maxit (set to 20 by the program)\n",
      "allowed for finding a smoothing spline with fp=s has been reached: s\n",
      "too small.\n",
      "There is an approximation returned but the corresponding weighted sum\n",
      "of squared residuals does not satisfy the condition abs(fp-s)/s < tol.\n",
      "  warnings.warn(message)\n"
     ]
    },
    {
     "name": "stdout",
     "output_type": "stream",
     "text": [
      "Processing 294: CPS2-CU-T16-PA-ExpBlock1\n",
      "Processing 295: CPS2-CU-T67-PC-Warmup\n",
      "Processing 296: CPS2-CU-T23-PA-ExpBlock1\n",
      "Processing 297: CPS2-CU-T56-PB-ExpBlock2\n",
      "Processing 298: CPS2-CU-T44-PA-Transfer\n",
      "Processing 299: CPS2-ASU-T53-PC-ExpBlock1\n"
     ]
    },
    {
     "name": "stderr",
     "output_type": "stream",
     "text": [
      "/Users/angelina/miniforge3/envs/env_tf/lib/python3.9/site-packages/scipy/interpolate/_fitpack2.py:280: UserWarning: \n",
      "The maximal number of iterations maxit (set to 20 by the program)\n",
      "allowed for finding a smoothing spline with fp=s has been reached: s\n",
      "too small.\n",
      "There is an approximation returned but the corresponding weighted sum\n",
      "of squared residuals does not satisfy the condition abs(fp-s)/s < tol.\n",
      "  warnings.warn(message)\n"
     ]
    },
    {
     "name": "stdout",
     "output_type": "stream",
     "text": [
      "Processing 300: CPS2-ASU-T71-PD-ExpBlock2\n",
      "Processing 301: CPS2-ASU-T39-PB-ExpBlock1\n",
      "Processing 302: CPS2-ASU-T68-PA-ExpBlock1\n"
     ]
    },
    {
     "name": "stderr",
     "output_type": "stream",
     "text": [
      "/Users/angelina/miniforge3/envs/env_tf/lib/python3.9/site-packages/scipy/interpolate/_fitpack2.py:280: UserWarning: \n",
      "The maximal number of iterations maxit (set to 20 by the program)\n",
      "allowed for finding a smoothing spline with fp=s has been reached: s\n",
      "too small.\n",
      "There is an approximation returned but the corresponding weighted sum\n",
      "of squared residuals does not satisfy the condition abs(fp-s)/s < tol.\n",
      "  warnings.warn(message)\n"
     ]
    },
    {
     "name": "stdout",
     "output_type": "stream",
     "text": [
      "Processing 303: CPS2-ASU-T91-PC-ExpBlock1\n",
      "Processing 304: CPS2-ASU-T77-PC-ExpBlock2\n",
      "Processing 305: CPS2-CU-T20-PB-Warmup\n",
      "Processing 306: CPS2-ASU-T46-PB-Warmup\n",
      "Processing 307: CPS2-CU-T39-PC-Transfer\n",
      "Processing 308: CPS2-ASU-T70-PC-Warmup\n",
      "Processing 309: CPS2-CU-T36-PD-ExpBlock2\n",
      "Processing 310: CPS2-CU-T14-PC-ExpBlock1\n"
     ]
    },
    {
     "name": "stderr",
     "output_type": "stream",
     "text": [
      "/Users/angelina/miniforge3/envs/env_tf/lib/python3.9/site-packages/scipy/interpolate/_fitpack2.py:280: UserWarning: \n",
      "The maximal number of iterations maxit (set to 20 by the program)\n",
      "allowed for finding a smoothing spline with fp=s has been reached: s\n",
      "too small.\n",
      "There is an approximation returned but the corresponding weighted sum\n",
      "of squared residuals does not satisfy the condition abs(fp-s)/s < tol.\n",
      "  warnings.warn(message)\n"
     ]
    },
    {
     "name": "stdout",
     "output_type": "stream",
     "text": [
      "Processing 311: CPS2-ASU-T74-PB-Transfer\n"
     ]
    },
    {
     "name": "stderr",
     "output_type": "stream",
     "text": [
      "/Users/angelina/miniforge3/envs/env_tf/lib/python3.9/site-packages/scipy/interpolate/_fitpack2.py:280: UserWarning: \n",
      "The maximal number of iterations maxit (set to 20 by the program)\n",
      "allowed for finding a smoothing spline with fp=s has been reached: s\n",
      "too small.\n",
      "There is an approximation returned but the corresponding weighted sum\n",
      "of squared residuals does not satisfy the condition abs(fp-s)/s < tol.\n",
      "  warnings.warn(message)\n"
     ]
    },
    {
     "name": "stdout",
     "output_type": "stream",
     "text": [
      "Processing 312: CPS2-CU-T16-PC-Warmup\n",
      "Processing 313: CPS2-ASU-T64-PA-ExpBlock1\n",
      "Processing 314: CPS2-ASU-T11-PB-ExpBlock2\n",
      "Processing 315: CPS2-ASU-T59-PD-ExpBlock1\n"
     ]
    },
    {
     "name": "stderr",
     "output_type": "stream",
     "text": [
      "/Users/angelina/miniforge3/envs/env_tf/lib/python3.9/site-packages/scipy/interpolate/_fitpack2.py:280: UserWarning: \n",
      "The maximal number of iterations maxit (set to 20 by the program)\n",
      "allowed for finding a smoothing spline with fp=s has been reached: s\n",
      "too small.\n",
      "There is an approximation returned but the corresponding weighted sum\n",
      "of squared residuals does not satisfy the condition abs(fp-s)/s < tol.\n",
      "  warnings.warn(message)\n"
     ]
    },
    {
     "name": "stdout",
     "output_type": "stream",
     "text": [
      "Processing 316: CPS2-ASU-T53-PA-Warmup\n",
      "Processing 317: CPS2-ASU-T102-PB-ExpBlock2\n",
      "Processing 318: CPS2-CU-T35-PA-Warmup\n",
      "Processing 319: CPS2-ASU-T71-PC-Transfer\n",
      "Processing 320: CPS2-ASU-T40-PA-ExpBlock2\n",
      "Processing 321: CPS2-CU-T30-PC-ExpBlock2\n",
      "Processing 322: CPS2-CU-T33-PA-Transfer\n"
     ]
    },
    {
     "name": "stderr",
     "output_type": "stream",
     "text": [
      "/Users/angelina/miniforge3/envs/env_tf/lib/python3.9/site-packages/scipy/interpolate/_fitpack2.py:280: UserWarning: \n",
      "The maximal number of iterations maxit (set to 20 by the program)\n",
      "allowed for finding a smoothing spline with fp=s has been reached: s\n",
      "too small.\n",
      "There is an approximation returned but the corresponding weighted sum\n",
      "of squared residuals does not satisfy the condition abs(fp-s)/s < tol.\n",
      "  warnings.warn(message)\n"
     ]
    },
    {
     "name": "stdout",
     "output_type": "stream",
     "text": [
      "Processing 323: CPS2-CU-T15-PA-Transfer\n",
      "Processing 324: CPS2-ASU-T63-PA-ExpBlock2\n",
      "Processing 325: CPS2-ASU-T57-PC-Transfer\n",
      "Processing 326: CPS2-CU-T19-PC-Warmup\n",
      "Processing 327: CPS2-CU-T28-PA-ExpBlock2\n",
      "Processing 328: CPS2-ASU-T22-PD-Warmup\n",
      "Processing 329: CPS2-CU-T37-PC-ExpBlock1\n",
      "Processing 330: CPS2-ASU-T32-PB-ExpBlock2\n",
      "Processing 331: CPS2-ASU-T47-PA-ExpBlock1\n",
      "Processing 332: CPS2-CU-T68-PC-Transfer\n",
      "Processing 333: CPS2-ASU-T58-PC-ExpBlock2\n",
      "Processing 334: CPS2-ASU-T52-PB-Transfer\n",
      "Processing 335: CPS2-CU-T27-PC-Warmup\n",
      "Processing 336: CPS2-ASU-T90-PD-ExpBlock2\n",
      "Processing 337: CPS2-ASU-T92-PB-Transfer\n",
      "Processing 338: CPS2-ASU-T41-PC-Warmup\n",
      "Processing 339: CPS2-ASU-T49-PB-Warmup\n",
      "Processing 340: CPS2-CU-T51-PB-ExpBlock1\n",
      "Processing 341: CPS2-ASU-T20-PC-Transfer\n",
      "Processing 342: CPS2-ASU-T62-PA-Warmup\n",
      "Processing 343: CPS2-ASU-T97-PC-Transfer\n"
     ]
    },
    {
     "name": "stderr",
     "output_type": "stream",
     "text": [
      "/Users/angelina/miniforge3/envs/env_tf/lib/python3.9/site-packages/scipy/interpolate/_fitpack2.py:280: UserWarning: \n",
      "The maximal number of iterations maxit (set to 20 by the program)\n",
      "allowed for finding a smoothing spline with fp=s has been reached: s\n",
      "too small.\n",
      "There is an approximation returned but the corresponding weighted sum\n",
      "of squared residuals does not satisfy the condition abs(fp-s)/s < tol.\n",
      "  warnings.warn(message)\n"
     ]
    },
    {
     "name": "stdout",
     "output_type": "stream",
     "text": [
      "Processing 344: CPS2-ASU-T80-PD-Warmup\n",
      "Processing 345: CPS2-ASU-T70-PC-ExpBlock1\n"
     ]
    },
    {
     "name": "stderr",
     "output_type": "stream",
     "text": [
      "/Users/angelina/miniforge3/envs/env_tf/lib/python3.9/site-packages/scipy/interpolate/_fitpack2.py:280: UserWarning: \n",
      "The maximal number of iterations maxit (set to 20 by the program)\n",
      "allowed for finding a smoothing spline with fp=s has been reached: s\n",
      "too small.\n",
      "There is an approximation returned but the corresponding weighted sum\n",
      "of squared residuals does not satisfy the condition abs(fp-s)/s < tol.\n",
      "  warnings.warn(message)\n"
     ]
    },
    {
     "name": "stdout",
     "output_type": "stream",
     "text": [
      "Processing 346: CPS2-ASU-T89-PA-ExpBlock1\n",
      "Processing 347: CPS2-ASU-T52-PD-ExpBlock2\n",
      "Processing 348: CPS2-CU-T62-PA-Transfer\n",
      "Processing 349: CPS2-ASU-T96-PC-ExpBlock2\n",
      "Processing 350: CPS2-ASU-T67-PD-ExpBlock2\n",
      "Processing 351: CPS2-CU-T60-PB-Warmup\n",
      "Processing 352: CPS2-ASU-T45-PC-ExpBlock1\n",
      "Processing 353: CPS2-CU-T68-PC-Warmup\n",
      "Processing 354: CPS2-CU-T35-PA-ExpBlock1\n",
      "Processing 355: CPS2-CU-T40-PB-ExpBlock2\n"
     ]
    },
    {
     "name": "stderr",
     "output_type": "stream",
     "text": [
      "/Users/angelina/miniforge3/envs/env_tf/lib/python3.9/site-packages/scipy/interpolate/_fitpack2.py:280: UserWarning: \n",
      "The maximal number of iterations maxit (set to 20 by the program)\n",
      "allowed for finding a smoothing spline with fp=s has been reached: s\n",
      "too small.\n",
      "There is an approximation returned but the corresponding weighted sum\n",
      "of squared residuals does not satisfy the condition abs(fp-s)/s < tol.\n",
      "  warnings.warn(message)\n"
     ]
    },
    {
     "name": "stdout",
     "output_type": "stream",
     "text": [
      "Processing 356: CPS2-CU-T46-PC-Transfer\n",
      "Processing 357: CPS2-CU-T64-PB-ExpBlock1\n",
      "Processing 358: CPS2-ASU-T61-PC-ExpBlock2\n"
     ]
    },
    {
     "name": "stderr",
     "output_type": "stream",
     "text": [
      "/Users/angelina/miniforge3/envs/env_tf/lib/python3.9/site-packages/scipy/interpolate/_fitpack2.py:280: UserWarning: \n",
      "The maximal number of iterations maxit (set to 20 by the program)\n",
      "allowed for finding a smoothing spline with fp=s has been reached: s\n",
      "too small.\n",
      "There is an approximation returned but the corresponding weighted sum\n",
      "of squared residuals does not satisfy the condition abs(fp-s)/s < tol.\n",
      "  warnings.warn(message)\n"
     ]
    },
    {
     "name": "stdout",
     "output_type": "stream",
     "text": [
      "Processing 359: CPS2-ASU-T98-PA-ExpBlock2\n",
      "Processing 360: CPS2-ASU-T87-PC-ExpBlock1\n",
      "Processing 361: CPS2-ASU-T73-PA-Transfer\n",
      "Processing 362: CPS2-ASU-T72-PA-ExpBlock1\n"
     ]
    },
    {
     "name": "stderr",
     "output_type": "stream",
     "text": [
      "/Users/angelina/miniforge3/envs/env_tf/lib/python3.9/site-packages/scipy/interpolate/_fitpack2.py:280: UserWarning: \n",
      "The maximal number of iterations maxit (set to 20 by the program)\n",
      "allowed for finding a smoothing spline with fp=s has been reached: s\n",
      "too small.\n",
      "There is an approximation returned but the corresponding weighted sum\n",
      "of squared residuals does not satisfy the condition abs(fp-s)/s < tol.\n",
      "  warnings.warn(message)\n"
     ]
    },
    {
     "name": "stdout",
     "output_type": "stream",
     "text": [
      "Processing 363: CPS2-CU-T31-PC-Transfer\n",
      "Processing 364: CPS2-CU-T68-PB-ExpBlock1\n"
     ]
    },
    {
     "name": "stderr",
     "output_type": "stream",
     "text": [
      "/Users/angelina/miniforge3/envs/env_tf/lib/python3.9/site-packages/scipy/interpolate/_fitpack2.py:280: UserWarning: \n",
      "The maximal number of iterations maxit (set to 20 by the program)\n",
      "allowed for finding a smoothing spline with fp=s has been reached: s\n",
      "too small.\n",
      "There is an approximation returned but the corresponding weighted sum\n",
      "of squared residuals does not satisfy the condition abs(fp-s)/s < tol.\n",
      "  warnings.warn(message)\n"
     ]
    },
    {
     "name": "stdout",
     "output_type": "stream",
     "text": [
      "Processing 365: CPS2-ASU-T13-PA-Warmup\n",
      "Processing 366: CPS2-ASU-T38-PB-Warmup\n",
      "Processing 367: CPS2-CU-T39-PA-ExpBlock1\n",
      "Processing 368: CPS2-CU-T26-PC-ExpBlock2\n"
     ]
    },
    {
     "name": "stderr",
     "output_type": "stream",
     "text": [
      "/Users/angelina/miniforge3/envs/env_tf/lib/python3.9/site-packages/scipy/interpolate/_fitpack2.py:280: UserWarning: \n",
      "The maximal number of iterations maxit (set to 20 by the program)\n",
      "allowed for finding a smoothing spline with fp=s has been reached: s\n",
      "too small.\n",
      "There is an approximation returned but the corresponding weighted sum\n",
      "of squared residuals does not satisfy the condition abs(fp-s)/s < tol.\n",
      "  warnings.warn(message)\n"
     ]
    },
    {
     "name": "stdout",
     "output_type": "stream",
     "text": [
      "Processing 369: CPS2-CU-T56-PC-Warmup\n"
     ]
    },
    {
     "name": "stderr",
     "output_type": "stream",
     "text": [
      "/Users/angelina/miniforge3/envs/env_tf/lib/python3.9/site-packages/scipy/interpolate/_fitpack2.py:280: UserWarning: \n",
      "The maximal number of iterations maxit (set to 20 by the program)\n",
      "allowed for finding a smoothing spline with fp=s has been reached: s\n",
      "too small.\n",
      "There is an approximation returned but the corresponding weighted sum\n",
      "of squared residuals does not satisfy the condition abs(fp-s)/s < tol.\n",
      "  warnings.warn(message)\n"
     ]
    },
    {
     "name": "stdout",
     "output_type": "stream",
     "text": [
      "Processing 370: CPS2-ASU-T56-PA-ExpBlock2\n",
      "Processing 371: CPS2-CU-T34-PB-Transfer\n",
      "Processing 372: CPS2-ASU-T30-PC-Warmup\n"
     ]
    },
    {
     "name": "stderr",
     "output_type": "stream",
     "text": [
      "/Users/angelina/miniforge3/envs/env_tf/lib/python3.9/site-packages/scipy/interpolate/_fitpack2.py:280: UserWarning: \n",
      "The maximal number of iterations maxit (set to 20 by the program)\n",
      "allowed for finding a smoothing spline with fp=s has been reached: s\n",
      "too small.\n",
      "There is an approximation returned but the corresponding weighted sum\n",
      "of squared residuals does not satisfy the condition abs(fp-s)/s < tol.\n",
      "  warnings.warn(message)\n"
     ]
    },
    {
     "name": "stdout",
     "output_type": "stream",
     "text": [
      "Processing 373: CPS2-CU-T46-PB-Transfer\n",
      "Processing 374: CPS2-CU-T64-PC-Warmup\n",
      "Processing 375: CPS2-CU-T63-PA-ExpBlock2\n",
      "Processing 376: CPS2-CU-T16-PB-ExpBlock1\n",
      "Processing 377: CPS2-CU-T43-PC-Transfer\n",
      "Processing 378: CPS2-CU-T58-PC-ExpBlock2\n",
      "Processing 379: CPS2-ASU-T28-PA-ExpBlock2\n",
      "Processing 380: CPS2-ASU-T100-PC-ExpBlock2\n"
     ]
    },
    {
     "name": "stderr",
     "output_type": "stream",
     "text": [
      "/Users/angelina/miniforge3/envs/env_tf/lib/python3.9/site-packages/scipy/interpolate/_fitpack2.py:280: UserWarning: \n",
      "The maximal number of iterations maxit (set to 20 by the program)\n",
      "allowed for finding a smoothing spline with fp=s has been reached: s\n",
      "too small.\n",
      "There is an approximation returned but the corresponding weighted sum\n",
      "of squared residuals does not satisfy the condition abs(fp-s)/s < tol.\n",
      "  warnings.warn(message)\n"
     ]
    },
    {
     "name": "stdout",
     "output_type": "stream",
     "text": [
      "Processing 381: CPS2-ASU-T37-PC-ExpBlock1\n"
     ]
    },
    {
     "name": "stderr",
     "output_type": "stream",
     "text": [
      "/Users/angelina/miniforge3/envs/env_tf/lib/python3.9/site-packages/scipy/interpolate/_fitpack2.py:280: UserWarning: \n",
      "The maximal number of iterations maxit (set to 20 by the program)\n",
      "allowed for finding a smoothing spline with fp=s has been reached: s\n",
      "too small.\n",
      "There is an approximation returned but the corresponding weighted sum\n",
      "of squared residuals does not satisfy the condition abs(fp-s)/s < tol.\n",
      "  warnings.warn(message)\n"
     ]
    },
    {
     "name": "stdout",
     "output_type": "stream",
     "text": [
      "Processing 382: CPS2-ASU-T21-PA-Warmup\n",
      "Processing 383: CPS2-ASU-T24-PA-ExpBlock2\n",
      "Processing 384: CPS2-ASU-T76-PA-Transfer\n",
      "Processing 385: CPS2-CU-T34-PC-Transfer\n"
     ]
    },
    {
     "name": "stderr",
     "output_type": "stream",
     "text": [
      "/Users/angelina/miniforge3/envs/env_tf/lib/python3.9/site-packages/scipy/interpolate/_fitpack2.py:280: UserWarning: \n",
      "The maximal number of iterations maxit (set to 20 by the program)\n",
      "allowed for finding a smoothing spline with fp=s has been reached: s\n",
      "too small.\n",
      "There is an approximation returned but the corresponding weighted sum\n",
      "of squared residuals does not satisfy the condition abs(fp-s)/s < tol.\n",
      "  warnings.warn(message)\n"
     ]
    },
    {
     "name": "stdout",
     "output_type": "stream",
     "text": [
      "Processing 386: CPS2-CU-T54-PC-ExpBlock2\n",
      "Processing 387: CPS2-ASU-T61-PD-Transfer\n",
      "Processing 388: CPS2-CU-T49-PA-Transfer\n",
      "Processing 389: CPS2-ASU-T83-PA-Warmup\n",
      "Processing 390: CPS2-ASU-T34-PB-Warmup\n",
      "Processing 391: CPS2-CU-T70-PC-ExpBlock1\n",
      "Processing 392: CPS2-CU-T52-PB-Warmup\n",
      "Processing 393: CPS2-CU-T52-PD-ExpBlock2\n",
      "Processing 394: CPS2-CU-T31-PB-Transfer\n",
      "Processing 395: CPS2-ASU-T93-PB-ExpBlock1\n",
      "Processing 396: CPS2-ASU-T61-PD-Warmup\n",
      "Processing 397: CPS2-ASU-T75-PB-ExpBlock2\n",
      "Processing 398: CPS2-ASU-T35-PA-ExpBlock1\n",
      "Processing 399: CPS2-ASU-T40-PB-ExpBlock2\n",
      "Processing 400: CPS2-CU-T45-PC-ExpBlock1\n"
     ]
    },
    {
     "name": "stderr",
     "output_type": "stream",
     "text": [
      "/Users/angelina/miniforge3/envs/env_tf/lib/python3.9/site-packages/scipy/interpolate/_fitpack2.py:280: UserWarning: \n",
      "The maximal number of iterations maxit (set to 20 by the program)\n",
      "allowed for finding a smoothing spline with fp=s has been reached: s\n",
      "too small.\n",
      "There is an approximation returned but the corresponding weighted sum\n",
      "of squared residuals does not satisfy the condition abs(fp-s)/s < tol.\n",
      "  warnings.warn(message)\n"
     ]
    },
    {
     "name": "stdout",
     "output_type": "stream",
     "text": [
      "Processing 401: CPS2-ASU-T52-PC-Transfer\n",
      "Processing 402: CPS2-CU-T68-PB-Transfer\n"
     ]
    },
    {
     "name": "stderr",
     "output_type": "stream",
     "text": [
      "/Users/angelina/miniforge3/envs/env_tf/lib/python3.9/site-packages/scipy/interpolate/_fitpack2.py:280: UserWarning: \n",
      "The maximal number of iterations maxit (set to 20 by the program)\n",
      "allowed for finding a smoothing spline with fp=s has been reached: s\n",
      "too small.\n",
      "There is an approximation returned but the corresponding weighted sum\n",
      "of squared residuals does not satisfy the condition abs(fp-s)/s < tol.\n",
      "  warnings.warn(message)\n"
     ]
    },
    {
     "name": "stdout",
     "output_type": "stream",
     "text": [
      "Processing 403: CPS2-CU-T15-PC-Warmup\n",
      "Processing 404: CPS2-CU-T61-PC-ExpBlock2\n",
      "Processing 405: CPS2-CU-T43-PD-ExpBlock1\n"
     ]
    },
    {
     "name": "stderr",
     "output_type": "stream",
     "text": [
      "/Users/angelina/miniforge3/envs/env_tf/lib/python3.9/site-packages/scipy/interpolate/_fitpack2.py:280: UserWarning: \n",
      "The maximal number of iterations maxit (set to 20 by the program)\n",
      "allowed for finding a smoothing spline with fp=s has been reached: s\n",
      "too small.\n",
      "There is an approximation returned but the corresponding weighted sum\n",
      "of squared residuals does not satisfy the condition abs(fp-s)/s < tol.\n",
      "  warnings.warn(message)\n"
     ]
    },
    {
     "name": "stdout",
     "output_type": "stream",
     "text": [
      "Processing 406: CPS2-ASU-T98-PA-Transfer\n",
      "Processing 407: CPS2-ASU-T57-PB-Transfer\n",
      "Processing 408: CPS2-ASU-T97-PB-Transfer\n",
      "Processing 409: CPS2-ASU-T20-PD-ExpBlock2\n"
     ]
    },
    {
     "name": "stderr",
     "output_type": "stream",
     "text": [
      "/Users/angelina/miniforge3/envs/env_tf/lib/python3.9/site-packages/scipy/interpolate/_fitpack2.py:280: UserWarning: \n",
      "The maximal number of iterations maxit (set to 20 by the program)\n",
      "allowed for finding a smoothing spline with fp=s has been reached: s\n",
      "too small.\n",
      "There is an approximation returned but the corresponding weighted sum\n",
      "of squared residuals does not satisfy the condition abs(fp-s)/s < tol.\n",
      "  warnings.warn(message)\n"
     ]
    },
    {
     "name": "stdout",
     "output_type": "stream",
     "text": [
      "Processing 410: CPS2-ASU-T20-PB-Transfer\n",
      "Processing 411: CPS2-ASU-T68-PB-ExpBlock1\n",
      "Processing 412: CPS2-ASU-T45-PB-Warmup\n",
      "Processing 413: CPS2-CU-T23-PB-Warmup\n",
      "Processing 414: CPS2-CU-T23-PB-ExpBlock1\n",
      "Processing 415: CPS2-CU-T56-PA-ExpBlock2\n",
      "Processing 416: CPS2-CU-T49-PC-ExpBlock1\n",
      "Processing 417: CPS2-ASU-T25-PC-Transfer\n",
      "Processing 418: CPS2-CU-T67-PA-Transfer\n",
      "Processing 419: CPS2-ASU-T61-PA-Warmup\n",
      "Processing 420: CPS2-ASU-T69-PD-Transfer\n",
      "Processing 421: CPS2-CU-T41-PA-Transfer\n",
      "Processing 422: CPS2-CU-T39-PB-Transfer\n"
     ]
    },
    {
     "name": "stderr",
     "output_type": "stream",
     "text": [
      "/Users/angelina/miniforge3/envs/env_tf/lib/python3.9/site-packages/scipy/interpolate/_fitpack2.py:280: UserWarning: \n",
      "The maximal number of iterations maxit (set to 20 by the program)\n",
      "allowed for finding a smoothing spline with fp=s has been reached: s\n",
      "too small.\n",
      "There is an approximation returned but the corresponding weighted sum\n",
      "of squared residuals does not satisfy the condition abs(fp-s)/s < tol.\n",
      "  warnings.warn(message)\n"
     ]
    },
    {
     "name": "stdout",
     "output_type": "stream",
     "text": [
      "Processing 423: CPS2-ASU-T89-PB-ExpBlock1\n",
      "Processing 424: CPS2-ASU-T42-PC-Warmup\n",
      "Processing 425: CPS2-CU-T24-PB-ExpBlock2\n"
     ]
    },
    {
     "name": "stderr",
     "output_type": "stream",
     "text": [
      "/Users/angelina/miniforge3/envs/env_tf/lib/python3.9/site-packages/scipy/interpolate/_fitpack2.py:280: UserWarning: \n",
      "The maximal number of iterations maxit (set to 20 by the program)\n",
      "allowed for finding a smoothing spline with fp=s has been reached: s\n",
      "too small.\n",
      "There is an approximation returned but the corresponding weighted sum\n",
      "of squared residuals does not satisfy the condition abs(fp-s)/s < tol.\n",
      "  warnings.warn(message)\n"
     ]
    },
    {
     "name": "stdout",
     "output_type": "stream",
     "text": [
      "Processing 426: CPS2-CU-T42-PC-ExpBlock2\n",
      "Processing 427: CPS2-ASU-T21-PD-Warmup\n",
      "Processing 428: CPS2-CU-T28-PB-ExpBlock2\n"
     ]
    },
    {
     "name": "stderr",
     "output_type": "stream",
     "text": [
      "/Users/angelina/miniforge3/envs/env_tf/lib/python3.9/site-packages/scipy/interpolate/_fitpack2.py:280: UserWarning: \n",
      "The maximal number of iterations maxit (set to 20 by the program)\n",
      "allowed for finding a smoothing spline with fp=s has been reached: s\n",
      "too small.\n",
      "There is an approximation returned but the corresponding weighted sum\n",
      "of squared residuals does not satisfy the condition abs(fp-s)/s < tol.\n",
      "  warnings.warn(message)\n"
     ]
    },
    {
     "name": "stdout",
     "output_type": "stream",
     "text": [
      "Processing 429: CPS2-ASU-T71-PB-Transfer\n"
     ]
    },
    {
     "name": "stderr",
     "output_type": "stream",
     "text": [
      "/Users/angelina/miniforge3/envs/env_tf/lib/python3.9/site-packages/scipy/interpolate/_fitpack2.py:280: UserWarning: \n",
      "The maximal number of iterations maxit (set to 20 by the program)\n",
      "allowed for finding a smoothing spline with fp=s has been reached: s\n",
      "too small.\n",
      "There is an approximation returned but the corresponding weighted sum\n",
      "of squared residuals does not satisfy the condition abs(fp-s)/s < tol.\n",
      "  warnings.warn(message)\n"
     ]
    },
    {
     "name": "stdout",
     "output_type": "stream",
     "text": [
      "Processing 430: CPS2-CU-T60-PD-ExpBlock1\n",
      "Processing 431: CPS2-ASU-T74-PB-Warmup\n",
      "Processing 432: CPS2-ASU-T105-PA-ExpBlock1\n",
      "Processing 433: CPS2-ASU-T32-PA-ExpBlock2\n"
     ]
    },
    {
     "name": "stderr",
     "output_type": "stream",
     "text": [
      "/Users/angelina/miniforge3/envs/env_tf/lib/python3.9/site-packages/scipy/interpolate/_fitpack2.py:280: UserWarning: \n",
      "The maximal number of iterations maxit (set to 20 by the program)\n",
      "allowed for finding a smoothing spline with fp=s has been reached: s\n",
      "too small.\n",
      "There is an approximation returned but the corresponding weighted sum\n",
      "of squared residuals does not satisfy the condition abs(fp-s)/s < tol.\n",
      "  warnings.warn(message)\n"
     ]
    },
    {
     "name": "stdout",
     "output_type": "stream",
     "text": [
      "Processing 434: CPS2-ASU-T47-PB-ExpBlock1\n"
     ]
    },
    {
     "name": "stderr",
     "output_type": "stream",
     "text": [
      "/Users/angelina/miniforge3/envs/env_tf/lib/python3.9/site-packages/scipy/interpolate/_fitpack2.py:280: UserWarning: \n",
      "The maximal number of iterations maxit (set to 20 by the program)\n",
      "allowed for finding a smoothing spline with fp=s has been reached: s\n",
      "too small.\n",
      "There is an approximation returned but the corresponding weighted sum\n",
      "of squared residuals does not satisfy the condition abs(fp-s)/s < tol.\n",
      "  warnings.warn(message)\n"
     ]
    },
    {
     "name": "stdout",
     "output_type": "stream",
     "text": [
      "Processing 435: CPS2-ASU-T74-PC-Transfer\n",
      "Processing 436: CPS2-CU-T39-PA-Warmup\n",
      "Processing 437: CPS2-CU-T66-PC-ExpBlock1\n",
      "Processing 438: CPS2-CU-T17-PB-Transfer\n",
      "Processing 439: CPS2-CU-T53-PC-ExpBlock1\n",
      "Processing 440: CPS2-CU-T39-PB-ExpBlock1\n"
     ]
    },
    {
     "name": "stderr",
     "output_type": "stream",
     "text": [
      "/Users/angelina/miniforge3/envs/env_tf/lib/python3.9/site-packages/scipy/interpolate/_fitpack2.py:280: UserWarning: \n",
      "The maximal number of iterations maxit (set to 20 by the program)\n",
      "allowed for finding a smoothing spline with fp=s has been reached: s\n",
      "too small.\n",
      "There is an approximation returned but the corresponding weighted sum\n",
      "of squared residuals does not satisfy the condition abs(fp-s)/s < tol.\n",
      "  warnings.warn(message)\n"
     ]
    },
    {
     "name": "stdout",
     "output_type": "stream",
     "text": [
      "Processing 441: CPS2-ASU-T33-PC-Warmup\n",
      "Processing 442: CPS2-CU-T55-PC-Warmup\n",
      "Processing 443: CPS2-ASU-T56-PB-ExpBlock2\n"
     ]
    },
    {
     "name": "stderr",
     "output_type": "stream",
     "text": [
      "/Users/angelina/miniforge3/envs/env_tf/lib/python3.9/site-packages/scipy/interpolate/_fitpack2.py:280: UserWarning: \n",
      "The maximal number of iterations maxit (set to 20 by the program)\n",
      "allowed for finding a smoothing spline with fp=s has been reached: s\n",
      "too small.\n",
      "There is an approximation returned but the corresponding weighted sum\n",
      "of squared residuals does not satisfy the condition abs(fp-s)/s < tol.\n",
      "  warnings.warn(message)\n"
     ]
    },
    {
     "name": "stdout",
     "output_type": "stream",
     "text": [
      "Processing 444: CPS2-ASU-T72-PB-ExpBlock1\n"
     ]
    },
    {
     "name": "stderr",
     "output_type": "stream",
     "text": [
      "/Users/angelina/miniforge3/envs/env_tf/lib/python3.9/site-packages/scipy/interpolate/_fitpack2.py:280: UserWarning: \n",
      "The maximal number of iterations maxit (set to 20 by the program)\n",
      "allowed for finding a smoothing spline with fp=s has been reached: s\n",
      "too small.\n",
      "There is an approximation returned but the corresponding weighted sum\n",
      "of squared residuals does not satisfy the condition abs(fp-s)/s < tol.\n",
      "  warnings.warn(message)\n"
     ]
    },
    {
     "name": "stdout",
     "output_type": "stream",
     "text": [
      "Processing 445: CPS2-ASU-T18-PC-ExpBlock1\n",
      "Processing 446: CPS2-ASU-T102-PC-Warmup\n",
      "Processing 447: CPS2-ASU-T10-PA-Warmup\n",
      "Processing 448: CPS2-CU-T68-PA-ExpBlock1\n",
      "Processing 449: CPS2-ASU-T90-PA-Transfer\n",
      "Processing 450: CPS2-ASU-T91-PC-Warmup\n",
      "Processing 451: CPS2-ASU-T99-PB-Warmup\n",
      "Processing 452: CPS2-CU-T65-PC-Transfer\n",
      "Processing 453: CPS2-CU-T48-PA-Warmup\n"
     ]
    },
    {
     "name": "stderr",
     "output_type": "stream",
     "text": [
      "/Users/angelina/miniforge3/envs/env_tf/lib/python3.9/site-packages/scipy/interpolate/_fitpack2.py:280: UserWarning: \n",
      "The maximal number of iterations maxit (set to 20 by the program)\n",
      "allowed for finding a smoothing spline with fp=s has been reached: s\n",
      "too small.\n",
      "There is an approximation returned but the corresponding weighted sum\n",
      "of squared residuals does not satisfy the condition abs(fp-s)/s < tol.\n",
      "  warnings.warn(message)\n"
     ]
    },
    {
     "name": "stdout",
     "output_type": "stream",
     "text": [
      "Processing 454: CPS2-ASU-T98-PB-ExpBlock2\n",
      "Processing 455: CPS2-ASU-T87-PD-Transfer\n"
     ]
    },
    {
     "name": "stderr",
     "output_type": "stream",
     "text": [
      "/Users/angelina/miniforge3/envs/env_tf/lib/python3.9/site-packages/scipy/interpolate/_fitpack2.py:280: UserWarning: \n",
      "The maximal number of iterations maxit (set to 20 by the program)\n",
      "allowed for finding a smoothing spline with fp=s has been reached: s\n",
      "too small.\n",
      "There is an approximation returned but the corresponding weighted sum\n",
      "of squared residuals does not satisfy the condition abs(fp-s)/s < tol.\n",
      "  warnings.warn(message)\n"
     ]
    },
    {
     "name": "stdout",
     "output_type": "stream",
     "text": [
      "Processing 456: CPS2-ASU-T30-PC-ExpBlock2\n",
      "Processing 457: CPS2-CU-T63-PB-Warmup\n",
      "Processing 458: CPS2-ASU-T50-PD-Warmup\n",
      "Processing 459: CPS2-CU-T36-PD-Warmup\n",
      "Processing 460: CPS2-CU-T35-PB-ExpBlock1\n",
      "Processing 461: CPS2-CU-T40-PA-ExpBlock2\n",
      "Processing 462: CPS2-CU-T54-PA-Transfer\n",
      "Processing 463: CPS2-CU-T22-PA-ExpBlock1\n",
      "Processing 464: CPS2-CU-T57-PB-ExpBlock2\n"
     ]
    },
    {
     "name": "stderr",
     "output_type": "stream",
     "text": [
      "/Users/angelina/miniforge3/envs/env_tf/lib/python3.9/site-packages/scipy/interpolate/_fitpack2.py:280: UserWarning: \n",
      "The maximal number of iterations maxit (set to 20 by the program)\n",
      "allowed for finding a smoothing spline with fp=s has been reached: s\n",
      "too small.\n",
      "There is an approximation returned but the corresponding weighted sum\n",
      "of squared residuals does not satisfy the condition abs(fp-s)/s < tol.\n",
      "  warnings.warn(message)\n"
     ]
    },
    {
     "name": "stdout",
     "output_type": "stream",
     "text": [
      "Processing 465: CPS2-ASU-T38-PB-ExpBlock1\n"
     ]
    },
    {
     "name": "stderr",
     "output_type": "stream",
     "text": [
      "/Users/angelina/miniforge3/envs/env_tf/lib/python3.9/site-packages/scipy/interpolate/_fitpack2.py:280: UserWarning: \n",
      "The maximal number of iterations maxit (set to 20 by the program)\n",
      "allowed for finding a smoothing spline with fp=s has been reached: s\n",
      "too small.\n",
      "There is an approximation returned but the corresponding weighted sum\n",
      "of squared residuals does not satisfy the condition abs(fp-s)/s < tol.\n",
      "  warnings.warn(message)\n"
     ]
    },
    {
     "name": "stdout",
     "output_type": "stream",
     "text": [
      "Processing 466: CPS2-ASU-T101-PB-Transfer\n",
      "Processing 467: CPS2-ASU-T70-PD-ExpBlock2\n",
      "Processing 468: CPS2-ASU-T96-PD-ExpBlock1\n",
      "Processing 469: CPS2-ASU-T52-PC-ExpBlock1\n",
      "Processing 470: CPS2-ASU-T76-PC-ExpBlock2\n",
      "Processing 471: CPS2-CU-T43-PD-Transfer\n",
      "Processing 472: CPS2-ASU-T54-PD-ExpBlock1\n",
      "Processing 473: CPS2-ASU-T90-PC-ExpBlock1\n"
     ]
    },
    {
     "name": "stderr",
     "output_type": "stream",
     "text": [
      "/Users/angelina/miniforge3/envs/env_tf/lib/python3.9/site-packages/scipy/interpolate/_fitpack2.py:280: UserWarning: \n",
      "The maximal number of iterations maxit (set to 20 by the program)\n",
      "allowed for finding a smoothing spline with fp=s has been reached: s\n",
      "too small.\n",
      "There is an approximation returned but the corresponding weighted sum\n",
      "of squared residuals does not satisfy the condition abs(fp-s)/s < tol.\n",
      "  warnings.warn(message)\n"
     ]
    },
    {
     "name": "stdout",
     "output_type": "stream",
     "text": [
      "Processing 474: CPS2-ASU-T69-PA-ExpBlock1\n",
      "Processing 475: CPS2-CU-T46-PC-Warmup\n"
     ]
    },
    {
     "name": "stderr",
     "output_type": "stream",
     "text": [
      "/Users/angelina/miniforge3/envs/env_tf/lib/python3.9/site-packages/scipy/interpolate/_fitpack2.py:280: UserWarning: \n",
      "The maximal number of iterations maxit (set to 20 by the program)\n",
      "allowed for finding a smoothing spline with fp=s has been reached: s\n",
      "too small.\n",
      "There is an approximation returned but the corresponding weighted sum\n",
      "of squared residuals does not satisfy the condition abs(fp-s)/s < tol.\n",
      "  warnings.warn(message)\n"
     ]
    },
    {
     "name": "stdout",
     "output_type": "stream",
     "text": [
      "Processing 476: CPS2-ASU-T13-PB-Transfer\n",
      "Processing 477: CPS2-ASU-T104-PC-Transfer\n",
      "Processing 478: CPS2-CU-T19-PC-ExpBlock1\n"
     ]
    },
    {
     "name": "stderr",
     "output_type": "stream",
     "text": [
      "/Users/angelina/miniforge3/envs/env_tf/lib/python3.9/site-packages/scipy/interpolate/_fitpack2.py:280: UserWarning: \n",
      "The maximal number of iterations maxit (set to 20 by the program)\n",
      "allowed for finding a smoothing spline with fp=s has been reached: s\n",
      "too small.\n",
      "There is an approximation returned but the corresponding weighted sum\n",
      "of squared residuals does not satisfy the condition abs(fp-s)/s < tol.\n",
      "  warnings.warn(message)\n"
     ]
    },
    {
     "name": "stdout",
     "output_type": "stream",
     "text": [
      "Processing 479: CPS2-ASU-T20-PC-Warmup\n",
      "Processing 480: CPS2-ASU-T64-PB-Transfer\n",
      "Processing 481: CPS2-CU-T15-PC-ExpBlock1\n",
      "Processing 482: CPS2-CU-T70-PB-Warmup\n",
      "Processing 483: CPS2-ASU-T83-PA-ExpBlock2\n",
      "Processing 484: CPS2-ASU-T65-PA-ExpBlock1\n",
      "Processing 485: CPS2-ASU-T10-PB-ExpBlock2\n",
      "Processing 486: CPS2-ASU-T61-PC-Transfer\n",
      "Processing 487: CPS2-ASU-T34-PB-ExpBlock1\n",
      "Processing 488: CPS2-ASU-T103-PB-ExpBlock2\n",
      "Processing 489: CPS2-CU-T23-PA-Transfer\n",
      "Processing 490: CPS2-CU-T31-PC-ExpBlock2\n",
      "Processing 491: CPS2-CU-T37-PC-Warmup\n",
      "Processing 492: CPS2-ASU-T51-PC-Warmup\n"
     ]
    },
    {
     "name": "stderr",
     "output_type": "stream",
     "text": [
      "/Users/angelina/miniforge3/envs/env_tf/lib/python3.9/site-packages/scipy/interpolate/_fitpack2.py:280: UserWarning: \n",
      "The maximal number of iterations maxit (set to 20 by the program)\n",
      "allowed for finding a smoothing spline with fp=s has been reached: s\n",
      "too small.\n",
      "There is an approximation returned but the corresponding weighted sum\n",
      "of squared residuals does not satisfy the condition abs(fp-s)/s < tol.\n",
      "  warnings.warn(message)\n"
     ]
    },
    {
     "name": "stdout",
     "output_type": "stream",
     "text": [
      "Processing 493: CPS2-ASU-T59-PB-Warmup\n",
      "Processing 494: CPS2-ASU-T52-PD-Transfer\n",
      "Processing 495: CPS2-CU-T14-PA-Warmup\n",
      "Processing 496: CPS2-ASU-T72-PA-Warmup\n",
      "Processing 497: CPS2-ASU-T90-PD-Warmup\n"
     ]
    },
    {
     "name": "stderr",
     "output_type": "stream",
     "text": [
      "/Users/angelina/miniforge3/envs/env_tf/lib/python3.9/site-packages/scipy/interpolate/_fitpack2.py:280: UserWarning: \n",
      "The maximal number of iterations maxit (set to 20 by the program)\n",
      "allowed for finding a smoothing spline with fp=s has been reached: s\n",
      "too small.\n",
      "There is an approximation returned but the corresponding weighted sum\n",
      "of squared residuals does not satisfy the condition abs(fp-s)/s < tol.\n",
      "  warnings.warn(message)\n"
     ]
    },
    {
     "name": "stdout",
     "output_type": "stream",
     "text": [
      "Processing 498: CPS2-CU-T20-PC-ExpBlock1\n",
      "Processing 499: CPS2-ASU-T45-PA-Transfer\n",
      "Processing 500: CPS2-CU-T33-PA-ExpBlock2\n",
      "Processing 501: CPS2-CU-T46-PB-ExpBlock1\n",
      "Processing 502: CPS2-ASU-T29-PB-ExpBlock2\n",
      "Processing 503: CPS2-ASU-T61-PD-ExpBlock1\n",
      "Processing 504: CPS2-ASU-T103-PD-Warmup\n"
     ]
    },
    {
     "name": "stderr",
     "output_type": "stream",
     "text": [
      "/Users/angelina/miniforge3/envs/env_tf/lib/python3.9/site-packages/scipy/interpolate/_fitpack2.py:280: UserWarning: \n",
      "The maximal number of iterations maxit (set to 20 by the program)\n",
      "allowed for finding a smoothing spline with fp=s has been reached: s\n",
      "too small.\n",
      "There is an approximation returned but the corresponding weighted sum\n",
      "of squared residuals does not satisfy the condition abs(fp-s)/s < tol.\n",
      "  warnings.warn(message)\n"
     ]
    },
    {
     "name": "stdout",
     "output_type": "stream",
     "text": [
      "Processing 505: CPS2-ASU-T87-PD-ExpBlock2\n",
      "Processing 506: CPS2-CU-T70-PC-Transfer\n",
      "Processing 507: CPS2-ASU-T43-PC-ExpBlock2\n",
      "Processing 508: CPS2-ASU-T67-PC-ExpBlock1\n",
      "Processing 509: CPS2-ASU-T45-PD-ExpBlock2\n",
      "Processing 510: CPS2-ASU-T92-PD-Transfer\n",
      "Processing 511: CPS2-ASU-T32-PD-Warmup\n",
      "Processing 512: CPS2-ASU-T25-PD-Transfer\n",
      "Processing 513: CPS2-ASU-T78-PA-ExpBlock2\n",
      "Processing 514: CPS2-ASU-T67-PB-Warmup\n"
     ]
    },
    {
     "name": "stderr",
     "output_type": "stream",
     "text": [
      "/Users/angelina/miniforge3/envs/env_tf/lib/python3.9/site-packages/scipy/interpolate/_fitpack2.py:280: UserWarning: \n",
      "The maximal number of iterations maxit (set to 20 by the program)\n",
      "allowed for finding a smoothing spline with fp=s has been reached: s\n",
      "too small.\n",
      "There is an approximation returned but the corresponding weighted sum\n",
      "of squared residuals does not satisfy the condition abs(fp-s)/s < tol.\n",
      "  warnings.warn(message)\n"
     ]
    },
    {
     "name": "stdout",
     "output_type": "stream",
     "text": [
      "Processing 515: CPS2-CU-T62-PB-ExpBlock2\n",
      "Processing 516: CPS2-CU-T17-PA-ExpBlock1\n"
     ]
    },
    {
     "name": "stderr",
     "output_type": "stream",
     "text": [
      "/Users/angelina/miniforge3/envs/env_tf/lib/python3.9/site-packages/scipy/interpolate/_fitpack2.py:280: UserWarning: \n",
      "The maximal number of iterations maxit (set to 20 by the program)\n",
      "allowed for finding a smoothing spline with fp=s has been reached: s\n",
      "too small.\n",
      "There is an approximation returned but the corresponding weighted sum\n",
      "of squared residuals does not satisfy the condition abs(fp-s)/s < tol.\n",
      "  warnings.warn(message)\n"
     ]
    },
    {
     "name": "stdout",
     "output_type": "stream",
     "text": [
      "Processing 517: CPS2-ASU-T60-PC-Warmup\n",
      "Processing 518: CPS2-ASU-T44-PC-ExpBlock1\n",
      "Processing 519: CPS2-ASU-T80-PD-ExpBlock1\n"
     ]
    },
    {
     "name": "stderr",
     "output_type": "stream",
     "text": [
      "/Users/angelina/miniforge3/envs/env_tf/lib/python3.9/site-packages/scipy/interpolate/_fitpack2.py:280: UserWarning: \n",
      "The maximal number of iterations maxit (set to 20 by the program)\n",
      "allowed for finding a smoothing spline with fp=s has been reached: s\n",
      "too small.\n",
      "There is an approximation returned but the corresponding weighted sum\n",
      "of squared residuals does not satisfy the condition abs(fp-s)/s < tol.\n",
      "  warnings.warn(message)\n"
     ]
    },
    {
     "name": "stdout",
     "output_type": "stream",
     "text": [
      "Processing 520: CPS2-ASU-T66-PD-ExpBlock2\n",
      "Processing 521: CPS2-ASU-T69-PC-Transfer\n",
      "Processing 522: CPS2-CU-T53-PB-Transfer\n"
     ]
    },
    {
     "name": "stderr",
     "output_type": "stream",
     "text": [
      "/Users/angelina/miniforge3/envs/env_tf/lib/python3.9/site-packages/scipy/interpolate/_fitpack2.py:280: UserWarning: \n",
      "The maximal number of iterations maxit (set to 20 by the program)\n",
      "allowed for finding a smoothing spline with fp=s has been reached: s\n",
      "too small.\n",
      "There is an approximation returned but the corresponding weighted sum\n",
      "of squared residuals does not satisfy the condition abs(fp-s)/s < tol.\n",
      "  warnings.warn(message)\n"
     ]
    },
    {
     "name": "stdout",
     "output_type": "stream",
     "text": [
      "Processing 523: CPS2-ASU-T68-PB-Warmup\n"
     ]
    },
    {
     "name": "stderr",
     "output_type": "stream",
     "text": [
      "/Users/angelina/miniforge3/envs/env_tf/lib/python3.9/site-packages/scipy/interpolate/_fitpack2.py:280: UserWarning: \n",
      "The maximal number of iterations maxit (set to 20 by the program)\n",
      "allowed for finding a smoothing spline with fp=s has been reached: s\n",
      "too small.\n",
      "There is an approximation returned but the corresponding weighted sum\n",
      "of squared residuals does not satisfy the condition abs(fp-s)/s < tol.\n",
      "  warnings.warn(message)\n"
     ]
    },
    {
     "name": "stdout",
     "output_type": "stream",
     "text": [
      "Processing 524: CPS2-CU-T34-PA-ExpBlock1\n"
     ]
    },
    {
     "name": "stderr",
     "output_type": "stream",
     "text": [
      "/Users/angelina/miniforge3/envs/env_tf/lib/python3.9/site-packages/scipy/interpolate/_fitpack2.py:280: UserWarning: \n",
      "The maximal number of iterations maxit (set to 20 by the program)\n",
      "allowed for finding a smoothing spline with fp=s has been reached: s\n",
      "too small.\n",
      "There is an approximation returned but the corresponding weighted sum\n",
      "of squared residuals does not satisfy the condition abs(fp-s)/s < tol.\n",
      "  warnings.warn(message)\n"
     ]
    },
    {
     "name": "stdout",
     "output_type": "stream",
     "text": [
      "Processing 525: CPS2-ASU-T43-PA-Warmup\n",
      "Processing 526: CPS2-CU-T65-PB-ExpBlock1\n",
      "Processing 527: CPS2-CU-T25-PA-Warmup\n",
      "Processing 528: CPS2-CU-T56-PC-Transfer\n",
      "Processing 529: CPS2-ASU-T86-PC-ExpBlock1\n"
     ]
    },
    {
     "name": "stderr",
     "output_type": "stream",
     "text": [
      "/Users/angelina/miniforge3/envs/env_tf/lib/python3.9/site-packages/scipy/interpolate/_fitpack2.py:280: UserWarning: \n",
      "The maximal number of iterations maxit (set to 20 by the program)\n",
      "allowed for finding a smoothing spline with fp=s has been reached: s\n",
      "too small.\n",
      "There is an approximation returned but the corresponding weighted sum\n",
      "of squared residuals does not satisfy the condition abs(fp-s)/s < tol.\n",
      "  warnings.warn(message)\n"
     ]
    },
    {
     "name": "stdout",
     "output_type": "stream",
     "text": [
      "Processing 530: CPS2-ASU-T42-PD-ExpBlock1\n",
      "Processing 531: CPS2-ASU-T14-PA-Transfer\n"
     ]
    },
    {
     "name": "stderr",
     "output_type": "stream",
     "text": [
      "/Users/angelina/miniforge3/envs/env_tf/lib/python3.9/site-packages/scipy/interpolate/_fitpack2.py:280: UserWarning: \n",
      "The maximal number of iterations maxit (set to 20 by the program)\n",
      "allowed for finding a smoothing spline with fp=s has been reached: s\n",
      "too small.\n",
      "There is an approximation returned but the corresponding weighted sum\n",
      "of squared residuals does not satisfy the condition abs(fp-s)/s < tol.\n",
      "  warnings.warn(message)\n"
     ]
    },
    {
     "name": "stdout",
     "output_type": "stream",
     "text": [
      "Processing 532: CPS2-ASU-T99-PA-ExpBlock2\n"
     ]
    },
    {
     "name": "stderr",
     "output_type": "stream",
     "text": [
      "/Users/angelina/miniforge3/envs/env_tf/lib/python3.9/site-packages/scipy/interpolate/_fitpack2.py:280: UserWarning: \n",
      "The maximal number of iterations maxit (set to 20 by the program)\n",
      "allowed for finding a smoothing spline with fp=s has been reached: s\n",
      "too small.\n",
      "There is an approximation returned but the corresponding weighted sum\n",
      "of squared residuals does not satisfy the condition abs(fp-s)/s < tol.\n",
      "  warnings.warn(message)\n"
     ]
    },
    {
     "name": "stdout",
     "output_type": "stream",
     "text": [
      "Processing 533: CPS2-ASU-T60-PC-ExpBlock2\n"
     ]
    },
    {
     "name": "stderr",
     "output_type": "stream",
     "text": [
      "/Users/angelina/miniforge3/envs/env_tf/lib/python3.9/site-packages/scipy/interpolate/_fitpack2.py:280: UserWarning: \n",
      "The maximal number of iterations maxit (set to 20 by the program)\n",
      "allowed for finding a smoothing spline with fp=s has been reached: s\n",
      "too small.\n",
      "There is an approximation returned but the corresponding weighted sum\n",
      "of squared residuals does not satisfy the condition abs(fp-s)/s < tol.\n",
      "  warnings.warn(message)\n"
     ]
    },
    {
     "name": "stdout",
     "output_type": "stream",
     "text": [
      "Processing 534: CPS2-ASU-T63-PA-Transfer\n",
      "Processing 535: CPS2-CU-T69-PB-ExpBlock1\n",
      "Processing 536: CPS2-CU-T27-PC-ExpBlock2\n",
      "Processing 537: CPS2-CU-T38-PA-ExpBlock1\n",
      "Processing 538: CPS2-ASU-T74-PD-Transfer\n",
      "Processing 539: CPS2-CU-T38-PC-Warmup\n",
      "Processing 540: CPS2-ASU-T48-PC-ExpBlock1\n",
      "Processing 541: CPS2-CU-T30-PB-Warmup\n",
      "Processing 542: CPS2-CU-T24-PB-Transfer\n",
      "Processing 543: CPS2-ASU-T56-PB-Warmup\n"
     ]
    },
    {
     "name": "stderr",
     "output_type": "stream",
     "text": [
      "/Users/angelina/miniforge3/envs/env_tf/lib/python3.9/site-packages/scipy/interpolate/_fitpack2.py:280: UserWarning: \n",
      "The maximal number of iterations maxit (set to 20 by the program)\n",
      "allowed for finding a smoothing spline with fp=s has been reached: s\n",
      "too small.\n",
      "There is an approximation returned but the corresponding weighted sum\n",
      "of squared residuals does not satisfy the condition abs(fp-s)/s < tol.\n",
      "  warnings.warn(message)\n"
     ]
    },
    {
     "name": "stdout",
     "output_type": "stream",
     "text": [
      "Processing 544: CPS2-ASU-T62-PA-ExpBlock2\n",
      "Processing 545: CPS2-ASU-T17-PB-ExpBlock1\n",
      "Processing 546: CPS2-ASU-T84-PA-ExpBlock1\n",
      "Processing 547: CPS2-ASU-T32-PA-Warmup\n",
      "Processing 548: CPS2-ASU-T47-PC-Transfer\n",
      "Processing 549: CPS2-CU-T54-PA-Warmup\n"
     ]
    },
    {
     "name": "stderr",
     "output_type": "stream",
     "text": [
      "/Users/angelina/miniforge3/envs/env_tf/lib/python3.9/site-packages/scipy/interpolate/_fitpack2.py:280: UserWarning: \n",
      "The maximal number of iterations maxit (set to 20 by the program)\n",
      "allowed for finding a smoothing spline with fp=s has been reached: s\n",
      "too small.\n",
      "There is an approximation returned but the corresponding weighted sum\n",
      "of squared residuals does not satisfy the condition abs(fp-s)/s < tol.\n",
      "  warnings.warn(message)\n"
     ]
    },
    {
     "name": "stdout",
     "output_type": "stream",
     "text": [
      "Processing 550: CPS2-CU-T36-PC-ExpBlock1\n",
      "Processing 551: CPS2-CU-T29-PA-ExpBlock2\n",
      "Processing 552: CPS2-ASU-T19-PB-Warmup\n",
      "Processing 553: CPS2-ASU-T59-PC-ExpBlock2\n",
      "Processing 554: CPS2-ASU-T42-PB-Transfer\n"
     ]
    },
    {
     "name": "stderr",
     "output_type": "stream",
     "text": [
      "/Users/angelina/miniforge3/envs/env_tf/lib/python3.9/site-packages/scipy/interpolate/_fitpack2.py:280: UserWarning: \n",
      "The maximal number of iterations maxit (set to 20 by the program)\n",
      "allowed for finding a smoothing spline with fp=s has been reached: s\n",
      "too small.\n",
      "There is an approximation returned but the corresponding weighted sum\n",
      "of squared residuals does not satisfy the condition abs(fp-s)/s < tol.\n",
      "  warnings.warn(message)\n"
     ]
    },
    {
     "name": "stdout",
     "output_type": "stream",
     "text": [
      "Processing 555: CPS2-ASU-T104-PB-ExpBlock1\n",
      "Processing 556: CPS2-ASU-T91-PD-ExpBlock2\n",
      "Processing 557: CPS2-ASU-T27-PB-Warmup\n",
      "Processing 558: CPS2-ASU-T77-PD-ExpBlock1\n",
      "Processing 559: CPS2-ASU-T90-PA-Warmup\n",
      "Processing 560: CPS2-CU-T25-PA-ExpBlock2\n",
      "Processing 561: CPS2-CU-T50-PB-ExpBlock1\n",
      "Processing 562: CPS2-CU-T49-PC-Warmup\n",
      "Processing 563: CPS2-CU-T18-PD-ExpBlock2\n"
     ]
    },
    {
     "name": "stderr",
     "output_type": "stream",
     "text": [
      "/Users/angelina/miniforge3/envs/env_tf/lib/python3.9/site-packages/scipy/interpolate/_fitpack2.py:280: UserWarning: \n",
      "The maximal number of iterations maxit (set to 20 by the program)\n",
      "allowed for finding a smoothing spline with fp=s has been reached: s\n",
      "too small.\n",
      "There is an approximation returned but the corresponding weighted sum\n",
      "of squared residuals does not satisfy the condition abs(fp-s)/s < tol.\n",
      "  warnings.warn(message)\n"
     ]
    },
    {
     "name": "stdout",
     "output_type": "stream",
     "text": [
      "Processing 564: CPS2-ASU-T87-PC-Transfer\n",
      "Processing 565: CPS2-ASU-T30-PC-Transfer\n",
      "Processing 566: CPS2-ASU-T97-PC-ExpBlock2\n"
     ]
    },
    {
     "name": "stderr",
     "output_type": "stream",
     "text": [
      "/Users/angelina/miniforge3/envs/env_tf/lib/python3.9/site-packages/scipy/interpolate/_fitpack2.py:280: UserWarning: \n",
      "The maximal number of iterations maxit (set to 20 by the program)\n",
      "allowed for finding a smoothing spline with fp=s has been reached: s\n",
      "too small.\n",
      "There is an approximation returned but the corresponding weighted sum\n",
      "of squared residuals does not satisfy the condition abs(fp-s)/s < tol.\n",
      "  warnings.warn(message)\n"
     ]
    },
    {
     "name": "stdout",
     "output_type": "stream",
     "text": [
      "Processing 567: CPS2-ASU-T71-PC-ExpBlock1\n",
      "Processing 568: CPS2-CU-T31-PC-ExpBlock1\n"
     ]
    },
    {
     "name": "stderr",
     "output_type": "stream",
     "text": [
      "/Users/angelina/miniforge3/envs/env_tf/lib/python3.9/site-packages/scipy/interpolate/_fitpack2.py:280: UserWarning: \n",
      "The maximal number of iterations maxit (set to 20 by the program)\n",
      "allowed for finding a smoothing spline with fp=s has been reached: s\n",
      "too small.\n",
      "There is an approximation returned but the corresponding weighted sum\n",
      "of squared residuals does not satisfy the condition abs(fp-s)/s < tol.\n",
      "  warnings.warn(message)\n"
     ]
    },
    {
     "name": "stdout",
     "output_type": "stream",
     "text": [
      "Processing 569: CPS2-ASU-T103-PB-ExpBlock1\n",
      "Processing 570: CPS2-ASU-T34-PB-ExpBlock2\n"
     ]
    },
    {
     "name": "stderr",
     "output_type": "stream",
     "text": [
      "/Users/angelina/miniforge3/envs/env_tf/lib/python3.9/site-packages/scipy/interpolate/_fitpack2.py:280: UserWarning: \n",
      "The maximal number of iterations maxit (set to 20 by the program)\n",
      "allowed for finding a smoothing spline with fp=s has been reached: s\n",
      "too small.\n",
      "There is an approximation returned but the corresponding weighted sum\n",
      "of squared residuals does not satisfy the condition abs(fp-s)/s < tol.\n",
      "  warnings.warn(message)\n"
     ]
    },
    {
     "name": "stdout",
     "output_type": "stream",
     "text": [
      "Processing 571: CPS2-ASU-T83-PA-ExpBlock1\n",
      "Processing 572: CPS2-ASU-T70-PB-Warmup\n",
      "Processing 573: CPS2-CU-T16-PB-Warmup\n",
      "Processing 574: CPS2-ASU-T65-PA-ExpBlock2\n",
      "Processing 575: CPS2-ASU-T10-PB-ExpBlock1\n",
      "Processing 576: CPS2-CU-T15-PC-ExpBlock2\n"
     ]
    },
    {
     "name": "stderr",
     "output_type": "stream",
     "text": [
      "/Users/angelina/miniforge3/envs/env_tf/lib/python3.9/site-packages/scipy/interpolate/_fitpack2.py:280: UserWarning: \n",
      "The maximal number of iterations maxit (set to 20 by the program)\n",
      "allowed for finding a smoothing spline with fp=s has been reached: s\n",
      "too small.\n",
      "There is an approximation returned but the corresponding weighted sum\n",
      "of squared residuals does not satisfy the condition abs(fp-s)/s < tol.\n",
      "  warnings.warn(message)\n"
     ]
    },
    {
     "name": "stdout",
     "output_type": "stream",
     "text": [
      "Processing 577: CPS2-CU-T43-PD-Warmup\n",
      "Processing 578: CPS2-ASU-T37-PC-Transfer\n",
      "Processing 579: CPS2-ASU-T25-PD-Warmup\n"
     ]
    },
    {
     "name": "stderr",
     "output_type": "stream",
     "text": [
      "/Users/angelina/miniforge3/envs/env_tf/lib/python3.9/site-packages/scipy/interpolate/_fitpack2.py:280: UserWarning: \n",
      "The maximal number of iterations maxit (set to 20 by the program)\n",
      "allowed for finding a smoothing spline with fp=s has been reached: s\n",
      "too small.\n",
      "There is an approximation returned but the corresponding weighted sum\n",
      "of squared residuals does not satisfy the condition abs(fp-s)/s < tol.\n",
      "  warnings.warn(message)\n"
     ]
    },
    {
     "name": "stdout",
     "output_type": "stream",
     "text": [
      "Processing 580: CPS2-ASU-T78-PC-Warmup\n",
      "Processing 581: CPS2-ASU-T80-PC-Transfer\n"
     ]
    },
    {
     "name": "stderr",
     "output_type": "stream",
     "text": [
      "/Users/angelina/miniforge3/envs/env_tf/lib/python3.9/site-packages/scipy/interpolate/_fitpack2.py:280: UserWarning: \n",
      "The maximal number of iterations maxit (set to 20 by the program)\n",
      "allowed for finding a smoothing spline with fp=s has been reached: s\n",
      "too small.\n",
      "There is an approximation returned but the corresponding weighted sum\n",
      "of squared residuals does not satisfy the condition abs(fp-s)/s < tol.\n",
      "  warnings.warn(message)\n"
     ]
    },
    {
     "name": "stdout",
     "output_type": "stream",
     "text": [
      "Processing 582: CPS2-CU-T19-PC-ExpBlock2\n",
      "Processing 583: CPS2-CU-T28-PB-Warmup\n",
      "Processing 584: CPS2-ASU-T40-PC-Transfer\n",
      "Processing 585: CPS2-CU-T20-PC-Warmup\n",
      "Processing 586: CPS2-ASU-T76-PC-ExpBlock1\n",
      "Processing 587: CPS2-ASU-T69-PA-ExpBlock2\n",
      "Processing 588: CPS2-ASU-T90-PC-ExpBlock2\n",
      "Processing 589: CPS2-ASU-T46-PC-Warmup\n",
      "Processing 590: CPS2-ASU-T70-PD-ExpBlock1\n",
      "Processing 591: CPS2-ASU-T87-PD-Warmup\n"
     ]
    },
    {
     "name": "stderr",
     "output_type": "stream",
     "text": [
      "/Users/angelina/miniforge3/envs/env_tf/lib/python3.9/site-packages/scipy/interpolate/_fitpack2.py:280: UserWarning: \n",
      "The maximal number of iterations maxit (set to 20 by the program)\n",
      "allowed for finding a smoothing spline with fp=s has been reached: s\n",
      "too small.\n",
      "There is an approximation returned but the corresponding weighted sum\n",
      "of squared residuals does not satisfy the condition abs(fp-s)/s < tol.\n",
      "  warnings.warn(message)\n"
     ]
    },
    {
     "name": "stdout",
     "output_type": "stream",
     "text": [
      "Processing 592: CPS2-ASU-T38-PB-ExpBlock2\n",
      "Processing 593: CPS2-ASU-T52-PC-ExpBlock2\n",
      "Processing 594: CPS2-ASU-T96-PD-ExpBlock2\n",
      "Processing 595: CPS2-ASU-T45-PB-Transfer\n",
      "Processing 596: CPS2-CU-T22-PA-ExpBlock2\n",
      "Processing 597: CPS2-CU-T57-PB-ExpBlock1\n",
      "Processing 598: CPS2-ASU-T65-PA-Warmup\n",
      "Processing 599: CPS2-CU-T26-PC-Transfer\n"
     ]
    },
    {
     "name": "stderr",
     "output_type": "stream",
     "text": [
      "/Users/angelina/miniforge3/envs/env_tf/lib/python3.9/site-packages/scipy/interpolate/_fitpack2.py:280: UserWarning: \n",
      "The maximal number of iterations maxit (set to 20 by the program)\n",
      "allowed for finding a smoothing spline with fp=s has been reached: s\n",
      "too small.\n",
      "There is an approximation returned but the corresponding weighted sum\n",
      "of squared residuals does not satisfy the condition abs(fp-s)/s < tol.\n",
      "  warnings.warn(message)\n"
     ]
    },
    {
     "name": "stdout",
     "output_type": "stream",
     "text": [
      "Processing 600: CPS2-ASU-T54-PD-Warmup\n",
      "Processing 601: CPS2-CU-T62-PB-ExpBlock1\n",
      "Processing 602: CPS2-CU-T17-PA-ExpBlock2\n",
      "Processing 603: CPS2-ASU-T64-PA-Transfer\n",
      "Processing 604: CPS2-ASU-T67-PC-ExpBlock2\n"
     ]
    },
    {
     "name": "stderr",
     "output_type": "stream",
     "text": [
      "/Users/angelina/miniforge3/envs/env_tf/lib/python3.9/site-packages/scipy/interpolate/_fitpack2.py:280: UserWarning: \n",
      "The maximal number of iterations maxit (set to 20 by the program)\n",
      "allowed for finding a smoothing spline with fp=s has been reached: s\n",
      "too small.\n",
      "There is an approximation returned but the corresponding weighted sum\n",
      "of squared residuals does not satisfy the condition abs(fp-s)/s < tol.\n",
      "  warnings.warn(message)\n"
     ]
    },
    {
     "name": "stdout",
     "output_type": "stream",
     "text": [
      "Processing 605: CPS2-ASU-T78-PA-ExpBlock1\n",
      "Processing 606: CPS2-ASU-T45-PD-ExpBlock1\n",
      "Processing 607: CPS2-ASU-T61-PD-ExpBlock2\n",
      "Processing 608: CPS2-ASU-T29-PB-ExpBlock1\n",
      "Processing 609: CPS2-CU-T23-PB-Transfer\n",
      "Processing 610: CPS2-ASU-T43-PC-ExpBlock1\n",
      "Processing 611: CPS2-ASU-T87-PD-ExpBlock1\n",
      "Processing 612: CPS2-CU-T33-PA-ExpBlock1\n",
      "Processing 613: CPS2-CU-T46-PB-ExpBlock2\n",
      "Processing 614: CPS2-ASU-T73-PD-Transfer\n",
      "Processing 615: CPS2-ASU-T95-PC-Warmup\n",
      "Processing 616: CPS2-ASU-T14-PA-Warmup\n",
      "Processing 617: CPS2-CU-T20-PC-ExpBlock2\n",
      "Processing 618: CPS2-CU-T54-PB-Transfer\n",
      "Processing 619: CPS2-CU-T51-PC-Warmup\n",
      "Processing 620: CPS2-ASU-T13-PA-Transfer\n"
     ]
    },
    {
     "name": "stderr",
     "output_type": "stream",
     "text": [
      "/Users/angelina/miniforge3/envs/env_tf/lib/python3.9/site-packages/scipy/interpolate/_fitpack2.py:280: UserWarning: \n",
      "The maximal number of iterations maxit (set to 20 by the program)\n",
      "allowed for finding a smoothing spline with fp=s has been reached: s\n",
      "too small.\n",
      "There is an approximation returned but the corresponding weighted sum\n",
      "of squared residuals does not satisfy the condition abs(fp-s)/s < tol.\n",
      "  warnings.warn(message)\n"
     ]
    },
    {
     "name": "stdout",
     "output_type": "stream",
     "text": [
      "Processing 621: CPS2-ASU-T37-PC-Warmup\n",
      "Processing 622: CPS2-CU-T51-PC-Transfer\n"
     ]
    },
    {
     "name": "stderr",
     "output_type": "stream",
     "text": [
      "/Users/angelina/miniforge3/envs/env_tf/lib/python3.9/site-packages/scipy/interpolate/_fitpack2.py:280: UserWarning: \n",
      "The maximal number of iterations maxit (set to 20 by the program)\n",
      "allowed for finding a smoothing spline with fp=s has been reached: s\n",
      "too small.\n",
      "There is an approximation returned but the corresponding weighted sum\n",
      "of squared residuals does not satisfy the condition abs(fp-s)/s < tol.\n",
      "  warnings.warn(message)\n"
     ]
    },
    {
     "name": "stdout",
     "output_type": "stream",
     "text": [
      "Processing 623: CPS2-ASU-T38-PC-Warmup\n",
      "Processing 624: CPS2-ASU-T65-PD-Warmup\n",
      "Processing 625: CPS2-ASU-T48-PC-ExpBlock2\n",
      "Processing 626: CPS2-CU-T27-PC-ExpBlock1\n",
      "Processing 627: CPS2-CU-T56-PB-Warmup\n",
      "Processing 628: CPS2-ASU-T35-PA-Transfer\n"
     ]
    },
    {
     "name": "stderr",
     "output_type": "stream",
     "text": [
      "/Users/angelina/miniforge3/envs/env_tf/lib/python3.9/site-packages/scipy/interpolate/_fitpack2.py:280: UserWarning: \n",
      "The maximal number of iterations maxit (set to 20 by the program)\n",
      "allowed for finding a smoothing spline with fp=s has been reached: s\n",
      "too small.\n",
      "There is an approximation returned but the corresponding weighted sum\n",
      "of squared residuals does not satisfy the condition abs(fp-s)/s < tol.\n",
      "  warnings.warn(message)\n"
     ]
    },
    {
     "name": "stdout",
     "output_type": "stream",
     "text": [
      "Processing 629: CPS2-ASU-T87-PA-Warmup\n"
     ]
    },
    {
     "name": "stderr",
     "output_type": "stream",
     "text": [
      "/Users/angelina/miniforge3/envs/env_tf/lib/python3.9/site-packages/scipy/interpolate/_fitpack2.py:280: UserWarning: \n",
      "The maximal number of iterations maxit (set to 20 by the program)\n",
      "allowed for finding a smoothing spline with fp=s has been reached: s\n",
      "too small.\n",
      "There is an approximation returned but the corresponding weighted sum\n",
      "of squared residuals does not satisfy the condition abs(fp-s)/s < tol.\n",
      "  warnings.warn(message)\n"
     ]
    },
    {
     "name": "stdout",
     "output_type": "stream",
     "text": [
      "Processing 630: CPS2-ASU-T30-PB-Warmup\n",
      "Processing 631: CPS2-CU-T38-PA-ExpBlock2\n",
      "Processing 632: CPS2-CU-T69-PB-ExpBlock2\n",
      "Processing 633: CPS2-ASU-T48-PC-Transfer\n",
      "Processing 634: CPS2-ASU-T101-PB-Warmup\n",
      "Processing 635: CPS2-ASU-T22-PD-Transfer\n",
      "Processing 636: CPS2-ASU-T95-PD-Transfer\n",
      "Processing 637: CPS2-ASU-T92-PB-Warmup\n",
      "Processing 638: CPS2-ASU-T42-PD-ExpBlock2\n"
     ]
    },
    {
     "name": "stderr",
     "output_type": "stream",
     "text": [
      "/Users/angelina/miniforge3/envs/env_tf/lib/python3.9/site-packages/scipy/interpolate/_fitpack2.py:280: UserWarning: \n",
      "The maximal number of iterations maxit (set to 20 by the program)\n",
      "allowed for finding a smoothing spline with fp=s has been reached: s\n",
      "too small.\n",
      "There is an approximation returned but the corresponding weighted sum\n",
      "of squared residuals does not satisfy the condition abs(fp-s)/s < tol.\n",
      "  warnings.warn(message)\n"
     ]
    },
    {
     "name": "stdout",
     "output_type": "stream",
     "text": [
      "Processing 639: CPS2-ASU-T25-PA-Warmup\n",
      "Processing 640: CPS2-ASU-T86-PC-ExpBlock2\n"
     ]
    },
    {
     "name": "stderr",
     "output_type": "stream",
     "text": [
      "/Users/angelina/miniforge3/envs/env_tf/lib/python3.9/site-packages/scipy/interpolate/_fitpack2.py:280: UserWarning: \n",
      "The maximal number of iterations maxit (set to 20 by the program)\n",
      "allowed for finding a smoothing spline with fp=s has been reached: s\n",
      "too small.\n",
      "There is an approximation returned but the corresponding weighted sum\n",
      "of squared residuals does not satisfy the condition abs(fp-s)/s < tol.\n",
      "  warnings.warn(message)\n"
     ]
    },
    {
     "name": "stdout",
     "output_type": "stream",
     "text": [
      "Processing 641: CPS2-ASU-T60-PC-ExpBlock1\n",
      "Processing 642: CPS2-ASU-T99-PA-ExpBlock1\n"
     ]
    },
    {
     "name": "stderr",
     "output_type": "stream",
     "text": [
      "/Users/angelina/miniforge3/envs/env_tf/lib/python3.9/site-packages/scipy/interpolate/_fitpack2.py:280: UserWarning: \n",
      "The maximal number of iterations maxit (set to 20 by the program)\n",
      "allowed for finding a smoothing spline with fp=s has been reached: s\n",
      "too small.\n",
      "There is an approximation returned but the corresponding weighted sum\n",
      "of squared residuals does not satisfy the condition abs(fp-s)/s < tol.\n",
      "  warnings.warn(message)\n"
     ]
    },
    {
     "name": "stdout",
     "output_type": "stream",
     "text": [
      "Processing 643: CPS2-CU-T43-PA-Warmup\n",
      "Processing 644: CPS2-CU-T65-PB-ExpBlock2\n"
     ]
    },
    {
     "name": "stderr",
     "output_type": "stream",
     "text": [
      "/Users/angelina/miniforge3/envs/env_tf/lib/python3.9/site-packages/scipy/interpolate/_fitpack2.py:280: UserWarning: \n",
      "The maximal number of iterations maxit (set to 20 by the program)\n",
      "allowed for finding a smoothing spline with fp=s has been reached: s\n",
      "too small.\n",
      "There is an approximation returned but the corresponding weighted sum\n",
      "of squared residuals does not satisfy the condition abs(fp-s)/s < tol.\n",
      "  warnings.warn(message)\n"
     ]
    },
    {
     "name": "stdout",
     "output_type": "stream",
     "text": [
      "Processing 645: CPS2-ASU-T88-PC-Transfer\n",
      "Processing 646: CPS2-CU-T34-PA-ExpBlock2\n"
     ]
    },
    {
     "name": "stderr",
     "output_type": "stream",
     "text": [
      "/Users/angelina/miniforge3/envs/env_tf/lib/python3.9/site-packages/scipy/interpolate/_fitpack2.py:280: UserWarning: \n",
      "The maximal number of iterations maxit (set to 20 by the program)\n",
      "allowed for finding a smoothing spline with fp=s has been reached: s\n",
      "too small.\n",
      "There is an approximation returned but the corresponding weighted sum\n",
      "of squared residuals does not satisfy the condition abs(fp-s)/s < tol.\n",
      "  warnings.warn(message)\n"
     ]
    },
    {
     "name": "stdout",
     "output_type": "stream",
     "text": [
      "Processing 647: CPS2-CU-T60-PC-Warmup\n"
     ]
    },
    {
     "name": "stderr",
     "output_type": "stream",
     "text": [
      "/Users/angelina/miniforge3/envs/env_tf/lib/python3.9/site-packages/scipy/interpolate/_fitpack2.py:280: UserWarning: \n",
      "The maximal number of iterations maxit (set to 20 by the program)\n",
      "allowed for finding a smoothing spline with fp=s has been reached: s\n",
      "too small.\n",
      "There is an approximation returned but the corresponding weighted sum\n",
      "of squared residuals does not satisfy the condition abs(fp-s)/s < tol.\n",
      "  warnings.warn(message)\n"
     ]
    },
    {
     "name": "stdout",
     "output_type": "stream",
     "text": [
      "Processing 648: CPS2-ASU-T80-PD-ExpBlock2\n",
      "Processing 649: CPS2-ASU-T44-PC-ExpBlock2\n"
     ]
    },
    {
     "name": "stderr",
     "output_type": "stream",
     "text": [
      "/Users/angelina/miniforge3/envs/env_tf/lib/python3.9/site-packages/scipy/interpolate/_fitpack2.py:280: UserWarning: \n",
      "The maximal number of iterations maxit (set to 20 by the program)\n",
      "allowed for finding a smoothing spline with fp=s has been reached: s\n",
      "too small.\n",
      "There is an approximation returned but the corresponding weighted sum\n",
      "of squared residuals does not satisfy the condition abs(fp-s)/s < tol.\n",
      "  warnings.warn(message)\n"
     ]
    },
    {
     "name": "stdout",
     "output_type": "stream",
     "text": [
      "Processing 650: CPS2-CU-T68-PB-Warmup\n",
      "Processing 651: CPS2-ASU-T66-PD-ExpBlock1\n",
      "Processing 652: CPS2-ASU-T97-PC-ExpBlock1\n",
      "Processing 653: CPS2-ASU-T71-PC-ExpBlock2\n"
     ]
    },
    {
     "name": "stderr",
     "output_type": "stream",
     "text": [
      "/Users/angelina/miniforge3/envs/env_tf/lib/python3.9/site-packages/scipy/interpolate/_fitpack2.py:280: UserWarning: \n",
      "The maximal number of iterations maxit (set to 20 by the program)\n",
      "allowed for finding a smoothing spline with fp=s has been reached: s\n",
      "too small.\n",
      "There is an approximation returned but the corresponding weighted sum\n",
      "of squared residuals does not satisfy the condition abs(fp-s)/s < tol.\n",
      "  warnings.warn(message)\n"
     ]
    },
    {
     "name": "stdout",
     "output_type": "stream",
     "text": [
      "Processing 654: CPS2-ASU-T88-PD-Warmup\n",
      "Processing 655: CPS2-CU-T27-PB-Warmup\n",
      "Processing 656: CPS2-ASU-T41-PB-Warmup\n"
     ]
    },
    {
     "name": "stderr",
     "output_type": "stream",
     "text": [
      "/Users/angelina/miniforge3/envs/env_tf/lib/python3.9/site-packages/scipy/interpolate/_fitpack2.py:280: UserWarning: \n",
      "The maximal number of iterations maxit (set to 20 by the program)\n",
      "allowed for finding a smoothing spline with fp=s has been reached: s\n",
      "too small.\n",
      "There is an approximation returned but the corresponding weighted sum\n",
      "of squared residuals does not satisfy the condition abs(fp-s)/s < tol.\n",
      "  warnings.warn(message)\n"
     ]
    },
    {
     "name": "stdout",
     "output_type": "stream",
     "text": [
      "Processing 657: CPS2-CU-T18-PD-ExpBlock1\n",
      "Processing 658: CPS2-CU-T50-PB-ExpBlock2\n",
      "Processing 659: CPS2-ASU-T91-PD-ExpBlock1\n",
      "Processing 660: CPS2-ASU-T77-PD-ExpBlock2\n",
      "Processing 661: CPS2-CU-T19-PB-Warmup\n",
      "Processing 662: CPS2-ASU-T59-PC-ExpBlock1\n",
      "Processing 663: CPS2-ASU-T104-PB-ExpBlock2\n",
      "Processing 664: CPS2-CU-T36-PC-ExpBlock2\n",
      "Processing 665: CPS2-CU-T29-PA-ExpBlock1\n"
     ]
    },
    {
     "name": "stderr",
     "output_type": "stream",
     "text": [
      "/Users/angelina/miniforge3/envs/env_tf/lib/python3.9/site-packages/scipy/interpolate/_fitpack2.py:280: UserWarning: \n",
      "The maximal number of iterations maxit (set to 20 by the program)\n",
      "allowed for finding a smoothing spline with fp=s has been reached: s\n",
      "too small.\n",
      "There is an approximation returned but the corresponding weighted sum\n",
      "of squared residuals does not satisfy the condition abs(fp-s)/s < tol.\n",
      "  warnings.warn(message)\n"
     ]
    },
    {
     "name": "stdout",
     "output_type": "stream",
     "text": [
      "Processing 666: CPS2-CU-T53-PA-Transfer\n",
      "Processing 667: CPS2-ASU-T103-PC-Transfer\n",
      "Processing 668: CPS2-ASU-T54-PA-Warmup\n",
      "Processing 669: CPS2-ASU-T62-PA-ExpBlock1\n",
      "Processing 670: CPS2-ASU-T17-PB-ExpBlock2\n",
      "Processing 671: CPS2-ASU-T84-PA-ExpBlock2\n"
     ]
    },
    {
     "name": "stderr",
     "output_type": "stream",
     "text": [
      "/Users/angelina/miniforge3/envs/env_tf/lib/python3.9/site-packages/scipy/interpolate/_fitpack2.py:280: UserWarning: \n",
      "The maximal number of iterations maxit (set to 20 by the program)\n",
      "allowed for finding a smoothing spline with fp=s has been reached: s\n",
      "too small.\n",
      "There is an approximation returned but the corresponding weighted sum\n",
      "of squared residuals does not satisfy the condition abs(fp-s)/s < tol.\n",
      "  warnings.warn(message)\n"
     ]
    },
    {
     "name": "stdout",
     "output_type": "stream",
     "text": [
      "Processing 672: CPS2-CU-T32-PA-Warmup\n",
      "Processing 673: CPS2-ASU-T93-PB-ExpBlock2\n"
     ]
    },
    {
     "name": "stderr",
     "output_type": "stream",
     "text": [
      "/Users/angelina/miniforge3/envs/env_tf/lib/python3.9/site-packages/scipy/interpolate/_fitpack2.py:280: UserWarning: \n",
      "The maximal number of iterations maxit (set to 20 by the program)\n",
      "allowed for finding a smoothing spline with fp=s has been reached: s\n",
      "too small.\n",
      "There is an approximation returned but the corresponding weighted sum\n",
      "of squared residuals does not satisfy the condition abs(fp-s)/s < tol.\n",
      "  warnings.warn(message)\n"
     ]
    },
    {
     "name": "stdout",
     "output_type": "stream",
     "text": [
      "Processing 674: CPS2-ASU-T52-PB-Warmup\n"
     ]
    },
    {
     "name": "stderr",
     "output_type": "stream",
     "text": [
      "/Users/angelina/miniforge3/envs/env_tf/lib/python3.9/site-packages/scipy/interpolate/_fitpack2.py:280: UserWarning: \n",
      "The maximal number of iterations maxit (set to 20 by the program)\n",
      "allowed for finding a smoothing spline with fp=s has been reached: s\n",
      "too small.\n",
      "There is an approximation returned but the corresponding weighted sum\n",
      "of squared residuals does not satisfy the condition abs(fp-s)/s < tol.\n",
      "  warnings.warn(message)\n"
     ]
    },
    {
     "name": "stdout",
     "output_type": "stream",
     "text": [
      "Processing 675: CPS2-CU-T34-PB-Warmup\n",
      "Processing 676: CPS2-CU-T62-PC-Transfer\n",
      "Processing 677: CPS2-ASU-T75-PB-ExpBlock1\n",
      "Processing 678: CPS2-ASU-T58-PB-Transfer\n",
      "Processing 679: CPS2-CU-T70-PC-ExpBlock2\n",
      "Processing 680: CPS2-ASU-T97-PA-Transfer\n"
     ]
    },
    {
     "name": "stderr",
     "output_type": "stream",
     "text": [
      "/Users/angelina/miniforge3/envs/env_tf/lib/python3.9/site-packages/scipy/interpolate/_fitpack2.py:280: UserWarning: \n",
      "The maximal number of iterations maxit (set to 20 by the program)\n",
      "allowed for finding a smoothing spline with fp=s has been reached: s\n",
      "too small.\n",
      "There is an approximation returned but the corresponding weighted sum\n",
      "of squared residuals does not satisfy the condition abs(fp-s)/s < tol.\n",
      "  warnings.warn(message)\n"
     ]
    },
    {
     "name": "stdout",
     "output_type": "stream",
     "text": [
      "Processing 681: CPS2-CU-T52-PD-ExpBlock1\n",
      "Processing 682: CPS2-ASU-T20-PA-Transfer\n",
      "Processing 683: CPS2-CU-T54-PC-ExpBlock1\n",
      "Processing 684: CPS2-ASU-T24-PA-ExpBlock1\n"
     ]
    },
    {
     "name": "stderr",
     "output_type": "stream",
     "text": [
      "/Users/angelina/miniforge3/envs/env_tf/lib/python3.9/site-packages/scipy/interpolate/_fitpack2.py:280: UserWarning: \n",
      "The maximal number of iterations maxit (set to 20 by the program)\n",
      "allowed for finding a smoothing spline with fp=s has been reached: s\n",
      "too small.\n",
      "There is an approximation returned but the corresponding weighted sum\n",
      "of squared residuals does not satisfy the condition abs(fp-s)/s < tol.\n",
      "  warnings.warn(message)\n"
     ]
    },
    {
     "name": "stdout",
     "output_type": "stream",
     "text": [
      "Processing 685: CPS2-ASU-T37-PD-Transfer\n"
     ]
    },
    {
     "name": "stderr",
     "output_type": "stream",
     "text": [
      "/Users/angelina/miniforge3/envs/env_tf/lib/python3.9/site-packages/scipy/interpolate/_fitpack2.py:280: UserWarning: \n",
      "The maximal number of iterations maxit (set to 20 by the program)\n",
      "allowed for finding a smoothing spline with fp=s has been reached: s\n",
      "too small.\n",
      "There is an approximation returned but the corresponding weighted sum\n",
      "of squared residuals does not satisfy the condition abs(fp-s)/s < tol.\n",
      "  warnings.warn(message)\n"
     ]
    },
    {
     "name": "stdout",
     "output_type": "stream",
     "text": [
      "Processing 686: CPS2-ASU-T80-PD-Transfer\n",
      "Processing 687: CPS2-ASU-T28-PA-ExpBlock1\n",
      "Processing 688: CPS2-ASU-T37-PC-ExpBlock2\n",
      "Processing 689: CPS2-ASU-T40-PD-Transfer\n",
      "Processing 690: CPS2-CU-T68-PA-Transfer\n",
      "Processing 691: CPS2-ASU-T100-PC-ExpBlock1\n"
     ]
    },
    {
     "name": "stderr",
     "output_type": "stream",
     "text": [
      "/Users/angelina/miniforge3/envs/env_tf/lib/python3.9/site-packages/scipy/interpolate/_fitpack2.py:280: UserWarning: \n",
      "The maximal number of iterations maxit (set to 20 by the program)\n",
      "allowed for finding a smoothing spline with fp=s has been reached: s\n",
      "too small.\n",
      "There is an approximation returned but the corresponding weighted sum\n",
      "of squared residuals does not satisfy the condition abs(fp-s)/s < tol.\n",
      "  warnings.warn(message)\n"
     ]
    },
    {
     "name": "stdout",
     "output_type": "stream",
     "text": [
      "Processing 692: CPS2-CU-T58-PC-ExpBlock1\n",
      "Processing 693: CPS2-ASU-T47-PA-Warmup\n",
      "Processing 694: CPS2-CU-T63-PA-ExpBlock1\n",
      "Processing 695: CPS2-CU-T16-PB-ExpBlock2\n"
     ]
    },
    {
     "name": "stderr",
     "output_type": "stream",
     "text": [
      "/Users/angelina/miniforge3/envs/env_tf/lib/python3.9/site-packages/scipy/interpolate/_fitpack2.py:280: UserWarning: \n",
      "The maximal number of iterations maxit (set to 20 by the program)\n",
      "allowed for finding a smoothing spline with fp=s has been reached: s\n",
      "too small.\n",
      "There is an approximation returned but the corresponding weighted sum\n",
      "of squared residuals does not satisfy the condition abs(fp-s)/s < tol.\n",
      "  warnings.warn(message)\n"
     ]
    },
    {
     "name": "stdout",
     "output_type": "stream",
     "text": [
      "Processing 696: CPS2-ASU-T39-PD-Warmup\n"
     ]
    },
    {
     "name": "stderr",
     "output_type": "stream",
     "text": [
      "/Users/angelina/miniforge3/envs/env_tf/lib/python3.9/site-packages/scipy/interpolate/_fitpack2.py:280: UserWarning: \n",
      "The maximal number of iterations maxit (set to 20 by the program)\n",
      "allowed for finding a smoothing spline with fp=s has been reached: s\n",
      "too small.\n",
      "There is an approximation returned but the corresponding weighted sum\n",
      "of squared residuals does not satisfy the condition abs(fp-s)/s < tol.\n",
      "  warnings.warn(message)\n"
     ]
    },
    {
     "name": "stdout",
     "output_type": "stream",
     "text": [
      "Processing 697: CPS2-ASU-T98-PB-Transfer\n",
      "Processing 698: CPS2-CU-T15-PC-Transfer\n",
      "Processing 699: CPS2-ASU-T64-PC-Warmup\n",
      "Processing 700: CPS2-CU-T23-PB-ExpBlock2\n",
      "Processing 701: CPS2-CU-T56-PA-ExpBlock1\n"
     ]
    },
    {
     "name": "stderr",
     "output_type": "stream",
     "text": [
      "/Users/angelina/miniforge3/envs/env_tf/lib/python3.9/site-packages/scipy/interpolate/_fitpack2.py:280: UserWarning: \n",
      "The maximal number of iterations maxit (set to 20 by the program)\n",
      "allowed for finding a smoothing spline with fp=s has been reached: s\n",
      "too small.\n",
      "There is an approximation returned but the corresponding weighted sum\n",
      "of squared residuals does not satisfy the condition abs(fp-s)/s < tol.\n",
      "  warnings.warn(message)\n"
     ]
    },
    {
     "name": "stdout",
     "output_type": "stream",
     "text": [
      "Processing 702: CPS2-ASU-T76-PB-Transfer\n",
      "Processing 703: CPS2-CU-T49-PC-ExpBlock2\n",
      "Processing 704: CPS2-CU-T31-PA-Transfer\n",
      "Processing 705: CPS2-CU-T49-PB-Transfer\n",
      "Processing 706: CPS2-ASU-T73-PC-Transfer\n",
      "Processing 707: CPS2-ASU-T68-PB-ExpBlock2\n",
      "Processing 708: CPS2-CU-T45-PB-Warmup\n",
      "Processing 709: CPS2-ASU-T20-PD-ExpBlock1\n",
      "Processing 710: CPS2-ASU-T15-PC-Warmup\n",
      "Processing 711: CPS2-CU-T61-PC-ExpBlock1\n"
     ]
    },
    {
     "name": "stderr",
     "output_type": "stream",
     "text": [
      "/Users/angelina/miniforge3/envs/env_tf/lib/python3.9/site-packages/scipy/interpolate/_fitpack2.py:280: UserWarning: \n",
      "The maximal number of iterations maxit (set to 20 by the program)\n",
      "allowed for finding a smoothing spline with fp=s has been reached: s\n",
      "too small.\n",
      "There is an approximation returned but the corresponding weighted sum\n",
      "of squared residuals does not satisfy the condition abs(fp-s)/s < tol.\n",
      "  warnings.warn(message)\n"
     ]
    },
    {
     "name": "stdout",
     "output_type": "stream",
     "text": [
      "Processing 712: CPS2-CU-T46-PA-Transfer\n",
      "Processing 713: CPS2-CU-T43-PD-ExpBlock2\n",
      "Processing 714: CPS2-CU-T50-PA-Warmup\n"
     ]
    },
    {
     "name": "stderr",
     "output_type": "stream",
     "text": [
      "/Users/angelina/miniforge3/envs/env_tf/lib/python3.9/site-packages/scipy/interpolate/_fitpack2.py:280: UserWarning: \n",
      "The maximal number of iterations maxit (set to 20 by the program)\n",
      "allowed for finding a smoothing spline with fp=s has been reached: s\n",
      "too small.\n",
      "There is an approximation returned but the corresponding weighted sum\n",
      "of squared residuals does not satisfy the condition abs(fp-s)/s < tol.\n",
      "  warnings.warn(message)\n"
     ]
    },
    {
     "name": "stdout",
     "output_type": "stream",
     "text": [
      "Processing 715: CPS2-CU-T45-PC-ExpBlock2\n",
      "Processing 716: CPS2-ASU-T36-PA-Warmup\n",
      "Processing 717: CPS2-ASU-T89-PC-Warmup\n",
      "Processing 718: CPS2-ASU-T35-PA-ExpBlock2\n",
      "Processing 719: CPS2-ASU-T40-PB-ExpBlock1\n",
      "Processing 720: CPS2-CU-T66-PC-ExpBlock2\n",
      "Processing 721: CPS2-ASU-T27-PB-Transfer\n",
      "Processing 722: CPS2-ASU-T90-PB-Transfer\n",
      "Processing 723: CPS2-ASU-T86-PC-Warmup\n"
     ]
    },
    {
     "name": "stderr",
     "output_type": "stream",
     "text": [
      "/Users/angelina/miniforge3/envs/env_tf/lib/python3.9/site-packages/scipy/interpolate/_fitpack2.py:280: UserWarning: \n",
      "The maximal number of iterations maxit (set to 20 by the program)\n",
      "allowed for finding a smoothing spline with fp=s has been reached: s\n",
      "too small.\n",
      "There is an approximation returned but the corresponding weighted sum\n",
      "of squared residuals does not satisfy the condition abs(fp-s)/s < tol.\n",
      "  warnings.warn(message)\n"
     ]
    },
    {
     "name": "stdout",
     "output_type": "stream",
     "text": [
      "Processing 724: CPS2-ASU-T32-PA-ExpBlock1\n",
      "Processing 725: CPS2-ASU-T47-PB-ExpBlock2\n",
      "Processing 726: CPS2-ASU-T105-PA-ExpBlock2\n",
      "Processing 727: CPS2-ASU-T22-PC-Transfer\n"
     ]
    },
    {
     "name": "stderr",
     "output_type": "stream",
     "text": [
      "/Users/angelina/miniforge3/envs/env_tf/lib/python3.9/site-packages/scipy/interpolate/_fitpack2.py:280: UserWarning: \n",
      "The maximal number of iterations maxit (set to 20 by the program)\n",
      "allowed for finding a smoothing spline with fp=s has been reached: s\n",
      "too small.\n",
      "There is an approximation returned but the corresponding weighted sum\n",
      "of squared residuals does not satisfy the condition abs(fp-s)/s < tol.\n",
      "  warnings.warn(message)\n"
     ]
    },
    {
     "name": "stdout",
     "output_type": "stream",
     "text": [
      "Processing 728: CPS2-CU-T42-PC-ExpBlock1\n",
      "Processing 729: CPS2-ASU-T95-PC-Transfer\n",
      "Processing 730: CPS2-CU-T60-PD-ExpBlock2\n",
      "Processing 731: CPS2-CU-T28-PB-ExpBlock1\n",
      "Processing 732: CPS2-ASU-T24-PC-Warmup\n",
      "Processing 733: CPS2-ASU-T79-PD-Warmup\n",
      "Processing 734: CPS2-CU-T24-PB-ExpBlock1\n",
      "Processing 735: CPS2-CU-T42-PC-Warmup\n",
      "Processing 736: CPS2-CU-T17-PA-Transfer\n",
      "Processing 737: CPS2-ASU-T88-PD-Transfer\n",
      "Processing 738: CPS2-ASU-T50-PB-Transfer\n",
      "Processing 739: CPS2-ASU-T89-PB-ExpBlock2\n",
      "Processing 740: CPS2-CU-T61-PA-Warmup\n",
      "Processing 741: CPS2-ASU-T28-PA-Transfer\n",
      "Processing 742: CPS2-CU-T35-PB-ExpBlock2\n"
     ]
    },
    {
     "name": "stderr",
     "output_type": "stream",
     "text": [
      "/Users/angelina/miniforge3/envs/env_tf/lib/python3.9/site-packages/scipy/interpolate/_fitpack2.py:280: UserWarning: \n",
      "The maximal number of iterations maxit (set to 20 by the program)\n",
      "allowed for finding a smoothing spline with fp=s has been reached: s\n",
      "too small.\n",
      "There is an approximation returned but the corresponding weighted sum\n",
      "of squared residuals does not satisfy the condition abs(fp-s)/s < tol.\n",
      "  warnings.warn(message)\n"
     ]
    },
    {
     "name": "stdout",
     "output_type": "stream",
     "text": [
      "Processing 743: CPS2-CU-T40-PA-ExpBlock1\n",
      "Processing 744: CPS2-CU-T33-PC-Transfer\n"
     ]
    },
    {
     "name": "stderr",
     "output_type": "stream",
     "text": [
      "/Users/angelina/miniforge3/envs/env_tf/lib/python3.9/site-packages/scipy/interpolate/_fitpack2.py:280: UserWarning: \n",
      "The maximal number of iterations maxit (set to 20 by the program)\n",
      "allowed for finding a smoothing spline with fp=s has been reached: s\n",
      "too small.\n",
      "There is an approximation returned but the corresponding weighted sum\n",
      "of squared residuals does not satisfy the condition abs(fp-s)/s < tol.\n",
      "  warnings.warn(message)\n"
     ]
    },
    {
     "name": "stdout",
     "output_type": "stream",
     "text": [
      "Processing 745: CPS2-ASU-T30-PC-ExpBlock1\n",
      "Processing 746: CPS2-ASU-T98-PB-ExpBlock1\n"
     ]
    },
    {
     "name": "stderr",
     "output_type": "stream",
     "text": [
      "/Users/angelina/miniforge3/envs/env_tf/lib/python3.9/site-packages/scipy/interpolate/_fitpack2.py:280: UserWarning: \n",
      "The maximal number of iterations maxit (set to 20 by the program)\n",
      "allowed for finding a smoothing spline with fp=s has been reached: s\n",
      "too small.\n",
      "There is an approximation returned but the corresponding weighted sum\n",
      "of squared residuals does not satisfy the condition abs(fp-s)/s < tol.\n",
      "  warnings.warn(message)\n"
     ]
    },
    {
     "name": "stdout",
     "output_type": "stream",
     "text": [
      "Processing 747: CPS2-CU-T36-PB-Transfer\n"
     ]
    },
    {
     "name": "stderr",
     "output_type": "stream",
     "text": [
      "/Users/angelina/miniforge3/envs/env_tf/lib/python3.9/site-packages/scipy/interpolate/_fitpack2.py:280: UserWarning: \n",
      "The maximal number of iterations maxit (set to 20 by the program)\n",
      "allowed for finding a smoothing spline with fp=s has been reached: s\n",
      "too small.\n",
      "There is an approximation returned but the corresponding weighted sum\n",
      "of squared residuals does not satisfy the condition abs(fp-s)/s < tol.\n",
      "  warnings.warn(message)\n"
     ]
    },
    {
     "name": "stdout",
     "output_type": "stream",
     "text": [
      "Processing 748: CPS2-ASU-T66-PD-Transfer\n",
      "Processing 749: CPS2-CU-T68-PA-ExpBlock2\n",
      "Processing 750: CPS2-CU-T39-PA-Transfer\n",
      "Processing 751: CPS2-ASU-T76-PA-Warmup\n",
      "Processing 752: CPS2-ASU-T18-PC-ExpBlock2\n",
      "Processing 753: CPS2-ASU-T103-PD-Transfer\n",
      "Processing 754: CPS2-ASU-T56-PB-ExpBlock1\n",
      "Processing 755: CPS2-CU-T53-PC-ExpBlock2\n",
      "Processing 756: CPS2-CU-T44-PC-Transfer\n"
     ]
    },
    {
     "name": "stderr",
     "output_type": "stream",
     "text": [
      "/Users/angelina/miniforge3/envs/env_tf/lib/python3.9/site-packages/scipy/interpolate/_fitpack2.py:280: UserWarning: \n",
      "The maximal number of iterations maxit (set to 20 by the program)\n",
      "allowed for finding a smoothing spline with fp=s has been reached: s\n",
      "too small.\n",
      "There is an approximation returned but the corresponding weighted sum\n",
      "of squared residuals does not satisfy the condition abs(fp-s)/s < tol.\n",
      "  warnings.warn(message)\n"
     ]
    },
    {
     "name": "stdout",
     "output_type": "stream",
     "text": [
      "Processing 757: CPS2-CU-T33-PC-Warmup\n",
      "Processing 758: CPS2-CU-T39-PB-ExpBlock2\n"
     ]
    },
    {
     "name": "stderr",
     "output_type": "stream",
     "text": [
      "/Users/angelina/miniforge3/envs/env_tf/lib/python3.9/site-packages/scipy/interpolate/_fitpack2.py:280: UserWarning: \n",
      "The maximal number of iterations maxit (set to 20 by the program)\n",
      "allowed for finding a smoothing spline with fp=s has been reached: s\n",
      "too small.\n",
      "There is an approximation returned but the corresponding weighted sum\n",
      "of squared residuals does not satisfy the condition abs(fp-s)/s < tol.\n",
      "  warnings.warn(message)\n"
     ]
    },
    {
     "name": "stdout",
     "output_type": "stream",
     "text": [
      "Processing 759: CPS2-ASU-T25-PD-ExpBlock1\n",
      "Processing 760: CPS2-ASU-T100-PC-Warmup\n"
     ]
    },
    {
     "name": "stderr",
     "output_type": "stream",
     "text": [
      "/Users/angelina/miniforge3/envs/env_tf/lib/python3.9/site-packages/scipy/interpolate/_fitpack2.py:280: UserWarning: \n",
      "The maximal number of iterations maxit (set to 20 by the program)\n",
      "allowed for finding a smoothing spline with fp=s has been reached: s\n",
      "too small.\n",
      "There is an approximation returned but the corresponding weighted sum\n",
      "of squared residuals does not satisfy the condition abs(fp-s)/s < tol.\n",
      "  warnings.warn(message)\n"
     ]
    },
    {
     "name": "stdout",
     "output_type": "stream",
     "text": [
      "Processing 761: CPS2-CU-T68-PC-ExpBlock1\n",
      "Processing 762: CPS2-CU-T61-PA-Transfer\n",
      "Processing 763: CPS2-ASU-T26-PB-Transfer\n",
      "Processing 764: CPS2-ASU-T91-PB-Transfer\n"
     ]
    },
    {
     "name": "stderr",
     "output_type": "stream",
     "text": [
      "/Users/angelina/miniforge3/envs/env_tf/lib/python3.9/site-packages/scipy/interpolate/_fitpack2.py:280: UserWarning: \n",
      "The maximal number of iterations maxit (set to 20 by the program)\n",
      "allowed for finding a smoothing spline with fp=s has been reached: s\n",
      "too small.\n",
      "There is an approximation returned but the corresponding weighted sum\n",
      "of squared residuals does not satisfy the condition abs(fp-s)/s < tol.\n",
      "  warnings.warn(message)\n"
     ]
    },
    {
     "name": "stdout",
     "output_type": "stream",
     "text": [
      "Processing 765: CPS2-CU-T53-PA-ExpBlock1\n",
      "Processing 766: CPS2-ASU-T39-PB-Warmup\n",
      "Processing 767: CPS2-ASU-T31-PC-Warmup\n",
      "Processing 768: CPS2-ASU-T49-PB-ExpBlock1\n",
      "Processing 769: CPS2-CU-T57-PC-Warmup\n",
      "Processing 770: CPS2-ASU-T45-PB-ExpBlock1\n"
     ]
    },
    {
     "name": "stderr",
     "output_type": "stream",
     "text": [
      "/Users/angelina/miniforge3/envs/env_tf/lib/python3.9/site-packages/scipy/interpolate/_fitpack2.py:280: UserWarning: \n",
      "The maximal number of iterations maxit (set to 20 by the program)\n",
      "allowed for finding a smoothing spline with fp=s has been reached: s\n",
      "too small.\n",
      "There is an approximation returned but the corresponding weighted sum\n",
      "of squared residuals does not satisfy the condition abs(fp-s)/s < tol.\n",
      "  warnings.warn(message)\n"
     ]
    },
    {
     "name": "stdout",
     "output_type": "stream",
     "text": [
      "Processing 771: CPS2-ASU-T52-PD-Warmup\n",
      "Processing 772: CPS2-CU-T40-PC-ExpBlock2\n",
      "Processing 773: CPS2-CU-T69-PC-Warmup\n",
      "Processing 774: CPS2-CU-T16-PA-Transfer\n",
      "Processing 775: CPS2-CU-T64-PC-ExpBlock1\n",
      "Processing 776: CPS2-ASU-T93-PC-Warmup\n",
      "Processing 777: CPS2-ASU-T61-PB-ExpBlock2\n",
      "Processing 778: CPS2-ASU-T14-PA-ExpBlock1\n",
      "Processing 779: CPS2-ASU-T21-PA-ExpBlock1\n"
     ]
    },
    {
     "name": "stderr",
     "output_type": "stream",
     "text": [
      "/Users/angelina/miniforge3/envs/env_tf/lib/python3.9/site-packages/scipy/interpolate/_fitpack2.py:280: UserWarning: \n",
      "The maximal number of iterations maxit (set to 20 by the program)\n",
      "allowed for finding a smoothing spline with fp=s has been reached: s\n",
      "too small.\n",
      "There is an approximation returned but the corresponding weighted sum\n",
      "of squared residuals does not satisfy the condition abs(fp-s)/s < tol.\n",
      "  warnings.warn(message)\n"
     ]
    },
    {
     "name": "stdout",
     "output_type": "stream",
     "text": [
      "Processing 780: CPS2-ASU-T40-PC-Warmup\n",
      "Processing 781: CPS2-CU-T26-PC-Warmup\n"
     ]
    },
    {
     "name": "stderr",
     "output_type": "stream",
     "text": [
      "/Users/angelina/miniforge3/envs/env_tf/lib/python3.9/site-packages/scipy/interpolate/_fitpack2.py:280: UserWarning: \n",
      "The maximal number of iterations maxit (set to 20 by the program)\n",
      "allowed for finding a smoothing spline with fp=s has been reached: s\n",
      "too small.\n",
      "There is an approximation returned but the corresponding weighted sum\n",
      "of squared residuals does not satisfy the condition abs(fp-s)/s < tol.\n",
      "  warnings.warn(message)\n"
     ]
    },
    {
     "name": "stdout",
     "output_type": "stream",
     "text": [
      "Processing 782: CPS2-ASU-T67-PD-Transfer\n",
      "Processing 783: CPS2-CU-T51-PC-ExpBlock1\n",
      "Processing 784: CPS2-CU-T37-PB-Transfer\n"
     ]
    },
    {
     "name": "stderr",
     "output_type": "stream",
     "text": [
      "/Users/angelina/miniforge3/envs/env_tf/lib/python3.9/site-packages/scipy/interpolate/_fitpack2.py:280: UserWarning: \n",
      "The maximal number of iterations maxit (set to 20 by the program)\n",
      "allowed for finding a smoothing spline with fp=s has been reached: s\n",
      "too small.\n",
      "There is an approximation returned but the corresponding weighted sum\n",
      "of squared residuals does not satisfy the condition abs(fp-s)/s < tol.\n",
      "  warnings.warn(message)\n"
     ]
    },
    {
     "name": "stdout",
     "output_type": "stream",
     "text": [
      "Processing 785: CPS2-ASU-T63-PA-Warmup\n"
     ]
    },
    {
     "name": "stderr",
     "output_type": "stream",
     "text": [
      "/Users/angelina/miniforge3/envs/env_tf/lib/python3.9/site-packages/scipy/interpolate/_fitpack2.py:280: UserWarning: \n",
      "The maximal number of iterations maxit (set to 20 by the program)\n",
      "allowed for finding a smoothing spline with fp=s has been reached: s\n",
      "too small.\n",
      "There is an approximation returned but the corresponding weighted sum\n",
      "of squared residuals does not satisfy the condition abs(fp-s)/s < tol.\n",
      "  warnings.warn(message)\n"
     ]
    },
    {
     "name": "stdout",
     "output_type": "stream",
     "text": [
      "Processing 786: CPS2-ASU-T70-PA-Transfer\n"
     ]
    },
    {
     "name": "stderr",
     "output_type": "stream",
     "text": [
      "/Users/angelina/miniforge3/envs/env_tf/lib/python3.9/site-packages/scipy/interpolate/_fitpack2.py:280: UserWarning: \n",
      "The maximal number of iterations maxit (set to 20 by the program)\n",
      "allowed for finding a smoothing spline with fp=s has been reached: s\n",
      "too small.\n",
      "There is an approximation returned but the corresponding weighted sum\n",
      "of squared residuals does not satisfy the condition abs(fp-s)/s < tol.\n",
      "  warnings.warn(message)\n"
     ]
    },
    {
     "name": "stdout",
     "output_type": "stream",
     "text": [
      "Processing 787: CPS2-CU-T58-PD-Transfer\n",
      "Processing 788: CPS2-ASU-T70-PB-ExpBlock1\n"
     ]
    },
    {
     "name": "stderr",
     "output_type": "stream",
     "text": [
      "/Users/angelina/miniforge3/envs/env_tf/lib/python3.9/site-packages/scipy/interpolate/_fitpack2.py:280: UserWarning: \n",
      "The maximal number of iterations maxit (set to 20 by the program)\n",
      "allowed for finding a smoothing spline with fp=s has been reached: s\n",
      "too small.\n",
      "There is an approximation returned but the corresponding weighted sum\n",
      "of squared residuals does not satisfy the condition abs(fp-s)/s < tol.\n",
      "  warnings.warn(message)\n"
     ]
    },
    {
     "name": "stdout",
     "output_type": "stream",
     "text": [
      "Processing 789: CPS2-CU-T32-PC-Transfer\n"
     ]
    },
    {
     "name": "stderr",
     "output_type": "stream",
     "text": [
      "/Users/angelina/miniforge3/envs/env_tf/lib/python3.9/site-packages/scipy/interpolate/_fitpack2.py:280: UserWarning: \n",
      "The maximal number of iterations maxit (set to 20 by the program)\n",
      "allowed for finding a smoothing spline with fp=s has been reached: s\n",
      "too small.\n",
      "There is an approximation returned but the corresponding weighted sum\n",
      "of squared residuals does not satisfy the condition abs(fp-s)/s < tol.\n",
      "  warnings.warn(message)\n"
     ]
    },
    {
     "name": "stdout",
     "output_type": "stream",
     "text": [
      "Processing 790: CPS2-CU-T45-PC-Transfer\n"
     ]
    },
    {
     "name": "stderr",
     "output_type": "stream",
     "text": [
      "/Users/angelina/miniforge3/envs/env_tf/lib/python3.9/site-packages/scipy/interpolate/_fitpack2.py:280: UserWarning: \n",
      "The maximal number of iterations maxit (set to 20 by the program)\n",
      "allowed for finding a smoothing spline with fp=s has been reached: s\n",
      "too small.\n",
      "There is an approximation returned but the corresponding weighted sum\n",
      "of squared residuals does not satisfy the condition abs(fp-s)/s < tol.\n",
      "  warnings.warn(message)\n"
     ]
    },
    {
     "name": "stdout",
     "output_type": "stream",
     "text": [
      "Processing 791: CPS2-ASU-T103-PD-ExpBlock1\n",
      "Processing 792: CPS2-ASU-T102-PD-Transfer\n"
     ]
    },
    {
     "name": "stderr",
     "output_type": "stream",
     "text": [
      "/Users/angelina/miniforge3/envs/env_tf/lib/python3.9/site-packages/scipy/interpolate/_fitpack2.py:280: UserWarning: \n",
      "The maximal number of iterations maxit (set to 20 by the program)\n",
      "allowed for finding a smoothing spline with fp=s has been reached: s\n",
      "too small.\n",
      "There is an approximation returned but the corresponding weighted sum\n",
      "of squared residuals does not satisfy the condition abs(fp-s)/s < tol.\n",
      "  warnings.warn(message)\n"
     ]
    },
    {
     "name": "stdout",
     "output_type": "stream",
     "text": [
      "Processing 793: CPS2-CU-T66-PA-ExpBlock1\n",
      "Processing 794: CPS2-CU-T13-PB-ExpBlock2\n",
      "Processing 795: CPS2-CU-T37-PB-ExpBlock1\n",
      "Processing 796: CPS2-CU-T40-PB-Transfer\n",
      "Processing 797: CPS2-ASU-T58-PB-ExpBlock2\n"
     ]
    },
    {
     "name": "stderr",
     "output_type": "stream",
     "text": [
      "/Users/angelina/miniforge3/envs/env_tf/lib/python3.9/site-packages/scipy/interpolate/_fitpack2.py:280: UserWarning: \n",
      "The maximal number of iterations maxit (set to 20 by the program)\n",
      "allowed for finding a smoothing spline with fp=s has been reached: s\n",
      "too small.\n",
      "There is an approximation returned but the corresponding weighted sum\n",
      "of squared residuals does not satisfy the condition abs(fp-s)/s < tol.\n",
      "  warnings.warn(message)\n"
     ]
    },
    {
     "name": "stdout",
     "output_type": "stream",
     "text": [
      "Processing 798: CPS2-ASU-T76-PB-Warmup\n",
      "Processing 799: CPS2-CU-T38-PA-Transfer\n",
      "Processing 800: CPS2-CU-T61-PA-ExpBlock2\n",
      "Processing 801: CPS2-CU-T14-PB-ExpBlock1\n",
      "Processing 802: CPS2-ASU-T71-PC-Warmup\n",
      "Processing 803: CPS2-ASU-T33-PD-ExpBlock1\n",
      "Processing 804: CPS2-CU-T66-PB-Transfer\n",
      "Processing 805: CPS2-CU-T34-PA-Warmup\n",
      "Processing 806: CPS2-ASU-T35-PC-ExpBlock1\n",
      "Processing 807: CPS2-ASU-T102-PC-ExpBlock2\n",
      "Processing 808: CPS2-ASU-T96-PA-Transfer\n",
      "Processing 809: CPS2-ASU-T21-PA-Transfer\n",
      "Processing 810: CPS2-CU-T63-PC-Transfer\n",
      "Processing 811: CPS2-CU-T30-PB-ExpBlock2\n"
     ]
    },
    {
     "name": "stderr",
     "output_type": "stream",
     "text": [
      "/Users/angelina/miniforge3/envs/env_tf/lib/python3.9/site-packages/scipy/interpolate/_fitpack2.py:280: UserWarning: \n",
      "The maximal number of iterations maxit (set to 20 by the program)\n",
      "allowed for finding a smoothing spline with fp=s has been reached: s\n",
      "too small.\n",
      "There is an approximation returned but the corresponding weighted sum\n",
      "of squared residuals does not satisfy the condition abs(fp-s)/s < tol.\n",
      "  warnings.warn(message)\n"
     ]
    },
    {
     "name": "stdout",
     "output_type": "stream",
     "text": [
      "Processing 812: CPS2-CU-T45-PA-ExpBlock1\n",
      "Processing 813: CPS2-ASU-T59-PB-Transfer\n",
      "Processing 814: CPS2-CU-T56-PC-ExpBlock2\n",
      "Processing 815: CPS2-CU-T49-PA-ExpBlock1\n",
      "Processing 816: CPS2-CU-T14-PC-Transfer\n",
      "Processing 817: CPS2-ASU-T99-PB-Transfer\n",
      "Processing 818: CPS2-ASU-T39-PC-ExpBlock1\n",
      "Processing 819: CPS2-ASU-T56-PA-Transfer\n",
      "Processing 820: CPS2-ASU-T26-PA-ExpBlock2\n",
      "Processing 821: CPS2-CU-T29-PC-Warmup\n"
     ]
    },
    {
     "name": "stderr",
     "output_type": "stream",
     "text": [
      "/Users/angelina/miniforge3/envs/env_tf/lib/python3.9/site-packages/scipy/interpolate/_fitpack2.py:280: UserWarning: \n",
      "The maximal number of iterations maxit (set to 20 by the program)\n",
      "allowed for finding a smoothing spline with fp=s has been reached: s\n",
      "too small.\n",
      "There is an approximation returned but the corresponding weighted sum\n",
      "of squared residuals does not satisfy the condition abs(fp-s)/s < tol.\n",
      "  warnings.warn(message)\n"
     ]
    },
    {
     "name": "stdout",
     "output_type": "stream",
     "text": [
      "Processing 822: CPS2-ASU-T77-PB-ExpBlock2\n",
      "Processing 823: CPS2-ASU-T91-PB-ExpBlock1\n"
     ]
    },
    {
     "name": "stderr",
     "output_type": "stream",
     "text": [
      "/Users/angelina/miniforge3/envs/env_tf/lib/python3.9/site-packages/scipy/interpolate/_fitpack2.py:280: UserWarning: \n",
      "The maximal number of iterations maxit (set to 20 by the program)\n",
      "allowed for finding a smoothing spline with fp=s has been reached: s\n",
      "too small.\n",
      "There is an approximation returned but the corresponding weighted sum\n",
      "of squared residuals does not satisfy the condition abs(fp-s)/s < tol.\n",
      "  warnings.warn(message)\n"
     ]
    },
    {
     "name": "stdout",
     "output_type": "stream",
     "text": [
      "Processing 824: CPS2-ASU-T47-PB-Warmup\n",
      "Processing 825: CPS2-CU-T18-PB-ExpBlock1\n",
      "Processing 826: CPS2-ASU-T41-PD-Transfer\n",
      "Processing 827: CPS2-CU-T69-PA-Transfer\n"
     ]
    },
    {
     "name": "stderr",
     "output_type": "stream",
     "text": [
      "/Users/angelina/miniforge3/envs/env_tf/lib/python3.9/site-packages/scipy/interpolate/_fitpack2.py:280: UserWarning: \n",
      "The maximal number of iterations maxit (set to 20 by the program)\n",
      "allowed for finding a smoothing spline with fp=s has been reached: s\n",
      "too small.\n",
      "There is an approximation returned but the corresponding weighted sum\n",
      "of squared residuals does not satisfy the condition abs(fp-s)/s < tol.\n",
      "  warnings.warn(message)\n"
     ]
    },
    {
     "name": "stdout",
     "output_type": "stream",
     "text": [
      "Processing 828: CPS2-CU-T48-PB-Transfer\n",
      "Processing 829: CPS2-CU-T47-PC-ExpBlock1\n",
      "Processing 830: CPS2-ASU-T72-PC-Transfer\n",
      "Processing 831: CPS2-CU-T30-PA-Transfer\n",
      "Processing 832: CPS2-CU-T45-PA-Warmup\n",
      "Processing 833: CPS2-ASU-T100-PA-ExpBlock2\n",
      "Processing 834: CPS2-ASU-T42-PB-ExpBlock2\n"
     ]
    },
    {
     "name": "stderr",
     "output_type": "stream",
     "text": [
      "/Users/angelina/miniforge3/envs/env_tf/lib/python3.9/site-packages/scipy/interpolate/_fitpack2.py:280: UserWarning: \n",
      "The maximal number of iterations maxit (set to 20 by the program)\n",
      "allowed for finding a smoothing spline with fp=s has been reached: s\n",
      "too small.\n",
      "There is an approximation returned but the corresponding weighted sum\n",
      "of squared residuals does not satisfy the condition abs(fp-s)/s < tol.\n",
      "  warnings.warn(message)\n"
     ]
    },
    {
     "name": "stdout",
     "output_type": "stream",
     "text": [
      "Processing 835: CPS2-ASU-T13-PA-ExpBlock2\n",
      "Processing 836: CPS2-ASU-T77-PB-Transfer\n",
      "Processing 837: CPS2-CU-T66-PC-Warmup\n"
     ]
    },
    {
     "name": "stderr",
     "output_type": "stream",
     "text": [
      "/Users/angelina/miniforge3/envs/env_tf/lib/python3.9/site-packages/scipy/interpolate/_fitpack2.py:280: UserWarning: \n",
      "The maximal number of iterations maxit (set to 20 by the program)\n",
      "allowed for finding a smoothing spline with fp=s has been reached: s\n",
      "too small.\n",
      "There is an approximation returned but the corresponding weighted sum\n",
      "of squared residuals does not satisfy the condition abs(fp-s)/s < tol.\n",
      "  warnings.warn(message)\n"
     ]
    },
    {
     "name": "stdout",
     "output_type": "stream",
     "text": [
      "Processing 838: CPS2-CU-T63-PC-ExpBlock2\n"
     ]
    },
    {
     "name": "stderr",
     "output_type": "stream",
     "text": [
      "/Users/angelina/miniforge3/envs/env_tf/lib/python3.9/site-packages/scipy/interpolate/_fitpack2.py:280: UserWarning: \n",
      "The maximal number of iterations maxit (set to 20 by the program)\n",
      "allowed for finding a smoothing spline with fp=s has been reached: s\n",
      "too small.\n",
      "There is an approximation returned but the corresponding weighted sum\n",
      "of squared residuals does not satisfy the condition abs(fp-s)/s < tol.\n",
      "  warnings.warn(message)\n"
     ]
    },
    {
     "name": "stdout",
     "output_type": "stream",
     "text": [
      "Processing 839: CPS2-ASU-T78-PA-Transfer\n",
      "Processing 840: CPS2-CU-T70-PA-ExpBlock1\n"
     ]
    },
    {
     "name": "stderr",
     "output_type": "stream",
     "text": [
      "/Users/angelina/miniforge3/envs/env_tf/lib/python3.9/site-packages/scipy/interpolate/_fitpack2.py:280: UserWarning: \n",
      "The maximal number of iterations maxit (set to 20 by the program)\n",
      "allowed for finding a smoothing spline with fp=s has been reached: s\n",
      "too small.\n",
      "There is an approximation returned but the corresponding weighted sum\n",
      "of squared residuals does not satisfy the condition abs(fp-s)/s < tol.\n",
      "  warnings.warn(message)\n"
     ]
    },
    {
     "name": "stdout",
     "output_type": "stream",
     "text": [
      "Processing 841: CPS2-ASU-T36-PB-Warmup\n",
      "Processing 842: CPS2-CU-T50-PB-Warmup\n",
      "Processing 843: CPS2-CU-T58-PC-Warmup\n",
      "Processing 844: CPS2-ASU-T22-PD-ExpBlock2\n",
      "Processing 845: CPS2-ASU-T24-PC-ExpBlock2\n"
     ]
    },
    {
     "name": "stderr",
     "output_type": "stream",
     "text": [
      "/Users/angelina/miniforge3/envs/env_tf/lib/python3.9/site-packages/scipy/interpolate/_fitpack2.py:280: UserWarning: \n",
      "The maximal number of iterations maxit (set to 20 by the program)\n",
      "allowed for finding a smoothing spline with fp=s has been reached: s\n",
      "too small.\n",
      "There is an approximation returned but the corresponding weighted sum\n",
      "of squared residuals does not satisfy the condition abs(fp-s)/s < tol.\n",
      "  warnings.warn(message)\n"
     ]
    },
    {
     "name": "stdout",
     "output_type": "stream",
     "text": [
      "Processing 846: CPS2-CU-T54-PA-ExpBlock2\n",
      "Processing 847: CPS2-CU-T29-PC-ExpBlock2\n",
      "Processing 848: CPS2-ASU-T46-PC-ExpBlock1\n",
      "Processing 849: CPS2-ASU-T83-PA-Transfer\n"
     ]
    },
    {
     "name": "stderr",
     "output_type": "stream",
     "text": [
      "/Users/angelina/miniforge3/envs/env_tf/lib/python3.9/site-packages/scipy/interpolate/_fitpack2.py:280: UserWarning: \n",
      "The maximal number of iterations maxit (set to 20 by the program)\n",
      "allowed for finding a smoothing spline with fp=s has been reached: s\n",
      "too small.\n",
      "There is an approximation returned but the corresponding weighted sum\n",
      "of squared residuals does not satisfy the condition abs(fp-s)/s < tol.\n",
      "  warnings.warn(message)\n"
     ]
    },
    {
     "name": "stdout",
     "output_type": "stream",
     "text": [
      "Processing 850: CPS2-ASU-T34-PA-Transfer\n"
     ]
    },
    {
     "name": "stderr",
     "output_type": "stream",
     "text": [
      "/Users/angelina/miniforge3/envs/env_tf/lib/python3.9/site-packages/scipy/interpolate/_fitpack2.py:280: UserWarning: \n",
      "The maximal number of iterations maxit (set to 20 by the program)\n",
      "allowed for finding a smoothing spline with fp=s has been reached: s\n",
      "too small.\n",
      "There is an approximation returned but the corresponding weighted sum\n",
      "of squared residuals does not satisfy the condition abs(fp-s)/s < tol.\n",
      "  warnings.warn(message)\n"
     ]
    },
    {
     "name": "stdout",
     "output_type": "stream",
     "text": [
      "Processing 851: CPS2-ASU-T40-PD-ExpBlock1\n",
      "Processing 852: CPS2-ASU-T84-PC-ExpBlock1\n",
      "Processing 853: CPS2-CU-T56-PA-Warmup\n",
      "Processing 854: CPS2-ASU-T97-PA-ExpBlock2\n",
      "Processing 855: CPS2-ASU-T88-PC-ExpBlock1\n",
      "Processing 856: CPS2-CU-T68-PA-Warmup\n",
      "Processing 857: CPS2-ASU-T20-PB-ExpBlock1\n"
     ]
    },
    {
     "name": "stderr",
     "output_type": "stream",
     "text": [
      "/Users/angelina/miniforge3/envs/env_tf/lib/python3.9/site-packages/scipy/interpolate/_fitpack2.py:280: UserWarning: \n",
      "The maximal number of iterations maxit (set to 20 by the program)\n",
      "allowed for finding a smoothing spline with fp=s has been reached: s\n",
      "too small.\n",
      "There is an approximation returned but the corresponding weighted sum\n",
      "of squared residuals does not satisfy the condition abs(fp-s)/s < tol.\n",
      "  warnings.warn(message)\n"
     ]
    },
    {
     "name": "stdout",
     "output_type": "stream",
     "text": [
      "Processing 858: CPS2-ASU-T55-PA-ExpBlock2\n",
      "Processing 859: CPS2-ASU-T89-PC-Transfer\n",
      "Processing 860: CPS2-ASU-T68-PD-ExpBlock2\n",
      "Processing 861: CPS2-ASU-T70-PD-Warmup\n",
      "Processing 862: CPS2-ASU-T54-PD-Transfer\n",
      "Processing 863: CPS2-ASU-T67-PC-Transfer\n",
      "Processing 864: CPS2-CU-T27-PA-Warmup\n"
     ]
    },
    {
     "name": "stderr",
     "output_type": "stream",
     "text": [
      "/Users/angelina/miniforge3/envs/env_tf/lib/python3.9/site-packages/scipy/interpolate/_fitpack2.py:280: UserWarning: \n",
      "The maximal number of iterations maxit (set to 20 by the program)\n",
      "allowed for finding a smoothing spline with fp=s has been reached: s\n",
      "too small.\n",
      "There is an approximation returned but the corresponding weighted sum\n",
      "of squared residuals does not satisfy the condition abs(fp-s)/s < tol.\n",
      "  warnings.warn(message)\n"
     ]
    },
    {
     "name": "stdout",
     "output_type": "stream",
     "text": [
      "Processing 865: CPS2-CU-T25-PA-Transfer\n",
      "Processing 866: CPS2-ASU-T60-PA-ExpBlock2\n",
      "Processing 867: CPS2-ASU-T99-PC-ExpBlock2\n",
      "Processing 868: CPS2-ASU-T44-PA-ExpBlock1\n",
      "Processing 869: CPS2-ASU-T79-PD-ExpBlock1\n",
      "Processing 870: CPS2-CU-T58-PC-Transfer\n",
      "Processing 871: CPS2-ASU-T62-PB-Transfer\n"
     ]
    },
    {
     "name": "stderr",
     "output_type": "stream",
     "text": [
      "/Users/angelina/miniforge3/envs/env_tf/lib/python3.9/site-packages/scipy/interpolate/_fitpack2.py:280: UserWarning: \n",
      "The maximal number of iterations maxit (set to 20 by the program)\n",
      "allowed for finding a smoothing spline with fp=s has been reached: s\n",
      "too small.\n",
      "There is an approximation returned but the corresponding weighted sum\n",
      "of squared residuals does not satisfy the condition abs(fp-s)/s < tol.\n",
      "  warnings.warn(message)\n"
     ]
    },
    {
     "name": "stdout",
     "output_type": "stream",
     "text": [
      "Processing 872: CPS2-CU-T34-PC-ExpBlock1\n",
      "Processing 873: CPS2-CU-T27-PA-ExpBlock2\n"
     ]
    },
    {
     "name": "stderr",
     "output_type": "stream",
     "text": [
      "/Users/angelina/miniforge3/envs/env_tf/lib/python3.9/site-packages/scipy/interpolate/_fitpack2.py:280: UserWarning: \n",
      "The maximal number of iterations maxit (set to 20 by the program)\n",
      "allowed for finding a smoothing spline with fp=s has been reached: s\n",
      "too small.\n",
      "There is an approximation returned but the corresponding weighted sum\n",
      "of squared residuals does not satisfy the condition abs(fp-s)/s < tol.\n",
      "  warnings.warn(message)\n"
     ]
    },
    {
     "name": "stdout",
     "output_type": "stream",
     "text": [
      "Processing 874: CPS2-CU-T52-PB-ExpBlock1\n",
      "Processing 875: CPS2-CU-T38-PC-ExpBlock1\n"
     ]
    },
    {
     "name": "stderr",
     "output_type": "stream",
     "text": [
      "/Users/angelina/miniforge3/envs/env_tf/lib/python3.9/site-packages/scipy/interpolate/_fitpack2.py:280: UserWarning: \n",
      "The maximal number of iterations maxit (set to 20 by the program)\n",
      "allowed for finding a smoothing spline with fp=s has been reached: s\n",
      "too small.\n",
      "There is an approximation returned but the corresponding weighted sum\n",
      "of squared residuals does not satisfy the condition abs(fp-s)/s < tol.\n",
      "  warnings.warn(message)\n"
     ]
    },
    {
     "name": "stdout",
     "output_type": "stream",
     "text": [
      "Processing 876: CPS2-ASU-T102-PC-Transfer\n"
     ]
    },
    {
     "name": "stderr",
     "output_type": "stream",
     "text": [
      "/Users/angelina/miniforge3/envs/env_tf/lib/python3.9/site-packages/scipy/interpolate/_fitpack2.py:280: UserWarning: \n",
      "The maximal number of iterations maxit (set to 20 by the program)\n",
      "allowed for finding a smoothing spline with fp=s has been reached: s\n",
      "too small.\n",
      "There is an approximation returned but the corresponding weighted sum\n",
      "of squared residuals does not satisfy the condition abs(fp-s)/s < tol.\n",
      "  warnings.warn(message)\n"
     ]
    },
    {
     "name": "stdout",
     "output_type": "stream",
     "text": [
      "Processing 877: CPS2-ASU-T54-PB-Warmup\n"
     ]
    },
    {
     "name": "stderr",
     "output_type": "stream",
     "text": [
      "/Users/angelina/miniforge3/envs/env_tf/lib/python3.9/site-packages/scipy/interpolate/_fitpack2.py:280: UserWarning: \n",
      "The maximal number of iterations maxit (set to 20 by the program)\n",
      "allowed for finding a smoothing spline with fp=s has been reached: s\n",
      "too small.\n",
      "There is an approximation returned but the corresponding weighted sum\n",
      "of squared residuals does not satisfy the condition abs(fp-s)/s < tol.\n",
      "  warnings.warn(message)\n"
     ]
    },
    {
     "name": "stdout",
     "output_type": "stream",
     "text": [
      "Processing 878: CPS2-ASU-T57-PC-ExpBlock2\n",
      "Processing 879: CPS2-ASU-T51-PD-ExpBlock2\n"
     ]
    },
    {
     "name": "stderr",
     "output_type": "stream",
     "text": [
      "/Users/angelina/miniforge3/envs/env_tf/lib/python3.9/site-packages/scipy/interpolate/_fitpack2.py:280: UserWarning: \n",
      "The maximal number of iterations maxit (set to 20 by the program)\n",
      "allowed for finding a smoothing spline with fp=s has been reached: s\n",
      "too small.\n",
      "There is an approximation returned but the corresponding weighted sum\n",
      "of squared residuals does not satisfy the condition abs(fp-s)/s < tol.\n",
      "  warnings.warn(message)\n"
     ]
    },
    {
     "name": "stdout",
     "output_type": "stream",
     "text": [
      "Processing 880: CPS2-CU-T19-PA-Warmup\n",
      "Processing 881: CPS2-ASU-T95-PC-ExpBlock2\n"
     ]
    },
    {
     "name": "stderr",
     "output_type": "stream",
     "text": [
      "/Users/angelina/miniforge3/envs/env_tf/lib/python3.9/site-packages/scipy/interpolate/_fitpack2.py:280: UserWarning: \n",
      "The maximal number of iterations maxit (set to 20 by the program)\n",
      "allowed for finding a smoothing spline with fp=s has been reached: s\n",
      "too small.\n",
      "There is an approximation returned but the corresponding weighted sum\n",
      "of squared residuals does not satisfy the condition abs(fp-s)/s < tol.\n",
      "  warnings.warn(message)\n"
     ]
    },
    {
     "name": "stdout",
     "output_type": "stream",
     "text": [
      "Processing 882: CPS2-ASU-T19-PB-ExpBlock1\n",
      "Processing 883: CPS2-CU-T52-PA-Transfer\n",
      "Processing 884: CPS2-ASU-T10-PC-Transfer\n"
     ]
    },
    {
     "name": "stderr",
     "output_type": "stream",
     "text": [
      "/Users/angelina/miniforge3/envs/env_tf/lib/python3.9/site-packages/scipy/interpolate/_fitpack2.py:280: UserWarning: \n",
      "The maximal number of iterations maxit (set to 20 by the program)\n",
      "allowed for finding a smoothing spline with fp=s has been reached: s\n",
      "too small.\n",
      "There is an approximation returned but the corresponding weighted sum\n",
      "of squared residuals does not satisfy the condition abs(fp-s)/s < tol.\n",
      "  warnings.warn(message)\n"
     ]
    },
    {
     "name": "stdout",
     "output_type": "stream",
     "text": [
      "Processing 885: CPS2-CU-T16-PA-Warmup\n",
      "Processing 886: CPS2-ASU-T50-PC-ExpBlock1\n"
     ]
    },
    {
     "name": "stderr",
     "output_type": "stream",
     "text": [
      "/Users/angelina/miniforge3/envs/env_tf/lib/python3.9/site-packages/scipy/interpolate/_fitpack2.py:280: UserWarning: \n",
      "The maximal number of iterations maxit (set to 20 by the program)\n",
      "allowed for finding a smoothing spline with fp=s has been reached: s\n",
      "too small.\n",
      "There is an approximation returned but the corresponding weighted sum\n",
      "of squared residuals does not satisfy the condition abs(fp-s)/s < tol.\n",
      "  warnings.warn(message)\n"
     ]
    },
    {
     "name": "stdout",
     "output_type": "stream",
     "text": [
      "Processing 887: CPS2-ASU-T36-PC-Transfer\n"
     ]
    },
    {
     "name": "stderr",
     "output_type": "stream",
     "text": [
      "/Users/angelina/miniforge3/envs/env_tf/lib/python3.9/site-packages/scipy/interpolate/_fitpack2.py:280: UserWarning: \n",
      "The maximal number of iterations maxit (set to 20 by the program)\n",
      "allowed for finding a smoothing spline with fp=s has been reached: s\n",
      "too small.\n",
      "There is an approximation returned but the corresponding weighted sum\n",
      "of squared residuals does not satisfy the condition abs(fp-s)/s < tol.\n",
      "  warnings.warn(message)\n"
     ]
    },
    {
     "name": "stdout",
     "output_type": "stream",
     "text": [
      "Processing 888: CPS2-ASU-T70-PA-Warmup\n"
     ]
    },
    {
     "name": "stderr",
     "output_type": "stream",
     "text": [
      "/Users/angelina/miniforge3/envs/env_tf/lib/python3.9/site-packages/scipy/interpolate/_fitpack2.py:280: UserWarning: \n",
      "The maximal number of iterations maxit (set to 20 by the program)\n",
      "allowed for finding a smoothing spline with fp=s has been reached: s\n",
      "too small.\n",
      "There is an approximation returned but the corresponding weighted sum\n",
      "of squared residuals does not satisfy the condition abs(fp-s)/s < tol.\n",
      "  warnings.warn(message)\n"
     ]
    },
    {
     "name": "stdout",
     "output_type": "stream",
     "text": [
      "Processing 889: CPS2-ASU-T92-PD-Warmup\n",
      "Processing 890: CPS2-CU-T20-PA-ExpBlock1\n",
      "Processing 891: CPS2-CU-T35-PC-Warmup\n",
      "Processing 892: CPS2-CU-T71-PB-ExpBlock1\n",
      "Processing 893: CPS2-ASU-T53-PC-Warmup\n",
      "Processing 894: CPS2-ASU-T84-PB-Transfer\n",
      "Processing 895: CPS2-ASU-T74-PC-ExpBlock2\n",
      "Processing 896: CPS2-ASU-T67-PA-ExpBlock1\n",
      "Processing 897: CPS2-ASU-T78-PC-ExpBlock2\n"
     ]
    },
    {
     "name": "stderr",
     "output_type": "stream",
     "text": [
      "/Users/angelina/miniforge3/envs/env_tf/lib/python3.9/site-packages/scipy/interpolate/_fitpack2.py:280: UserWarning: \n",
      "The maximal number of iterations maxit (set to 20 by the program)\n",
      "allowed for finding a smoothing spline with fp=s has been reached: s\n",
      "too small.\n",
      "There is an approximation returned but the corresponding weighted sum\n",
      "of squared residuals does not satisfy the condition abs(fp-s)/s < tol.\n",
      "  warnings.warn(message)\n"
     ]
    },
    {
     "name": "stdout",
     "output_type": "stream",
     "text": [
      "Processing 898: CPS2-ASU-T44-PB-Transfer\n"
     ]
    },
    {
     "name": "stderr",
     "output_type": "stream",
     "text": [
      "/Users/angelina/miniforge3/envs/env_tf/lib/python3.9/site-packages/scipy/interpolate/_fitpack2.py:280: UserWarning: \n",
      "The maximal number of iterations maxit (set to 20 by the program)\n",
      "allowed for finding a smoothing spline with fp=s has been reached: s\n",
      "too small.\n",
      "There is an approximation returned but the corresponding weighted sum\n",
      "of squared residuals does not satisfy the condition abs(fp-s)/s < tol.\n",
      "  warnings.warn(message)\n"
     ]
    },
    {
     "name": "stdout",
     "output_type": "stream",
     "text": [
      "Processing 899: CPS2-CU-T28-PA-Warmup\n",
      "Processing 900: CPS2-CU-T33-PC-ExpBlock2\n"
     ]
    },
    {
     "name": "stderr",
     "output_type": "stream",
     "text": [
      "/Users/angelina/miniforge3/envs/env_tf/lib/python3.9/site-packages/scipy/interpolate/_fitpack2.py:280: UserWarning: \n",
      "The maximal number of iterations maxit (set to 20 by the program)\n",
      "allowed for finding a smoothing spline with fp=s has been reached: s\n",
      "too small.\n",
      "There is an approximation returned but the corresponding weighted sum\n",
      "of squared residuals does not satisfy the condition abs(fp-s)/s < tol.\n",
      "  warnings.warn(message)\n"
     ]
    },
    {
     "name": "stdout",
     "output_type": "stream",
     "text": [
      "Processing 901: CPS2-ASU-T101-PB-ExpBlock2\n",
      "Processing 902: CPS2-ASU-T41-PC-Transfer\n",
      "Processing 903: CPS2-ASU-T36-PB-ExpBlock1\n"
     ]
    },
    {
     "name": "stderr",
     "output_type": "stream",
     "text": [
      "/Users/angelina/miniforge3/envs/env_tf/lib/python3.9/site-packages/scipy/interpolate/_fitpack2.py:280: UserWarning: \n",
      "The maximal number of iterations maxit (set to 20 by the program)\n",
      "allowed for finding a smoothing spline with fp=s has been reached: s\n",
      "too small.\n",
      "There is an approximation returned but the corresponding weighted sum\n",
      "of squared residuals does not satisfy the condition abs(fp-s)/s < tol.\n",
      "  warnings.warn(message)\n"
     ]
    },
    {
     "name": "stdout",
     "output_type": "stream",
     "text": [
      "Processing 904: CPS2-ASU-T43-PA-ExpBlock2\n",
      "Processing 905: CPS2-ASU-T76-PA-ExpBlock2\n"
     ]
    },
    {
     "name": "stderr",
     "output_type": "stream",
     "text": [
      "/Users/angelina/miniforge3/envs/env_tf/lib/python3.9/site-packages/scipy/interpolate/_fitpack2.py:280: UserWarning: \n",
      "The maximal number of iterations maxit (set to 20 by the program)\n",
      "allowed for finding a smoothing spline with fp=s has been reached: s\n",
      "too small.\n",
      "There is an approximation returned but the corresponding weighted sum\n",
      "of squared residuals does not satisfy the condition abs(fp-s)/s < tol.\n",
      "  warnings.warn(message)\n"
     ]
    },
    {
     "name": "stdout",
     "output_type": "stream",
     "text": [
      "Processing 906: CPS2-ASU-T69-PC-ExpBlock1\n",
      "Processing 907: CPS2-ASU-T90-PA-ExpBlock1\n",
      "Processing 908: CPS2-ASU-T18-PC-Transfer\n",
      "Processing 909: CPS2-CU-T44-PC-Warmup\n",
      "Processing 910: CPS2-CU-T19-PA-ExpBlock1\n"
     ]
    },
    {
     "name": "stderr",
     "output_type": "stream",
     "text": [
      "/Users/angelina/miniforge3/envs/env_tf/lib/python3.9/site-packages/scipy/interpolate/_fitpack2.py:280: UserWarning: \n",
      "The maximal number of iterations maxit (set to 20 by the program)\n",
      "allowed for finding a smoothing spline with fp=s has been reached: s\n",
      "too small.\n",
      "There is an approximation returned but the corresponding weighted sum\n",
      "of squared residuals does not satisfy the condition abs(fp-s)/s < tol.\n",
      "  warnings.warn(message)\n"
     ]
    },
    {
     "name": "stdout",
     "output_type": "stream",
     "text": [
      "Processing 911: CPS2-CU-T22-PB-Transfer\n",
      "Processing 912: CPS2-ASU-T22-PC-Warmup\n",
      "Processing 913: CPS2-ASU-T65-PA-Transfer\n",
      "Processing 914: CPS2-CU-T48-PB-ExpBlock1\n",
      "Processing 915: CPS2-CU-T67-PA-Warmup\n",
      "Processing 916: CPS2-CU-T27-PC-Transfer\n",
      "Processing 917: CPS2-ASU-T89-PD-ExpBlock2\n",
      "Processing 918: CPS2-ASU-T27-PB-ExpBlock2\n",
      "Processing 919: CPS2-ASU-T41-PC-ExpBlock2\n",
      "Processing 920: CPS2-ASU-T80-PC-Warmup\n",
      "Processing 921: CPS2-ASU-T85-PD-ExpBlock2\n",
      "Processing 922: CPS2-CU-T59-PA-Warmup\n",
      "Processing 923: CPS2-CU-T31-PA-ExpBlock2\n",
      "Processing 924: CPS2-CU-T44-PB-ExpBlock1\n"
     ]
    },
    {
     "name": "stderr",
     "output_type": "stream",
     "text": [
      "/Users/angelina/miniforge3/envs/env_tf/lib/python3.9/site-packages/scipy/interpolate/_fitpack2.py:280: UserWarning: \n",
      "The maximal number of iterations maxit (set to 20 by the program)\n",
      "allowed for finding a smoothing spline with fp=s has been reached: s\n",
      "too small.\n",
      "There is an approximation returned but the corresponding weighted sum\n",
      "of squared residuals does not satisfy the condition abs(fp-s)/s < tol.\n",
      "  warnings.warn(message)\n"
     ]
    },
    {
     "name": "stdout",
     "output_type": "stream",
     "text": [
      "Processing 925: CPS2-CU-T60-PB-ExpBlock2\n",
      "Processing 926: CPS2-CU-T15-PA-ExpBlock1\n",
      "Processing 927: CPS2-ASU-T83-PC-ExpBlock2\n"
     ]
    },
    {
     "name": "stderr",
     "output_type": "stream",
     "text": [
      "/Users/angelina/miniforge3/envs/env_tf/lib/python3.9/site-packages/scipy/interpolate/_fitpack2.py:280: UserWarning: \n",
      "The maximal number of iterations maxit (set to 20 by the program)\n",
      "allowed for finding a smoothing spline with fp=s has been reached: s\n",
      "too small.\n",
      "There is an approximation returned but the corresponding weighted sum\n",
      "of squared residuals does not satisfy the condition abs(fp-s)/s < tol.\n",
      "  warnings.warn(message)\n"
     ]
    },
    {
     "name": "stdout",
     "output_type": "stream",
     "text": [
      "Processing 928: CPS2-ASU-T100-PA-Transfer\n"
     ]
    },
    {
     "name": "stderr",
     "output_type": "stream",
     "text": [
      "/Users/angelina/miniforge3/envs/env_tf/lib/python3.9/site-packages/scipy/interpolate/_fitpack2.py:280: UserWarning: \n",
      "The maximal number of iterations maxit (set to 20 by the program)\n",
      "allowed for finding a smoothing spline with fp=s has been reached: s\n",
      "too small.\n",
      "There is an approximation returned but the corresponding weighted sum\n",
      "of squared residuals does not satisfy the condition abs(fp-s)/s < tol.\n",
      "  warnings.warn(message)\n"
     ]
    },
    {
     "name": "stdout",
     "output_type": "stream",
     "text": [
      "Processing 929: CPS2-ASU-T41-PD-Warmup\n",
      "Processing 930: CPS2-CU-T25-PB-Warmup\n",
      "Processing 931: CPS2-ASU-T43-PB-Warmup\n",
      "Processing 932: CPS2-ASU-T15-PA-Transfer\n",
      "Processing 933: CPS2-ASU-T68-PD-ExpBlock1\n",
      "Processing 934: CPS2-ASU-T20-PB-ExpBlock2\n",
      "Processing 935: CPS2-ASU-T55-PA-ExpBlock1\n",
      "Processing 936: CPS2-CU-T57-PC-Transfer\n",
      "Processing 937: CPS2-ASU-T97-PA-ExpBlock1\n"
     ]
    },
    {
     "name": "stderr",
     "output_type": "stream",
     "text": [
      "/Users/angelina/miniforge3/envs/env_tf/lib/python3.9/site-packages/scipy/interpolate/_fitpack2.py:280: UserWarning: \n",
      "The maximal number of iterations maxit (set to 20 by the program)\n",
      "allowed for finding a smoothing spline with fp=s has been reached: s\n",
      "too small.\n",
      "There is an approximation returned but the corresponding weighted sum\n",
      "of squared residuals does not satisfy the condition abs(fp-s)/s < tol.\n",
      "  warnings.warn(message)\n"
     ]
    },
    {
     "name": "stdout",
     "output_type": "stream",
     "text": [
      "Processing 938: CPS2-ASU-T88-PC-ExpBlock2\n",
      "Processing 939: CPS2-ASU-T68-PA-Warmup\n",
      "Processing 940: CPS2-ASU-T68-PC-Transfer\n"
     ]
    },
    {
     "name": "stderr",
     "output_type": "stream",
     "text": [
      "/Users/angelina/miniforge3/envs/env_tf/lib/python3.9/site-packages/scipy/interpolate/_fitpack2.py:280: UserWarning: \n",
      "The maximal number of iterations maxit (set to 20 by the program)\n",
      "allowed for finding a smoothing spline with fp=s has been reached: s\n",
      "too small.\n",
      "There is an approximation returned but the corresponding weighted sum\n",
      "of squared residuals does not satisfy the condition abs(fp-s)/s < tol.\n",
      "  warnings.warn(message)\n"
     ]
    },
    {
     "name": "stdout",
     "output_type": "stream",
     "text": [
      "Processing 941: CPS2-CU-T52-PB-Transfer\n",
      "Processing 942: CPS2-CU-T25-PB-Transfer\n",
      "Processing 943: CPS2-ASU-T56-PA-Warmup\n"
     ]
    },
    {
     "name": "stderr",
     "output_type": "stream",
     "text": [
      "/Users/angelina/miniforge3/envs/env_tf/lib/python3.9/site-packages/scipy/interpolate/_fitpack2.py:280: UserWarning: \n",
      "The maximal number of iterations maxit (set to 20 by the program)\n",
      "allowed for finding a smoothing spline with fp=s has been reached: s\n",
      "too small.\n",
      "There is an approximation returned but the corresponding weighted sum\n",
      "of squared residuals does not satisfy the condition abs(fp-s)/s < tol.\n",
      "  warnings.warn(message)\n"
     ]
    },
    {
     "name": "stdout",
     "output_type": "stream",
     "text": [
      "Processing 944: CPS2-ASU-T84-PC-ExpBlock2\n"
     ]
    },
    {
     "name": "stderr",
     "output_type": "stream",
     "text": [
      "/Users/angelina/miniforge3/envs/env_tf/lib/python3.9/site-packages/scipy/interpolate/_fitpack2.py:280: UserWarning: \n",
      "The maximal number of iterations maxit (set to 20 by the program)\n",
      "allowed for finding a smoothing spline with fp=s has been reached: s\n",
      "too small.\n",
      "There is an approximation returned but the corresponding weighted sum\n",
      "of squared residuals does not satisfy the condition abs(fp-s)/s < tol.\n",
      "  warnings.warn(message)\n"
     ]
    },
    {
     "name": "stdout",
     "output_type": "stream",
     "text": [
      "Processing 945: CPS2-ASU-T40-PD-ExpBlock2\n",
      "Processing 946: CPS2-CU-T30-PA-Warmup\n",
      "Processing 947: CPS2-ASU-T46-PC-ExpBlock2\n",
      "Processing 948: CPS2-CU-T20-PC-Transfer\n"
     ]
    },
    {
     "name": "stderr",
     "output_type": "stream",
     "text": [
      "/Users/angelina/miniforge3/envs/env_tf/lib/python3.9/site-packages/scipy/interpolate/_fitpack2.py:280: UserWarning: \n",
      "The maximal number of iterations maxit (set to 20 by the program)\n",
      "allowed for finding a smoothing spline with fp=s has been reached: s\n",
      "too small.\n",
      "There is an approximation returned but the corresponding weighted sum\n",
      "of squared residuals does not satisfy the condition abs(fp-s)/s < tol.\n",
      "  warnings.warn(message)\n"
     ]
    },
    {
     "name": "stdout",
     "output_type": "stream",
     "text": [
      "Processing 949: CPS2-ASU-T75-PC-Warmup\n"
     ]
    },
    {
     "name": "stderr",
     "output_type": "stream",
     "text": [
      "/Users/angelina/miniforge3/envs/env_tf/lib/python3.9/site-packages/scipy/interpolate/_fitpack2.py:280: UserWarning: \n",
      "The maximal number of iterations maxit (set to 20 by the program)\n",
      "allowed for finding a smoothing spline with fp=s has been reached: s\n",
      "too small.\n",
      "There is an approximation returned but the corresponding weighted sum\n",
      "of squared residuals does not satisfy the condition abs(fp-s)/s < tol.\n",
      "  warnings.warn(message)\n"
     ]
    },
    {
     "name": "stdout",
     "output_type": "stream",
     "text": [
      "Processing 950: CPS2-CU-T29-PC-ExpBlock1\n"
     ]
    },
    {
     "name": "stderr",
     "output_type": "stream",
     "text": [
      "/Users/angelina/miniforge3/envs/env_tf/lib/python3.9/site-packages/scipy/interpolate/_fitpack2.py:280: UserWarning: \n",
      "The maximal number of iterations maxit (set to 20 by the program)\n",
      "allowed for finding a smoothing spline with fp=s has been reached: s\n",
      "too small.\n",
      "There is an approximation returned but the corresponding weighted sum\n",
      "of squared residuals does not satisfy the condition abs(fp-s)/s < tol.\n",
      "  warnings.warn(message)\n"
     ]
    },
    {
     "name": "stdout",
     "output_type": "stream",
     "text": [
      "Processing 951: CPS2-ASU-T62-PA-Transfer\n",
      "Processing 952: CPS2-ASU-T19-PA-Warmup\n",
      "Processing 953: CPS2-ASU-T103-PB-Warmup\n",
      "Processing 954: CPS2-ASU-T19-PB-ExpBlock2\n",
      "Processing 955: CPS2-ASU-T95-PC-ExpBlock1\n",
      "Processing 956: CPS2-ASU-T51-PD-ExpBlock1\n"
     ]
    },
    {
     "name": "stderr",
     "output_type": "stream",
     "text": [
      "/Users/angelina/miniforge3/envs/env_tf/lib/python3.9/site-packages/scipy/interpolate/_fitpack2.py:280: UserWarning: \n",
      "The maximal number of iterations maxit (set to 20 by the program)\n",
      "allowed for finding a smoothing spline with fp=s has been reached: s\n",
      "too small.\n",
      "There is an approximation returned but the corresponding weighted sum\n",
      "of squared residuals does not satisfy the condition abs(fp-s)/s < tol.\n",
      "  warnings.warn(message)\n"
     ]
    },
    {
     "name": "stdout",
     "output_type": "stream",
     "text": [
      "Processing 957: CPS2-ASU-T46-PC-Transfer\n",
      "Processing 958: CPS2-ASU-T67-PD-Warmup\n",
      "Processing 959: CPS2-ASU-T57-PC-ExpBlock1\n",
      "Processing 960: CPS2-CU-T27-PA-ExpBlock1\n",
      "Processing 961: CPS2-CU-T52-PB-ExpBlock2\n",
      "Processing 962: CPS2-CU-T54-PB-Warmup\n"
     ]
    },
    {
     "name": "stderr",
     "output_type": "stream",
     "text": [
      "/Users/angelina/miniforge3/envs/env_tf/lib/python3.9/site-packages/scipy/interpolate/_fitpack2.py:280: UserWarning: \n",
      "The maximal number of iterations maxit (set to 20 by the program)\n",
      "allowed for finding a smoothing spline with fp=s has been reached: s\n",
      "too small.\n",
      "There is an approximation returned but the corresponding weighted sum\n",
      "of squared residuals does not satisfy the condition abs(fp-s)/s < tol.\n",
      "  warnings.warn(message)\n"
     ]
    },
    {
     "name": "stdout",
     "output_type": "stream",
     "text": [
      "Processing 963: CPS2-ASU-T32-PB-Warmup\n",
      "Processing 964: CPS2-CU-T38-PC-ExpBlock2\n",
      "Processing 965: CPS2-ASU-T59-PD-Warmup\n"
     ]
    },
    {
     "name": "stderr",
     "output_type": "stream",
     "text": [
      "/Users/angelina/miniforge3/envs/env_tf/lib/python3.9/site-packages/scipy/interpolate/_fitpack2.py:280: UserWarning: \n",
      "The maximal number of iterations maxit (set to 20 by the program)\n",
      "allowed for finding a smoothing spline with fp=s has been reached: s\n",
      "too small.\n",
      "There is an approximation returned but the corresponding weighted sum\n",
      "of squared residuals does not satisfy the condition abs(fp-s)/s < tol.\n",
      "  warnings.warn(message)\n"
     ]
    },
    {
     "name": "stdout",
     "output_type": "stream",
     "text": [
      "Processing 966: CPS2-CU-T62-PC-Warmup\n"
     ]
    },
    {
     "name": "stderr",
     "output_type": "stream",
     "text": [
      "/Users/angelina/miniforge3/envs/env_tf/lib/python3.9/site-packages/scipy/interpolate/_fitpack2.py:280: UserWarning: \n",
      "The maximal number of iterations maxit (set to 20 by the program)\n",
      "allowed for finding a smoothing spline with fp=s has been reached: s\n",
      "too small.\n",
      "There is an approximation returned but the corresponding weighted sum\n",
      "of squared residuals does not satisfy the condition abs(fp-s)/s < tol.\n",
      "  warnings.warn(message)\n"
     ]
    },
    {
     "name": "stdout",
     "output_type": "stream",
     "text": [
      "Processing 967: CPS2-CU-T34-PC-ExpBlock2\n",
      "Processing 968: CPS2-ASU-T86-PC-Transfer\n",
      "Processing 969: CPS2-ASU-T79-PD-ExpBlock2\n",
      "Processing 970: CPS2-ASU-T31-PC-Transfer\n",
      "Processing 971: CPS2-ASU-T44-PA-ExpBlock2\n",
      "Processing 972: CPS2-ASU-T90-PB-Warmup\n",
      "Processing 973: CPS2-ASU-T99-PC-ExpBlock1\n",
      "Processing 974: CPS2-ASU-T60-PA-ExpBlock1\n",
      "Processing 975: CPS2-CU-T41-PA-Warmup\n",
      "Processing 976: CPS2-ASU-T83-PB-Transfer\n",
      "Processing 977: CPS2-ASU-T34-PB-Transfer\n",
      "Processing 978: CPS2-ASU-T98-PC-Warmup\n",
      "Processing 979: CPS2-ASU-T36-PB-ExpBlock2\n"
     ]
    },
    {
     "name": "stderr",
     "output_type": "stream",
     "text": [
      "/Users/angelina/miniforge3/envs/env_tf/lib/python3.9/site-packages/scipy/interpolate/_fitpack2.py:280: UserWarning: \n",
      "The maximal number of iterations maxit (set to 20 by the program)\n",
      "allowed for finding a smoothing spline with fp=s has been reached: s\n",
      "too small.\n",
      "There is an approximation returned but the corresponding weighted sum\n",
      "of squared residuals does not satisfy the condition abs(fp-s)/s < tol.\n",
      "  warnings.warn(message)\n"
     ]
    },
    {
     "name": "stdout",
     "output_type": "stream",
     "text": [
      "Processing 980: CPS2-ASU-T43-PA-ExpBlock1\n",
      "Processing 981: CPS2-ASU-T101-PB-ExpBlock1\n",
      "Processing 982: CPS2-ASU-T28-PA-Warmup\n",
      "Processing 983: CPS2-CU-T33-PC-ExpBlock1\n",
      "Processing 984: CPS2-ASU-T97-PC-Warmup\n",
      "Processing 985: CPS2-ASU-T67-PA-ExpBlock2\n",
      "Processing 986: CPS2-CU-T65-PB-Warmup\n",
      "Processing 987: CPS2-ASU-T78-PC-ExpBlock1\n",
      "Processing 988: CPS2-CU-T53-PC-Warmup\n",
      "Processing 989: CPS2-CU-T22-PA-Transfer\n",
      "Processing 990: CPS2-ASU-T68-PD-Warmup\n",
      "Processing 991: CPS2-ASU-T74-PC-ExpBlock1\n",
      "Processing 992: CPS2-ASU-T35-PC-Warmup\n",
      "Processing 993: CPS2-ASU-T60-PC-Transfer\n",
      "Processing 994: CPS2-CU-T71-PB-ExpBlock2\n"
     ]
    },
    {
     "name": "stderr",
     "output_type": "stream",
     "text": [
      "/Users/angelina/miniforge3/envs/env_tf/lib/python3.9/site-packages/scipy/interpolate/_fitpack2.py:280: UserWarning: \n",
      "The maximal number of iterations maxit (set to 20 by the program)\n",
      "allowed for finding a smoothing spline with fp=s has been reached: s\n",
      "too small.\n",
      "There is an approximation returned but the corresponding weighted sum\n",
      "of squared residuals does not satisfy the condition abs(fp-s)/s < tol.\n",
      "  warnings.warn(message)\n"
     ]
    },
    {
     "name": "stdout",
     "output_type": "stream",
     "text": [
      "Processing 995: CPS2-CU-T70-PA-Warmup\n"
     ]
    },
    {
     "name": "stderr",
     "output_type": "stream",
     "text": [
      "/Users/angelina/miniforge3/envs/env_tf/lib/python3.9/site-packages/scipy/interpolate/_fitpack2.py:280: UserWarning: \n",
      "The maximal number of iterations maxit (set to 20 by the program)\n",
      "allowed for finding a smoothing spline with fp=s has been reached: s\n",
      "too small.\n",
      "There is an approximation returned but the corresponding weighted sum\n",
      "of squared residuals does not satisfy the condition abs(fp-s)/s < tol.\n",
      "  warnings.warn(message)\n"
     ]
    },
    {
     "name": "stdout",
     "output_type": "stream",
     "text": [
      "Processing 996: CPS2-CU-T20-PA-ExpBlock2\n",
      "Processing 997: CPS2-ASU-T104-PC-Warmup\n"
     ]
    },
    {
     "name": "stderr",
     "output_type": "stream",
     "text": [
      "/Users/angelina/miniforge3/envs/env_tf/lib/python3.9/site-packages/scipy/interpolate/_fitpack2.py:280: UserWarning: \n",
      "The maximal number of iterations maxit (set to 20 by the program)\n",
      "allowed for finding a smoothing spline with fp=s has been reached: s\n",
      "too small.\n",
      "There is an approximation returned but the corresponding weighted sum\n",
      "of squared residuals does not satisfy the condition abs(fp-s)/s < tol.\n",
      "  warnings.warn(message)\n"
     ]
    },
    {
     "name": "stdout",
     "output_type": "stream",
     "text": [
      "Processing 998: CPS2-ASU-T50-PC-ExpBlock2\n",
      "Processing 999: CPS2-ASU-T72-PB-Warmup\n",
      "Processing 1000: CPS2-ASU-T83-PC-ExpBlock1\n",
      "Processing 1001: CPS2-CU-T14-PB-Warmup\n"
     ]
    },
    {
     "name": "stderr",
     "output_type": "stream",
     "text": [
      "/Users/angelina/miniforge3/envs/env_tf/lib/python3.9/site-packages/scipy/interpolate/_fitpack2.py:280: UserWarning: \n",
      "The maximal number of iterations maxit (set to 20 by the program)\n",
      "allowed for finding a smoothing spline with fp=s has been reached: s\n",
      "too small.\n",
      "There is an approximation returned but the corresponding weighted sum\n",
      "of squared residuals does not satisfy the condition abs(fp-s)/s < tol.\n",
      "  warnings.warn(message)\n"
     ]
    },
    {
     "name": "stdout",
     "output_type": "stream",
     "text": [
      "Processing 1002: CPS2-ASU-T44-PA-Transfer\n"
     ]
    },
    {
     "name": "stderr",
     "output_type": "stream",
     "text": [
      "/Users/angelina/miniforge3/envs/env_tf/lib/python3.9/site-packages/scipy/interpolate/_fitpack2.py:280: UserWarning: \n",
      "The maximal number of iterations maxit (set to 20 by the program)\n",
      "allowed for finding a smoothing spline with fp=s has been reached: s\n",
      "too small.\n",
      "There is an approximation returned but the corresponding weighted sum\n",
      "of squared residuals does not satisfy the condition abs(fp-s)/s < tol.\n",
      "  warnings.warn(message)\n"
     ]
    },
    {
     "name": "stdout",
     "output_type": "stream",
     "text": [
      "Processing 1003: CPS2-CU-T60-PB-ExpBlock1\n",
      "Processing 1004: CPS2-CU-T15-PA-ExpBlock2\n",
      "Processing 1005: CPS2-CU-T31-PA-ExpBlock1\n",
      "Processing 1006: CPS2-CU-T44-PB-ExpBlock2\n",
      "Processing 1007: CPS2-ASU-T85-PD-ExpBlock1\n",
      "Processing 1008: CPS2-ASU-T41-PC-ExpBlock1\n",
      "Processing 1009: CPS2-ASU-T39-PC-Transfer\n",
      "Processing 1010: CPS2-ASU-T89-PD-ExpBlock1\n",
      "Processing 1011: CPS2-ASU-T85-PD-Warmup\n",
      "Processing 1012: CPS2-ASU-T27-PB-ExpBlock1\n",
      "Processing 1013: CPS2-ASU-T24-PD-Transfer\n",
      "Processing 1014: CPS2-ASU-T67-PA-Warmup\n"
     ]
    },
    {
     "name": "stderr",
     "output_type": "stream",
     "text": [
      "/Users/angelina/miniforge3/envs/env_tf/lib/python3.9/site-packages/scipy/interpolate/_fitpack2.py:280: UserWarning: \n",
      "The maximal number of iterations maxit (set to 20 by the program)\n",
      "allowed for finding a smoothing spline with fp=s has been reached: s\n",
      "too small.\n",
      "There is an approximation returned but the corresponding weighted sum\n",
      "of squared residuals does not satisfy the condition abs(fp-s)/s < tol.\n",
      "  warnings.warn(message)\n"
     ]
    },
    {
     "name": "stdout",
     "output_type": "stream",
     "text": [
      "Processing 1015: CPS2-CU-T48-PB-ExpBlock2\n",
      "Processing 1016: CPS2-CU-T19-PA-ExpBlock2\n",
      "Processing 1017: CPS2-CU-T71-PC-Transfer\n",
      "Processing 1018: CPS2-ASU-T76-PA-ExpBlock1\n"
     ]
    },
    {
     "name": "stderr",
     "output_type": "stream",
     "text": [
      "/Users/angelina/miniforge3/envs/env_tf/lib/python3.9/site-packages/scipy/interpolate/_fitpack2.py:280: UserWarning: \n",
      "The maximal number of iterations maxit (set to 20 by the program)\n",
      "allowed for finding a smoothing spline with fp=s has been reached: s\n",
      "too small.\n",
      "There is an approximation returned but the corresponding weighted sum\n",
      "of squared residuals does not satisfy the condition abs(fp-s)/s < tol.\n",
      "  warnings.warn(message)\n"
     ]
    },
    {
     "name": "stdout",
     "output_type": "stream",
     "text": [
      "Processing 1019: CPS2-ASU-T90-PA-ExpBlock2\n",
      "Processing 1020: CPS2-ASU-T69-PC-ExpBlock2\n"
     ]
    },
    {
     "name": "stderr",
     "output_type": "stream",
     "text": [
      "/Users/angelina/miniforge3/envs/env_tf/lib/python3.9/site-packages/scipy/interpolate/_fitpack2.py:280: UserWarning: \n",
      "The maximal number of iterations maxit (set to 20 by the program)\n",
      "allowed for finding a smoothing spline with fp=s has been reached: s\n",
      "too small.\n",
      "There is an approximation returned but the corresponding weighted sum\n",
      "of squared residuals does not satisfy the condition abs(fp-s)/s < tol.\n",
      "  warnings.warn(message)\n"
     ]
    },
    {
     "name": "stdout",
     "output_type": "stream",
     "text": [
      "Processing 1021: CPS2-ASU-T44-PC-Warmup\n"
     ]
    },
    {
     "name": "stderr",
     "output_type": "stream",
     "text": [
      "/Users/angelina/miniforge3/envs/env_tf/lib/python3.9/site-packages/scipy/interpolate/_fitpack2.py:280: UserWarning: \n",
      "The maximal number of iterations maxit (set to 20 by the program)\n",
      "allowed for finding a smoothing spline with fp=s has been reached: s\n",
      "too small.\n",
      "There is an approximation returned but the corresponding weighted sum\n",
      "of squared residuals does not satisfy the condition abs(fp-s)/s < tol.\n",
      "  warnings.warn(message)\n"
     ]
    },
    {
     "name": "stdout",
     "output_type": "stream",
     "text": [
      "Processing 1022: CPS2-ASU-T84-PA-Transfer\n"
     ]
    },
    {
     "name": "stderr",
     "output_type": "stream",
     "text": [
      "/Users/angelina/miniforge3/envs/env_tf/lib/python3.9/site-packages/scipy/interpolate/_fitpack2.py:280: UserWarning: \n",
      "The maximal number of iterations maxit (set to 20 by the program)\n",
      "allowed for finding a smoothing spline with fp=s has been reached: s\n",
      "too small.\n",
      "There is an approximation returned but the corresponding weighted sum\n",
      "of squared residuals does not satisfy the condition abs(fp-s)/s < tol.\n",
      "  warnings.warn(message)\n"
     ]
    },
    {
     "name": "stdout",
     "output_type": "stream",
     "text": [
      "Processing 1023: CPS2-ASU-T105-PD-Warmup\n",
      "Processing 1024: CPS2-ASU-T61-PB-ExpBlock1\n"
     ]
    },
    {
     "name": "stderr",
     "output_type": "stream",
     "text": [
      "/Users/angelina/miniforge3/envs/env_tf/lib/python3.9/site-packages/scipy/interpolate/_fitpack2.py:280: UserWarning: \n",
      "The maximal number of iterations maxit (set to 20 by the program)\n",
      "allowed for finding a smoothing spline with fp=s has been reached: s\n",
      "too small.\n",
      "There is an approximation returned but the corresponding weighted sum\n",
      "of squared residuals does not satisfy the condition abs(fp-s)/s < tol.\n",
      "  warnings.warn(message)\n"
     ]
    },
    {
     "name": "stdout",
     "output_type": "stream",
     "text": [
      "Processing 1025: CPS2-ASU-T14-PA-ExpBlock2\n",
      "Processing 1026: CPS2-CU-T64-PC-ExpBlock2\n",
      "Processing 1027: CPS2-CU-T38-PB-Transfer\n",
      "Processing 1028: CPS2-ASU-T61-PB-Warmup\n",
      "Processing 1029: CPS2-CU-T40-PC-ExpBlock1\n",
      "Processing 1030: CPS2-ASU-T69-PC-Warmup\n"
     ]
    },
    {
     "name": "stderr",
     "output_type": "stream",
     "text": [
      "/Users/angelina/miniforge3/envs/env_tf/lib/python3.9/site-packages/scipy/interpolate/_fitpack2.py:280: UserWarning: \n",
      "The maximal number of iterations maxit (set to 20 by the program)\n",
      "allowed for finding a smoothing spline with fp=s has been reached: s\n",
      "too small.\n",
      "There is an approximation returned but the corresponding weighted sum\n",
      "of squared residuals does not satisfy the condition abs(fp-s)/s < tol.\n",
      "  warnings.warn(message)\n"
     ]
    },
    {
     "name": "stdout",
     "output_type": "stream",
     "text": [
      "Processing 1031: CPS2-ASU-T45-PB-ExpBlock2\n"
     ]
    },
    {
     "name": "stderr",
     "output_type": "stream",
     "text": [
      "/Users/angelina/miniforge3/envs/env_tf/lib/python3.9/site-packages/scipy/interpolate/_fitpack2.py:280: UserWarning: \n",
      "The maximal number of iterations maxit (set to 20 by the program)\n",
      "allowed for finding a smoothing spline with fp=s has been reached: s\n",
      "too small.\n",
      "There is an approximation returned but the corresponding weighted sum\n",
      "of squared residuals does not satisfy the condition abs(fp-s)/s < tol.\n",
      "  warnings.warn(message)\n"
     ]
    },
    {
     "name": "stdout",
     "output_type": "stream",
     "text": [
      "Processing 1032: CPS2-CU-T52-PD-Warmup\n",
      "Processing 1033: CPS2-ASU-T68-PD-Transfer\n",
      "Processing 1034: CPS2-CU-T40-PA-Transfer\n",
      "Processing 1035: CPS2-ASU-T49-PB-ExpBlock2\n",
      "Processing 1036: CPS2-CU-T39-PB-Warmup\n",
      "Processing 1037: CPS2-CU-T37-PA-Transfer\n",
      "Processing 1038: CPS2-CU-T53-PA-ExpBlock2\n",
      "Processing 1039: CPS2-ASU-T57-PC-Warmup\n",
      "Processing 1040: CPS2-ASU-T75-PC-Transfer\n",
      "Processing 1041: CPS2-CU-T31-PC-Warmup\n",
      "Processing 1042: CPS2-CU-T68-PC-ExpBlock2\n",
      "Processing 1043: CPS2-ASU-T96-PD-Warmup\n",
      "Processing 1044: CPS2-ASU-T70-PB-Transfer\n",
      "Processing 1045: CPS2-ASU-T25-PD-ExpBlock2\n",
      "Processing 1046: CPS2-ASU-T18-PC-Warmup\n",
      "Processing 1047: CPS2-ASU-T58-PB-ExpBlock1\n",
      "Processing 1048: CPS2-ASU-T45-PD-Warmup\n",
      "Processing 1049: CPS2-ASU-T51-PA-Transfer\n",
      "Processing 1050: CPS2-CU-T37-PB-ExpBlock2\n",
      "Processing 1051: CPS2-ASU-T29-PB-Transfer\n",
      "Processing 1052: CPS2-ASU-T10-PB-Warmup\n",
      "Processing 1053: CPS2-ASU-T46-PD-Transfer\n",
      "Processing 1054: CPS2-CU-T66-PA-ExpBlock2\n"
     ]
    },
    {
     "name": "stderr",
     "output_type": "stream",
     "text": [
      "/Users/angelina/miniforge3/envs/env_tf/lib/python3.9/site-packages/scipy/interpolate/_fitpack2.py:280: UserWarning: \n",
      "The maximal number of iterations maxit (set to 20 by the program)\n",
      "allowed for finding a smoothing spline with fp=s has been reached: s\n",
      "too small.\n",
      "There is an approximation returned but the corresponding weighted sum\n",
      "of squared residuals does not satisfy the condition abs(fp-s)/s < tol.\n",
      "  warnings.warn(message)\n"
     ]
    },
    {
     "name": "stdout",
     "output_type": "stream",
     "text": [
      "Processing 1055: CPS2-CU-T13-PB-ExpBlock1\n",
      "Processing 1056: CPS2-CU-T16-PB-Transfer\n",
      "Processing 1057: CPS2-ASU-T84-PC-Warmup\n",
      "Processing 1058: CPS2-ASU-T103-PD-ExpBlock2\n",
      "Processing 1059: CPS2-ASU-T70-PB-ExpBlock2\n",
      "Processing 1060: CPS2-CU-T63-PA-Warmup\n"
     ]
    },
    {
     "name": "stderr",
     "output_type": "stream",
     "text": [
      "/Users/angelina/miniforge3/envs/env_tf/lib/python3.9/site-packages/scipy/interpolate/_fitpack2.py:280: UserWarning: \n",
      "The maximal number of iterations maxit (set to 20 by the program)\n",
      "allowed for finding a smoothing spline with fp=s has been reached: s\n",
      "too small.\n",
      "There is an approximation returned but the corresponding weighted sum\n",
      "of squared residuals does not satisfy the condition abs(fp-s)/s < tol.\n",
      "  warnings.warn(message)\n"
     ]
    },
    {
     "name": "stdout",
     "output_type": "stream",
     "text": [
      "Processing 1061: CPS2-ASU-T86-PD-Transfer\n",
      "Processing 1062: CPS2-CU-T64-PC-Transfer\n",
      "Processing 1063: CPS2-CU-T40-PC-Warmup\n",
      "Processing 1064: CPS2-CU-T51-PC-ExpBlock2\n"
     ]
    },
    {
     "name": "stderr",
     "output_type": "stream",
     "text": [
      "/Users/angelina/miniforge3/envs/env_tf/lib/python3.9/site-packages/scipy/interpolate/_fitpack2.py:280: UserWarning: \n",
      "The maximal number of iterations maxit (set to 20 by the program)\n",
      "allowed for finding a smoothing spline with fp=s has been reached: s\n",
      "too small.\n",
      "There is an approximation returned but the corresponding weighted sum\n",
      "of squared residuals does not satisfy the condition abs(fp-s)/s < tol.\n",
      "  warnings.warn(message)\n"
     ]
    },
    {
     "name": "stdout",
     "output_type": "stream",
     "text": [
      "Processing 1065: CPS2-ASU-T26-PA-Transfer\n",
      "Processing 1066: CPS2-CU-T48-PB-Warmup\n",
      "Processing 1067: CPS2-ASU-T91-PA-Transfer\n"
     ]
    },
    {
     "name": "stderr",
     "output_type": "stream",
     "text": [
      "/Users/angelina/miniforge3/envs/env_tf/lib/python3.9/site-packages/scipy/interpolate/_fitpack2.py:280: UserWarning: \n",
      "The maximal number of iterations maxit (set to 20 by the program)\n",
      "allowed for finding a smoothing spline with fp=s has been reached: s\n",
      "too small.\n",
      "There is an approximation returned but the corresponding weighted sum\n",
      "of squared residuals does not satisfy the condition abs(fp-s)/s < tol.\n",
      "  warnings.warn(message)\n"
     ]
    },
    {
     "name": "stdout",
     "output_type": "stream",
     "text": [
      "Processing 1068: CPS2-ASU-T21-PA-ExpBlock2\n"
     ]
    },
    {
     "name": "stderr",
     "output_type": "stream",
     "text": [
      "/Users/angelina/miniforge3/envs/env_tf/lib/python3.9/site-packages/scipy/interpolate/_fitpack2.py:280: UserWarning: \n",
      "The maximal number of iterations maxit (set to 20 by the program)\n",
      "allowed for finding a smoothing spline with fp=s has been reached: s\n",
      "too small.\n",
      "There is an approximation returned but the corresponding weighted sum\n",
      "of squared residuals does not satisfy the condition abs(fp-s)/s < tol.\n",
      "  warnings.warn(message)\n"
     ]
    },
    {
     "name": "stdout",
     "output_type": "stream",
     "text": [
      "Processing 1069: CPS2-ASU-T54-PB-ExpBlock1\n"
     ]
    },
    {
     "name": "stderr",
     "output_type": "stream",
     "text": [
      "/Users/angelina/miniforge3/envs/env_tf/lib/python3.9/site-packages/scipy/interpolate/_fitpack2.py:280: UserWarning: \n",
      "The maximal number of iterations maxit (set to 20 by the program)\n",
      "allowed for finding a smoothing spline with fp=s has been reached: s\n",
      "too small.\n",
      "There is an approximation returned but the corresponding weighted sum\n",
      "of squared residuals does not satisfy the condition abs(fp-s)/s < tol.\n",
      "  warnings.warn(message)\n"
     ]
    },
    {
     "name": "stdout",
     "output_type": "stream",
     "text": [
      "Processing 1070: CPS2-ASU-T99-PA-Warmup\n",
      "Processing 1071: CPS2-CU-T18-PB-ExpBlock2\n",
      "Processing 1072: CPS2-ASU-T105-PD-Transfer\n",
      "Processing 1073: CPS2-ASU-T74-PD-Warmup\n",
      "Processing 1074: CPS2-ASU-T29-PC-Warmup\n",
      "Processing 1075: CPS2-CU-T42-PC-Transfer\n",
      "Processing 1076: CPS2-ASU-T77-PB-ExpBlock1\n"
     ]
    },
    {
     "name": "stderr",
     "output_type": "stream",
     "text": [
      "/Users/angelina/miniforge3/envs/env_tf/lib/python3.9/site-packages/scipy/interpolate/_fitpack2.py:280: UserWarning: \n",
      "The maximal number of iterations maxit (set to 20 by the program)\n",
      "allowed for finding a smoothing spline with fp=s has been reached: s\n",
      "too small.\n",
      "There is an approximation returned but the corresponding weighted sum\n",
      "of squared residuals does not satisfy the condition abs(fp-s)/s < tol.\n",
      "  warnings.warn(message)\n"
     ]
    },
    {
     "name": "stdout",
     "output_type": "stream",
     "text": [
      "Processing 1077: CPS2-ASU-T96-PA-Warmup\n",
      "Processing 1078: CPS2-ASU-T91-PB-ExpBlock2\n",
      "Processing 1079: CPS2-CU-T47-PB-Warmup\n"
     ]
    },
    {
     "name": "stderr",
     "output_type": "stream",
     "text": [
      "/Users/angelina/miniforge3/envs/env_tf/lib/python3.9/site-packages/scipy/interpolate/_fitpack2.py:280: UserWarning: \n",
      "The maximal number of iterations maxit (set to 20 by the program)\n",
      "allowed for finding a smoothing spline with fp=s has been reached: s\n",
      "too small.\n",
      "There is an approximation returned but the corresponding weighted sum\n",
      "of squared residuals does not satisfy the condition abs(fp-s)/s < tol.\n",
      "  warnings.warn(message)\n"
     ]
    },
    {
     "name": "stdout",
     "output_type": "stream",
     "text": [
      "Processing 1080: CPS2-ASU-T39-PC-ExpBlock2\n",
      "Processing 1081: CPS2-ASU-T26-PA-ExpBlock1\n",
      "Processing 1082: CPS2-CU-T56-PC-ExpBlock1\n"
     ]
    },
    {
     "name": "stderr",
     "output_type": "stream",
     "text": [
      "/Users/angelina/miniforge3/envs/env_tf/lib/python3.9/site-packages/scipy/interpolate/_fitpack2.py:280: UserWarning: \n",
      "The maximal number of iterations maxit (set to 20 by the program)\n",
      "allowed for finding a smoothing spline with fp=s has been reached: s\n",
      "too small.\n",
      "There is an approximation returned but the corresponding weighted sum\n",
      "of squared residuals does not satisfy the condition abs(fp-s)/s < tol.\n",
      "  warnings.warn(message)\n"
     ]
    },
    {
     "name": "stdout",
     "output_type": "stream",
     "text": [
      "Processing 1083: CPS2-CU-T47-PB-Transfer\n",
      "Processing 1084: CPS2-CU-T49-PA-ExpBlock2\n",
      "Processing 1085: CPS2-CU-T52-PA-Warmup\n",
      "Processing 1086: CPS2-CU-T30-PB-Transfer\n",
      "Processing 1087: CPS2-ASU-T34-PA-Warmup\n",
      "Processing 1088: CPS2-CU-T30-PB-ExpBlock1\n",
      "Processing 1089: CPS2-CU-T45-PA-ExpBlock2\n",
      "Processing 1090: CPS2-ASU-T83-PB-Warmup\n"
     ]
    },
    {
     "name": "stderr",
     "output_type": "stream",
     "text": [
      "/Users/angelina/miniforge3/envs/env_tf/lib/python3.9/site-packages/scipy/interpolate/_fitpack2.py:280: UserWarning: \n",
      "The maximal number of iterations maxit (set to 20 by the program)\n",
      "allowed for finding a smoothing spline with fp=s has been reached: s\n",
      "too small.\n",
      "There is an approximation returned but the corresponding weighted sum\n",
      "of squared residuals does not satisfy the condition abs(fp-s)/s < tol.\n",
      "  warnings.warn(message)\n"
     ]
    },
    {
     "name": "stdout",
     "output_type": "stream",
     "text": [
      "Processing 1091: CPS2-ASU-T60-PD-Transfer\n"
     ]
    },
    {
     "name": "stderr",
     "output_type": "stream",
     "text": [
      "/Users/angelina/miniforge3/envs/env_tf/lib/python3.9/site-packages/scipy/interpolate/_fitpack2.py:280: UserWarning: \n",
      "The maximal number of iterations maxit (set to 20 by the program)\n",
      "allowed for finding a smoothing spline with fp=s has been reached: s\n",
      "too small.\n",
      "There is an approximation returned but the corresponding weighted sum\n",
      "of squared residuals does not satisfy the condition abs(fp-s)/s < tol.\n",
      "  warnings.warn(message)\n"
     ]
    },
    {
     "name": "stdout",
     "output_type": "stream",
     "text": [
      "Processing 1092: CPS2-CU-T48-PA-Transfer\n"
     ]
    },
    {
     "name": "stderr",
     "output_type": "stream",
     "text": [
      "/Users/angelina/miniforge3/envs/env_tf/lib/python3.9/site-packages/scipy/interpolate/_fitpack2.py:280: UserWarning: \n",
      "The maximal number of iterations maxit (set to 20 by the program)\n",
      "allowed for finding a smoothing spline with fp=s has been reached: s\n",
      "too small.\n",
      "There is an approximation returned but the corresponding weighted sum\n",
      "of squared residuals does not satisfy the condition abs(fp-s)/s < tol.\n",
      "  warnings.warn(message)\n"
     ]
    },
    {
     "name": "stdout",
     "output_type": "stream",
     "text": [
      "Processing 1093: CPS2-ASU-T102-PC-ExpBlock1\n"
     ]
    },
    {
     "name": "stderr",
     "output_type": "stream",
     "text": [
      "/Users/angelina/miniforge3/envs/env_tf/lib/python3.9/site-packages/scipy/interpolate/_fitpack2.py:280: UserWarning: \n",
      "The maximal number of iterations maxit (set to 20 by the program)\n",
      "allowed for finding a smoothing spline with fp=s has been reached: s\n",
      "too small.\n",
      "There is an approximation returned but the corresponding weighted sum\n",
      "of squared residuals does not satisfy the condition abs(fp-s)/s < tol.\n",
      "  warnings.warn(message)\n"
     ]
    },
    {
     "name": "stdout",
     "output_type": "stream",
     "text": [
      "Processing 1094: CPS2-ASU-T35-PC-ExpBlock2\n",
      "Processing 1095: CPS2-ASU-T33-PD-ExpBlock2\n",
      "Processing 1096: CPS2-CU-T35-PC-Transfer\n",
      "Processing 1097: CPS2-CU-T71-PC-Warmup\n",
      "Processing 1098: CPS2-CU-T61-PA-ExpBlock1\n"
     ]
    },
    {
     "name": "stderr",
     "output_type": "stream",
     "text": [
      "/Users/angelina/miniforge3/envs/env_tf/lib/python3.9/site-packages/scipy/interpolate/_fitpack2.py:280: UserWarning: \n",
      "The maximal number of iterations maxit (set to 20 by the program)\n",
      "allowed for finding a smoothing spline with fp=s has been reached: s\n",
      "too small.\n",
      "There is an approximation returned but the corresponding weighted sum\n",
      "of squared residuals does not satisfy the condition abs(fp-s)/s < tol.\n",
      "  warnings.warn(message)\n"
     ]
    },
    {
     "name": "stdout",
     "output_type": "stream",
     "text": [
      "Processing 1099: CPS2-CU-T14-PB-ExpBlock2\n",
      "Processing 1100: CPS2-ASU-T105-PA-Warmup\n",
      "Processing 1101: CPS2-ASU-T77-PA-Transfer\n"
     ]
    },
    {
     "name": "stderr",
     "output_type": "stream",
     "text": [
      "/Users/angelina/miniforge3/envs/env_tf/lib/python3.9/site-packages/scipy/interpolate/_fitpack2.py:280: UserWarning: \n",
      "The maximal number of iterations maxit (set to 20 by the program)\n",
      "allowed for finding a smoothing spline with fp=s has been reached: s\n",
      "too small.\n",
      "There is an approximation returned but the corresponding weighted sum\n",
      "of squared residuals does not satisfy the condition abs(fp-s)/s < tol.\n",
      "  warnings.warn(message)\n"
     ]
    },
    {
     "name": "stdout",
     "output_type": "stream",
     "text": [
      "Processing 1102: CPS2-ASU-T56-PB-Transfer\n",
      "Processing 1103: CPS2-CU-T54-PA-ExpBlock1\n"
     ]
    },
    {
     "name": "stderr",
     "output_type": "stream",
     "text": [
      "/Users/angelina/miniforge3/envs/env_tf/lib/python3.9/site-packages/scipy/interpolate/_fitpack2.py:280: UserWarning: \n",
      "The maximal number of iterations maxit (set to 20 by the program)\n",
      "allowed for finding a smoothing spline with fp=s has been reached: s\n",
      "too small.\n",
      "There is an approximation returned but the corresponding weighted sum\n",
      "of squared residuals does not satisfy the condition abs(fp-s)/s < tol.\n",
      "  warnings.warn(message)\n"
     ]
    },
    {
     "name": "stdout",
     "output_type": "stream",
     "text": [
      "Processing 1104: CPS2-ASU-T24-PC-ExpBlock1\n",
      "Processing 1105: CPS2-ASU-T99-PA-Transfer\n",
      "Processing 1106: CPS2-ASU-T22-PD-ExpBlock1\n",
      "Processing 1107: CPS2-ASU-T50-PB-Warmup\n",
      "Processing 1108: CPS2-ASU-T53-PC-Transfer\n"
     ]
    },
    {
     "name": "stderr",
     "output_type": "stream",
     "text": [
      "/Users/angelina/miniforge3/envs/env_tf/lib/python3.9/site-packages/scipy/interpolate/_fitpack2.py:280: UserWarning: \n",
      "The maximal number of iterations maxit (set to 20 by the program)\n",
      "allowed for finding a smoothing spline with fp=s has been reached: s\n",
      "too small.\n",
      "There is an approximation returned but the corresponding weighted sum\n",
      "of squared residuals does not satisfy the condition abs(fp-s)/s < tol.\n",
      "  warnings.warn(message)\n"
     ]
    },
    {
     "name": "stdout",
     "output_type": "stream",
     "text": [
      "Processing 1109: CPS2-CU-T36-PB-Warmup\n",
      "Processing 1110: CPS2-CU-T69-PB-Transfer\n",
      "Processing 1111: CPS2-CU-T70-PA-ExpBlock2\n"
     ]
    },
    {
     "name": "stderr",
     "output_type": "stream",
     "text": [
      "/Users/angelina/miniforge3/envs/env_tf/lib/python3.9/site-packages/scipy/interpolate/_fitpack2.py:280: UserWarning: \n",
      "The maximal number of iterations maxit (set to 20 by the program)\n",
      "allowed for finding a smoothing spline with fp=s has been reached: s\n",
      "too small.\n",
      "There is an approximation returned but the corresponding weighted sum\n",
      "of squared residuals does not satisfy the condition abs(fp-s)/s < tol.\n",
      "  warnings.warn(message)\n"
     ]
    },
    {
     "name": "stdout",
     "output_type": "stream",
     "text": [
      "Processing 1112: CPS2-ASU-T39-PD-Transfer\n"
     ]
    },
    {
     "name": "stderr",
     "output_type": "stream",
     "text": [
      "/Users/angelina/miniforge3/envs/env_tf/lib/python3.9/site-packages/scipy/interpolate/_fitpack2.py:280: UserWarning: \n",
      "The maximal number of iterations maxit (set to 20 by the program)\n",
      "allowed for finding a smoothing spline with fp=s has been reached: s\n",
      "too small.\n",
      "There is an approximation returned but the corresponding weighted sum\n",
      "of squared residuals does not satisfy the condition abs(fp-s)/s < tol.\n",
      "  warnings.warn(message)\n"
     ]
    },
    {
     "name": "stdout",
     "output_type": "stream",
     "text": [
      "Processing 1113: CPS2-ASU-T58-PC-Warmup\n",
      "Processing 1114: CPS2-CU-T66-PA-Transfer\n"
     ]
    },
    {
     "name": "stderr",
     "output_type": "stream",
     "text": [
      "/Users/angelina/miniforge3/envs/env_tf/lib/python3.9/site-packages/scipy/interpolate/_fitpack2.py:280: UserWarning: \n",
      "The maximal number of iterations maxit (set to 20 by the program)\n",
      "allowed for finding a smoothing spline with fp=s has been reached: s\n",
      "too small.\n",
      "There is an approximation returned but the corresponding weighted sum\n",
      "of squared residuals does not satisfy the condition abs(fp-s)/s < tol.\n",
      "  warnings.warn(message)\n"
     ]
    },
    {
     "name": "stdout",
     "output_type": "stream",
     "text": [
      "Processing 1115: CPS2-CU-T63-PC-ExpBlock1\n",
      "Processing 1116: CPS2-ASU-T13-PA-ExpBlock1\n",
      "Processing 1117: CPS2-ASU-T93-PC-Transfer\n",
      "Processing 1118: CPS2-ASU-T24-PC-Transfer\n"
     ]
    },
    {
     "name": "stderr",
     "output_type": "stream",
     "text": [
      "/Users/angelina/miniforge3/envs/env_tf/lib/python3.9/site-packages/scipy/interpolate/_fitpack2.py:280: UserWarning: \n",
      "The maximal number of iterations maxit (set to 20 by the program)\n",
      "allowed for finding a smoothing spline with fp=s has been reached: s\n",
      "too small.\n",
      "There is an approximation returned but the corresponding weighted sum\n",
      "of squared residuals does not satisfy the condition abs(fp-s)/s < tol.\n",
      "  warnings.warn(message)\n"
     ]
    },
    {
     "name": "stdout",
     "output_type": "stream",
     "text": [
      "Processing 1119: CPS2-ASU-T42-PB-ExpBlock1\n"
     ]
    },
    {
     "name": "stderr",
     "output_type": "stream",
     "text": [
      "/Users/angelina/miniforge3/envs/env_tf/lib/python3.9/site-packages/scipy/interpolate/_fitpack2.py:280: UserWarning: \n",
      "The maximal number of iterations maxit (set to 20 by the program)\n",
      "allowed for finding a smoothing spline with fp=s has been reached: s\n",
      "too small.\n",
      "There is an approximation returned but the corresponding weighted sum\n",
      "of squared residuals does not satisfy the condition abs(fp-s)/s < tol.\n",
      "  warnings.warn(message)\n"
     ]
    },
    {
     "name": "stdout",
     "output_type": "stream",
     "text": [
      "Processing 1120: CPS2-ASU-T100-PA-ExpBlock1\n"
     ]
    },
    {
     "name": "stderr",
     "output_type": "stream",
     "text": [
      "/Users/angelina/miniforge3/envs/env_tf/lib/python3.9/site-packages/scipy/interpolate/_fitpack2.py:280: UserWarning: \n",
      "The maximal number of iterations maxit (set to 20 by the program)\n",
      "allowed for finding a smoothing spline with fp=s has been reached: s\n",
      "too small.\n",
      "There is an approximation returned but the corresponding weighted sum\n",
      "of squared residuals does not satisfy the condition abs(fp-s)/s < tol.\n",
      "  warnings.warn(message)\n"
     ]
    },
    {
     "name": "stdout",
     "output_type": "stream",
     "text": [
      "Processing 1121: CPS2-CU-T23-PA-Warmup\n",
      "Processing 1122: CPS2-CU-T47-PC-ExpBlock2\n"
     ]
    },
    {
     "name": "stderr",
     "output_type": "stream",
     "text": [
      "/Users/angelina/miniforge3/envs/env_tf/lib/python3.9/site-packages/scipy/interpolate/_fitpack2.py:280: UserWarning: \n",
      "The maximal number of iterations maxit (set to 20 by the program)\n",
      "allowed for finding a smoothing spline with fp=s has been reached: s\n",
      "too small.\n",
      "There is an approximation returned but the corresponding weighted sum\n",
      "of squared residuals does not satisfy the condition abs(fp-s)/s < tol.\n",
      "  warnings.warn(message)\n"
     ]
    },
    {
     "name": "stdout",
     "output_type": "stream",
     "text": [
      "Processing 1123: CPS2-ASU-T45-PA-Warmup\n",
      "Processing 1124: CPS2-ASU-T95-PD-Warmup\n"
     ]
    },
    {
     "name": "stderr",
     "output_type": "stream",
     "text": [
      "/Users/angelina/miniforge3/envs/env_tf/lib/python3.9/site-packages/scipy/interpolate/_fitpack2.py:280: UserWarning: \n",
      "The maximal number of iterations maxit (set to 20 by the program)\n",
      "allowed for finding a smoothing spline with fp=s has been reached: s\n",
      "too small.\n",
      "There is an approximation returned but the corresponding weighted sum\n",
      "of squared residuals does not satisfy the condition abs(fp-s)/s < tol.\n",
      "  warnings.warn(message)\n"
     ]
    },
    {
     "name": "stdout",
     "output_type": "stream",
     "text": [
      "Processing 1125: CPS2-CU-T69-PC-Transfer\n",
      "Processing 1126: CPS2-ASU-T50-PD-ExpBlock1\n"
     ]
    },
    {
     "name": "stderr",
     "output_type": "stream",
     "text": [
      "/Users/angelina/miniforge3/envs/env_tf/lib/python3.9/site-packages/scipy/interpolate/_fitpack2.py:280: UserWarning: \n",
      "The maximal number of iterations maxit (set to 20 by the program)\n",
      "allowed for finding a smoothing spline with fp=s has been reached: s\n",
      "too small.\n",
      "There is an approximation returned but the corresponding weighted sum\n",
      "of squared residuals does not satisfy the condition abs(fp-s)/s < tol.\n",
      "  warnings.warn(message)\n"
     ]
    },
    {
     "name": "stdout",
     "output_type": "stream",
     "text": [
      "Processing 1127: CPS2-ASU-T92-PD-ExpBlock1\n",
      "Processing 1128: CPS2-ASU-T56-PC-ExpBlock1\n",
      "Processing 1129: CPS2-ASU-T49-PA-ExpBlock2\n"
     ]
    },
    {
     "name": "stderr",
     "output_type": "stream",
     "text": [
      "/Users/angelina/miniforge3/envs/env_tf/lib/python3.9/site-packages/scipy/interpolate/_fitpack2.py:280: UserWarning: \n",
      "The maximal number of iterations maxit (set to 20 by the program)\n",
      "allowed for finding a smoothing spline with fp=s has been reached: s\n",
      "too small.\n",
      "There is an approximation returned but the corresponding weighted sum\n",
      "of squared residuals does not satisfy the condition abs(fp-s)/s < tol.\n",
      "  warnings.warn(message)\n"
     ]
    },
    {
     "name": "stdout",
     "output_type": "stream",
     "text": [
      "Processing 1130: CPS2-ASU-T56-PC-Transfer\n",
      "Processing 1131: CPS2-ASU-T74-PD-ExpBlock2\n",
      "Processing 1132: CPS2-CU-T32-PC-Warmup\n",
      "Processing 1133: CPS2-CU-T39-PC-ExpBlock2\n",
      "Processing 1134: CPS2-CU-T14-PA-Transfer\n",
      "Processing 1135: CPS2-ASU-T54-PC-Warmup\n"
     ]
    },
    {
     "name": "stderr",
     "output_type": "stream",
     "text": [
      "/Users/angelina/miniforge3/envs/env_tf/lib/python3.9/site-packages/scipy/interpolate/_fitpack2.py:280: UserWarning: \n",
      "The maximal number of iterations maxit (set to 20 by the program)\n",
      "allowed for finding a smoothing spline with fp=s has been reached: s\n",
      "too small.\n",
      "There is an approximation returned but the corresponding weighted sum\n",
      "of squared residuals does not satisfy the condition abs(fp-s)/s < tol.\n",
      "  warnings.warn(message)\n"
     ]
    },
    {
     "name": "stdout",
     "output_type": "stream",
     "text": [
      "Processing 1136: CPS2-CU-T26-PA-ExpBlock1\n",
      "Processing 1137: CPS2-CU-T53-PB-ExpBlock2\n",
      "Processing 1138: CPS2-CU-T35-PC-ExpBlock2\n",
      "Processing 1139: CPS2-ASU-T62-PB-Warmup\n",
      "Processing 1140: CPS2-CU-T63-PA-Transfer\n"
     ]
    },
    {
     "name": "stderr",
     "output_type": "stream",
     "text": [
      "/Users/angelina/miniforge3/envs/env_tf/lib/python3.9/site-packages/scipy/interpolate/_fitpack2.py:280: UserWarning: \n",
      "The maximal number of iterations maxit (set to 20 by the program)\n",
      "allowed for finding a smoothing spline with fp=s has been reached: s\n",
      "too small.\n",
      "There is an approximation returned but the corresponding weighted sum\n",
      "of squared residuals does not satisfy the condition abs(fp-s)/s < tol.\n",
      "  warnings.warn(message)\n"
     ]
    },
    {
     "name": "stdout",
     "output_type": "stream",
     "text": [
      "Processing 1141: CPS2-ASU-T30-PB-ExpBlock1\n",
      "Processing 1142: CPS2-ASU-T45-PA-ExpBlock2\n",
      "Processing 1143: CPS2-ASU-T37-PD-Warmup\n"
     ]
    },
    {
     "name": "stderr",
     "output_type": "stream",
     "text": [
      "/Users/angelina/miniforge3/envs/env_tf/lib/python3.9/site-packages/scipy/interpolate/_fitpack2.py:280: UserWarning: \n",
      "The maximal number of iterations maxit (set to 20 by the program)\n",
      "allowed for finding a smoothing spline with fp=s has been reached: s\n",
      "too small.\n",
      "There is an approximation returned but the corresponding weighted sum\n",
      "of squared residuals does not satisfy the condition abs(fp-s)/s < tol.\n",
      "  warnings.warn(message)\n"
     ]
    },
    {
     "name": "stdout",
     "output_type": "stream",
     "text": [
      "Processing 1144: CPS2-ASU-T78-PD-ExpBlock2\n",
      "Processing 1145: CPS2-ASU-T96-PC-Transfer\n",
      "Processing 1146: CPS2-ASU-T61-PA-ExpBlock1\n",
      "Processing 1147: CPS2-ASU-T98-PC-ExpBlock1\n",
      "Processing 1148: CPS2-ASU-T87-PA-ExpBlock2\n"
     ]
    },
    {
     "name": "stderr",
     "output_type": "stream",
     "text": [
      "/Users/angelina/miniforge3/envs/env_tf/lib/python3.9/site-packages/scipy/interpolate/_fitpack2.py:280: UserWarning: \n",
      "The maximal number of iterations maxit (set to 20 by the program)\n",
      "allowed for finding a smoothing spline with fp=s has been reached: s\n",
      "too small.\n",
      "There is an approximation returned but the corresponding weighted sum\n",
      "of squared residuals does not satisfy the condition abs(fp-s)/s < tol.\n",
      "  warnings.warn(message)\n"
     ]
    },
    {
     "name": "stdout",
     "output_type": "stream",
     "text": [
      "Processing 1149: CPS2-ASU-T24-PB-Transfer\n",
      "Processing 1150: CPS2-ASU-T49-PA-Warmup\n"
     ]
    },
    {
     "name": "stderr",
     "output_type": "stream",
     "text": [
      "/Users/angelina/miniforge3/envs/env_tf/lib/python3.9/site-packages/scipy/interpolate/_fitpack2.py:280: UserWarning: \n",
      "The maximal number of iterations maxit (set to 20 by the program)\n",
      "allowed for finding a smoothing spline with fp=s has been reached: s\n",
      "too small.\n",
      "There is an approximation returned but the corresponding weighted sum\n",
      "of squared residuals does not satisfy the condition abs(fp-s)/s < tol.\n",
      "  warnings.warn(message)\n"
     ]
    },
    {
     "name": "stdout",
     "output_type": "stream",
     "text": [
      "Processing 1151: CPS2-ASU-T93-PB-Transfer\n",
      "Processing 1152: CPS2-CU-T43-PC-Warmup\n",
      "Processing 1153: CPS2-ASU-T100-PD-Transfer\n"
     ]
    },
    {
     "name": "stderr",
     "output_type": "stream",
     "text": [
      "/Users/angelina/miniforge3/envs/env_tf/lib/python3.9/site-packages/scipy/interpolate/_fitpack2.py:280: UserWarning: \n",
      "The maximal number of iterations maxit (set to 20 by the program)\n",
      "allowed for finding a smoothing spline with fp=s has been reached: s\n",
      "too small.\n",
      "There is an approximation returned but the corresponding weighted sum\n",
      "of squared residuals does not satisfy the condition abs(fp-s)/s < tol.\n",
      "  warnings.warn(message)\n"
     ]
    },
    {
     "name": "stdout",
     "output_type": "stream",
     "text": [
      "Processing 1154: CPS2-ASU-T78-PD-Warmup\n",
      "Processing 1155: CPS2-ASU-T25-PC-Warmup\n",
      "Processing 1156: CPS2-CU-T47-PC-Transfer\n",
      "Processing 1157: CPS2-ASU-T54-PA-ExpBlock1\n",
      "Processing 1158: CPS2-ASU-T69-PD-ExpBlock1\n",
      "Processing 1159: CPS2-ASU-T70-PA-ExpBlock2\n",
      "Processing 1160: CPS2-ASU-T89-PC-ExpBlock2\n"
     ]
    },
    {
     "name": "stderr",
     "output_type": "stream",
     "text": [
      "/Users/angelina/miniforge3/envs/env_tf/lib/python3.9/site-packages/scipy/interpolate/_fitpack2.py:280: UserWarning: \n",
      "The maximal number of iterations maxit (set to 20 by the program)\n",
      "allowed for finding a smoothing spline with fp=s has been reached: s\n",
      "too small.\n",
      "There is an approximation returned but the corresponding weighted sum\n",
      "of squared residuals does not satisfy the condition abs(fp-s)/s < tol.\n",
      "  warnings.warn(message)\n"
     ]
    },
    {
     "name": "stdout",
     "output_type": "stream",
     "text": [
      "Processing 1161: CPS2-ASU-T96-PA-ExpBlock1\n",
      "Processing 1162: CPS2-ASU-T78-PC-Transfer\n",
      "Processing 1163: CPS2-CU-T66-PB-ExpBlock2\n"
     ]
    },
    {
     "name": "stderr",
     "output_type": "stream",
     "text": [
      "/Users/angelina/miniforge3/envs/env_tf/lib/python3.9/site-packages/scipy/interpolate/_fitpack2.py:280: UserWarning: \n",
      "The maximal number of iterations maxit (set to 20 by the program)\n",
      "allowed for finding a smoothing spline with fp=s has been reached: s\n",
      "too small.\n",
      "There is an approximation returned but the corresponding weighted sum\n",
      "of squared residuals does not satisfy the condition abs(fp-s)/s < tol.\n",
      "  warnings.warn(message)\n"
     ]
    },
    {
     "name": "stdout",
     "output_type": "stream",
     "text": [
      "Processing 1164: CPS2-CU-T13-PA-ExpBlock1\n",
      "Processing 1165: CPS2-CU-T35-PB-Transfer\n"
     ]
    },
    {
     "name": "stderr",
     "output_type": "stream",
     "text": [
      "/Users/angelina/miniforge3/envs/env_tf/lib/python3.9/site-packages/scipy/interpolate/_fitpack2.py:280: UserWarning: \n",
      "The maximal number of iterations maxit (set to 20 by the program)\n",
      "allowed for finding a smoothing spline with fp=s has been reached: s\n",
      "too small.\n",
      "There is an approximation returned but the corresponding weighted sum\n",
      "of squared residuals does not satisfy the condition abs(fp-s)/s < tol.\n",
      "  warnings.warn(message)\n"
     ]
    },
    {
     "name": "stdout",
     "output_type": "stream",
     "text": [
      "Processing 1166: CPS2-ASU-T38-PA-Warmup\n",
      "Processing 1167: CPS2-ASU-T41-PD-ExpBlock2\n",
      "Processing 1168: CPS2-ASU-T87-PC-Warmup\n"
     ]
    },
    {
     "name": "stderr",
     "output_type": "stream",
     "text": [
      "/Users/angelina/miniforge3/envs/env_tf/lib/python3.9/site-packages/scipy/interpolate/_fitpack2.py:280: UserWarning: \n",
      "The maximal number of iterations maxit (set to 20 by the program)\n",
      "allowed for finding a smoothing spline with fp=s has been reached: s\n",
      "too small.\n",
      "There is an approximation returned but the corresponding weighted sum\n",
      "of squared residuals does not satisfy the condition abs(fp-s)/s < tol.\n",
      "  warnings.warn(message)\n"
     ]
    },
    {
     "name": "stdout",
     "output_type": "stream",
     "text": [
      "Processing 1169: CPS2-ASU-T65-PD-Transfer\n",
      "Processing 1170: CPS2-CU-T30-PC-Transfer\n",
      "Processing 1171: CPS2-ASU-T47-PC-ExpBlock2\n",
      "Processing 1172: CPS2-ASU-T46-PD-Warmup\n",
      "Processing 1173: CPS2-ASU-T65-PD-ExpBlock1\n"
     ]
    },
    {
     "name": "stderr",
     "output_type": "stream",
     "text": [
      "/Users/angelina/miniforge3/envs/env_tf/lib/python3.9/site-packages/scipy/interpolate/_fitpack2.py:280: UserWarning: \n",
      "The maximal number of iterations maxit (set to 20 by the program)\n",
      "allowed for finding a smoothing spline with fp=s has been reached: s\n",
      "too small.\n",
      "There is an approximation returned but the corresponding weighted sum\n",
      "of squared residuals does not satisfy the condition abs(fp-s)/s < tol.\n",
      "  warnings.warn(message)\n"
     ]
    },
    {
     "name": "stdout",
     "output_type": "stream",
     "text": [
      "Processing 1174: CPS2-ASU-T72-PA-Transfer\n",
      "Processing 1175: CPS2-ASU-T13-PB-Warmup\n"
     ]
    },
    {
     "name": "stderr",
     "output_type": "stream",
     "text": [
      "/Users/angelina/miniforge3/envs/env_tf/lib/python3.9/site-packages/scipy/interpolate/_fitpack2.py:280: UserWarning: \n",
      "The maximal number of iterations maxit (set to 20 by the program)\n",
      "allowed for finding a smoothing spline with fp=s has been reached: s\n",
      "too small.\n",
      "There is an approximation returned but the corresponding weighted sum\n",
      "of squared residuals does not satisfy the condition abs(fp-s)/s < tol.\n",
      "  warnings.warn(message)\n"
     ]
    },
    {
     "name": "stdout",
     "output_type": "stream",
     "text": [
      "Processing 1176: CPS2-CU-T37-PA-ExpBlock2\n",
      "Processing 1177: CPS2-ASU-T46-PD-ExpBlock1\n",
      "Processing 1178: CPS2-CU-T16-PC-Transfer\n"
     ]
    },
    {
     "name": "stderr",
     "output_type": "stream",
     "text": [
      "/Users/angelina/miniforge3/envs/env_tf/lib/python3.9/site-packages/scipy/interpolate/_fitpack2.py:280: UserWarning: \n",
      "The maximal number of iterations maxit (set to 20 by the program)\n",
      "allowed for finding a smoothing spline with fp=s has been reached: s\n",
      "too small.\n",
      "There is an approximation returned but the corresponding weighted sum\n",
      "of squared residuals does not satisfy the condition abs(fp-s)/s < tol.\n",
      "  warnings.warn(message)\n"
     ]
    },
    {
     "name": "stdout",
     "output_type": "stream",
     "text": [
      "Processing 1179: CPS2-CU-T14-PA-ExpBlock2\n",
      "Processing 1180: CPS2-CU-T30-PA-ExpBlock1\n",
      "Processing 1181: CPS2-CU-T45-PB-ExpBlock2\n",
      "Processing 1182: CPS2-ASU-T43-PD-Transfer\n",
      "Processing 1183: CPS2-ASU-T62-PD-ExpBlock2\n",
      "Processing 1184: CPS2-ASU-T29-PC-Transfer\n"
     ]
    },
    {
     "name": "stderr",
     "output_type": "stream",
     "text": [
      "/Users/angelina/miniforge3/envs/env_tf/lib/python3.9/site-packages/scipy/interpolate/_fitpack2.py:280: UserWarning: \n",
      "The maximal number of iterations maxit (set to 20 by the program)\n",
      "allowed for finding a smoothing spline with fp=s has been reached: s\n",
      "too small.\n",
      "There is an approximation returned but the corresponding weighted sum\n",
      "of squared residuals does not satisfy the condition abs(fp-s)/s < tol.\n",
      "  warnings.warn(message)\n"
     ]
    },
    {
     "name": "stdout",
     "output_type": "stream",
     "text": [
      "Processing 1185: CPS2-CU-T13-PB-Transfer\n",
      "Processing 1186: CPS2-ASU-T88-PC-Warmup\n"
     ]
    },
    {
     "name": "stderr",
     "output_type": "stream",
     "text": [
      "/Users/angelina/miniforge3/envs/env_tf/lib/python3.9/site-packages/scipy/interpolate/_fitpack2.py:280: UserWarning: \n",
      "The maximal number of iterations maxit (set to 20 by the program)\n",
      "allowed for finding a smoothing spline with fp=s has been reached: s\n",
      "too small.\n",
      "There is an approximation returned but the corresponding weighted sum\n",
      "of squared residuals does not satisfy the condition abs(fp-s)/s < tol.\n",
      "  warnings.warn(message)\n"
     ]
    },
    {
     "name": "stdout",
     "output_type": "stream",
     "text": [
      "Processing 1187: CPS2-ASU-T40-PC-ExpBlock1\n",
      "Processing 1188: CPS2-CU-T64-PB-Transfer\n",
      "Processing 1189: CPS2-ASU-T26-PB-ExpBlock1\n"
     ]
    },
    {
     "name": "stderr",
     "output_type": "stream",
     "text": [
      "/Users/angelina/miniforge3/envs/env_tf/lib/python3.9/site-packages/scipy/interpolate/_fitpack2.py:280: UserWarning: \n",
      "The maximal number of iterations maxit (set to 20 by the program)\n",
      "allowed for finding a smoothing spline with fp=s has been reached: s\n",
      "too small.\n",
      "There is an approximation returned but the corresponding weighted sum\n",
      "of squared residuals does not satisfy the condition abs(fp-s)/s < tol.\n",
      "  warnings.warn(message)\n"
     ]
    },
    {
     "name": "stdout",
     "output_type": "stream",
     "text": [
      "Processing 1190: CPS2-ASU-T53-PA-ExpBlock2\n"
     ]
    },
    {
     "name": "stderr",
     "output_type": "stream",
     "text": [
      "/Users/angelina/miniforge3/envs/env_tf/lib/python3.9/site-packages/scipy/interpolate/_fitpack2.py:280: UserWarning: \n",
      "The maximal number of iterations maxit (set to 20 by the program)\n",
      "allowed for finding a smoothing spline with fp=s has been reached: s\n",
      "too small.\n",
      "There is an approximation returned but the corresponding weighted sum\n",
      "of squared residuals does not satisfy the condition abs(fp-s)/s < tol.\n",
      "  warnings.warn(message)\n"
     ]
    },
    {
     "name": "stdout",
     "output_type": "stream",
     "text": [
      "Processing 1191: CPS2-ASU-T88-PD-ExpBlock1\n",
      "Processing 1192: CPS2-CU-T49-PB-ExpBlock2\n",
      "Processing 1193: CPS2-CU-T61-PC-Transfer\n",
      "Processing 1194: CPS2-ASU-T77-PD-Warmup\n",
      "Processing 1195: CPS2-CU-T18-PA-ExpBlock2\n",
      "Processing 1196: CPS2-ASU-T68-PC-ExpBlock2\n"
     ]
    },
    {
     "name": "stderr",
     "output_type": "stream",
     "text": [
      "/Users/angelina/miniforge3/envs/env_tf/lib/python3.9/site-packages/scipy/interpolate/_fitpack2.py:280: UserWarning: \n",
      "The maximal number of iterations maxit (set to 20 by the program)\n",
      "allowed for finding a smoothing spline with fp=s has been reached: s\n",
      "too small.\n",
      "There is an approximation returned but the corresponding weighted sum\n",
      "of squared residuals does not satisfy the condition abs(fp-s)/s < tol.\n",
      "  warnings.warn(message)\n"
     ]
    },
    {
     "name": "stdout",
     "output_type": "stream",
     "text": [
      "Processing 1197: CPS2-ASU-T91-PA-ExpBlock2\n"
     ]
    },
    {
     "name": "stderr",
     "output_type": "stream",
     "text": [
      "/Users/angelina/miniforge3/envs/env_tf/lib/python3.9/site-packages/scipy/interpolate/_fitpack2.py:280: UserWarning: \n",
      "The maximal number of iterations maxit (set to 20 by the program)\n",
      "allowed for finding a smoothing spline with fp=s has been reached: s\n",
      "too small.\n",
      "There is an approximation returned but the corresponding weighted sum\n",
      "of squared residuals does not satisfy the condition abs(fp-s)/s < tol.\n",
      "  warnings.warn(message)\n"
     ]
    },
    {
     "name": "stdout",
     "output_type": "stream",
     "text": [
      "Processing 1198: CPS2-CU-T44-PB-Warmup\n",
      "Processing 1199: CPS2-ASU-T77-PA-ExpBlock1\n",
      "Processing 1200: CPS2-ASU-T37-PB-ExpBlock2\n",
      "Processing 1201: CPS2-CU-T38-PC-Transfer\n"
     ]
    },
    {
     "name": "stderr",
     "output_type": "stream",
     "text": [
      "/Users/angelina/miniforge3/envs/env_tf/lib/python3.9/site-packages/scipy/interpolate/_fitpack2.py:280: UserWarning: \n",
      "The maximal number of iterations maxit (set to 20 by the program)\n",
      "allowed for finding a smoothing spline with fp=s has been reached: s\n",
      "too small.\n",
      "There is an approximation returned but the corresponding weighted sum\n",
      "of squared residuals does not satisfy the condition abs(fp-s)/s < tol.\n",
      "  warnings.warn(message)\n"
     ]
    },
    {
     "name": "stdout",
     "output_type": "stream",
     "text": [
      "Processing 1202: CPS2-CU-T52-PD-Transfer\n",
      "Processing 1203: CPS2-CU-T32-PC-ExpBlock1\n"
     ]
    },
    {
     "name": "stderr",
     "output_type": "stream",
     "text": [
      "/Users/angelina/miniforge3/envs/env_tf/lib/python3.9/site-packages/scipy/interpolate/_fitpack2.py:280: UserWarning: \n",
      "The maximal number of iterations maxit (set to 20 by the program)\n",
      "allowed for finding a smoothing spline with fp=s has been reached: s\n",
      "too small.\n",
      "There is an approximation returned but the corresponding weighted sum\n",
      "of squared residuals does not satisfy the condition abs(fp-s)/s < tol.\n",
      "  warnings.warn(message)\n"
     ]
    },
    {
     "name": "stdout",
     "output_type": "stream",
     "text": [
      "Processing 1204: CPS2-CU-T20-PA-Warmup\n",
      "Processing 1205: CPS2-CU-T16-PC-ExpBlock2\n",
      "Processing 1206: CPS2-ASU-T80-PA-ExpBlock1\n",
      "Processing 1207: CPS2-ASU-T66-PA-ExpBlock2\n"
     ]
    },
    {
     "name": "stderr",
     "output_type": "stream",
     "text": [
      "/Users/angelina/miniforge3/envs/env_tf/lib/python3.9/site-packages/scipy/interpolate/_fitpack2.py:280: UserWarning: \n",
      "The maximal number of iterations maxit (set to 20 by the program)\n",
      "allowed for finding a smoothing spline with fp=s has been reached: s\n",
      "too small.\n",
      "There is an approximation returned but the corresponding weighted sum\n",
      "of squared residuals does not satisfy the condition abs(fp-s)/s < tol.\n",
      "  warnings.warn(message)\n"
     ]
    },
    {
     "name": "stdout",
     "output_type": "stream",
     "text": [
      "Processing 1208: CPS2-ASU-T13-PB-ExpBlock1\n"
     ]
    },
    {
     "name": "stderr",
     "output_type": "stream",
     "text": [
      "/Users/angelina/miniforge3/envs/env_tf/lib/python3.9/site-packages/scipy/interpolate/_fitpack2.py:280: UserWarning: \n",
      "The maximal number of iterations maxit (set to 20 by the program)\n",
      "allowed for finding a smoothing spline with fp=s has been reached: s\n",
      "too small.\n",
      "There is an approximation returned but the corresponding weighted sum\n",
      "of squared residuals does not satisfy the condition abs(fp-s)/s < tol.\n",
      "  warnings.warn(message)\n"
     ]
    },
    {
     "name": "stdout",
     "output_type": "stream",
     "text": [
      "Processing 1209: CPS2-CU-T45-PA-Transfer\n"
     ]
    },
    {
     "name": "stderr",
     "output_type": "stream",
     "text": [
      "/Users/angelina/miniforge3/envs/env_tf/lib/python3.9/site-packages/scipy/interpolate/_fitpack2.py:280: UserWarning: \n",
      "The maximal number of iterations maxit (set to 20 by the program)\n",
      "allowed for finding a smoothing spline with fp=s has been reached: s\n",
      "too small.\n",
      "There is an approximation returned but the corresponding weighted sum\n",
      "of squared residuals does not satisfy the condition abs(fp-s)/s < tol.\n",
      "  warnings.warn(message)\n"
     ]
    },
    {
     "name": "stdout",
     "output_type": "stream",
     "text": [
      "Processing 1210: CPS2-CU-T35-PB-Warmup\n"
     ]
    },
    {
     "name": "stderr",
     "output_type": "stream",
     "text": [
      "/Users/angelina/miniforge3/envs/env_tf/lib/python3.9/site-packages/scipy/interpolate/_fitpack2.py:280: UserWarning: \n",
      "The maximal number of iterations maxit (set to 20 by the program)\n",
      "allowed for finding a smoothing spline with fp=s has been reached: s\n",
      "too small.\n",
      "There is an approximation returned but the corresponding weighted sum\n",
      "of squared residuals does not satisfy the condition abs(fp-s)/s < tol.\n",
      "  warnings.warn(message)\n"
     ]
    },
    {
     "name": "stdout",
     "output_type": "stream",
     "text": [
      "Processing 1211: CPS2-ASU-T75-PC-ExpBlock1\n"
     ]
    },
    {
     "name": "stderr",
     "output_type": "stream",
     "text": [
      "/Users/angelina/miniforge3/envs/env_tf/lib/python3.9/site-packages/scipy/interpolate/_fitpack2.py:280: UserWarning: \n",
      "The maximal number of iterations maxit (set to 20 by the program)\n",
      "allowed for finding a smoothing spline with fp=s has been reached: s\n",
      "too small.\n",
      "There is an approximation returned but the corresponding weighted sum\n",
      "of squared residuals does not satisfy the condition abs(fp-s)/s < tol.\n",
      "  warnings.warn(message)\n"
     ]
    },
    {
     "name": "stdout",
     "output_type": "stream",
     "text": [
      "Processing 1212: CPS2-ASU-T93-PC-ExpBlock2\n",
      "Processing 1213: CPS2-CU-T32-PA-Transfer\n"
     ]
    },
    {
     "name": "stderr",
     "output_type": "stream",
     "text": [
      "/Users/angelina/miniforge3/envs/env_tf/lib/python3.9/site-packages/scipy/interpolate/_fitpack2.py:280: UserWarning: \n",
      "The maximal number of iterations maxit (set to 20 by the program)\n",
      "allowed for finding a smoothing spline with fp=s has been reached: s\n",
      "too small.\n",
      "There is an approximation returned but the corresponding weighted sum\n",
      "of squared residuals does not satisfy the condition abs(fp-s)/s < tol.\n",
      "  warnings.warn(message)\n"
     ]
    },
    {
     "name": "stdout",
     "output_type": "stream",
     "text": [
      "Processing 1214: CPS2-CU-T60-PD-Warmup\n",
      "Processing 1215: CPS2-ASU-T70-PC-Transfer\n",
      "Processing 1216: CPS2-CU-T70-PB-ExpBlock2\n",
      "Processing 1217: CPS2-CU-T54-PB-ExpBlock1\n",
      "Processing 1218: CPS2-ASU-T78-PA-Warmup\n",
      "Processing 1219: CPS2-ASU-T51-PC-ExpBlock2\n"
     ]
    },
    {
     "name": "stderr",
     "output_type": "stream",
     "text": [
      "/Users/angelina/miniforge3/envs/env_tf/lib/python3.9/site-packages/scipy/interpolate/_fitpack2.py:280: UserWarning: \n",
      "The maximal number of iterations maxit (set to 20 by the program)\n",
      "allowed for finding a smoothing spline with fp=s has been reached: s\n",
      "too small.\n",
      "There is an approximation returned but the corresponding weighted sum\n",
      "of squared residuals does not satisfy the condition abs(fp-s)/s < tol.\n",
      "  warnings.warn(message)\n"
     ]
    },
    {
     "name": "stdout",
     "output_type": "stream",
     "text": [
      "Processing 1220: CPS2-ASU-T95-PD-ExpBlock2\n"
     ]
    },
    {
     "name": "stderr",
     "output_type": "stream",
     "text": [
      "/Users/angelina/miniforge3/envs/env_tf/lib/python3.9/site-packages/scipy/interpolate/_fitpack2.py:280: UserWarning: \n",
      "The maximal number of iterations maxit (set to 20 by the program)\n",
      "allowed for finding a smoothing spline with fp=s has been reached: s\n",
      "too small.\n",
      "There is an approximation returned but the corresponding weighted sum\n",
      "of squared residuals does not satisfy the condition abs(fp-s)/s < tol.\n",
      "  warnings.warn(message)\n"
     ]
    },
    {
     "name": "stdout",
     "output_type": "stream",
     "text": [
      "Processing 1221: CPS2-ASU-T75-PB-Transfer\n",
      "Processing 1222: CPS2-ASU-T104-PC-ExpBlock2\n",
      "Processing 1223: CPS2-ASU-T33-PC-ExpBlock1\n",
      "Processing 1224: CPS2-CU-T18-PB-Warmup\n",
      "Processing 1225: CPS2-ASU-T59-PB-ExpBlock1\n",
      "Processing 1226: CPS2-ASU-T39-PB-Transfer\n"
     ]
    },
    {
     "name": "stderr",
     "output_type": "stream",
     "text": [
      "/Users/angelina/miniforge3/envs/env_tf/lib/python3.9/site-packages/scipy/interpolate/_fitpack2.py:280: UserWarning: \n",
      "The maximal number of iterations maxit (set to 20 by the program)\n",
      "allowed for finding a smoothing spline with fp=s has been reached: s\n",
      "too small.\n",
      "There is an approximation returned but the corresponding weighted sum\n",
      "of squared residuals does not satisfy the condition abs(fp-s)/s < tol.\n",
      "  warnings.warn(message)\n"
     ]
    },
    {
     "name": "stdout",
     "output_type": "stream",
     "text": [
      "Processing 1227: CPS2-ASU-T76-PC-Warmup\n"
     ]
    },
    {
     "name": "stderr",
     "output_type": "stream",
     "text": [
      "/Users/angelina/miniforge3/envs/env_tf/lib/python3.9/site-packages/scipy/interpolate/_fitpack2.py:280: UserWarning: \n",
      "The maximal number of iterations maxit (set to 20 by the program)\n",
      "allowed for finding a smoothing spline with fp=s has been reached: s\n",
      "too small.\n",
      "There is an approximation returned but the corresponding weighted sum\n",
      "of squared residuals does not satisfy the condition abs(fp-s)/s < tol.\n",
      "  warnings.warn(message)\n"
     ]
    },
    {
     "name": "stdout",
     "output_type": "stream",
     "text": [
      "Processing 1228: CPS2-CU-T36-PB-ExpBlock2\n",
      "Processing 1229: CPS2-CU-T43-PA-ExpBlock1\n"
     ]
    },
    {
     "name": "stderr",
     "output_type": "stream",
     "text": [
      "/Users/angelina/miniforge3/envs/env_tf/lib/python3.9/site-packages/scipy/interpolate/_fitpack2.py:280: UserWarning: \n",
      "The maximal number of iterations maxit (set to 20 by the program)\n",
      "allowed for finding a smoothing spline with fp=s has been reached: s\n",
      "too small.\n",
      "There is an approximation returned but the corresponding weighted sum\n",
      "of squared residuals does not satisfy the condition abs(fp-s)/s < tol.\n",
      "  warnings.warn(message)\n"
     ]
    },
    {
     "name": "stdout",
     "output_type": "stream",
     "text": [
      "Processing 1230: CPS2-CU-T67-PA-ExpBlock2\n",
      "Processing 1231: CPS2-CU-T33-PA-Warmup\n",
      "Processing 1232: CPS2-ASU-T35-PD-ExpBlock1\n",
      "Processing 1233: CPS2-ASU-T102-PD-ExpBlock2\n",
      "Processing 1234: CPS2-ASU-T55-PA-Warmup\n",
      "Processing 1235: CPS2-ASU-T89-PD-Warmup\n",
      "Processing 1236: CPS2-ASU-T39-PD-ExpBlock1\n",
      "Processing 1237: CPS2-ASU-T71-PB-ExpBlock2\n",
      "Processing 1238: CPS2-CU-T71-PB-Transfer\n",
      "Processing 1239: CPS2-ASU-T97-PB-ExpBlock1\n"
     ]
    },
    {
     "name": "stderr",
     "output_type": "stream",
     "text": [
      "/Users/angelina/miniforge3/envs/env_tf/lib/python3.9/site-packages/scipy/interpolate/_fitpack2.py:280: UserWarning: \n",
      "The maximal number of iterations maxit (set to 20 by the program)\n",
      "allowed for finding a smoothing spline with fp=s has been reached: s\n",
      "too small.\n",
      "There is an approximation returned but the corresponding weighted sum\n",
      "of squared residuals does not satisfy the condition abs(fp-s)/s < tol.\n",
      "  warnings.warn(message)\n"
     ]
    },
    {
     "name": "stdout",
     "output_type": "stream",
     "text": [
      "Processing 1240: CPS2-ASU-T21-PD-Transfer\n",
      "Processing 1241: CPS2-ASU-T96-PD-Transfer\n",
      "Processing 1242: CPS2-ASU-T40-PB-Warmup\n",
      "Processing 1243: CPS2-ASU-T20-PA-ExpBlock2\n",
      "Processing 1244: CPS2-ASU-T55-PB-ExpBlock1\n",
      "Processing 1245: CPS2-ASU-T36-PA-Transfer\n"
     ]
    },
    {
     "name": "stderr",
     "output_type": "stream",
     "text": [
      "/Users/angelina/miniforge3/envs/env_tf/lib/python3.9/site-packages/scipy/interpolate/_fitpack2.py:280: UserWarning: \n",
      "The maximal number of iterations maxit (set to 20 by the program)\n",
      "allowed for finding a smoothing spline with fp=s has been reached: s\n",
      "too small.\n",
      "There is an approximation returned but the corresponding weighted sum\n",
      "of squared residuals does not satisfy the condition abs(fp-s)/s < tol.\n",
      "  warnings.warn(message)\n"
     ]
    },
    {
     "name": "stdout",
     "output_type": "stream",
     "text": [
      "Processing 1246: CPS2-ASU-T48-PC-Warmup\n",
      "Processing 1247: CPS2-ASU-T17-PB-Transfer\n"
     ]
    },
    {
     "name": "stderr",
     "output_type": "stream",
     "text": [
      "/Users/angelina/miniforge3/envs/env_tf/lib/python3.9/site-packages/scipy/interpolate/_fitpack2.py:280: UserWarning: \n",
      "The maximal number of iterations maxit (set to 20 by the program)\n",
      "allowed for finding a smoothing spline with fp=s has been reached: s\n",
      "too small.\n",
      "There is an approximation returned but the corresponding weighted sum\n",
      "of squared residuals does not satisfy the condition abs(fp-s)/s < tol.\n",
      "  warnings.warn(message)\n"
     ]
    },
    {
     "name": "stdout",
     "output_type": "stream",
     "text": [
      "Processing 1248: CPS2-ASU-T100-PC-Transfer\n",
      "Processing 1249: CPS2-ASU-T15-PA-ExpBlock2\n"
     ]
    },
    {
     "name": "stderr",
     "output_type": "stream",
     "text": [
      "/Users/angelina/miniforge3/envs/env_tf/lib/python3.9/site-packages/scipy/interpolate/_fitpack2.py:280: UserWarning: \n",
      "The maximal number of iterations maxit (set to 20 by the program)\n",
      "allowed for finding a smoothing spline with fp=s has been reached: s\n",
      "too small.\n",
      "There is an approximation returned but the corresponding weighted sum\n",
      "of squared residuals does not satisfy the condition abs(fp-s)/s < tol.\n",
      "  warnings.warn(message)\n"
     ]
    },
    {
     "name": "stdout",
     "output_type": "stream",
     "text": [
      "Processing 1250: CPS2-ASU-T86-PB-ExpBlock2\n"
     ]
    },
    {
     "name": "stderr",
     "output_type": "stream",
     "text": [
      "/Users/angelina/miniforge3/envs/env_tf/lib/python3.9/site-packages/scipy/interpolate/_fitpack2.py:280: UserWarning: \n",
      "The maximal number of iterations maxit (set to 20 by the program)\n",
      "allowed for finding a smoothing spline with fp=s has been reached: s\n",
      "too small.\n",
      "There is an approximation returned but the corresponding weighted sum\n",
      "of squared residuals does not satisfy the condition abs(fp-s)/s < tol.\n",
      "  warnings.warn(message)\n"
     ]
    },
    {
     "name": "stdout",
     "output_type": "stream",
     "text": [
      "Processing 1251: CPS2-ASU-T93-PB-Warmup\n"
     ]
    },
    {
     "name": "stderr",
     "output_type": "stream",
     "text": [
      "/Users/angelina/miniforge3/envs/env_tf/lib/python3.9/site-packages/scipy/interpolate/_fitpack2.py:280: UserWarning: \n",
      "The maximal number of iterations maxit (set to 20 by the program)\n",
      "allowed for finding a smoothing spline with fp=s has been reached: s\n",
      "too small.\n",
      "There is an approximation returned but the corresponding weighted sum\n",
      "of squared residuals does not satisfy the condition abs(fp-s)/s < tol.\n",
      "  warnings.warn(message)\n"
     ]
    },
    {
     "name": "stdout",
     "output_type": "stream",
     "text": [
      "Processing 1252: CPS2-ASU-T24-PA-Warmup\n"
     ]
    },
    {
     "name": "stderr",
     "output_type": "stream",
     "text": [
      "/Users/angelina/miniforge3/envs/env_tf/lib/python3.9/site-packages/scipy/interpolate/_fitpack2.py:280: UserWarning: \n",
      "The maximal number of iterations maxit (set to 20 by the program)\n",
      "allowed for finding a smoothing spline with fp=s has been reached: s\n",
      "too small.\n",
      "There is an approximation returned but the corresponding weighted sum\n",
      "of squared residuals does not satisfy the condition abs(fp-s)/s < tol.\n",
      "  warnings.warn(message)\n"
     ]
    },
    {
     "name": "stdout",
     "output_type": "stream",
     "text": [
      "Processing 1253: CPS2-CU-T65-PC-ExpBlock2\n"
     ]
    },
    {
     "name": "stderr",
     "output_type": "stream",
     "text": [
      "/Users/angelina/miniforge3/envs/env_tf/lib/python3.9/site-packages/scipy/interpolate/_fitpack2.py:280: UserWarning: \n",
      "The maximal number of iterations maxit (set to 20 by the program)\n",
      "allowed for finding a smoothing spline with fp=s has been reached: s\n",
      "too small.\n",
      "There is an approximation returned but the corresponding weighted sum\n",
      "of squared residuals does not satisfy the condition abs(fp-s)/s < tol.\n",
      "  warnings.warn(message)\n"
     ]
    },
    {
     "name": "stdout",
     "output_type": "stream",
     "text": [
      "Processing 1254: CPS2-CU-T41-PC-ExpBlock1\n",
      "Processing 1255: CPS2-CU-T61-PC-Warmup\n"
     ]
    },
    {
     "name": "stderr",
     "output_type": "stream",
     "text": [
      "/Users/angelina/miniforge3/envs/env_tf/lib/python3.9/site-packages/scipy/interpolate/_fitpack2.py:280: UserWarning: \n",
      "The maximal number of iterations maxit (set to 20 by the program)\n",
      "allowed for finding a smoothing spline with fp=s has been reached: s\n",
      "too small.\n",
      "There is an approximation returned but the corresponding weighted sum\n",
      "of squared residuals does not satisfy the condition abs(fp-s)/s < tol.\n",
      "  warnings.warn(message)\n"
     ]
    },
    {
     "name": "stdout",
     "output_type": "stream",
     "text": [
      "Processing 1256: CPS2-CU-T28-PB-Transfer\n",
      "Processing 1257: CPS2-ASU-T78-PD-Transfer\n",
      "Processing 1258: CPS2-CU-T50-PA-Transfer\n",
      "Processing 1259: CPS2-ASU-T31-PA-ExpBlock1\n"
     ]
    },
    {
     "name": "stderr",
     "output_type": "stream",
     "text": [
      "/Users/angelina/miniforge3/envs/env_tf/lib/python3.9/site-packages/scipy/interpolate/_fitpack2.py:280: UserWarning: \n",
      "The maximal number of iterations maxit (set to 20 by the program)\n",
      "allowed for finding a smoothing spline with fp=s has been reached: s\n",
      "too small.\n",
      "There is an approximation returned but the corresponding weighted sum\n",
      "of squared residuals does not satisfy the condition abs(fp-s)/s < tol.\n",
      "  warnings.warn(message)\n"
     ]
    },
    {
     "name": "stdout",
     "output_type": "stream",
     "text": [
      "Processing 1260: CPS2-ASU-T44-PB-ExpBlock2\n"
     ]
    },
    {
     "name": "stderr",
     "output_type": "stream",
     "text": [
      "/Users/angelina/miniforge3/envs/env_tf/lib/python3.9/site-packages/scipy/interpolate/_fitpack2.py:280: UserWarning: \n",
      "The maximal number of iterations maxit (set to 20 by the program)\n",
      "allowed for finding a smoothing spline with fp=s has been reached: s\n",
      "too small.\n",
      "There is an approximation returned but the corresponding weighted sum\n",
      "of squared residuals does not satisfy the condition abs(fp-s)/s < tol.\n",
      "  warnings.warn(message)\n"
     ]
    },
    {
     "name": "stdout",
     "output_type": "stream",
     "text": [
      "Processing 1261: CPS2-CU-T69-PB-Warmup\n"
     ]
    },
    {
     "name": "stderr",
     "output_type": "stream",
     "text": [
      "/Users/angelina/miniforge3/envs/env_tf/lib/python3.9/site-packages/scipy/interpolate/_fitpack2.py:280: UserWarning: \n",
      "The maximal number of iterations maxit (set to 20 by the program)\n",
      "allowed for finding a smoothing spline with fp=s has been reached: s\n",
      "too small.\n",
      "There is an approximation returned but the corresponding weighted sum\n",
      "of squared residuals does not satisfy the condition abs(fp-s)/s < tol.\n",
      "  warnings.warn(message)\n"
     ]
    },
    {
     "name": "stdout",
     "output_type": "stream",
     "text": [
      "Processing 1262: CPS2-ASU-T22-PC-ExpBlock2\n",
      "Processing 1263: CPS2-ASU-T39-PC-Warmup\n",
      "Processing 1264: CPS2-CU-T57-PB-Warmup\n"
     ]
    },
    {
     "name": "stderr",
     "output_type": "stream",
     "text": [
      "/Users/angelina/miniforge3/envs/env_tf/lib/python3.9/site-packages/scipy/interpolate/_fitpack2.py:280: UserWarning: \n",
      "The maximal number of iterations maxit (set to 20 by the program)\n",
      "allowed for finding a smoothing spline with fp=s has been reached: s\n",
      "too small.\n",
      "There is an approximation returned but the corresponding weighted sum\n",
      "of squared residuals does not satisfy the condition abs(fp-s)/s < tol.\n",
      "  warnings.warn(message)\n"
     ]
    },
    {
     "name": "stdout",
     "output_type": "stream",
     "text": [
      "Processing 1265: CPS2-CU-T27-PB-ExpBlock1\n",
      "Processing 1266: CPS2-CU-T52-PA-ExpBlock2\n",
      "Processing 1267: CPS2-CU-T69-PC-ExpBlock2\n",
      "Processing 1268: CPS2-ASU-T24-PD-ExpBlock2\n"
     ]
    },
    {
     "name": "stderr",
     "output_type": "stream",
     "text": [
      "/Users/angelina/miniforge3/envs/env_tf/lib/python3.9/site-packages/scipy/interpolate/_fitpack2.py:280: UserWarning: \n",
      "The maximal number of iterations maxit (set to 20 by the program)\n",
      "allowed for finding a smoothing spline with fp=s has been reached: s\n",
      "too small.\n",
      "There is an approximation returned but the corresponding weighted sum\n",
      "of squared residuals does not satisfy the condition abs(fp-s)/s < tol.\n",
      "  warnings.warn(message)\n"
     ]
    },
    {
     "name": "stdout",
     "output_type": "stream",
     "text": [
      "Processing 1269: CPS2-ASU-T19-PA-ExpBlock2\n",
      "Processing 1270: CPS2-CU-T20-PB-ExpBlock2\n",
      "Processing 1271: CPS2-ASU-T15-PA-Warmup\n"
     ]
    },
    {
     "name": "stderr",
     "output_type": "stream",
     "text": [
      "/Users/angelina/miniforge3/envs/env_tf/lib/python3.9/site-packages/scipy/interpolate/_fitpack2.py:280: UserWarning: \n",
      "The maximal number of iterations maxit (set to 20 by the program)\n",
      "allowed for finding a smoothing spline with fp=s has been reached: s\n",
      "too small.\n",
      "There is an approximation returned but the corresponding weighted sum\n",
      "of squared residuals does not satisfy the condition abs(fp-s)/s < tol.\n",
      "  warnings.warn(message)\n"
     ]
    },
    {
     "name": "stdout",
     "output_type": "stream",
     "text": [
      "Processing 1272: CPS2-ASU-T46-PB-Transfer\n",
      "Processing 1273: CPS2-ASU-T89-PA-Transfer\n",
      "Processing 1274: CPS2-ASU-T25-PC-ExpBlock1\n",
      "Processing 1275: CPS2-ASU-T36-PC-Warmup\n",
      "Processing 1276: CPS2-ASU-T89-PA-Warmup\n",
      "Processing 1277: CPS2-CU-T71-PA-ExpBlock2\n"
     ]
    },
    {
     "name": "stderr",
     "output_type": "stream",
     "text": [
      "/Users/angelina/miniforge3/envs/env_tf/lib/python3.9/site-packages/scipy/interpolate/_fitpack2.py:280: UserWarning: \n",
      "The maximal number of iterations maxit (set to 20 by the program)\n",
      "allowed for finding a smoothing spline with fp=s has been reached: s\n",
      "too small.\n",
      "There is an approximation returned but the corresponding weighted sum\n",
      "of squared residuals does not satisfy the condition abs(fp-s)/s < tol.\n",
      "  warnings.warn(message)\n"
     ]
    },
    {
     "name": "stdout",
     "output_type": "stream",
     "text": [
      "Processing 1278: CPS2-CU-T62-PC-ExpBlock1\n",
      "Processing 1279: CPS2-ASU-T34-PC-Transfer\n"
     ]
    },
    {
     "name": "stderr",
     "output_type": "stream",
     "text": [
      "/Users/angelina/miniforge3/envs/env_tf/lib/python3.9/site-packages/scipy/interpolate/_fitpack2.py:280: UserWarning: \n",
      "The maximal number of iterations maxit (set to 20 by the program)\n",
      "allowed for finding a smoothing spline with fp=s has been reached: s\n",
      "too small.\n",
      "There is an approximation returned but the corresponding weighted sum\n",
      "of squared residuals does not satisfy the condition abs(fp-s)/s < tol.\n",
      "  warnings.warn(message)\n"
     ]
    },
    {
     "name": "stdout",
     "output_type": "stream",
     "text": [
      "Processing 1280: CPS2-ASU-T83-PC-Transfer\n",
      "Processing 1281: CPS2-CU-T66-PB-Warmup\n",
      "Processing 1282: CPS2-ASU-T67-PB-ExpBlock2\n"
     ]
    },
    {
     "name": "stderr",
     "output_type": "stream",
     "text": [
      "/Users/angelina/miniforge3/envs/env_tf/lib/python3.9/site-packages/scipy/interpolate/_fitpack2.py:280: UserWarning: \n",
      "The maximal number of iterations maxit (set to 20 by the program)\n",
      "allowed for finding a smoothing spline with fp=s has been reached: s\n",
      "too small.\n",
      "There is an approximation returned but the corresponding weighted sum\n",
      "of squared residuals does not satisfy the condition abs(fp-s)/s < tol.\n",
      "  warnings.warn(message)\n"
     ]
    },
    {
     "name": "stdout",
     "output_type": "stream",
     "text": [
      "Processing 1283: CPS2-ASU-T49-PA-Transfer\n",
      "Processing 1284: CPS2-ASU-T36-PA-ExpBlock2\n"
     ]
    },
    {
     "name": "stderr",
     "output_type": "stream",
     "text": [
      "/Users/angelina/miniforge3/envs/env_tf/lib/python3.9/site-packages/scipy/interpolate/_fitpack2.py:280: UserWarning: \n",
      "The maximal number of iterations maxit (set to 20 by the program)\n",
      "allowed for finding a smoothing spline with fp=s has been reached: s\n",
      "too small.\n",
      "There is an approximation returned but the corresponding weighted sum\n",
      "of squared residuals does not satisfy the condition abs(fp-s)/s < tol.\n",
      "  warnings.warn(message)\n"
     ]
    },
    {
     "name": "stdout",
     "output_type": "stream",
     "text": [
      "Processing 1285: CPS2-ASU-T43-PB-ExpBlock1\n"
     ]
    },
    {
     "name": "stderr",
     "output_type": "stream",
     "text": [
      "/Users/angelina/miniforge3/envs/env_tf/lib/python3.9/site-packages/scipy/interpolate/_fitpack2.py:280: UserWarning: \n",
      "The maximal number of iterations maxit (set to 20 by the program)\n",
      "allowed for finding a smoothing spline with fp=s has been reached: s\n",
      "too small.\n",
      "There is an approximation returned but the corresponding weighted sum\n",
      "of squared residuals does not satisfy the condition abs(fp-s)/s < tol.\n",
      "  warnings.warn(message)\n"
     ]
    },
    {
     "name": "stdout",
     "output_type": "stream",
     "text": [
      "Processing 1286: CPS2-ASU-T29-PC-ExpBlock1\n"
     ]
    },
    {
     "name": "stderr",
     "output_type": "stream",
     "text": [
      "/Users/angelina/miniforge3/envs/env_tf/lib/python3.9/site-packages/scipy/interpolate/_fitpack2.py:280: UserWarning: \n",
      "The maximal number of iterations maxit (set to 20 by the program)\n",
      "allowed for finding a smoothing spline with fp=s has been reached: s\n",
      "too small.\n",
      "There is an approximation returned but the corresponding weighted sum\n",
      "of squared residuals does not satisfy the condition abs(fp-s)/s < tol.\n",
      "  warnings.warn(message)\n"
     ]
    },
    {
     "name": "stdout",
     "output_type": "stream",
     "text": [
      "Processing 1287: CPS2-CU-T59-PA-ExpBlock1\n",
      "Processing 1288: CPS2-ASU-T86-PB-Transfer\n"
     ]
    },
    {
     "name": "stderr",
     "output_type": "stream",
     "text": [
      "/Users/angelina/miniforge3/envs/env_tf/lib/python3.9/site-packages/scipy/interpolate/_fitpack2.py:280: UserWarning: \n",
      "The maximal number of iterations maxit (set to 20 by the program)\n",
      "allowed for finding a smoothing spline with fp=s has been reached: s\n",
      "too small.\n",
      "There is an approximation returned but the corresponding weighted sum\n",
      "of squared residuals does not satisfy the condition abs(fp-s)/s < tol.\n",
      "  warnings.warn(message)\n"
     ]
    },
    {
     "name": "stdout",
     "output_type": "stream",
     "text": [
      "Processing 1289: CPS2-CU-T46-PC-ExpBlock2\n",
      "Processing 1290: CPS2-CU-T29-PB-Warmup\n"
     ]
    },
    {
     "name": "stderr",
     "output_type": "stream",
     "text": [
      "/Users/angelina/miniforge3/envs/env_tf/lib/python3.9/site-packages/scipy/interpolate/_fitpack2.py:280: UserWarning: \n",
      "The maximal number of iterations maxit (set to 20 by the program)\n",
      "allowed for finding a smoothing spline with fp=s has been reached: s\n",
      "too small.\n",
      "There is an approximation returned but the corresponding weighted sum\n",
      "of squared residuals does not satisfy the condition abs(fp-s)/s < tol.\n",
      "  warnings.warn(message)\n"
     ]
    },
    {
     "name": "stdout",
     "output_type": "stream",
     "text": [
      "Processing 1291: CPS2-CU-T19-PB-ExpBlock2\n"
     ]
    },
    {
     "name": "stderr",
     "output_type": "stream",
     "text": [
      "/Users/angelina/miniforge3/envs/env_tf/lib/python3.9/site-packages/scipy/interpolate/_fitpack2.py:280: UserWarning: \n",
      "The maximal number of iterations maxit (set to 20 by the program)\n",
      "allowed for finding a smoothing spline with fp=s has been reached: s\n",
      "too small.\n",
      "There is an approximation returned but the corresponding weighted sum\n",
      "of squared residuals does not satisfy the condition abs(fp-s)/s < tol.\n",
      "  warnings.warn(message)\n"
     ]
    },
    {
     "name": "stdout",
     "output_type": "stream",
     "text": [
      "Processing 1292: CPS2-ASU-T10-PA-Transfer\n",
      "Processing 1293: CPS2-ASU-T47-PC-Warmup\n",
      "Processing 1294: CPS2-ASU-T90-PB-ExpBlock2\n",
      "Processing 1295: CPS2-ASU-T76-PB-ExpBlock1\n",
      "Processing 1296: CPS2-ASU-T68-PB-Transfer\n",
      "Processing 1297: CPS2-ASU-T52-PB-ExpBlock2\n",
      "Processing 1298: CPS2-ASU-T38-PC-ExpBlock2\n",
      "Processing 1299: CPS2-ASU-T86-PD-Warmup\n",
      "Processing 1300: CPS2-ASU-T64-PA-Warmup\n",
      "Processing 1301: CPS2-CU-T48-PA-ExpBlock2\n",
      "Processing 1302: CPS2-CU-T57-PB-Transfer\n",
      "Processing 1303: CPS2-CU-T57-PC-ExpBlock1\n",
      "Processing 1304: CPS2-CU-T31-PB-ExpBlock1\n"
     ]
    },
    {
     "name": "stderr",
     "output_type": "stream",
     "text": [
      "/Users/angelina/miniforge3/envs/env_tf/lib/python3.9/site-packages/scipy/interpolate/_fitpack2.py:280: UserWarning: \n",
      "The maximal number of iterations maxit (set to 20 by the program)\n",
      "allowed for finding a smoothing spline with fp=s has been reached: s\n",
      "too small.\n",
      "There is an approximation returned but the corresponding weighted sum\n",
      "of squared residuals does not satisfy the condition abs(fp-s)/s < tol.\n",
      "  warnings.warn(message)\n"
     ]
    },
    {
     "name": "stdout",
     "output_type": "stream",
     "text": [
      "Processing 1305: CPS2-CU-T44-PA-ExpBlock2\n",
      "Processing 1306: CPS2-CU-T20-PB-Transfer\n",
      "Processing 1307: CPS2-ASU-T34-PC-ExpBlock2\n",
      "Processing 1308: CPS2-ASU-T103-PC-ExpBlock1\n"
     ]
    },
    {
     "name": "stderr",
     "output_type": "stream",
     "text": [
      "/Users/angelina/miniforge3/envs/env_tf/lib/python3.9/site-packages/scipy/interpolate/_fitpack2.py:280: UserWarning: \n",
      "The maximal number of iterations maxit (set to 20 by the program)\n",
      "allowed for finding a smoothing spline with fp=s has been reached: s\n",
      "too small.\n",
      "There is an approximation returned but the corresponding weighted sum\n",
      "of squared residuals does not satisfy the condition abs(fp-s)/s < tol.\n",
      "  warnings.warn(message)\n"
     ]
    },
    {
     "name": "stdout",
     "output_type": "stream",
     "text": [
      "Processing 1309: CPS2-ASU-T70-PD-Transfer\n",
      "Processing 1310: CPS2-CU-T17-PB-Warmup\n",
      "Processing 1311: CPS2-ASU-T10-PC-ExpBlock1\n"
     ]
    },
    {
     "name": "stderr",
     "output_type": "stream",
     "text": [
      "/Users/angelina/miniforge3/envs/env_tf/lib/python3.9/site-packages/scipy/interpolate/_fitpack2.py:280: UserWarning: \n",
      "The maximal number of iterations maxit (set to 20 by the program)\n",
      "allowed for finding a smoothing spline with fp=s has been reached: s\n",
      "too small.\n",
      "There is an approximation returned but the corresponding weighted sum\n",
      "of squared residuals does not satisfy the condition abs(fp-s)/s < tol.\n",
      "  warnings.warn(message)\n"
     ]
    },
    {
     "name": "stdout",
     "output_type": "stream",
     "text": [
      "Processing 1312: CPS2-ASU-T105-PD-ExpBlock1\n",
      "Processing 1313: CPS2-ASU-T71-PB-Warmup\n",
      "Processing 1314: CPS2-ASU-T32-PD-ExpBlock2\n",
      "Processing 1315: CPS2-ASU-T24-PD-Warmup\n",
      "Processing 1316: CPS2-ASU-T67-PA-Transfer\n"
     ]
    },
    {
     "name": "stderr",
     "output_type": "stream",
     "text": [
      "/Users/angelina/miniforge3/envs/env_tf/lib/python3.9/site-packages/scipy/interpolate/_fitpack2.py:280: UserWarning: \n",
      "The maximal number of iterations maxit (set to 20 by the program)\n",
      "allowed for finding a smoothing spline with fp=s has been reached: s\n",
      "too small.\n",
      "There is an approximation returned but the corresponding weighted sum\n",
      "of squared residuals does not satisfy the condition abs(fp-s)/s < tol.\n",
      "  warnings.warn(message)\n"
     ]
    },
    {
     "name": "stdout",
     "output_type": "stream",
     "text": [
      "Processing 1317: CPS2-CU-T15-PB-ExpBlock2\n",
      "Processing 1318: CPS2-ASU-T26-PB-Warmup\n"
     ]
    },
    {
     "name": "stderr",
     "output_type": "stream",
     "text": [
      "/Users/angelina/miniforge3/envs/env_tf/lib/python3.9/site-packages/scipy/interpolate/_fitpack2.py:280: UserWarning: \n",
      "The maximal number of iterations maxit (set to 20 by the program)\n",
      "allowed for finding a smoothing spline with fp=s has been reached: s\n",
      "too small.\n",
      "There is an approximation returned but the corresponding weighted sum\n",
      "of squared residuals does not satisfy the condition abs(fp-s)/s < tol.\n",
      "  warnings.warn(message)\n"
     ]
    },
    {
     "name": "stdout",
     "output_type": "stream",
     "text": [
      "Processing 1319: CPS2-ASU-T91-PA-Warmup\n",
      "Processing 1320: CPS2-CU-T40-PB-Warmup\n",
      "Processing 1321: CPS2-ASU-T20-PA-ExpBlock1\n",
      "Processing 1322: CPS2-ASU-T55-PB-ExpBlock2\n",
      "Processing 1323: CPS2-CU-T48-PC-Warmup\n",
      "Processing 1324: CPS2-CU-T27-PB-Transfer\n"
     ]
    },
    {
     "name": "stderr",
     "output_type": "stream",
     "text": [
      "/Users/angelina/miniforge3/envs/env_tf/lib/python3.9/site-packages/scipy/interpolate/_fitpack2.py:280: UserWarning: \n",
      "The maximal number of iterations maxit (set to 20 by the program)\n",
      "allowed for finding a smoothing spline with fp=s has been reached: s\n",
      "too small.\n",
      "There is an approximation returned but the corresponding weighted sum\n",
      "of squared residuals does not satisfy the condition abs(fp-s)/s < tol.\n",
      "  warnings.warn(message)\n"
     ]
    },
    {
     "name": "stdout",
     "output_type": "stream",
     "text": [
      "Processing 1325: CPS2-ASU-T60-PA-Transfer\n",
      "Processing 1326: CPS2-ASU-T71-PB-ExpBlock1\n"
     ]
    },
    {
     "name": "stderr",
     "output_type": "stream",
     "text": [
      "/Users/angelina/miniforge3/envs/env_tf/lib/python3.9/site-packages/scipy/interpolate/_fitpack2.py:280: UserWarning: \n",
      "The maximal number of iterations maxit (set to 20 by the program)\n",
      "allowed for finding a smoothing spline with fp=s has been reached: s\n",
      "too small.\n",
      "There is an approximation returned but the corresponding weighted sum\n",
      "of squared residuals does not satisfy the condition abs(fp-s)/s < tol.\n",
      "  warnings.warn(message)\n"
     ]
    },
    {
     "name": "stdout",
     "output_type": "stream",
     "text": [
      "Processing 1327: CPS2-ASU-T39-PD-ExpBlock2\n",
      "Processing 1328: CPS2-ASU-T97-PB-ExpBlock2\n",
      "Processing 1329: CPS2-ASU-T102-PD-ExpBlock1\n",
      "Processing 1330: CPS2-ASU-T35-PD-ExpBlock2\n",
      "Processing 1331: CPS2-CU-T55-PC-Transfer\n"
     ]
    },
    {
     "name": "stderr",
     "output_type": "stream",
     "text": [
      "/Users/angelina/miniforge3/envs/env_tf/lib/python3.9/site-packages/scipy/interpolate/_fitpack2.py:280: UserWarning: \n",
      "The maximal number of iterations maxit (set to 20 by the program)\n",
      "allowed for finding a smoothing spline with fp=s has been reached: s\n",
      "too small.\n",
      "There is an approximation returned but the corresponding weighted sum\n",
      "of squared residuals does not satisfy the condition abs(fp-s)/s < tol.\n",
      "  warnings.warn(message)\n"
     ]
    },
    {
     "name": "stdout",
     "output_type": "stream",
     "text": [
      "Processing 1332: CPS2-CU-T67-PA-ExpBlock1\n"
     ]
    },
    {
     "name": "stderr",
     "output_type": "stream",
     "text": [
      "/Users/angelina/miniforge3/envs/env_tf/lib/python3.9/site-packages/scipy/interpolate/_fitpack2.py:280: UserWarning: \n",
      "The maximal number of iterations maxit (set to 20 by the program)\n",
      "allowed for finding a smoothing spline with fp=s has been reached: s\n",
      "too small.\n",
      "There is an approximation returned but the corresponding weighted sum\n",
      "of squared residuals does not satisfy the condition abs(fp-s)/s < tol.\n",
      "  warnings.warn(message)\n"
     ]
    },
    {
     "name": "stdout",
     "output_type": "stream",
     "text": [
      "Processing 1333: CPS2-ASU-T84-PB-Warmup\n"
     ]
    },
    {
     "name": "stderr",
     "output_type": "stream",
     "text": [
      "/Users/angelina/miniforge3/envs/env_tf/lib/python3.9/site-packages/scipy/interpolate/_fitpack2.py:280: UserWarning: \n",
      "The maximal number of iterations maxit (set to 20 by the program)\n",
      "allowed for finding a smoothing spline with fp=s has been reached: s\n",
      "too small.\n",
      "There is an approximation returned but the corresponding weighted sum\n",
      "of squared residuals does not satisfy the condition abs(fp-s)/s < tol.\n",
      "  warnings.warn(message)\n"
     ]
    },
    {
     "name": "stdout",
     "output_type": "stream",
     "text": [
      "Processing 1334: CPS2-CU-T50-PB-Transfer\n",
      "Processing 1335: CPS2-CU-T36-PB-ExpBlock1\n",
      "Processing 1336: CPS2-CU-T43-PA-ExpBlock2\n"
     ]
    },
    {
     "name": "stderr",
     "output_type": "stream",
     "text": [
      "/Users/angelina/miniforge3/envs/env_tf/lib/python3.9/site-packages/scipy/interpolate/_fitpack2.py:280: UserWarning: \n",
      "The maximal number of iterations maxit (set to 20 by the program)\n",
      "allowed for finding a smoothing spline with fp=s has been reached: s\n",
      "too small.\n",
      "There is an approximation returned but the corresponding weighted sum\n",
      "of squared residuals does not satisfy the condition abs(fp-s)/s < tol.\n",
      "  warnings.warn(message)\n"
     ]
    },
    {
     "name": "stdout",
     "output_type": "stream",
     "text": [
      "Processing 1337: CPS2-ASU-T33-PC-ExpBlock2\n",
      "Processing 1338: CPS2-ASU-T105-PA-Transfer\n",
      "Processing 1339: CPS2-CU-T28-PA-Transfer\n",
      "Processing 1340: CPS2-ASU-T104-PC-ExpBlock1\n"
     ]
    },
    {
     "name": "stderr",
     "output_type": "stream",
     "text": [
      "/Users/angelina/miniforge3/envs/env_tf/lib/python3.9/site-packages/scipy/interpolate/_fitpack2.py:280: UserWarning: \n",
      "The maximal number of iterations maxit (set to 20 by the program)\n",
      "allowed for finding a smoothing spline with fp=s has been reached: s\n",
      "too small.\n",
      "There is an approximation returned but the corresponding weighted sum\n",
      "of squared residuals does not satisfy the condition abs(fp-s)/s < tol.\n",
      "  warnings.warn(message)\n"
     ]
    },
    {
     "name": "stdout",
     "output_type": "stream",
     "text": [
      "Processing 1341: CPS2-ASU-T59-PB-ExpBlock2\n",
      "Processing 1342: CPS2-ASU-T10-PC-Warmup\n"
     ]
    },
    {
     "name": "stderr",
     "output_type": "stream",
     "text": [
      "/Users/angelina/miniforge3/envs/env_tf/lib/python3.9/site-packages/scipy/interpolate/_fitpack2.py:280: UserWarning: \n",
      "The maximal number of iterations maxit (set to 20 by the program)\n",
      "allowed for finding a smoothing spline with fp=s has been reached: s\n",
      "too small.\n",
      "There is an approximation returned but the corresponding weighted sum\n",
      "of squared residuals does not satisfy the condition abs(fp-s)/s < tol.\n",
      "  warnings.warn(message)\n"
     ]
    },
    {
     "name": "stdout",
     "output_type": "stream",
     "text": [
      "Processing 1343: CPS2-ASU-T19-PA-ExpBlock1\n",
      "Processing 1344: CPS2-ASU-T24-PD-ExpBlock1\n",
      "Processing 1345: CPS2-ASU-T84-PC-Transfer\n"
     ]
    },
    {
     "name": "stderr",
     "output_type": "stream",
     "text": [
      "/Users/angelina/miniforge3/envs/env_tf/lib/python3.9/site-packages/scipy/interpolate/_fitpack2.py:280: UserWarning: \n",
      "The maximal number of iterations maxit (set to 20 by the program)\n",
      "allowed for finding a smoothing spline with fp=s has been reached: s\n",
      "too small.\n",
      "There is an approximation returned but the corresponding weighted sum\n",
      "of squared residuals does not satisfy the condition abs(fp-s)/s < tol.\n",
      "  warnings.warn(message)\n"
     ]
    },
    {
     "name": "stdout",
     "output_type": "stream",
     "text": [
      "Processing 1346: CPS2-ASU-T33-PC-Transfer\n",
      "Processing 1347: CPS2-ASU-T59-PD-Transfer\n"
     ]
    },
    {
     "name": "stderr",
     "output_type": "stream",
     "text": [
      "/Users/angelina/miniforge3/envs/env_tf/lib/python3.9/site-packages/scipy/interpolate/_fitpack2.py:280: UserWarning: \n",
      "The maximal number of iterations maxit (set to 20 by the program)\n",
      "allowed for finding a smoothing spline with fp=s has been reached: s\n",
      "too small.\n",
      "There is an approximation returned but the corresponding weighted sum\n",
      "of squared residuals does not satisfy the condition abs(fp-s)/s < tol.\n",
      "  warnings.warn(message)\n"
     ]
    },
    {
     "name": "stdout",
     "output_type": "stream",
     "text": [
      "Processing 1348: CPS2-CU-T69-PC-ExpBlock1\n",
      "Processing 1349: CPS2-CU-T71-PA-Transfer\n",
      "Processing 1350: CPS2-CU-T39-PC-Warmup\n",
      "Processing 1351: CPS2-CU-T27-PB-ExpBlock2\n",
      "Processing 1352: CPS2-CU-T52-PA-ExpBlock1\n",
      "Processing 1353: CPS2-ASU-T36-PB-Transfer\n",
      "Processing 1354: CPS2-ASU-T22-PC-ExpBlock1\n"
     ]
    },
    {
     "name": "stderr",
     "output_type": "stream",
     "text": [
      "/Users/angelina/miniforge3/envs/env_tf/lib/python3.9/site-packages/scipy/interpolate/_fitpack2.py:280: UserWarning: \n",
      "The maximal number of iterations maxit (set to 20 by the program)\n",
      "allowed for finding a smoothing spline with fp=s has been reached: s\n",
      "too small.\n",
      "There is an approximation returned but the corresponding weighted sum\n",
      "of squared residuals does not satisfy the condition abs(fp-s)/s < tol.\n",
      "  warnings.warn(message)\n"
     ]
    },
    {
     "name": "stdout",
     "output_type": "stream",
     "text": [
      "Processing 1355: CPS2-ASU-T57-PB-Warmup\n",
      "Processing 1356: CPS2-CU-T31-PB-Warmup\n",
      "Processing 1357: CPS2-ASU-T61-PC-Warmup\n",
      "Processing 1358: CPS2-ASU-T31-PA-ExpBlock2\n",
      "Processing 1359: CPS2-ASU-T44-PB-ExpBlock1\n",
      "Processing 1360: CPS2-CU-T41-PC-ExpBlock2\n",
      "Processing 1361: CPS2-ASU-T69-PB-Warmup\n",
      "Processing 1362: CPS2-ASU-T41-PB-Transfer\n"
     ]
    },
    {
     "name": "stderr",
     "output_type": "stream",
     "text": [
      "/Users/angelina/miniforge3/envs/env_tf/lib/python3.9/site-packages/scipy/interpolate/_fitpack2.py:280: UserWarning: \n",
      "The maximal number of iterations maxit (set to 20 by the program)\n",
      "allowed for finding a smoothing spline with fp=s has been reached: s\n",
      "too small.\n",
      "There is an approximation returned but the corresponding weighted sum\n",
      "of squared residuals does not satisfy the condition abs(fp-s)/s < tol.\n",
      "  warnings.warn(message)\n"
     ]
    },
    {
     "name": "stdout",
     "output_type": "stream",
     "text": [
      "Processing 1363: CPS2-CU-T65-PC-ExpBlock1\n",
      "Processing 1364: CPS2-ASU-T15-PA-ExpBlock1\n"
     ]
    },
    {
     "name": "stderr",
     "output_type": "stream",
     "text": [
      "/Users/angelina/miniforge3/envs/env_tf/lib/python3.9/site-packages/scipy/interpolate/_fitpack2.py:280: UserWarning: \n",
      "The maximal number of iterations maxit (set to 20 by the program)\n",
      "allowed for finding a smoothing spline with fp=s has been reached: s\n",
      "too small.\n",
      "There is an approximation returned but the corresponding weighted sum\n",
      "of squared residuals does not satisfy the condition abs(fp-s)/s < tol.\n",
      "  warnings.warn(message)\n"
     ]
    },
    {
     "name": "stdout",
     "output_type": "stream",
     "text": [
      "Processing 1365: CPS2-ASU-T44-PC-Transfer\n",
      "Processing 1366: CPS2-ASU-T86-PB-ExpBlock1\n",
      "Processing 1367: CPS2-CU-T59-PA-ExpBlock2\n",
      "Processing 1368: CPS2-CU-T46-PC-ExpBlock1\n",
      "Processing 1369: CPS2-ASU-T36-PA-ExpBlock1\n"
     ]
    },
    {
     "name": "stderr",
     "output_type": "stream",
     "text": [
      "/Users/angelina/miniforge3/envs/env_tf/lib/python3.9/site-packages/scipy/interpolate/_fitpack2.py:280: UserWarning: \n",
      "The maximal number of iterations maxit (set to 20 by the program)\n",
      "allowed for finding a smoothing spline with fp=s has been reached: s\n",
      "too small.\n",
      "There is an approximation returned but the corresponding weighted sum\n",
      "of squared residuals does not satisfy the condition abs(fp-s)/s < tol.\n",
      "  warnings.warn(message)\n"
     ]
    },
    {
     "name": "stdout",
     "output_type": "stream",
     "text": [
      "Processing 1370: CPS2-ASU-T43-PB-ExpBlock2\n",
      "Processing 1371: CPS2-ASU-T102-PD-Warmup\n",
      "Processing 1372: CPS2-ASU-T29-PC-ExpBlock2\n",
      "Processing 1373: CPS2-CU-T20-PA-Transfer\n",
      "Processing 1374: CPS2-ASU-T33-PD-Warmup\n"
     ]
    },
    {
     "name": "stderr",
     "output_type": "stream",
     "text": [
      "/Users/angelina/miniforge3/envs/env_tf/lib/python3.9/site-packages/scipy/interpolate/_fitpack2.py:280: UserWarning: \n",
      "The maximal number of iterations maxit (set to 20 by the program)\n",
      "allowed for finding a smoothing spline with fp=s has been reached: s\n",
      "too small.\n",
      "There is an approximation returned but the corresponding weighted sum\n",
      "of squared residuals does not satisfy the condition abs(fp-s)/s < tol.\n",
      "  warnings.warn(message)\n"
     ]
    },
    {
     "name": "stdout",
     "output_type": "stream",
     "text": [
      "Processing 1375: CPS2-ASU-T67-PB-Transfer\n",
      "Processing 1376: CPS2-ASU-T67-PB-ExpBlock1\n",
      "Processing 1377: CPS2-CU-T62-PC-ExpBlock2\n",
      "Processing 1378: CPS2-ASU-T50-PC-Warmup\n"
     ]
    },
    {
     "name": "stderr",
     "output_type": "stream",
     "text": [
      "/Users/angelina/miniforge3/envs/env_tf/lib/python3.9/site-packages/scipy/interpolate/_fitpack2.py:280: UserWarning: \n",
      "The maximal number of iterations maxit (set to 20 by the program)\n",
      "allowed for finding a smoothing spline with fp=s has been reached: s\n",
      "too small.\n",
      "There is an approximation returned but the corresponding weighted sum\n",
      "of squared residuals does not satisfy the condition abs(fp-s)/s < tol.\n",
      "  warnings.warn(message)\n"
     ]
    },
    {
     "name": "stdout",
     "output_type": "stream",
     "text": [
      "Processing 1379: CPS2-CU-T71-PA-ExpBlock1\n"
     ]
    },
    {
     "name": "stderr",
     "output_type": "stream",
     "text": [
      "/Users/angelina/miniforge3/envs/env_tf/lib/python3.9/site-packages/scipy/interpolate/_fitpack2.py:280: UserWarning: \n",
      "The maximal number of iterations maxit (set to 20 by the program)\n",
      "allowed for finding a smoothing spline with fp=s has been reached: s\n",
      "too small.\n",
      "There is an approximation returned but the corresponding weighted sum\n",
      "of squared residuals does not satisfy the condition abs(fp-s)/s < tol.\n",
      "  warnings.warn(message)\n"
     ]
    },
    {
     "name": "stdout",
     "output_type": "stream",
     "text": [
      "Processing 1380: CPS2-CU-T36-PC-Warmup\n"
     ]
    },
    {
     "name": "stderr",
     "output_type": "stream",
     "text": [
      "/Users/angelina/miniforge3/envs/env_tf/lib/python3.9/site-packages/scipy/interpolate/_fitpack2.py:280: UserWarning: \n",
      "The maximal number of iterations maxit (set to 20 by the program)\n",
      "allowed for finding a smoothing spline with fp=s has been reached: s\n",
      "too small.\n",
      "There is an approximation returned but the corresponding weighted sum\n",
      "of squared residuals does not satisfy the condition abs(fp-s)/s < tol.\n",
      "  warnings.warn(message)\n"
     ]
    },
    {
     "name": "stdout",
     "output_type": "stream",
     "text": [
      "Processing 1381: CPS2-ASU-T68-PA-Transfer\n",
      "Processing 1382: CPS2-ASU-T58-PB-Warmup\n",
      "Processing 1383: CPS2-ASU-T10-PB-Transfer\n",
      "Processing 1384: CPS2-CU-T57-PA-Transfer\n"
     ]
    },
    {
     "name": "stderr",
     "output_type": "stream",
     "text": [
      "/Users/angelina/miniforge3/envs/env_tf/lib/python3.9/site-packages/scipy/interpolate/_fitpack2.py:280: UserWarning: \n",
      "The maximal number of iterations maxit (set to 20 by the program)\n",
      "allowed for finding a smoothing spline with fp=s has been reached: s\n",
      "too small.\n",
      "There is an approximation returned but the corresponding weighted sum\n",
      "of squared residuals does not satisfy the condition abs(fp-s)/s < tol.\n",
      "  warnings.warn(message)\n"
     ]
    },
    {
     "name": "stdout",
     "output_type": "stream",
     "text": [
      "Processing 1385: CPS2-ASU-T25-PC-ExpBlock2\n"
     ]
    },
    {
     "name": "stderr",
     "output_type": "stream",
     "text": [
      "/Users/angelina/miniforge3/envs/env_tf/lib/python3.9/site-packages/scipy/interpolate/_fitpack2.py:280: UserWarning: \n",
      "The maximal number of iterations maxit (set to 20 by the program)\n",
      "allowed for finding a smoothing spline with fp=s has been reached: s\n",
      "too small.\n",
      "There is an approximation returned but the corresponding weighted sum\n",
      "of squared residuals does not satisfy the condition abs(fp-s)/s < tol.\n",
      "  warnings.warn(message)\n"
     ]
    },
    {
     "name": "stdout",
     "output_type": "stream",
     "text": [
      "Processing 1386: CPS2-CU-T15-PA-Warmup\n"
     ]
    },
    {
     "name": "stderr",
     "output_type": "stream",
     "text": [
      "/Users/angelina/miniforge3/envs/env_tf/lib/python3.9/site-packages/scipy/interpolate/_fitpack2.py:280: UserWarning: \n",
      "The maximal number of iterations maxit (set to 20 by the program)\n",
      "allowed for finding a smoothing spline with fp=s has been reached: s\n",
      "too small.\n",
      "There is an approximation returned but the corresponding weighted sum\n",
      "of squared residuals does not satisfy the condition abs(fp-s)/s < tol.\n",
      "  warnings.warn(message)\n"
     ]
    },
    {
     "name": "stdout",
     "output_type": "stream",
     "text": [
      "Processing 1387: CPS2-CU-T20-PB-ExpBlock1\n"
     ]
    },
    {
     "name": "stderr",
     "output_type": "stream",
     "text": [
      "/Users/angelina/miniforge3/envs/env_tf/lib/python3.9/site-packages/scipy/interpolate/_fitpack2.py:280: UserWarning: \n",
      "The maximal number of iterations maxit (set to 20 by the program)\n",
      "allowed for finding a smoothing spline with fp=s has been reached: s\n",
      "too small.\n",
      "There is an approximation returned but the corresponding weighted sum\n",
      "of squared residuals does not satisfy the condition abs(fp-s)/s < tol.\n",
      "  warnings.warn(message)\n"
     ]
    },
    {
     "name": "stdout",
     "output_type": "stream",
     "text": [
      "Processing 1388: CPS2-ASU-T91-PD-Warmup\n",
      "Processing 1389: CPS2-ASU-T15-PC-Transfer\n",
      "Processing 1390: CPS2-ASU-T102-PB-Transfer\n",
      "Processing 1391: CPS2-ASU-T91-PD-Transfer\n",
      "Processing 1392: CPS2-CU-T71-PB-Warmup\n"
     ]
    },
    {
     "name": "stderr",
     "output_type": "stream",
     "text": [
      "/Users/angelina/miniforge3/envs/env_tf/lib/python3.9/site-packages/scipy/interpolate/_fitpack2.py:280: UserWarning: \n",
      "The maximal number of iterations maxit (set to 20 by the program)\n",
      "allowed for finding a smoothing spline with fp=s has been reached: s\n",
      "too small.\n",
      "There is an approximation returned but the corresponding weighted sum\n",
      "of squared residuals does not satisfy the condition abs(fp-s)/s < tol.\n",
      "  warnings.warn(message)\n"
     ]
    },
    {
     "name": "stdout",
     "output_type": "stream",
     "text": [
      "Processing 1393: CPS2-ASU-T17-PB-Warmup\n",
      "Processing 1394: CPS2-CU-T15-PB-ExpBlock1\n",
      "Processing 1395: CPS2-ASU-T10-PC-ExpBlock2\n"
     ]
    },
    {
     "name": "stderr",
     "output_type": "stream",
     "text": [
      "/Users/angelina/miniforge3/envs/env_tf/lib/python3.9/site-packages/scipy/interpolate/_fitpack2.py:280: UserWarning: \n",
      "The maximal number of iterations maxit (set to 20 by the program)\n",
      "allowed for finding a smoothing spline with fp=s has been reached: s\n",
      "too small.\n",
      "There is an approximation returned but the corresponding weighted sum\n",
      "of squared residuals does not satisfy the condition abs(fp-s)/s < tol.\n",
      "  warnings.warn(message)\n"
     ]
    },
    {
     "name": "stdout",
     "output_type": "stream",
     "text": [
      "Processing 1396: CPS2-ASU-T42-PD-Warmup\n",
      "Processing 1397: CPS2-ASU-T32-PD-ExpBlock1\n"
     ]
    },
    {
     "name": "stderr",
     "output_type": "stream",
     "text": [
      "/Users/angelina/miniforge3/envs/env_tf/lib/python3.9/site-packages/scipy/interpolate/_fitpack2.py:280: UserWarning: \n",
      "The maximal number of iterations maxit (set to 20 by the program)\n",
      "allowed for finding a smoothing spline with fp=s has been reached: s\n",
      "too small.\n",
      "There is an approximation returned but the corresponding weighted sum\n",
      "of squared residuals does not satisfy the condition abs(fp-s)/s < tol.\n",
      "  warnings.warn(message)\n"
     ]
    },
    {
     "name": "stdout",
     "output_type": "stream",
     "text": [
      "Processing 1398: CPS2-ASU-T105-PD-ExpBlock2\n",
      "Processing 1399: CPS2-ASU-T31-PA-Transfer\n",
      "Processing 1400: CPS2-ASU-T83-PC-Warmup\n",
      "Processing 1401: CPS2-ASU-T103-PC-ExpBlock2\n",
      "Processing 1402: CPS2-ASU-T34-PC-ExpBlock1\n",
      "Processing 1403: CPS2-ASU-T49-PB-Transfer\n",
      "Processing 1404: CPS2-CU-T31-PB-ExpBlock2\n"
     ]
    },
    {
     "name": "stderr",
     "output_type": "stream",
     "text": [
      "/Users/angelina/miniforge3/envs/env_tf/lib/python3.9/site-packages/scipy/interpolate/_fitpack2.py:280: UserWarning: \n",
      "The maximal number of iterations maxit (set to 20 by the program)\n",
      "allowed for finding a smoothing spline with fp=s has been reached: s\n",
      "too small.\n",
      "There is an approximation returned but the corresponding weighted sum\n",
      "of squared residuals does not satisfy the condition abs(fp-s)/s < tol.\n",
      "  warnings.warn(message)\n"
     ]
    },
    {
     "name": "stdout",
     "output_type": "stream",
     "text": [
      "Processing 1405: CPS2-CU-T44-PA-ExpBlock1\n",
      "Processing 1406: CPS2-ASU-T89-PB-Transfer\n",
      "Processing 1407: CPS2-CU-T48-PA-ExpBlock1\n"
     ]
    },
    {
     "name": "stderr",
     "output_type": "stream",
     "text": [
      "/Users/angelina/miniforge3/envs/env_tf/lib/python3.9/site-packages/scipy/interpolate/_fitpack2.py:280: UserWarning: \n",
      "The maximal number of iterations maxit (set to 20 by the program)\n",
      "allowed for finding a smoothing spline with fp=s has been reached: s\n",
      "too small.\n",
      "There is an approximation returned but the corresponding weighted sum\n",
      "of squared residuals does not satisfy the condition abs(fp-s)/s < tol.\n",
      "  warnings.warn(message)\n"
     ]
    },
    {
     "name": "stdout",
     "output_type": "stream",
     "text": [
      "Processing 1408: CPS2-CU-T57-PC-ExpBlock2\n",
      "Processing 1409: CPS2-ASU-T52-PB-ExpBlock1\n",
      "Processing 1410: CPS2-ASU-T38-PC-ExpBlock1\n",
      "Processing 1411: CPS2-ASU-T90-PB-ExpBlock1\n",
      "Processing 1412: CPS2-ASU-T29-PB-Warmup\n",
      "Processing 1413: CPS2-ASU-T76-PB-ExpBlock2\n"
     ]
    },
    {
     "name": "stderr",
     "output_type": "stream",
     "text": [
      "/Users/angelina/miniforge3/envs/env_tf/lib/python3.9/site-packages/scipy/interpolate/_fitpack2.py:280: UserWarning: \n",
      "The maximal number of iterations maxit (set to 20 by the program)\n",
      "allowed for finding a smoothing spline with fp=s has been reached: s\n",
      "too small.\n",
      "There is an approximation returned but the corresponding weighted sum\n",
      "of squared residuals does not satisfy the condition abs(fp-s)/s < tol.\n",
      "  warnings.warn(message)\n"
     ]
    },
    {
     "name": "stdout",
     "output_type": "stream",
     "text": [
      "Processing 1414: CPS2-ASU-T51-PD-Transfer\n"
     ]
    },
    {
     "name": "stderr",
     "output_type": "stream",
     "text": [
      "/Users/angelina/miniforge3/envs/env_tf/lib/python3.9/site-packages/scipy/interpolate/_fitpack2.py:280: UserWarning: \n",
      "The maximal number of iterations maxit (set to 20 by the program)\n",
      "allowed for finding a smoothing spline with fp=s has been reached: s\n",
      "too small.\n",
      "There is an approximation returned but the corresponding weighted sum\n",
      "of squared residuals does not satisfy the condition abs(fp-s)/s < tol.\n",
      "  warnings.warn(message)\n"
     ]
    },
    {
     "name": "stdout",
     "output_type": "stream",
     "text": [
      "Processing 1415: CPS2-CU-T19-PB-ExpBlock1\n",
      "Processing 1416: CPS2-CU-T47-PC-Warmup\n",
      "Processing 1417: CPS2-ASU-T77-PC-Transfer\n",
      "Processing 1418: CPS2-ASU-T90-PC-Warmup\n",
      "Processing 1419: CPS2-CU-T49-PA-Warmup\n",
      "Processing 1420: CPS2-ASU-T98-PC-ExpBlock2\n",
      "Processing 1421: CPS2-ASU-T61-PA-ExpBlock2\n",
      "Processing 1422: CPS2-CU-T35-PA-Transfer\n",
      "Processing 1423: CPS2-ASU-T87-PA-ExpBlock1\n",
      "Processing 1424: CPS2-ASU-T98-PB-Warmup\n"
     ]
    },
    {
     "name": "stderr",
     "output_type": "stream",
     "text": [
      "/Users/angelina/miniforge3/envs/env_tf/lib/python3.9/site-packages/scipy/interpolate/_fitpack2.py:280: UserWarning: \n",
      "The maximal number of iterations maxit (set to 20 by the program)\n",
      "allowed for finding a smoothing spline with fp=s has been reached: s\n",
      "too small.\n",
      "There is an approximation returned but the corresponding weighted sum\n",
      "of squared residuals does not satisfy the condition abs(fp-s)/s < tol.\n",
      "  warnings.warn(message)\n"
     ]
    },
    {
     "name": "stdout",
     "output_type": "stream",
     "text": [
      "Processing 1425: CPS2-ASU-T72-PB-Transfer\n"
     ]
    },
    {
     "name": "stderr",
     "output_type": "stream",
     "text": [
      "/Users/angelina/miniforge3/envs/env_tf/lib/python3.9/site-packages/scipy/interpolate/_fitpack2.py:280: UserWarning: \n",
      "The maximal number of iterations maxit (set to 20 by the program)\n",
      "allowed for finding a smoothing spline with fp=s has been reached: s\n",
      "too small.\n",
      "There is an approximation returned but the corresponding weighted sum\n",
      "of squared residuals does not satisfy the condition abs(fp-s)/s < tol.\n",
      "  warnings.warn(message)\n"
     ]
    },
    {
     "name": "stdout",
     "output_type": "stream",
     "text": [
      "Processing 1426: CPS2-CU-T48-PC-Transfer\n",
      "Processing 1427: CPS2-CU-T62-PB-Warmup\n",
      "Processing 1428: CPS2-ASU-T78-PD-ExpBlock1\n",
      "Processing 1429: CPS2-ASU-T30-PB-ExpBlock2\n",
      "Processing 1430: CPS2-ASU-T45-PA-ExpBlock1\n",
      "Processing 1431: CPS2-CU-T35-PC-ExpBlock1\n",
      "Processing 1432: CPS2-ASU-T51-PD-Warmup\n"
     ]
    },
    {
     "name": "stderr",
     "output_type": "stream",
     "text": [
      "/Users/angelina/miniforge3/envs/env_tf/lib/python3.9/site-packages/scipy/interpolate/_fitpack2.py:280: UserWarning: \n",
      "The maximal number of iterations maxit (set to 20 by the program)\n",
      "allowed for finding a smoothing spline with fp=s has been reached: s\n",
      "too small.\n",
      "There is an approximation returned but the corresponding weighted sum\n",
      "of squared residuals does not satisfy the condition abs(fp-s)/s < tol.\n",
      "  warnings.warn(message)\n"
     ]
    },
    {
     "name": "stdout",
     "output_type": "stream",
     "text": [
      "Processing 1433: CPS2-CU-T39-PC-ExpBlock1\n",
      "Processing 1434: CPS2-CU-T26-PA-ExpBlock2\n",
      "Processing 1435: CPS2-CU-T53-PB-ExpBlock1\n",
      "Processing 1436: CPS2-CU-T54-PC-Warmup\n",
      "Processing 1437: CPS2-ASU-T56-PC-ExpBlock2\n",
      "Processing 1438: CPS2-ASU-T92-PD-ExpBlock2\n",
      "Processing 1439: CPS2-ASU-T74-PD-ExpBlock1\n",
      "Processing 1440: CPS2-ASU-T49-PA-ExpBlock1\n",
      "Processing 1441: CPS2-ASU-T103-PC-Warmup\n",
      "Processing 1442: CPS2-ASU-T50-PD-ExpBlock2\n",
      "Processing 1443: CPS2-ASU-T72-PC-ExpBlock1\n",
      "Processing 1444: CPS2-CU-T37-PA-ExpBlock1\n"
     ]
    },
    {
     "name": "stderr",
     "output_type": "stream",
     "text": [
      "/Users/angelina/miniforge3/envs/env_tf/lib/python3.9/site-packages/scipy/interpolate/_fitpack2.py:280: UserWarning: \n",
      "The maximal number of iterations maxit (set to 20 by the program)\n",
      "allowed for finding a smoothing spline with fp=s has been reached: s\n",
      "too small.\n",
      "There is an approximation returned but the corresponding weighted sum\n",
      "of squared residuals does not satisfy the condition abs(fp-s)/s < tol.\n",
      "  warnings.warn(message)\n"
     ]
    },
    {
     "name": "stdout",
     "output_type": "stream",
     "text": [
      "Processing 1445: CPS2-ASU-T20-PD-Warmup\n",
      "Processing 1446: CPS2-ASU-T33-PD-Transfer\n",
      "Processing 1447: CPS2-ASU-T47-PC-ExpBlock1\n"
     ]
    },
    {
     "name": "stderr",
     "output_type": "stream",
     "text": [
      "/Users/angelina/miniforge3/envs/env_tf/lib/python3.9/site-packages/scipy/interpolate/_fitpack2.py:280: UserWarning: \n",
      "The maximal number of iterations maxit (set to 20 by the program)\n",
      "allowed for finding a smoothing spline with fp=s has been reached: s\n",
      "too small.\n",
      "There is an approximation returned but the corresponding weighted sum\n",
      "of squared residuals does not satisfy the condition abs(fp-s)/s < tol.\n",
      "  warnings.warn(message)\n"
     ]
    },
    {
     "name": "stdout",
     "output_type": "stream",
     "text": [
      "Processing 1448: CPS2-ASU-T75-PB-Warmup\n",
      "Processing 1449: CPS2-ASU-T65-PD-ExpBlock2\n",
      "Processing 1450: CPS2-ASU-T59-PC-Transfer\n",
      "Processing 1451: CPS2-CU-T13-PB-Warmup\n",
      "Processing 1452: CPS2-CU-T63-PB-Transfer\n"
     ]
    },
    {
     "name": "stderr",
     "output_type": "stream",
     "text": [
      "/Users/angelina/miniforge3/envs/env_tf/lib/python3.9/site-packages/scipy/interpolate/_fitpack2.py:280: UserWarning: \n",
      "The maximal number of iterations maxit (set to 20 by the program)\n",
      "allowed for finding a smoothing spline with fp=s has been reached: s\n",
      "too small.\n",
      "There is an approximation returned but the corresponding weighted sum\n",
      "of squared residuals does not satisfy the condition abs(fp-s)/s < tol.\n",
      "  warnings.warn(message)\n"
     ]
    },
    {
     "name": "stdout",
     "output_type": "stream",
     "text": [
      "Processing 1453: CPS2-CU-T38-PA-Warmup\n"
     ]
    },
    {
     "name": "stderr",
     "output_type": "stream",
     "text": [
      "/Users/angelina/miniforge3/envs/env_tf/lib/python3.9/site-packages/scipy/interpolate/_fitpack2.py:280: UserWarning: \n",
      "The maximal number of iterations maxit (set to 20 by the program)\n",
      "allowed for finding a smoothing spline with fp=s has been reached: s\n",
      "too small.\n",
      "There is an approximation returned but the corresponding weighted sum\n",
      "of squared residuals does not satisfy the condition abs(fp-s)/s < tol.\n",
      "  warnings.warn(message)\n"
     ]
    },
    {
     "name": "stdout",
     "output_type": "stream",
     "text": [
      "Processing 1454: CPS2-ASU-T41-PD-ExpBlock1\n",
      "Processing 1455: CPS2-ASU-T24-PA-Transfer\n",
      "Processing 1456: CPS2-ASU-T93-PA-Transfer\n"
     ]
    },
    {
     "name": "stderr",
     "output_type": "stream",
     "text": [
      "/Users/angelina/miniforge3/envs/env_tf/lib/python3.9/site-packages/scipy/interpolate/_fitpack2.py:280: UserWarning: \n",
      "The maximal number of iterations maxit (set to 20 by the program)\n",
      "allowed for finding a smoothing spline with fp=s has been reached: s\n",
      "too small.\n",
      "There is an approximation returned but the corresponding weighted sum\n",
      "of squared residuals does not satisfy the condition abs(fp-s)/s < tol.\n",
      "  warnings.warn(message)\n"
     ]
    },
    {
     "name": "stdout",
     "output_type": "stream",
     "text": [
      "Processing 1457: CPS2-CU-T66-PB-ExpBlock1\n"
     ]
    },
    {
     "name": "stderr",
     "output_type": "stream",
     "text": [
      "/Users/angelina/miniforge3/envs/env_tf/lib/python3.9/site-packages/scipy/interpolate/_fitpack2.py:280: UserWarning: \n",
      "The maximal number of iterations maxit (set to 20 by the program)\n",
      "allowed for finding a smoothing spline with fp=s has been reached: s\n",
      "too small.\n",
      "There is an approximation returned but the corresponding weighted sum\n",
      "of squared residuals does not satisfy the condition abs(fp-s)/s < tol.\n",
      "  warnings.warn(message)\n"
     ]
    },
    {
     "name": "stdout",
     "output_type": "stream",
     "text": [
      "Processing 1458: CPS2-CU-T13-PA-ExpBlock2\n",
      "Processing 1459: CPS2-CU-T66-PC-Transfer\n",
      "Processing 1460: CPS2-ASU-T60-PA-Warmup\n"
     ]
    },
    {
     "name": "stderr",
     "output_type": "stream",
     "text": [
      "/Users/angelina/miniforge3/envs/env_tf/lib/python3.9/site-packages/scipy/interpolate/_fitpack2.py:280: UserWarning: \n",
      "The maximal number of iterations maxit (set to 20 by the program)\n",
      "allowed for finding a smoothing spline with fp=s has been reached: s\n",
      "too small.\n",
      "There is an approximation returned but the corresponding weighted sum\n",
      "of squared residuals does not satisfy the condition abs(fp-s)/s < tol.\n",
      "  warnings.warn(message)\n"
     ]
    },
    {
     "name": "stdout",
     "output_type": "stream",
     "text": [
      "Processing 1461: CPS2-ASU-T89-PC-ExpBlock1\n",
      "Processing 1462: CPS2-ASU-T70-PA-ExpBlock1\n",
      "Processing 1463: CPS2-ASU-T96-PA-ExpBlock2\n",
      "Processing 1464: CPS2-ASU-T53-PA-Transfer\n",
      "Processing 1465: CPS2-ASU-T99-PC-Transfer\n",
      "Processing 1466: CPS2-CU-T14-PB-Transfer\n",
      "Processing 1467: CPS2-ASU-T69-PD-ExpBlock2\n",
      "Processing 1468: CPS2-ASU-T43-PC-Warmup\n"
     ]
    },
    {
     "name": "stderr",
     "output_type": "stream",
     "text": [
      "/Users/angelina/miniforge3/envs/env_tf/lib/python3.9/site-packages/scipy/interpolate/_fitpack2.py:280: UserWarning: \n",
      "The maximal number of iterations maxit (set to 20 by the program)\n",
      "allowed for finding a smoothing spline with fp=s has been reached: s\n",
      "too small.\n",
      "There is an approximation returned but the corresponding weighted sum\n",
      "of squared residuals does not satisfy the condition abs(fp-s)/s < tol.\n",
      "  warnings.warn(message)\n"
     ]
    },
    {
     "name": "stdout",
     "output_type": "stream",
     "text": [
      "Processing 1469: CPS2-ASU-T91-PA-ExpBlock1\n"
     ]
    },
    {
     "name": "stderr",
     "output_type": "stream",
     "text": [
      "/Users/angelina/miniforge3/envs/env_tf/lib/python3.9/site-packages/scipy/interpolate/_fitpack2.py:280: UserWarning: \n",
      "The maximal number of iterations maxit (set to 20 by the program)\n",
      "allowed for finding a smoothing spline with fp=s has been reached: s\n",
      "too small.\n",
      "There is an approximation returned but the corresponding weighted sum\n",
      "of squared residuals does not satisfy the condition abs(fp-s)/s < tol.\n",
      "  warnings.warn(message)\n"
     ]
    },
    {
     "name": "stdout",
     "output_type": "stream",
     "text": [
      "Processing 1470: CPS2-ASU-T68-PC-ExpBlock1\n",
      "Processing 1471: CPS2-ASU-T62-PD-Transfer\n",
      "Processing 1472: CPS2-ASU-T77-PA-ExpBlock2\n",
      "Processing 1473: CPS2-CU-T22-PB-Warmup\n"
     ]
    },
    {
     "name": "stderr",
     "output_type": "stream",
     "text": [
      "/Users/angelina/miniforge3/envs/env_tf/lib/python3.9/site-packages/scipy/interpolate/_fitpack2.py:280: UserWarning: \n",
      "The maximal number of iterations maxit (set to 20 by the program)\n",
      "allowed for finding a smoothing spline with fp=s has been reached: s\n",
      "too small.\n",
      "There is an approximation returned but the corresponding weighted sum\n",
      "of squared residuals does not satisfy the condition abs(fp-s)/s < tol.\n",
      "  warnings.warn(message)\n"
     ]
    },
    {
     "name": "stdout",
     "output_type": "stream",
     "text": [
      "Processing 1474: CPS2-ASU-T44-PB-Warmup\n",
      "Processing 1475: CPS2-CU-T18-PA-ExpBlock1\n",
      "Processing 1476: CPS2-CU-T49-PB-ExpBlock1\n"
     ]
    },
    {
     "name": "stderr",
     "output_type": "stream",
     "text": [
      "/Users/angelina/miniforge3/envs/env_tf/lib/python3.9/site-packages/scipy/interpolate/_fitpack2.py:280: UserWarning: \n",
      "The maximal number of iterations maxit (set to 20 by the program)\n",
      "allowed for finding a smoothing spline with fp=s has been reached: s\n",
      "too small.\n",
      "There is an approximation returned but the corresponding weighted sum\n",
      "of squared residuals does not satisfy the condition abs(fp-s)/s < tol.\n",
      "  warnings.warn(message)\n"
     ]
    },
    {
     "name": "stdout",
     "output_type": "stream",
     "text": [
      "Processing 1477: CPS2-ASU-T75-PA-Transfer\n",
      "Processing 1478: CPS2-ASU-T26-PB-ExpBlock2\n",
      "Processing 1479: CPS2-ASU-T53-PA-ExpBlock1\n",
      "Processing 1480: CPS2-ASU-T88-PD-ExpBlock2\n"
     ]
    },
    {
     "name": "stderr",
     "output_type": "stream",
     "text": [
      "/Users/angelina/miniforge3/envs/env_tf/lib/python3.9/site-packages/scipy/interpolate/_fitpack2.py:280: UserWarning: \n",
      "The maximal number of iterations maxit (set to 20 by the program)\n",
      "allowed for finding a smoothing spline with fp=s has been reached: s\n",
      "too small.\n",
      "There is an approximation returned but the corresponding weighted sum\n",
      "of squared residuals does not satisfy the condition abs(fp-s)/s < tol.\n",
      "  warnings.warn(message)\n"
     ]
    },
    {
     "name": "stdout",
     "output_type": "stream",
     "text": [
      "Processing 1481: CPS2-CU-T37-PC-Transfer\n",
      "Processing 1482: CPS2-ASU-T51-PA-Warmup\n",
      "Processing 1483: CPS2-ASU-T62-PD-ExpBlock1\n",
      "Processing 1484: CPS2-ASU-T40-PC-ExpBlock2\n",
      "Processing 1485: CPS2-CU-T37-PA-Warmup\n",
      "Processing 1486: CPS2-CU-T40-PC-Transfer\n"
     ]
    },
    {
     "name": "stderr",
     "output_type": "stream",
     "text": [
      "/Users/angelina/miniforge3/envs/env_tf/lib/python3.9/site-packages/scipy/interpolate/_fitpack2.py:280: UserWarning: \n",
      "The maximal number of iterations maxit (set to 20 by the program)\n",
      "allowed for finding a smoothing spline with fp=s has been reached: s\n",
      "too small.\n",
      "There is an approximation returned but the corresponding weighted sum\n",
      "of squared residuals does not satisfy the condition abs(fp-s)/s < tol.\n",
      "  warnings.warn(message)\n"
     ]
    },
    {
     "name": "stdout",
     "output_type": "stream",
     "text": [
      "Processing 1487: CPS2-CU-T30-PA-ExpBlock2\n",
      "Processing 1488: CPS2-CU-T45-PB-ExpBlock1\n",
      "Processing 1489: CPS2-ASU-T72-PC-Warmup\n"
     ]
    },
    {
     "name": "stderr",
     "output_type": "stream",
     "text": [
      "/Users/angelina/miniforge3/envs/env_tf/lib/python3.9/site-packages/scipy/interpolate/_fitpack2.py:280: UserWarning: \n",
      "The maximal number of iterations maxit (set to 20 by the program)\n",
      "allowed for finding a smoothing spline with fp=s has been reached: s\n",
      "too small.\n",
      "There is an approximation returned but the corresponding weighted sum\n",
      "of squared residuals does not satisfy the condition abs(fp-s)/s < tol.\n",
      "  warnings.warn(message)\n"
     ]
    },
    {
     "name": "stdout",
     "output_type": "stream",
     "text": [
      "Processing 1490: CPS2-CU-T14-PA-ExpBlock1\n",
      "Processing 1491: CPS2-CU-T45-PB-Transfer\n",
      "Processing 1492: CPS2-CU-T14-PC-Warmup\n",
      "Processing 1493: CPS2-ASU-T64-PC-ExpBlock1\n",
      "Processing 1494: CPS2-ASU-T46-PD-ExpBlock2\n",
      "Processing 1495: CPS2-ASU-T91-PC-Transfer\n",
      "Processing 1496: CPS2-ASU-T95-PD-ExpBlock1\n",
      "Processing 1497: CPS2-ASU-T51-PC-ExpBlock1\n",
      "Processing 1498: CPS2-ASU-T104-PB-Warmup\n",
      "Processing 1499: CPS2-CU-T54-PB-ExpBlock2\n",
      "Processing 1500: CPS2-CU-T53-PB-Warmup\n",
      "Processing 1501: CPS2-CU-T70-PB-ExpBlock1\n"
     ]
    },
    {
     "name": "stderr",
     "output_type": "stream",
     "text": [
      "/Users/angelina/miniforge3/envs/env_tf/lib/python3.9/site-packages/scipy/interpolate/_fitpack2.py:280: UserWarning: \n",
      "The maximal number of iterations maxit (set to 20 by the program)\n",
      "allowed for finding a smoothing spline with fp=s has been reached: s\n",
      "too small.\n",
      "There is an approximation returned but the corresponding weighted sum\n",
      "of squared residuals does not satisfy the condition abs(fp-s)/s < tol.\n",
      "  warnings.warn(message)\n"
     ]
    },
    {
     "name": "stdout",
     "output_type": "stream",
     "text": [
      "Processing 1502: CPS2-ASU-T75-PC-ExpBlock2\n",
      "Processing 1503: CPS2-ASU-T60-PD-Warmup\n",
      "Processing 1504: CPS2-ASU-T93-PC-ExpBlock1\n",
      "Processing 1505: CPS2-ASU-T80-PA-ExpBlock2\n"
     ]
    },
    {
     "name": "stderr",
     "output_type": "stream",
     "text": [
      "/Users/angelina/miniforge3/envs/env_tf/lib/python3.9/site-packages/scipy/interpolate/_fitpack2.py:280: UserWarning: \n",
      "The maximal number of iterations maxit (set to 20 by the program)\n",
      "allowed for finding a smoothing spline with fp=s has been reached: s\n",
      "too small.\n",
      "There is an approximation returned but the corresponding weighted sum\n",
      "of squared residuals does not satisfy the condition abs(fp-s)/s < tol.\n",
      "  warnings.warn(message)\n"
     ]
    },
    {
     "name": "stdout",
     "output_type": "stream",
     "text": [
      "Processing 1506: CPS2-ASU-T66-PA-ExpBlock1\n",
      "Processing 1507: CPS2-ASU-T13-PB-ExpBlock2\n",
      "Processing 1508: CPS2-CU-T16-PC-ExpBlock1\n"
     ]
    },
    {
     "name": "stderr",
     "output_type": "stream",
     "text": [
      "/Users/angelina/miniforge3/envs/env_tf/lib/python3.9/site-packages/scipy/interpolate/_fitpack2.py:280: UserWarning: \n",
      "The maximal number of iterations maxit (set to 20 by the program)\n",
      "allowed for finding a smoothing spline with fp=s has been reached: s\n",
      "too small.\n",
      "There is an approximation returned but the corresponding weighted sum\n",
      "of squared residuals does not satisfy the condition abs(fp-s)/s < tol.\n",
      "  warnings.warn(message)\n"
     ]
    },
    {
     "name": "stdout",
     "output_type": "stream",
     "text": [
      "Processing 1509: CPS2-CU-T65-PC-Warmup\n"
     ]
    },
    {
     "name": "stderr",
     "output_type": "stream",
     "text": [
      "/Users/angelina/miniforge3/envs/env_tf/lib/python3.9/site-packages/scipy/interpolate/_fitpack2.py:280: UserWarning: \n",
      "The maximal number of iterations maxit (set to 20 by the program)\n",
      "allowed for finding a smoothing spline with fp=s has been reached: s\n",
      "too small.\n",
      "There is an approximation returned but the corresponding weighted sum\n",
      "of squared residuals does not satisfy the condition abs(fp-s)/s < tol.\n",
      "  warnings.warn(message)\n"
     ]
    },
    {
     "name": "stdout",
     "output_type": "stream",
     "text": [
      "Processing 1510: CPS2-CU-T13-PA-Transfer\n",
      "Processing 1511: CPS2-CU-T32-PC-ExpBlock2\n",
      "Processing 1512: CPS2-ASU-T37-PB-ExpBlock1\n",
      "Processing 1513: CPS2-ASU-T51-PC-Transfer\n",
      "Processing 1514: CPS2-ASU-T97-PB-Warmup\n",
      "Processing 1515: CPS2-ASU-T20-PA-Warmup\n",
      "Processing 1516: CPS2-CU-T46-PA-Warmup\n",
      "File Generation Complete\n"
     ]
    }
   ],
   "source": [
    "\n",
    "\n",
    "# For every participant and block\n",
    "for i in range(0, dfMasterSelected.shape[0]): # (146, 147), [146, 380, 1509], (258,259) - horizontal zoom pos\n",
    "    master_row = dfMasterSelected.iloc[i]\n",
    "    print(\"Processing %d: %s\" % (i+1, master_row['ParticipantBlock']))\n",
    "\n",
    "    dfParticipantBlockRawCoords = pd.DataFrame()\n",
    "\n",
    "    ### 1. Read in the data files we need ###\n",
    "    \n",
    "    # Raw Gaze of current participant and block\n",
    "    dfRaw = pd.read_csv(master_row['FullPath_gaze'], sep=\"\\t\")\n",
    "    dfRaw['timestamp'] = (dfRaw['DeviceTime'] - dfRaw['DeviceTime'].iloc[0]) / 1000  # in ms\n",
    "    dfRaw['validity'] = getValidityCPS2(dfRaw)\n",
    "    dfRaw['Raw_x'] = (dfRaw['LeftGazePointXMonitor'] + dfRaw['RightGazePointXMonitor']) / float(2)\n",
    "    dfRaw['Raw_y'] = (dfRaw['LeftGazePointYMonitor'] + dfRaw['RightGazePointYMonitor']) / float(2)\n",
    "    dfRaw['GROUPID'] = master_row['GROUPID']\n",
    "    dfRaw['block'] = master_row['Block']\n",
    "    dfRaw['pid'] = master_row['pid']\n",
    "    # Add participant and block's raw gaze to their df\n",
    "    raw_cols = ['school', 'team', 'pid', 'GROUPID', 'block', 'timestamp', 'validity', 'Raw_x', 'Raw_y']\n",
    "    dfParticipantBlockRawCoords = pd.concat([dfParticipantBlockRawCoords, dfRaw.loc[(dfRaw['timestamp'] >= 0) & \\\n",
    "                                                                                    (dfRaw['timestamp'] <= ms_in_block), \\\n",
    "                                                                                    raw_cols]], ignore_index=True)\n",
    "    \n",
    "    \n",
    "    ### 2. Categorize coordinates into bins ###\n",
    "    \n",
    "    # Categorize raw gaze coordinates into bins\n",
    "    dfParticipantBlockRawCoords['time_step_start'] = pd.cut(dfParticipantBlockRawCoords['timestamp'], \\\n",
    "                                                            bins=time_step_labels,  labels=time_step_labels[:-1], right=False)\n",
    "    dfParticipantBlockRawCoords['time_step_end'] = pd.cut(dfParticipantBlockRawCoords['timestamp'], \\\n",
    "                                                          bins=time_step_labels, labels=time_step_labels[1:], right=False)\n",
    "    # Update column types from categorical to int\n",
    "    dfParticipantBlockRawCoords = dfParticipantBlockRawCoords.astype({\"time_step_start\": int, \"time_step_end\": int})\n",
    "\n",
    " \n",
    "\n",
    "    ### 3. Average X and Y for each bin\n",
    "    \n",
    "    # columns of participant and block's DataFrame to group by\n",
    "    cols_for_grp = [\"school\", \"team\", \"GROUPID\", \"block\", \"pid\", \"time_step_start\", \"time_step_end\"]\n",
    "    \n",
    "    # Raw coordinates\n",
    "    grp = dfParticipantBlockRawCoords.groupby(cols_for_grp, as_index=False)\n",
    "    agg = grp.agg({'Raw_x': np.nanmean, 'Raw_y': np.nanmean})\n",
    "    dfParticipantBlockRawCoordsTimeSeries = pd.merge(participant_block_time_steps, agg, \\\n",
    "                                                     on=['time_step_start', 'time_step_end'], how='left')\n",
    "\n",
    "\n",
    "    ### 4. IMPUTE DATA ###\n",
    "    dfParticipantBlockRawCoordsImp = dfParticipantBlockRawCoordsTimeSeries.loc[:, ['Raw_x', 'Raw_y']].interpolate(method='spline', order=2)\n",
    "\n",
    "    dfParticipantBlockRawCoordsTimeSeries[['Raw_x_imp', 'Raw_y_imp']] = dfParticipantBlockRawCoordsImp\n",
    "\n",
    "       \n",
    "    \n",
    "    ### 5. Assign grid location for each time step ###\n",
    "    \n",
    "    # Assign grid location of raw coordinates for each time step\n",
    "    dfParticipantBlockRawCoordsTimeSeries['row_index'] = np.ceil(dfParticipantBlockRawCoordsTimeSeries['Raw_y_imp'] / row_height) - 1  # subtract 1 because result is not a zero-index\n",
    "    dfParticipantBlockRawCoordsTimeSeries['col_index'] = np.ceil(dfParticipantBlockRawCoordsTimeSeries['Raw_x_imp'] / col_width) - 1   # subtract 1 because result is not a zero-index\n",
    "    dfParticipantBlockRawCoordsTimeSeries['in_bounds'] = np.where((dfParticipantBlockRawCoordsTimeSeries['row_index'] >= 0) & \\\n",
    "                                                        (dfParticipantBlockRawCoordsTimeSeries['col_index'] >= 0) & \\\n",
    "                                                        (dfParticipantBlockRawCoordsTimeSeries['row_index'] < num_rows) & \\\n",
    "                                                        (dfParticipantBlockRawCoordsTimeSeries['col_index'] < num_cols), 1, 0)\n",
    "\n",
    "    for i,row in dfParticipantBlockRawCoordsTimeSeries.iterrows():\n",
    "        if row['in_bounds'] == 1:\n",
    "            dfParticipantBlockRawCoordsTimeSeries.loc[i, 'grid_loc'] = grid_locations[int(row['row_index']), int(row['col_index'])]\n",
    "        elif row['in_bounds'] == 0:\n",
    "            dfParticipantBlockRawCoordsTimeSeries.loc[i, 'grid_loc'] = 0\n",
    "\n",
    "    \n",
    "\n",
    "    ### 6. Save participant and block sampled (225 ms) time series as csv ###\n",
    "    filename = str(master_row['GROUPID']) + \"-\" + master_row['Block'] + \"-\" + master_row['pid'] + \"-225ms-\"\n",
    "    dfParticipantBlockRawCoordsTimeSeries.to_csv(PARTICIPANT_BLOCK_225ms_TIME_SERIES + filename + \"RAW.csv\", index=False)\n",
    "    \n",
    "    ### 7. Add samples (225ms) time series file path to Masterfile ###\n",
    "    \n",
    "    # Raw coordinates\n",
    "    dfMaster.loc[(dfMaster['GROUPID'] == master_row['GROUPID']) & \\\n",
    "                 (dfMaster['Block'] == master_row['Block']) & \\\n",
    "                 (dfMaster['pid'] == master_row['pid']), '225ms-time-series-RAW'] \\\n",
    "                  = filename + \"RAW.csv\"\n",
    "\n",
    "    \n",
    "print(\"File Generation Complete\")   \n"
   ]
  },
  {
   "cell_type": "code",
   "execution_count": 7,
   "id": "d9ffdb8a",
   "metadata": {},
   "outputs": [
    {
     "name": "stdout",
     "output_type": "stream",
     "text": [
      "/Users/angelina/Dropbox (Emotive Computing)/CPS_Gaze_Fixations/RQA/CPS2_Gaze_All_Participants_Masterfile_TimeSeries.csv generated.\n"
     ]
    }
   ],
   "source": [
    "# Save new Masterfile to csv\n",
    "filename = OUTPUTDIR + \"CPS2_Gaze_All_Participants_Masterfile_TimeSeries.csv\"\n",
    "dfMaster.to_csv(filename, index=False)\n",
    "print(\"%s generated.\" % (filename))\n"
   ]
  },
  {
   "cell_type": "code",
   "execution_count": null,
   "id": "8d803f6c",
   "metadata": {},
   "outputs": [],
   "source": []
  }
 ],
 "metadata": {
  "kernelspec": {
   "display_name": "Python 3 (ipykernel)",
   "language": "python",
   "name": "python3"
  },
  "language_info": {
   "codemirror_mode": {
    "name": "ipython",
    "version": 3
   },
   "file_extension": ".py",
   "mimetype": "text/x-python",
   "name": "python",
   "nbconvert_exporter": "python",
   "pygments_lexer": "ipython3",
   "version": "3.9.10"
  }
 },
 "nbformat": 4,
 "nbformat_minor": 5
}
