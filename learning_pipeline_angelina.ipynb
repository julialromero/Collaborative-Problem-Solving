{
  "cells": [
    {
      "cell_type": "markdown",
      "metadata": {
        "id": "view-in-github",
        "colab_type": "text"
      },
      "source": [
        "<a href=\"https://colab.research.google.com/github/julialromero/Collaborative-Problem-Solving/blob/main/learning_pipeline_angelina.ipynb\" target=\"_parent\"><img src=\"https://colab.research.google.com/assets/colab-badge.svg\" alt=\"Open In Colab\"/></a>"
      ]
    },
    {
      "cell_type": "markdown",
      "id": "f59d7a79",
      "metadata": {
        "id": "f59d7a79"
      },
      "source": [
        "<a href=\"https://colab.research.google.com/github/julialromero/Collaborative-Problem-Solving/blob/main/learning_pipeline.ipynb\" target=\"_parent\"><img src=\"https://colab.research.google.com/assets/colab-badge.svg\" alt=\"Open In Colab\"/></a>"
      ]
    },
    {
      "cell_type": "code",
      "execution_count": null,
      "id": "O3iQDKYwuL10",
      "metadata": {
        "colab": {
          "base_uri": "https://localhost:8080/"
        },
        "id": "O3iQDKYwuL10",
        "outputId": "fba1d43a-899c-4b10-b08e-ce0af67688d1"
      },
      "outputs": [
        {
          "output_type": "stream",
          "name": "stdout",
          "text": [
            "Drive already mounted at /content/drive; to attempt to forcibly remount, call drive.mount(\"/content/drive\", force_remount=True).\n"
          ]
        }
      ],
      "source": [
        "from google.colab import drive\n",
        "drive.mount('/content/drive')"
      ]
    },
    {
      "cell_type": "code",
      "execution_count": null,
      "id": "91956b3e",
      "metadata": {
        "id": "91956b3e",
        "colab": {
          "base_uri": "https://localhost:8080/"
        },
        "outputId": "533408d6-61f9-448b-aa1e-200de7936663"
      },
      "outputs": [
        {
          "output_type": "stream",
          "name": "stdout",
          "text": [
            "Wed Apr 27 07:02:52 2022       \n",
            "+-----------------------------------------------------------------------------+\n",
            "| NVIDIA-SMI 460.32.03    Driver Version: 460.32.03    CUDA Version: 11.2     |\n",
            "|-------------------------------+----------------------+----------------------+\n",
            "| GPU  Name        Persistence-M| Bus-Id        Disp.A | Volatile Uncorr. ECC |\n",
            "| Fan  Temp  Perf  Pwr:Usage/Cap|         Memory-Usage | GPU-Util  Compute M. |\n",
            "|                               |                      |               MIG M. |\n",
            "|===============================+======================+======================|\n",
            "|   0  Tesla P100-PCIE...  Off  | 00000000:00:04.0 Off |                    0 |\n",
            "| N/A   62C    P0    40W / 250W |   8765MiB / 16280MiB |      0%      Default |\n",
            "|                               |                      |                  N/A |\n",
            "+-------------------------------+----------------------+----------------------+\n",
            "                                                                               \n",
            "+-----------------------------------------------------------------------------+\n",
            "| Processes:                                                                  |\n",
            "|  GPU   GI   CI        PID   Type   Process name                  GPU Memory |\n",
            "|        ID   ID                                                   Usage      |\n",
            "|=============================================================================|\n",
            "+-----------------------------------------------------------------------------+\n"
          ]
        }
      ],
      "source": [
        "import pandas as pd\n",
        "import numpy as np\n",
        "import sklearn\n",
        "import seaborn as sns\n",
        "import os\n",
        "import matplotlib.pyplot as plt\n",
        "from collections import Counter\n",
        "import tensorflow as tf\n",
        "from tensorflow import keras\n",
        "from tensorflow.keras.preprocessing import image\n",
        "from tensorflow.keras.applications.inception_v3 import preprocess_input\n",
        "from keras import layers, Input, Model, optimizers\n",
        "from keras.applications.inception_v3 import InceptionV3\n",
        "\n",
        "\n",
        "gpu_info = !nvidia-smi\n",
        "gpu_info = '\\n'.join(gpu_info)\n",
        "if gpu_info.find('failed') >= 0:\n",
        "  print('Not connected to a GPU')\n",
        "else:\n",
        "  print(gpu_info)\n",
        "\n",
        "PROJECT_DIR = \"drive/MyDrive/CSCI 5922 - Final Project/\""
      ]
    },
    {
      "cell_type": "markdown",
      "source": [
        "# Get User Input"
      ],
      "metadata": {
        "id": "Jxswquj4TuDI"
      },
      "id": "Jxswquj4TuDI"
    },
    {
      "cell_type": "code",
      "source": [
        "# Choose what size images to use\n",
        "## \"small\" = 98x98, \"med\" = 332x332, \"large\" = 719x719\n",
        "image_size = \"med\"\n",
        "shuffled = False\n",
        "\n",
        "if image_size == \"large\":\n",
        "  imgsize = (int(719/2), int(719/2)) \n",
        "  if shuffled:\n",
        "    IMG_DIR = \"719x719 - Recurrence_Matrices/RAW_SHUFFLED/\"\n",
        "  else:\n",
        "    IMG_DIR = \"719x719 - Recurrence_Matrices/RAW/\"\n",
        "\n",
        "elif image_size == \"med\":\n",
        "  imgsize = (332, 332)\n",
        "  if shuffled:\n",
        "    IMG_DIR = \"332x332 - Recurrence_Matrices/RAW_SHUFFLED/\"\n",
        "  else:\n",
        "    IMG_DIR = \"332x332 - Recurrence_Matrices/RAW/\"\n",
        "\n",
        "elif image_size == \"small\":\n",
        "  imgsize = (98, 98)\n",
        "  if shuffled:\n",
        "    IMG_DIR = \"98x98 - Recurrence_Matrices/RAW_SHUFFLED/\"\n",
        "  else:\n",
        "    IMG_DIR = \"98x98 - Recurrence_Matrices/RAW/\"\n",
        "\n",
        "print(\"Processing images from: \", IMG_DIR)"
      ],
      "metadata": {
        "colab": {
          "base_uri": "https://localhost:8080/"
        },
        "id": "P0Gs5r3nQUDy",
        "outputId": "98106996-2749-4477-e5a7-391cf1d28229"
      },
      "id": "P0Gs5r3nQUDy",
      "execution_count": null,
      "outputs": [
        {
          "output_type": "stream",
          "name": "stdout",
          "text": [
            "Processing images from:  332x332 - Recurrence_Matrices/RAW/\n"
          ]
        }
      ]
    },
    {
      "cell_type": "markdown",
      "id": "276ad7ff",
      "metadata": {
        "id": "276ad7ff"
      },
      "source": [
        "# Scratchwork"
      ]
    },
    {
      "cell_type": "code",
      "execution_count": null,
      "id": "01jOfPFegg7P",
      "metadata": {
        "colab": {
          "base_uri": "https://localhost:8080/",
          "height": 312
        },
        "id": "01jOfPFegg7P",
        "outputId": "5beea8d5-fc70-46c9-ae33-89a16bf49fc6"
      },
      "outputs": [
        {
          "output_type": "execute_result",
          "data": {
            "text/plain": [
              "<matplotlib.image.AxesImage at 0x7f7bd242c950>"
            ]
          },
          "metadata": {},
          "execution_count": 141
        },
        {
          "output_type": "display_data",
          "data": {
            "text/plain": [
              "<Figure size 432x288 with 1 Axes>"
            ],
            "image/png": "[encoded data removed]"
          },
          "metadata": {
            "needs_background": "light"
          }
        }
      ],
      "source": [
        "from skimage import io\n",
        "imag = io.imread(PROJECT_DIR + IMG_DIR + '1010-ExpBlock1_RAW.png', as_gray=True)\n",
        "io.imshow(imag)"
      ]
    },
    {
      "cell_type": "code",
      "execution_count": null,
      "id": "3M6sQYSMh8lH",
      "metadata": {
        "colab": {
          "base_uri": "https://localhost:8080/"
        },
        "id": "3M6sQYSMh8lH",
        "outputId": "8f383cf1-b9f6-4742-c6f3-d7204fb950e5"
      },
      "outputs": [
        {
          "output_type": "stream",
          "name": "stdout",
          "text": [
            "(719, 719)\n",
            "(719, 719)\n",
            "(719, 719)\n",
            "(719, 719)\n",
            "(719, 719)\n",
            "(719, 719)\n",
            "(719, 719)\n",
            "(719, 719)\n",
            "(719, 719)\n",
            "(719, 719)\n",
            "(719, 719)\n",
            "(719, 719)\n",
            "(719, 719)\n",
            "(719, 719)\n",
            "(719, 719)\n"
          ]
        }
      ],
      "source": [
        "for filename in os.listdir(PROJECT_DIR + IMG_DIR)[0:15]:\n",
        "    imag = io.imread(PROJECT_DIR + IMG_DIR + filename, as_gray=True)\n",
        "    print(imag.shape)"
      ]
    },
    {
      "cell_type": "code",
      "source": [
        "\n",
        "imag = io.imread(PROJECT_DIR + IMG_DIR + '1020-ExpBlock1_RAW.png', as_gray=True)\n",
        "plt.figure()\n",
        "io.imshow(imag)\n",
        "\n",
        "x = image.img_to_array(imag)\n",
        "# x = tf.image.resize(x, imgsize) # TODO: try interpolation = \"nearest\" instead of default \"bilinear\"\n",
        "\n",
        "x = np.squeeze(np.stack((x,)*3))\n",
        "x = x.swapaxes(0,1)\n",
        "x = x.swapaxes(1,2)\n",
        "print(x.shape)\n",
        "plt.figure()\n",
        "io.imshow(x)\n",
        "\n"
      ],
      "metadata": {
        "colab": {
          "base_uri": "https://localhost:8080/",
          "height": 609
        },
        "id": "85W3QknKN_hK",
        "outputId": "8cef9357-4280-4880-bab8-1db720d2e6e1"
      },
      "id": "85W3QknKN_hK",
      "execution_count": null,
      "outputs": [
        {
          "output_type": "stream",
          "name": "stdout",
          "text": [
            "(719, 719, 3)\n"
          ]
        },
        {
          "output_type": "execute_result",
          "data": {
            "text/plain": [
              "<matplotlib.image.AxesImage at 0x7f7c961da910>"
            ]
          },
          "metadata": {},
          "execution_count": 143
        },
        {
          "output_type": "display_data",
          "data": {
            "text/plain": [
              "<Figure size 432x288 with 1 Axes>"
            ],
            "image/png": "[encoded data removed]"
          },
          "metadata": {
            "needs_background": "light"
          }
        },
        {
          "output_type": "display_data",
          "data": {
            "text/plain": [
              "<Figure size 432x288 with 1 Axes>"
            ],
            "image/png": "[encoded data removed]"
          },
          "metadata": {
            "needs_background": "light"
          }
        }
      ]
    },
    {
      "cell_type": "code",
      "execution_count": null,
      "id": "a72ba0c3",
      "metadata": {
        "colab": {
          "base_uri": "https://localhost:8080/",
          "height": 592
        },
        "id": "a72ba0c3",
        "outputId": "39bc913f-be28-4828-a01a-4055831e801e"
      },
      "outputs": [
        {
          "output_type": "stream",
          "name": "stdout",
          "text": [
            "x shape:  (719, 719, 1)\n"
          ]
        },
        {
          "output_type": "display_data",
          "data": {
            "text/plain": [
              "<Figure size 432x288 with 1 Axes>"
            ],
            "image/png": "[encoded data removed]"
          },
          "metadata": {
            "needs_background": "light"
          }
        },
        {
          "output_type": "display_data",
          "data": {
            "text/plain": [
              "<Figure size 432x288 with 1 Axes>"
            ],
            "image/png": "[encoded data removed]"
          },
          "metadata": {
            "needs_background": "light"
          }
        }
      ],
      "source": [
        "\n",
        "x = tf.image.resize(x, imgsize) # TODO: try interpolation = \"nearest\" instead of default \"bilinear\"\n",
        "\n",
        "#x = tf.keras.preprocessing.image.smart_resize(x, imgsize)\n",
        "x = np.array(x)\n",
        "plt.figure()\n",
        "plt.axis('off')\n",
        "io.imshow(x.squeeze())\n",
        "#n = preprocess_input(x)    # preprocess input for Inception v3\n",
        "print(\"x shape: \", x.shape)"
      ]
    },
    {
      "cell_type": "markdown",
      "id": "518IGcIkdVXK",
      "metadata": {
        "id": "518IGcIkdVXK"
      },
      "source": [
        "# Helper Functions"
      ]
    },
    {
      "cell_type": "markdown",
      "id": "qqpZGlpcin1b",
      "metadata": {
        "id": "qqpZGlpcin1b"
      },
      "source": [
        "---NOTE---\n",
        "Resizing the image changes the RP so for now keep it the same size."
      ]
    },
    {
      "cell_type": "code",
      "execution_count": null,
      "id": "70a3bd6c",
      "metadata": {
        "id": "70a3bd6c"
      },
      "outputs": [],
      "source": [
        "# read, preprocess, and scale images to uniform dimension\n",
        "\n",
        "def extract_image(image_path):\n",
        "    imag = io.imread(image_path, as_gray=True)\n",
        "    x = image.img_to_array(imag)\n",
        "\n",
        "    x = tf.image.resize(x, imgsize) # TODO: try interpolation = \"nearest\" instead of default \"bilinear\"\n",
        "\n",
        "    return x\n",
        "\n",
        "def extract_image_inceptionv3(image_path):\n",
        "    imag = io.imread(image_path, as_gray=True)\n",
        "    x = image.img_to_array(imag)\n",
        "\n",
        "    x = tf.image.resize(x, imgsize) # TODO: try interpolation = \"nearest\" instead of default \"bilinear\"\n",
        "    x = np.squeeze(np.stack((x,)*3))\n",
        "    x = x.swapaxes(0,1)\n",
        "    x = x.swapaxes(1,2)\n",
        "\n",
        "    return x\n",
        "\n",
        "\n",
        "\n"
      ]
    },
    {
      "cell_type": "code",
      "execution_count": null,
      "id": "9a53b3c9",
      "metadata": {
        "id": "9a53b3c9"
      },
      "outputs": [],
      "source": [
        "def accuracy(predicted, observed):\n",
        "    if(len(predicted) != len(observed)):\n",
        "        print(\"Error - length of input series is not equal.\")\n",
        "        return np.nan\n",
        "    \n",
        "    correct = 0\n",
        "    for pred, obs in zip(predicted, observed):\n",
        "        if pred == obs:\n",
        "            correct += 1\n",
        "    acc = correct / len(predicted)\n",
        "    return acc"
      ]
    },
    {
      "cell_type": "code",
      "execution_count": null,
      "id": "e1ee2f2a",
      "metadata": {
        "id": "e1ee2f2a"
      },
      "outputs": [],
      "source": [
        "def extract_score(filename, outcome_df, score_col=\"task_score\"):\n",
        "    #  match this file's id/block with task score and return\n",
        "    groupid, splitname = filename.split(\"-\")\n",
        "    block = splitname.split(\"_\")[0]\n",
        "    row = outcome_df.loc[(outcome_df.GROUPID == int(groupid)) & (outcome_df.block == block)]\n",
        "    if(row.shape[0] != 1):\n",
        "        print(f\"Error -- Number of task scores recorded is not 1 for block {block} and groupid {groupid}.\")\n",
        "        return np.nan\n",
        "    score = row[score_col].values[0]\n",
        "    return score"
      ]
    },
    {
      "cell_type": "code",
      "execution_count": null,
      "id": "c1436d24",
      "metadata": {
        "id": "c1436d24"
      },
      "outputs": [],
      "source": [
        "def extract_binary_score(filename, outcome_df, score_col=\"task_score\", median_score=2):\n",
        "    #  match this file's id/block with task score and return\n",
        "    groupid, splitname = filename.split(\"-\")\n",
        "    block = splitname.split(\"_\")[0]\n",
        "    row = outcome_df.loc[(outcome_df.GROUPID == int(groupid)) & (outcome_df.block == block)]\n",
        "    if(row.shape[0] != 1):\n",
        "        print(f\"Error -- Number of task scores recorded is not 1 for block {block} and groupid {groupid}.\")\n",
        "        return np.nan\n",
        "    raw_score = row[score_col].values[0]\n",
        "    if raw_score <= median_score:\n",
        "        score = 0\n",
        "    else:\n",
        "        score = 1\n",
        "    return score"
      ]
    },
    {
      "cell_type": "markdown",
      "id": "c7dd6e80",
      "metadata": {
        "id": "c7dd6e80"
      },
      "source": [
        "# Load and preprocess data"
      ]
    },
    {
      "cell_type": "code",
      "execution_count": null,
      "id": "ab77eaa2",
      "metadata": {
        "id": "ab77eaa2",
        "colab": {
          "base_uri": "https://localhost:8080/"
        },
        "outputId": "198f6e3f-8ae0-46a9-83d3-3492417eb57b"
      },
      "outputs": [
        {
          "output_type": "stream",
          "name": "stdout",
          "text": [
            "median:  2.0\n",
            "mean:  3.5437956204379564\n"
          ]
        }
      ],
      "source": [
        "outcome_df = pd.read_csv(PROJECT_DIR + \"team_block_outcomes.csv\")\n",
        "\n",
        "# get median task_score\n",
        "task_scores = outcome_df[\"task_score\"]\n",
        "median_task_score = np.median(task_scores)\n",
        "mean_task_score = np.mean(task_scores)\n",
        "print(\"median: \", median_task_score)\n",
        "print(\"mean: \", mean_task_score)\n",
        "\n",
        "# score_counts = dict(Counter(task_scores))\n",
        "# for key in score_counts:\n",
        "#     print(\"%d: %d\" % (key, score_counts[key]))"
      ]
    },
    {
      "cell_type": "code",
      "execution_count": null,
      "id": "c33a5f10",
      "metadata": {
        "colab": {
          "base_uri": "https://localhost:8080/"
        },
        "id": "c33a5f10",
        "outputId": "cce71b8d-0889-4a22-dc45-a8716fbba93f"
      },
      "outputs": [
        {
          "output_type": "stream",
          "name": "stdout",
          "text": [
            "recurrence_plot_list: (271, 332, 332, 1)\n",
            "recurrence_plot_list_incv3: (271, 332, 332, 3)\n",
            "Binary label counts:  {1: 132, 0: 139}\n",
            "Continous label ex:  8.0\n",
            "Binary label ex:  1\n"
          ]
        }
      ],
      "source": [
        "# read data to np arrays\n",
        "recurrence_plot_list = []\n",
        "recurrence_plot_list_incv3 = []\n",
        "labels = []\n",
        "binary_labels = []\n",
        "\n",
        "for filename in os.listdir(PROJECT_DIR + IMG_DIR):\n",
        "    # preprocess image\n",
        "    t = extract_image(PROJECT_DIR + IMG_DIR + filename)\n",
        "    t_incv3 = extract_image_inceptionv3(PROJECT_DIR + IMG_DIR + filename)\n",
        "\n",
        "    # get task score\n",
        "    lab = extract_score(filename, outcome_df, score_col=\"task_score\")\n",
        "    bin_lab = extract_binary_score(filename, outcome_df, score_col=\"task_score\", median_score=2)\n",
        "\n",
        "    # append data\n",
        "    recurrence_plot_list.append(t)\n",
        "    recurrence_plot_list_incv3.append(t_incv3)\n",
        "    labels.append(lab)\n",
        "    binary_labels.append(bin_lab)\n",
        "    \n",
        "\n",
        "recurrence_plot_list = np.array(recurrence_plot_list)\n",
        "recurrence_plot_list_incv3 = np.array(recurrence_plot_list_incv3)\n",
        "labels = np.array(labels)\n",
        "binary_labels = np.array(binary_labels)\n",
        "\n",
        "print(f\"recurrence_plot_list: {recurrence_plot_list.shape}\")\n",
        "print(f\"recurrence_plot_list_incv3: {recurrence_plot_list_incv3.shape}\")\n",
        "binary_counts = dict(Counter(binary_labels))\n",
        "print(\"Binary label counts: \", binary_counts)\n",
        "\n",
        "print(\"Continous label ex: \", labels[4])\n",
        "print(\"Binary label ex: \", binary_labels[4])\n"
      ]
    },
    {
      "cell_type": "code",
      "execution_count": null,
      "id": "ba3c0064",
      "metadata": {
        "colab": {
          "base_uri": "https://localhost:8080/"
        },
        "id": "ba3c0064",
        "outputId": "ee580603-5da5-45a3-d53a-e1bb1a5916cd"
      },
      "outputs": [
        {
          "output_type": "stream",
          "name": "stdout",
          "text": [
            "No duplicate samples.\n"
          ]
        }
      ],
      "source": [
        "if (recurrence_plot_list.shape[0] == len(np.unique(recurrence_plot_list, axis=0))):\n",
        "    print(\"No duplicate samples.\")\n",
        "else:\n",
        "    print(\"WARNING - duplicate samples.\")\n",
        "    "
      ]
    },
    {
      "cell_type": "markdown",
      "id": "SLytwAPRdQEY",
      "metadata": {
        "id": "SLytwAPRdQEY"
      },
      "source": [
        "# Binary Classification.\n",
        "Output layer has 1 node with sigmoid activation.\n",
        "y labels are 0 or 1\n"
      ]
    },
    {
      "cell_type": "markdown",
      "source": [
        "## Model from scratch"
      ],
      "metadata": {
        "id": "MhwkKjyGDbnj"
      },
      "id": "MhwkKjyGDbnj"
    },
    {
      "cell_type": "code",
      "execution_count": null,
      "id": "e48ba72a",
      "metadata": {
        "colab": {
          "base_uri": "https://localhost:8080/"
        },
        "id": "e48ba72a",
        "outputId": "7ad0302e-959a-472c-e305-4985258afed8"
      },
      "outputs": [
        {
          "output_type": "stream",
          "name": "stdout",
          "text": [
            "X_train:  (202, 332, 332, 1)\n",
            "y_train:  (202,)\n",
            "\n",
            "\n",
            "X_val:  (36, 332, 332, 1)\n",
            "y_val:  (36,)\n",
            "\n",
            "\n",
            "X_test:  (33, 332, 332, 1)\n",
            "y_test:  (33,)\n",
            "\n",
            "\n",
            "[1 0 1 1 1 0 0 0 1 1 1 1 0 1 0 1 0 1 0 1 1 1 1 1 1 0 1 1 0 0 0 0 0]\n"
          ]
        }
      ],
      "source": [
        "import sklearn\n",
        "from sklearn.model_selection import train_test_split\n",
        "\n",
        "# Split into train/test/val set\n",
        "# Roughly val - 15%, test - 15%, train - 70%\n",
        "X_train, X_test, y_train, y_test = train_test_split(recurrence_plot_list, binary_labels, train_size=0.88)\n",
        "X_train, X_val, y_train, y_val = train_test_split(X_train, y_train, train_size=0.85)\n",
        "\n",
        "print(\"X_train: \", X_train.shape)\n",
        "print(\"y_train: \", y_train.shape)\n",
        "print(\"\\n\")\n",
        "print(\"X_val: \", X_val.shape)\n",
        "print(\"y_val: \", y_val.shape)\n",
        "print(\"\\n\")\n",
        "print(\"X_test: \", X_test.shape)\n",
        "print(\"y_test: \", y_test.shape)\n",
        "print(\"\\n\")\n",
        "\n",
        "print(y_test)"
      ]
    },
    {
      "cell_type": "code",
      "execution_count": null,
      "id": "64b27ca7",
      "metadata": {
        "colab": {
          "base_uri": "https://localhost:8080/"
        },
        "id": "64b27ca7",
        "outputId": "34a74096-08b6-40b9-d2f7-03951d27b99f"
      },
      "outputs": [
        {
          "output_type": "stream",
          "name": "stdout",
          "text": [
            "Model: \"model_26\"\n",
            "_________________________________________________________________\n",
            " Layer (type)                Output Shape              Param #   \n",
            "=================================================================\n",
            " input_27 (InputLayer)       [(None, 332, 332, 1)]     0         \n",
            "                                                                 \n",
            " conv2d_1184 (Conv2D)        (None, 330, 330, 16)      160       \n",
            "                                                                 \n",
            " conv2d_1185 (Conv2D)        (None, 328, 328, 16)      2320      \n",
            "                                                                 \n",
            " max_pooling2d_76 (MaxPoolin  (None, 164, 164, 16)     0         \n",
            " g2D)                                                            \n",
            "                                                                 \n",
            " dropout_42 (Dropout)        (None, 164, 164, 16)      0         \n",
            "                                                                 \n",
            " conv2d_1186 (Conv2D)        (None, 162, 162, 32)      4640      \n",
            "                                                                 \n",
            " conv2d_1187 (Conv2D)        (None, 160, 160, 32)      9248      \n",
            "                                                                 \n",
            " max_pooling2d_77 (MaxPoolin  (None, 80, 80, 32)       0         \n",
            " g2D)                                                            \n",
            "                                                                 \n",
            " dropout_43 (Dropout)        (None, 80, 80, 32)        0         \n",
            "                                                                 \n",
            " dense_40 (Dense)            (None, 80, 80, 512)       16896     \n",
            "                                                                 \n",
            " dropout_44 (Dropout)        (None, 80, 80, 512)       0         \n",
            "                                                                 \n",
            " flatten_14 (Flatten)        (None, 3276800)           0         \n",
            "                                                                 \n",
            " dense_41 (Dense)            (None, 1)                 3276801   \n",
            "                                                                 \n",
            "=================================================================\n",
            "Total params: 3,310,065\n",
            "Trainable params: 3,310,065\n",
            "Non-trainable params: 0\n",
            "_________________________________________________________________\n"
          ]
        }
      ],
      "source": [
        "# Garcia-Ceja paper feeds CNN images with dims 100 x 100 x 4 (width x height x channels)\n",
        "# Labels are one hot encoded\n",
        "\n",
        "inputs = Input(shape=(imgsize[0], imgsize[1], 1))\n",
        "x = layers.Conv2D(filters=16, kernel_size=3, strides=(1, 1), activation=\"relu\")(inputs)\n",
        "x = layers.Conv2D(filters=16, kernel_size=3, strides=(1, 1), activation=\"relu\")(x)\n",
        "x = layers.MaxPooling2D(pool_size=(2, 2))(x)\n",
        "x = layers.Dropout(0.25)(x)\n",
        "x = layers.Conv2D(filters=32, kernel_size=3, strides=(1, 1), activation=\"relu\")(x)\n",
        "x = layers.Conv2D(filters=32, kernel_size=3, strides=(1, 1), activation=\"relu\")(x)\n",
        "x = layers.MaxPooling2D(pool_size=(2, 2))(x)\n",
        "x = layers.Dropout(0.25)(x)\n",
        "x = layers.Dense(512, activation=\"relu\")(x) \n",
        "x = layers.Dropout(0.50)(x)\n",
        "x = layers.Flatten()(x)\n",
        "out = layers.Dense(1, activation=\"sigmoid\")(x)   # change output layer to 1 and activation to sigmoid\n",
        "\n",
        "\n",
        "bc = tf.keras.losses.BinaryCrossentropy()        # change loss to binary\n",
        "lr = 0.00001 # paper used 0.001\n",
        "eps = 1e-08  # paper used 1e-08, but keras default is 1e-07\n",
        "adam = keras.optimizers.Adam(learning_rate=lr, epsilon=eps)\n",
        "auc = tf.keras.metrics.AUC(\n",
        "      num_thresholds=200,\n",
        "      curve=\"ROC\",\n",
        "      from_logits=False\n",
        ")\n",
        "prec = tf.keras.metrics.Precision()\n",
        "rec = tf.keras.metrics.Recall()\n",
        "\n",
        "\n",
        "model_binary = Model(inputs=inputs, outputs=out)\n",
        "model_binary.compile(\n",
        "  optimizer=adam,\n",
        "  loss=bc, \n",
        "  metrics=['accuracy', auc, prec, rec],\n",
        ")\n",
        "\n",
        "model_binary.summary()"
      ]
    },
    {
      "cell_type": "code",
      "execution_count": null,
      "id": "736cc0b4",
      "metadata": {
        "colab": {
          "base_uri": "https://localhost:8080/"
        },
        "id": "736cc0b4",
        "outputId": "cdafd3eb-604b-4755-9d4b-f40def062ce4"
      },
      "outputs": [
        {
          "output_type": "stream",
          "name": "stdout",
          "text": [
            "Saving model to:  drive/MyDrive/CSCI 5922 - Final Project/results/.med_70a_binary_best_weights.hdf5\n",
            "Epoch 1/70\n",
            "7/7 [==============================] - 6s 354ms/step - loss: 0.6990 - accuracy: 0.5446 - auc_26: 0.5159 - precision_26: 0.5455 - recall_26: 0.2500 - val_loss: 0.7189 - val_accuracy: 0.4722 - val_auc_26: 0.3963 - val_precision_26: 0.4722 - val_recall_26: 1.0000\n",
            "Epoch 2/70\n",
            "7/7 [==============================] - 1s 155ms/step - loss: 0.7182 - accuracy: 0.4752 - auc_26: 0.5187 - precision_26: 0.4648 - recall_26: 0.6875 - val_loss: 0.6950 - val_accuracy: 0.5278 - val_auc_26: 0.5681 - val_precision_26: 0.0000e+00 - val_recall_26: 0.0000e+00\n",
            "Epoch 3/70\n",
            "7/7 [==============================] - 1s 170ms/step - loss: 0.7041 - accuracy: 0.5297 - auc_26: 0.5071 - precision_26: 1.0000 - recall_26: 0.0104 - val_loss: 0.6932 - val_accuracy: 0.4444 - val_auc_26: 0.4706 - val_precision_26: 0.4444 - val_recall_26: 0.7059\n",
            "Epoch 4/70\n",
            "7/7 [==============================] - 1s 115ms/step - loss: 0.7005 - accuracy: 0.4851 - auc_26: 0.4849 - precision_26: 0.4770 - recall_26: 0.8646 - val_loss: 0.6936 - val_accuracy: 0.4444 - val_auc_26: 0.4969 - val_precision_26: 0.4571 - val_recall_26: 0.9412\n",
            "Epoch 5/70\n",
            "7/7 [==============================] - 1s 165ms/step - loss: 0.7025 - accuracy: 0.5297 - auc_26: 0.4351 - precision_26: 0.5294 - recall_26: 0.0938 - val_loss: 0.6913 - val_accuracy: 0.5278 - val_auc_26: 0.5402 - val_precision_26: 0.0000e+00 - val_recall_26: 0.0000e+00\n",
            "Epoch 6/70\n",
            "7/7 [==============================] - 1s 123ms/step - loss: 0.6953 - accuracy: 0.5099 - auc_26: 0.4826 - precision_26: 0.4815 - recall_26: 0.4062 - val_loss: 0.6934 - val_accuracy: 0.4722 - val_auc_26: 0.5062 - val_precision_26: 0.4706 - val_recall_26: 0.9412\n",
            "Epoch 7/70\n",
            "7/7 [==============================] - 1s 120ms/step - loss: 0.6884 - accuracy: 0.5743 - auc_26: 0.5771 - precision_26: 0.5455 - recall_26: 0.6250 - val_loss: 0.6927 - val_accuracy: 0.5278 - val_auc_26: 0.5310 - val_precision_26: 0.5000 - val_recall_26: 0.0588\n",
            "Epoch 8/70\n",
            "7/7 [==============================] - 1s 159ms/step - loss: 0.6909 - accuracy: 0.5248 - auc_26: 0.5215 - precision_26: 0.5000 - recall_26: 0.0729 - val_loss: 0.6909 - val_accuracy: 0.5278 - val_auc_26: 0.5743 - val_precision_26: 0.0000e+00 - val_recall_26: 0.0000e+00\n",
            "Epoch 9/70\n",
            "7/7 [==============================] - 1s 112ms/step - loss: 0.6976 - accuracy: 0.5297 - auc_26: 0.5057 - precision_26: 1.0000 - recall_26: 0.0104 - val_loss: 0.6922 - val_accuracy: 0.5278 - val_auc_26: 0.5697 - val_precision_26: 0.0000e+00 - val_recall_26: 0.0000e+00\n",
            "Epoch 10/70\n",
            "7/7 [==============================] - 1s 140ms/step - loss: 0.6917 - accuracy: 0.5495 - auc_26: 0.5380 - precision_26: 0.5253 - recall_26: 0.5417 - val_loss: 0.6918 - val_accuracy: 0.5278 - val_auc_26: 0.6440 - val_precision_26: 0.0000e+00 - val_recall_26: 0.0000e+00\n",
            "Epoch 11/70\n",
            "7/7 [==============================] - 1s 152ms/step - loss: 0.6863 - accuracy: 0.5347 - auc_26: 0.6187 - precision_26: 1.0000 - recall_26: 0.0208 - val_loss: 0.6908 - val_accuracy: 0.5278 - val_auc_26: 0.5186 - val_precision_26: 0.0000e+00 - val_recall_26: 0.0000e+00\n",
            "Epoch 12/70\n",
            "7/7 [==============================] - 1s 106ms/step - loss: 0.7005 - accuracy: 0.4653 - auc_26: 0.4657 - precision_26: 0.4423 - recall_26: 0.4792 - val_loss: 0.6940 - val_accuracy: 0.4444 - val_auc_26: 0.5697 - val_precision_26: 0.4571 - val_recall_26: 0.9412\n",
            "Epoch 13/70\n",
            "7/7 [==============================] - 1s 146ms/step - loss: 0.6955 - accuracy: 0.5446 - auc_26: 0.5073 - precision_26: 0.6667 - recall_26: 0.0833 - val_loss: 0.6906 - val_accuracy: 0.5278 - val_auc_26: 0.5898 - val_precision_26: 0.0000e+00 - val_recall_26: 0.0000e+00\n",
            "Epoch 14/70\n",
            "7/7 [==============================] - 1s 108ms/step - loss: 0.6939 - accuracy: 0.5347 - auc_26: 0.5011 - precision_26: 0.5294 - recall_26: 0.1875 - val_loss: 0.6933 - val_accuracy: 0.5000 - val_auc_26: 0.6300 - val_precision_26: 0.4848 - val_recall_26: 0.9412\n",
            "Epoch 15/70\n",
            "7/7 [==============================] - 1s 142ms/step - loss: 0.6879 - accuracy: 0.5297 - auc_26: 0.5613 - precision_26: 0.5455 - recall_26: 0.0625 - val_loss: 0.6904 - val_accuracy: 0.5278 - val_auc_26: 0.6115 - val_precision_26: 0.0000e+00 - val_recall_26: 0.0000e+00\n",
            "Epoch 16/70\n",
            "7/7 [==============================] - 1s 106ms/step - loss: 0.6982 - accuracy: 0.4950 - auc_26: 0.4820 - precision_26: 0.2500 - recall_26: 0.0312 - val_loss: 0.6953 - val_accuracy: 0.4444 - val_auc_26: 0.5402 - val_precision_26: 0.4571 - val_recall_26: 0.9412\n",
            "Epoch 17/70\n",
            "7/7 [==============================] - 1s 108ms/step - loss: 0.6850 - accuracy: 0.5842 - auc_26: 0.6232 - precision_26: 0.5462 - recall_26: 0.7396 - val_loss: 0.6930 - val_accuracy: 0.5000 - val_auc_26: 0.6130 - val_precision_26: 0.4848 - val_recall_26: 0.9412\n",
            "Epoch 18/70\n",
            "7/7 [==============================] - 1s 103ms/step - loss: 0.6920 - accuracy: 0.5297 - auc_26: 0.5428 - precision_26: 0.6000 - recall_26: 0.0312 - val_loss: 0.6906 - val_accuracy: 0.5278 - val_auc_26: 0.5851 - val_precision_26: 0.0000e+00 - val_recall_26: 0.0000e+00\n",
            "Epoch 19/70\n",
            "7/7 [==============================] - 1s 104ms/step - loss: 0.6851 - accuracy: 0.5545 - auc_26: 0.5787 - precision_26: 0.5536 - recall_26: 0.3229 - val_loss: 0.6973 - val_accuracy: 0.4722 - val_auc_26: 0.5867 - val_precision_26: 0.4722 - val_recall_26: 1.0000\n",
            "Epoch 20/70\n",
            "7/7 [==============================] - 1s 105ms/step - loss: 0.6892 - accuracy: 0.5198 - auc_26: 0.5481 - precision_26: 0.4872 - recall_26: 0.1979 - val_loss: 0.6926 - val_accuracy: 0.5000 - val_auc_26: 0.5712 - val_precision_26: 0.4839 - val_recall_26: 0.8824\n",
            "Epoch 21/70\n",
            "7/7 [==============================] - 1s 103ms/step - loss: 0.6917 - accuracy: 0.5000 - auc_26: 0.5314 - precision_26: 0.4830 - recall_26: 0.7396 - val_loss: 0.6967 - val_accuracy: 0.4444 - val_auc_26: 0.5960 - val_precision_26: 0.4571 - val_recall_26: 0.9412\n",
            "Epoch 22/70\n",
            "7/7 [==============================] - 1s 105ms/step - loss: 0.6843 - accuracy: 0.5693 - auc_26: 0.6082 - precision_26: 0.5738 - recall_26: 0.3646 - val_loss: 0.6939 - val_accuracy: 0.5000 - val_auc_26: 0.5851 - val_precision_26: 0.4848 - val_recall_26: 0.9412\n",
            "Epoch 23/70\n",
            "7/7 [==============================] - 1s 106ms/step - loss: 0.6841 - accuracy: 0.5941 - auc_26: 0.6201 - precision_26: 0.5547 - recall_26: 0.7396 - val_loss: 0.6940 - val_accuracy: 0.5000 - val_auc_26: 0.5929 - val_precision_26: 0.4848 - val_recall_26: 0.9412\n",
            "Epoch 24/70\n",
            "7/7 [==============================] - 1s 106ms/step - loss: 0.6834 - accuracy: 0.5297 - auc_26: 0.6125 - precision_26: 0.5556 - recall_26: 0.0521 - val_loss: 0.6904 - val_accuracy: 0.5278 - val_auc_26: 0.5991 - val_precision_26: 0.0000e+00 - val_recall_26: 0.0000e+00\n",
            "Epoch 25/70\n",
            "7/7 [==============================] - 1s 103ms/step - loss: 0.6874 - accuracy: 0.5495 - auc_26: 0.5517 - precision_26: 0.6000 - recall_26: 0.1562 - val_loss: 0.6955 - val_accuracy: 0.4444 - val_auc_26: 0.6037 - val_precision_26: 0.4571 - val_recall_26: 0.9412\n",
            "Epoch 26/70\n",
            "7/7 [==============================] - 1s 107ms/step - loss: 0.6881 - accuracy: 0.5248 - auc_26: 0.5596 - precision_26: 0.5000 - recall_26: 0.4375 - val_loss: 0.6964 - val_accuracy: 0.4444 - val_auc_26: 0.5851 - val_precision_26: 0.4571 - val_recall_26: 0.9412\n",
            "Epoch 27/70\n",
            "7/7 [==============================] - 1s 104ms/step - loss: 0.6822 - accuracy: 0.5594 - auc_26: 0.6248 - precision_26: 0.6296 - recall_26: 0.1771 - val_loss: 0.6939 - val_accuracy: 0.5000 - val_auc_26: 0.6533 - val_precision_26: 0.4848 - val_recall_26: 0.9412\n",
            "Epoch 28/70\n",
            "7/7 [==============================] - 1s 106ms/step - loss: 0.6833 - accuracy: 0.5248 - auc_26: 0.6127 - precision_26: 0.5000 - recall_26: 0.0625 - val_loss: 0.6941 - val_accuracy: 0.5000 - val_auc_26: 0.6022 - val_precision_26: 0.4848 - val_recall_26: 0.9412\n",
            "Epoch 29/70\n",
            "7/7 [==============================] - 1s 104ms/step - loss: 0.6843 - accuracy: 0.5644 - auc_26: 0.5946 - precision_26: 0.5345 - recall_26: 0.6458 - val_loss: 0.6954 - val_accuracy: 0.4444 - val_auc_26: 0.5805 - val_precision_26: 0.4571 - val_recall_26: 0.9412\n",
            "Epoch 30/70\n",
            "7/7 [==============================] - 1s 216ms/step - loss: 0.6906 - accuracy: 0.5248 - auc_26: 0.6089 - precision_26: 0.5000 - recall_26: 0.0417 - val_loss: 0.6897 - val_accuracy: 0.5278 - val_auc_26: 0.6207 - val_precision_26: 0.0000e+00 - val_recall_26: 0.0000e+00\n",
            "Epoch 31/70\n",
            "7/7 [==============================] - 1s 105ms/step - loss: 0.6740 - accuracy: 0.5792 - auc_26: 0.6482 - precision_26: 0.5965 - recall_26: 0.3542 - val_loss: 0.7082 - val_accuracy: 0.4722 - val_auc_26: 0.6115 - val_precision_26: 0.4722 - val_recall_26: 1.0000\n",
            "Epoch 32/70\n",
            "7/7 [==============================] - 1s 103ms/step - loss: 0.6786 - accuracy: 0.5743 - auc_26: 0.6621 - precision_26: 0.5347 - recall_26: 0.8021 - val_loss: 0.6922 - val_accuracy: 0.5000 - val_auc_26: 0.6393 - val_precision_26: 0.4839 - val_recall_26: 0.8824\n",
            "Epoch 33/70\n",
            "7/7 [==============================] - 1s 104ms/step - loss: 0.6751 - accuracy: 0.5297 - auc_26: 0.7045 - precision_26: 0.6667 - recall_26: 0.0208 - val_loss: 0.6954 - val_accuracy: 0.4722 - val_auc_26: 0.5944 - val_precision_26: 0.4706 - val_recall_26: 0.9412\n",
            "Epoch 34/70\n",
            "7/7 [==============================] - 1s 103ms/step - loss: 0.6782 - accuracy: 0.5792 - auc_26: 0.6606 - precision_26: 0.6000 - recall_26: 0.3438 - val_loss: 0.6970 - val_accuracy: 0.4444 - val_auc_26: 0.6022 - val_precision_26: 0.4571 - val_recall_26: 0.9412\n",
            "Epoch 35/70\n",
            "7/7 [==============================] - 1s 104ms/step - loss: 0.6858 - accuracy: 0.5297 - auc_26: 0.5825 - precision_26: 0.5714 - recall_26: 0.0417 - val_loss: 0.6943 - val_accuracy: 0.5000 - val_auc_26: 0.6053 - val_precision_26: 0.4848 - val_recall_26: 0.9412\n",
            "Epoch 36/70\n",
            "7/7 [==============================] - 1s 107ms/step - loss: 0.6770 - accuracy: 0.5198 - auc_26: 0.6664 - precision_26: 0.4444 - recall_26: 0.0417 - val_loss: 0.7028 - val_accuracy: 0.4444 - val_auc_26: 0.6254 - val_precision_26: 0.4571 - val_recall_26: 0.9412\n",
            "Epoch 37/70\n",
            "7/7 [==============================] - 1s 108ms/step - loss: 0.6813 - accuracy: 0.5644 - auc_26: 0.6751 - precision_26: 0.5222 - recall_26: 0.9792 - val_loss: 0.6970 - val_accuracy: 0.4444 - val_auc_26: 0.6053 - val_precision_26: 0.4571 - val_recall_26: 0.9412\n",
            "Epoch 38/70\n",
            "7/7 [==============================] - 1s 136ms/step - loss: 0.6819 - accuracy: 0.5396 - auc_26: 0.6084 - precision_26: 0.6667 - recall_26: 0.0625 - val_loss: 0.6896 - val_accuracy: 0.6111 - val_auc_26: 0.6269 - val_precision_26: 0.5714 - val_recall_26: 0.7059\n",
            "Epoch 39/70\n",
            "7/7 [==============================] - 1s 103ms/step - loss: 0.6718 - accuracy: 0.5693 - auc_26: 0.6472 - precision_26: 0.6098 - recall_26: 0.2604 - val_loss: 0.7080 - val_accuracy: 0.4722 - val_auc_26: 0.5867 - val_precision_26: 0.4722 - val_recall_26: 1.0000\n",
            "Epoch 40/70\n",
            "7/7 [==============================] - 1s 107ms/step - loss: 0.6780 - accuracy: 0.5644 - auc_26: 0.6827 - precision_26: 0.5230 - recall_26: 0.9479 - val_loss: 0.6963 - val_accuracy: 0.4722 - val_auc_26: 0.6223 - val_precision_26: 0.4706 - val_recall_26: 0.9412\n",
            "Epoch 41/70\n",
            "7/7 [==============================] - 1s 104ms/step - loss: 0.6727 - accuracy: 0.5594 - auc_26: 0.6679 - precision_26: 0.6842 - recall_26: 0.1354 - val_loss: 0.6951 - val_accuracy: 0.5000 - val_auc_26: 0.6409 - val_precision_26: 0.4848 - val_recall_26: 0.9412\n",
            "Epoch 42/70\n",
            "7/7 [==============================] - 1s 106ms/step - loss: 0.6697 - accuracy: 0.5644 - auc_26: 0.7306 - precision_26: 1.0000 - recall_26: 0.0833 - val_loss: 0.6966 - val_accuracy: 0.4722 - val_auc_26: 0.6269 - val_precision_26: 0.4706 - val_recall_26: 0.9412\n",
            "Epoch 43/70\n",
            "7/7 [==============================] - 1s 104ms/step - loss: 0.6680 - accuracy: 0.6782 - auc_26: 0.7128 - precision_26: 0.6505 - recall_26: 0.6979 - val_loss: 0.6995 - val_accuracy: 0.4444 - val_auc_26: 0.6068 - val_precision_26: 0.4571 - val_recall_26: 0.9412\n",
            "Epoch 44/70\n",
            "7/7 [==============================] - 1s 106ms/step - loss: 0.6887 - accuracy: 0.5198 - auc_26: 0.6019 - precision_26: 0.4545 - recall_26: 0.0521 - val_loss: 0.6913 - val_accuracy: 0.5000 - val_auc_26: 0.6362 - val_precision_26: 0.4839 - val_recall_26: 0.8824\n",
            "Epoch 45/70\n",
            "7/7 [==============================] - 1s 106ms/step - loss: 0.6764 - accuracy: 0.5644 - auc_26: 0.6124 - precision_26: 0.5323 - recall_26: 0.6875 - val_loss: 0.7185 - val_accuracy: 0.4722 - val_auc_26: 0.6300 - val_precision_26: 0.4722 - val_recall_26: 1.0000\n",
            "Epoch 46/70\n",
            "7/7 [==============================] - 1s 106ms/step - loss: 0.6764 - accuracy: 0.5891 - auc_26: 0.6164 - precision_26: 0.5644 - recall_26: 0.5938 - val_loss: 0.6937 - val_accuracy: 0.5000 - val_auc_26: 0.6207 - val_precision_26: 0.4848 - val_recall_26: 0.9412\n",
            "Epoch 47/70\n",
            "7/7 [==============================] - 1s 105ms/step - loss: 0.6554 - accuracy: 0.6881 - auc_26: 0.7613 - precision_26: 0.7089 - recall_26: 0.5833 - val_loss: 0.7153 - val_accuracy: 0.4722 - val_auc_26: 0.6130 - val_precision_26: 0.4722 - val_recall_26: 1.0000\n",
            "Epoch 48/70\n",
            "7/7 [==============================] - 1s 107ms/step - loss: 0.6701 - accuracy: 0.6139 - auc_26: 0.7053 - precision_26: 0.5542 - recall_26: 0.9583 - val_loss: 0.6968 - val_accuracy: 0.5000 - val_auc_26: 0.6115 - val_precision_26: 0.4848 - val_recall_26: 0.9412\n",
            "Epoch 49/70\n",
            "7/7 [==============================] - 1s 137ms/step - loss: 0.6746 - accuracy: 0.5396 - auc_26: 0.6816 - precision_26: 1.0000 - recall_26: 0.0312 - val_loss: 0.6893 - val_accuracy: 0.5833 - val_auc_26: 0.6238 - val_precision_26: 0.5385 - val_recall_26: 0.8235\n",
            "Epoch 50/70\n",
            "7/7 [==============================] - 1s 106ms/step - loss: 0.6677 - accuracy: 0.5495 - auc_26: 0.6798 - precision_26: 0.6471 - recall_26: 0.1146 - val_loss: 0.7064 - val_accuracy: 0.4444 - val_auc_26: 0.6238 - val_precision_26: 0.4571 - val_recall_26: 0.9412\n",
            "Epoch 51/70\n",
            "7/7 [==============================] - 1s 108ms/step - loss: 0.6634 - accuracy: 0.6089 - auc_26: 0.6989 - precision_26: 0.6269 - recall_26: 0.4375 - val_loss: 0.7028 - val_accuracy: 0.4722 - val_auc_26: 0.6378 - val_precision_26: 0.4706 - val_recall_26: 0.9412\n",
            "Epoch 52/70\n",
            "7/7 [==============================] - 1s 107ms/step - loss: 0.6571 - accuracy: 0.6782 - auc_26: 0.7582 - precision_26: 0.6505 - recall_26: 0.6979 - val_loss: 0.7059 - val_accuracy: 0.4444 - val_auc_26: 0.6285 - val_precision_26: 0.4571 - val_recall_26: 0.9412\n",
            "Epoch 53/70\n",
            "7/7 [==============================] - 1s 104ms/step - loss: 0.6587 - accuracy: 0.6436 - auc_26: 0.7279 - precision_26: 0.7500 - recall_26: 0.3750 - val_loss: 0.6977 - val_accuracy: 0.5000 - val_auc_26: 0.6146 - val_precision_26: 0.4848 - val_recall_26: 0.9412\n",
            "Epoch 54/70\n",
            "7/7 [==============================] - 1s 107ms/step - loss: 0.6652 - accuracy: 0.6238 - auc_26: 0.6916 - precision_26: 0.5877 - recall_26: 0.6979 - val_loss: 0.7074 - val_accuracy: 0.4444 - val_auc_26: 0.6300 - val_precision_26: 0.4571 - val_recall_26: 0.9412\n",
            "Epoch 55/70\n",
            "7/7 [==============================] - 1s 104ms/step - loss: 0.6535 - accuracy: 0.6535 - auc_26: 0.7501 - precision_26: 0.7321 - recall_26: 0.4271 - val_loss: 0.6935 - val_accuracy: 0.5278 - val_auc_26: 0.6316 - val_precision_26: 0.5000 - val_recall_26: 0.9412\n",
            "Epoch 56/70\n",
            "7/7 [==============================] - 1s 104ms/step - loss: 0.6610 - accuracy: 0.5347 - auc_26: 0.7313 - precision_26: 0.7500 - recall_26: 0.0312 - val_loss: 0.6975 - val_accuracy: 0.5000 - val_auc_26: 0.6347 - val_precision_26: 0.4848 - val_recall_26: 0.9412\n",
            "Epoch 57/70\n",
            "7/7 [==============================] - 1s 105ms/step - loss: 0.6500 - accuracy: 0.6089 - auc_26: 0.7653 - precision_26: 0.6889 - recall_26: 0.3229 - val_loss: 0.7029 - val_accuracy: 0.5000 - val_auc_26: 0.6347 - val_precision_26: 0.4848 - val_recall_26: 0.9412\n",
            "Epoch 58/70\n",
            "7/7 [==============================] - 1s 109ms/step - loss: 0.6487 - accuracy: 0.6535 - auc_26: 0.7678 - precision_26: 0.6757 - recall_26: 0.5208 - val_loss: 0.7091 - val_accuracy: 0.4722 - val_auc_26: 0.6285 - val_precision_26: 0.4706 - val_recall_26: 0.9412\n",
            "Epoch 59/70\n",
            "7/7 [==============================] - 1s 104ms/step - loss: 0.6475 - accuracy: 0.7079 - auc_26: 0.7853 - precision_26: 0.6637 - recall_26: 0.7812 - val_loss: 0.7029 - val_accuracy: 0.5000 - val_auc_26: 0.6254 - val_precision_26: 0.4848 - val_recall_26: 0.9412\n",
            "Epoch 60/70\n",
            "7/7 [==============================] - 1s 104ms/step - loss: 0.6484 - accuracy: 0.6584 - auc_26: 0.7612 - precision_26: 0.7288 - recall_26: 0.4479 - val_loss: 0.7073 - val_accuracy: 0.4722 - val_auc_26: 0.6316 - val_precision_26: 0.4706 - val_recall_26: 0.9412\n",
            "Epoch 61/70\n",
            "7/7 [==============================] - 1s 106ms/step - loss: 0.6476 - accuracy: 0.6881 - auc_26: 0.7539 - precision_26: 0.6460 - recall_26: 0.7604 - val_loss: 0.7042 - val_accuracy: 0.5000 - val_auc_26: 0.6347 - val_precision_26: 0.4848 - val_recall_26: 0.9412\n",
            "Epoch 62/70\n",
            "7/7 [==============================] - 1s 108ms/step - loss: 0.6392 - accuracy: 0.6436 - auc_26: 0.7939 - precision_26: 0.7400 - recall_26: 0.3854 - val_loss: 0.7046 - val_accuracy: 0.5000 - val_auc_26: 0.6347 - val_precision_26: 0.4848 - val_recall_26: 0.9412\n",
            "Epoch 63/70\n",
            "7/7 [==============================] - 1s 108ms/step - loss: 0.6460 - accuracy: 0.7129 - auc_26: 0.7642 - precision_26: 0.6532 - recall_26: 0.8438 - val_loss: 0.7157 - val_accuracy: 0.4722 - val_auc_26: 0.6347 - val_precision_26: 0.4706 - val_recall_26: 0.9412\n",
            "Epoch 64/70\n",
            "7/7 [==============================] - 1s 103ms/step - loss: 0.6416 - accuracy: 0.6386 - auc_26: 0.7500 - precision_26: 0.6716 - recall_26: 0.4688 - val_loss: 0.6931 - val_accuracy: 0.5278 - val_auc_26: 0.6285 - val_precision_26: 0.5000 - val_recall_26: 0.8824\n",
            "Epoch 65/70\n",
            "7/7 [==============================] - 1s 108ms/step - loss: 0.6463 - accuracy: 0.5545 - auc_26: 0.7457 - precision_26: 0.6667 - recall_26: 0.1250 - val_loss: 0.7098 - val_accuracy: 0.5000 - val_auc_26: 0.6316 - val_precision_26: 0.4848 - val_recall_26: 0.9412\n",
            "Epoch 66/70\n",
            "7/7 [==============================] - 1s 106ms/step - loss: 0.6413 - accuracy: 0.6683 - auc_26: 0.7528 - precision_26: 0.6179 - recall_26: 0.7917 - val_loss: 0.7182 - val_accuracy: 0.4722 - val_auc_26: 0.6269 - val_precision_26: 0.4706 - val_recall_26: 0.9412\n",
            "Epoch 67/70\n",
            "7/7 [==============================] - 1s 103ms/step - loss: 0.6406 - accuracy: 0.6980 - auc_26: 0.7619 - precision_26: 0.6606 - recall_26: 0.7500 - val_loss: 0.7106 - val_accuracy: 0.5000 - val_auc_26: 0.6393 - val_precision_26: 0.4848 - val_recall_26: 0.9412\n",
            "Epoch 68/70\n",
            "7/7 [==============================] - 1s 104ms/step - loss: 0.6384 - accuracy: 0.6832 - auc_26: 0.7584 - precision_26: 0.6739 - recall_26: 0.6458 - val_loss: 0.7156 - val_accuracy: 0.5000 - val_auc_26: 0.6238 - val_precision_26: 0.4848 - val_recall_26: 0.9412\n",
            "Epoch 69/70\n",
            "7/7 [==============================] - 1s 106ms/step - loss: 0.6416 - accuracy: 0.6584 - auc_26: 0.7636 - precision_26: 0.5971 - recall_26: 0.8646 - val_loss: 0.7227 - val_accuracy: 0.4722 - val_auc_26: 0.6409 - val_precision_26: 0.4706 - val_recall_26: 0.9412\n",
            "Epoch 70/70\n",
            "7/7 [==============================] - 1s 103ms/step - loss: 0.6386 - accuracy: 0.6832 - auc_26: 0.7466 - precision_26: 0.6333 - recall_26: 0.7917 - val_loss: 0.7180 - val_accuracy: 0.5000 - val_auc_26: 0.6238 - val_precision_26: 0.4848 - val_recall_26: 0.9412\n"
          ]
        }
      ],
      "source": [
        "from keras.callbacks import EarlyStopping, ModelCheckpoint\n",
        "\n",
        "# es = EarlyStopping(monitor='val_loss', patience=15)\n",
        "\n",
        "if shuffled:\n",
        "  MODEL_SAVE_DIR = PROJECT_DIR + 'results/shuffled/' + '.' + image_size + '_binary_best_weights.hdf5'\n",
        "else:\n",
        "  MODEL_SAVE_DIR = PROJECT_DIR + 'results/' + '.' + image_size + '_70a_binary_best_weights.hdf5'\n",
        "\n",
        "print(\"Saving model to: \", MODEL_SAVE_DIR)\n",
        "\n",
        "mcp_save = ModelCheckpoint(MODEL_SAVE_DIR, save_best_only=True, monitor='val_loss', mode='min')\n",
        "\n",
        "info2 = model_binary.fit(x=X_train, y=y_train, epochs=70, verbose=True, validation_data=(X_val, y_val), \\\n",
        "                         callbacks=[mcp_save])\n"
      ]
    },
    {
      "cell_type": "code",
      "execution_count": null,
      "id": "b9b22f35",
      "metadata": {
        "colab": {
          "base_uri": "https://localhost:8080/",
          "height": 412
        },
        "id": "b9b22f35",
        "outputId": "2f80e7f1-d19d-4d2c-a631-53f18d9deeef"
      },
      "outputs": [
        {
          "output_type": "display_data",
          "data": {
            "text/plain": [
              "<Figure size 576x432 with 1 Axes>"
            ],
            "image/png": "[encoded data removed]"
          },
          "metadata": {
            "needs_background": "light"
          }
        }
      ],
      "source": [
        "epochs = [i for i in range(len(info2.history['accuracy']))]\n",
        "plt.figure(figsize=(8,6))\n",
        "plt.plot(epochs, info2.history['loss'], label=\"Train loss\")\n",
        "plt.plot(epochs, info2.history['val_loss'], label=\"Validation loss\")\n",
        "plt.legend(fontsize=12)\n",
        "plt.xlabel(\"Epoch\", fontsize=15)\n",
        "plt.ylabel(\"Binary Crossentropy Loss\", fontsize=15)\n",
        "plt.title(\"Train vs. Validation Loss\", fontsize=18)\n",
        "\n",
        "if shuffled:\n",
        "  LOSS_SAVE_DIR = PROJECT_DIR + 'results/shuffled/' + image_size + '_binary_loss'\n",
        "else:\n",
        "  LOSS_SAVE_DIR = PROJECT_DIR + 'results/' + image_size + '_70a_binary_loss'\n",
        "\n",
        "plt.savefig(LOSS_SAVE_DIR)"
      ]
    },
    {
      "cell_type": "code",
      "source": [
        "train_scores = model_binary.evaluate(X_train, y_train, verbose = 0) \n",
        "\n",
        "print(\"===== Train Set Results =====\\n\")\n",
        "for metric,val in zip(model_binary.metrics_names, train_scores):\n",
        "  print(\"%12s: %.3f\" % (metric, val))"
      ],
      "metadata": {
        "id": "2FeJiz3n-pD5",
        "colab": {
          "base_uri": "https://localhost:8080/"
        },
        "outputId": "fa1a18bc-7cc8-4dcc-f7df-e7ba3db3b80a"
      },
      "id": "2FeJiz3n-pD5",
      "execution_count": null,
      "outputs": [
        {
          "output_type": "stream",
          "name": "stdout",
          "text": [
            "===== Train Set Results =====\n",
            "\n",
            "        loss: 0.632\n",
            "    accuracy: 0.688\n",
            "      auc_13: 0.803\n",
            "precision_13: 0.770\n",
            "   recall_13: 0.490\n"
          ]
        }
      ]
    },
    {
      "cell_type": "code",
      "source": [
        "val_scores = model_binary.evaluate(X_val, y_val, verbose = 0) \n",
        "\n",
        "print(\"===== Val Set Results =====\\n\")\n",
        "for metric,val in zip(model_binary.metrics_names, val_scores):\n",
        "  print(\"%12s: %.3f\" % (metric, val))"
      ],
      "metadata": {
        "id": "dJCDFfFujtHe",
        "colab": {
          "base_uri": "https://localhost:8080/"
        },
        "outputId": "1609f838-4152-4659-90b2-9a26d8daf77e"
      },
      "id": "dJCDFfFujtHe",
      "execution_count": null,
      "outputs": [
        {
          "output_type": "stream",
          "name": "stdout",
          "text": [
            "===== Val Set Results =====\n",
            "\n",
            "        loss: 0.636\n",
            "    accuracy: 0.611\n",
            "      auc_13: 0.781\n",
            "precision_13: 0.556\n",
            "   recall_13: 0.333\n"
          ]
        }
      ]
    },
    {
      "cell_type": "code",
      "source": [
        "test_scores = model_binary.evaluate(X_test, y_test, verbose = 0) \n",
        "\n",
        "print(\"===== Test Set Results =====\\n\")\n",
        "for metric,val in zip(model_binary.metrics_names, test_scores):\n",
        "  print(\"%12s: %.3f\" % (metric, val))\n"
      ],
      "metadata": {
        "colab": {
          "base_uri": "https://localhost:8080/"
        },
        "id": "vzTn1Xlr_MKA",
        "outputId": "9ef66c4d-eb26-4233-91b2-34bed29571d8"
      },
      "id": "vzTn1Xlr_MKA",
      "execution_count": null,
      "outputs": [
        {
          "output_type": "stream",
          "name": "stdout",
          "text": [
            "===== Test Set Results =====\n",
            "\n",
            "        loss: 0.683\n",
            "    accuracy: 0.515\n",
            "      auc_13: 0.710\n",
            "precision_13: 0.727\n",
            "   recall_13: 0.381\n"
          ]
        }
      ]
    },
    {
      "cell_type": "code",
      "execution_count": null,
      "id": "030963fd",
      "metadata": {
        "id": "030963fd"
      },
      "outputs": [],
      "source": [
        "from keras.models import load_model\n",
        "fresh_model = load_model(MODEL_SAVE_DIR)"
      ]
    },
    {
      "cell_type": "code",
      "source": [
        "train_scores = fresh_model.evaluate(X_train, y_train, verbose = 0) \n",
        "\n",
        "print(\"===== Train Set Results =====\\n\")\n",
        "for metric,val in zip(fresh_model.metrics_names, train_scores):\n",
        "  print(\"%12s: %.3f\" % (metric, val))"
      ],
      "metadata": {
        "colab": {
          "base_uri": "https://localhost:8080/"
        },
        "id": "SPMxPI0tjX_c",
        "outputId": "1bb77f6c-47aa-46a0-abe8-6e2a02cf9fce"
      },
      "id": "SPMxPI0tjX_c",
      "execution_count": null,
      "outputs": [
        {
          "output_type": "stream",
          "name": "stdout",
          "text": [
            "===== Train Set Results =====\n",
            "\n",
            "        loss: 0.668\n",
            "    accuracy: 0.653\n",
            "      auc_26: 0.800\n",
            "precision_26: 0.587\n",
            "   recall_26: 0.917\n"
          ]
        }
      ]
    },
    {
      "cell_type": "code",
      "source": [
        "val_scores = fresh_model.evaluate(X_val, y_val, verbose = 0) \n",
        "\n",
        "print(\"===== Val Set Results =====\\n\")\n",
        "for metric,val in zip(fresh_model.metrics_names, val_scores):\n",
        "  print(\"%12s: %.3f\" % (metric, val))"
      ],
      "metadata": {
        "colab": {
          "base_uri": "https://localhost:8080/"
        },
        "id": "d-rdnLL_mnEZ",
        "outputId": "f9b46dcf-9fa7-41c1-e59c-2b4348b8287b"
      },
      "id": "d-rdnLL_mnEZ",
      "execution_count": null,
      "outputs": [
        {
          "output_type": "stream",
          "name": "stdout",
          "text": [
            "===== Val Set Results =====\n",
            "\n",
            "        loss: 0.689\n",
            "    accuracy: 0.583\n",
            "      auc_26: 0.624\n",
            "precision_26: 0.538\n",
            "   recall_26: 0.824\n"
          ]
        }
      ]
    },
    {
      "cell_type": "code",
      "source": [
        "test_scores = fresh_model.evaluate(X_test, y_test, verbose = 0) \n",
        "\n",
        "print(\"===== Test Set Results =====\\n\")\n",
        "for metric,val in zip(fresh_model.metrics_names, test_scores):\n",
        "  print(\"%12s: %.3f\" % (metric, val))\n"
      ],
      "metadata": {
        "colab": {
          "base_uri": "https://localhost:8080/"
        },
        "id": "GFuXVqx-i6Kx",
        "outputId": "eef5a744-6895-466a-f62a-ff3b78ecc76c"
      },
      "id": "GFuXVqx-i6Kx",
      "execution_count": null,
      "outputs": [
        {
          "output_type": "stream",
          "name": "stdout",
          "text": [
            "===== Test Set Results =====\n",
            "\n",
            "        loss: 0.667\n",
            "    accuracy: 0.667\n",
            "      auc_26: 0.818\n",
            "precision_26: 0.682\n",
            "   recall_26: 0.789\n"
          ]
        }
      ]
    },
    {
      "cell_type": "code",
      "source": [
        "y_pred = fresh_model.predict(X_test)"
      ],
      "metadata": {
        "id": "tEMBzrI_xiUC"
      },
      "id": "tEMBzrI_xiUC",
      "execution_count": null,
      "outputs": []
    },
    {
      "cell_type": "code",
      "source": [
        "for act,pred in zip(y_test, y_pred):\n",
        "  print(act, pred)"
      ],
      "metadata": {
        "colab": {
          "base_uri": "https://localhost:8080/"
        },
        "id": "dlei9_JKxblB",
        "outputId": "9f702713-2570-4ac0-fc65-1dcb6ec3b6ae"
      },
      "id": "dlei9_JKxblB",
      "execution_count": null,
      "outputs": [
        {
          "output_type": "stream",
          "name": "stdout",
          "text": [
            "0 [0.72380054]\n",
            "0 [0.39113218]\n",
            "1 [0.81299883]\n",
            "0 [0.14974692]\n",
            "1 [0.41391554]\n",
            "0 [0.22371039]\n",
            "1 [0.742237]\n",
            "0 [0.7704877]\n",
            "0 [0.19868647]\n",
            "0 [0.42169863]\n",
            "0 [0.24479426]\n",
            "1 [0.4313374]\n",
            "0 [0.49925306]\n",
            "0 [0.2757193]\n",
            "0 [0.9023791]\n",
            "1 [0.4459089]\n",
            "1 [0.16998664]\n",
            "0 [0.05034836]\n",
            "1 [0.23338144]\n",
            "1 [0.6705797]\n",
            "1 [0.81513643]\n",
            "1 [0.9391132]\n",
            "0 [0.19207337]\n",
            "1 [0.19642119]\n",
            "0 [0.48597834]\n",
            "1 [0.900979]\n",
            "0 [0.8093388]\n",
            "1 [0.18469447]\n",
            "0 [0.18706258]\n",
            "0 [0.52050936]\n",
            "0 [0.11997736]\n",
            "0 [0.19096878]\n",
            "0 [0.6665648]\n"
          ]
        }
      ]
    },
    {
      "cell_type": "markdown",
      "source": [
        "## Pre-trained Inception v3"
      ],
      "metadata": {
        "id": "ukQw_1JaDlx0"
      },
      "id": "ukQw_1JaDlx0"
    },
    {
      "cell_type": "code",
      "source": [
        "import sklearn\n",
        "from sklearn.model_selection import train_test_split\n",
        "\n",
        "# Split into train/test/val set\n",
        "# Roughly val - 15%, test - 15%, train - 70%\n",
        "X_train, X_test, y_train, y_test = train_test_split(recurrence_plot_list_incv3, binary_labels, train_size=0.88)\n",
        "X_train, X_val, y_train, y_val = train_test_split(X_train, y_train, train_size=0.78)\n",
        "\n",
        "print(\"X_train: \", X_train.shape)\n",
        "print(\"y_train: \", y_train.shape)\n",
        "print(\"\\n\")\n",
        "print(\"X_val: \", X_val.shape)\n",
        "print(\"y_val: \", y_val.shape)\n",
        "print(\"\\n\")\n",
        "print(\"X_test: \", X_test.shape)\n",
        "print(\"y_test: \", y_test.shape)\n",
        "print(\"\\n\")\n",
        "\n",
        "print(y_test)"
      ],
      "metadata": {
        "colab": {
          "base_uri": "https://localhost:8080/"
        },
        "id": "dJrfHlfiZrMz",
        "outputId": "f064e089-703a-4b00-a28b-da3dbb1df561"
      },
      "id": "dJrfHlfiZrMz",
      "execution_count": null,
      "outputs": [
        {
          "output_type": "stream",
          "name": "stdout",
          "text": [
            "X_train:  (185, 98, 98, 3)\n",
            "y_train:  (185,)\n",
            "\n",
            "\n",
            "X_val:  (53, 98, 98, 3)\n",
            "y_val:  (53,)\n",
            "\n",
            "\n",
            "X_test:  (33, 98, 98, 3)\n",
            "y_test:  (33,)\n",
            "\n",
            "\n",
            "[1 1 1 1 0 0 0 1 0 1 1 0 1 1 1 1 0 0 0 1 0 0 1 0 1 0 0 0 0 0 0 0 0]\n"
          ]
        }
      ]
    },
    {
      "cell_type": "code",
      "source": [
        "# Use InceptionV3 model for feature extraction\n",
        "## Resource: http://marubon-ds.blogspot.com/2017/10/inceptionv3-fine-tuning-model.html\n",
        "\n",
        "new_input = Input(shape=(imgsize[0], imgsize[1], 3)) # TODO\n",
        "\n",
        "pretrained_model = tf.keras.applications.InceptionV3(\n",
        "                   include_top=False,\n",
        "                   weights=\"imagenet\",\n",
        "                   input_tensor=new_input\n",
        ")\n",
        "\n",
        "x = pretrained_model.output\n",
        "x = layers.GlobalAveragePooling2D()(x)\n",
        "\n",
        "out = layers.Dense(1, activation=\"sigmoid\")(x) \n",
        "\n",
        "\n",
        "bc = tf.keras.losses.BinaryCrossentropy()        # change loss to binary\n",
        "lr = 0.000001 # paper used 0.001\n",
        "eps = 1e-08   # paper used 1e-08, but keras default is 1e-07\n",
        "adam = keras.optimizers.Adam(learning_rate=lr, epsilon=eps)\n",
        "auc = tf.keras.metrics.AUC(\n",
        "      num_thresholds=200,\n",
        "      curve=\"ROC\",\n",
        "      from_logits=False\n",
        ")\n",
        "prec = tf.keras.metrics.Precision()\n",
        "rec = tf.keras.metrics.Recall()\n",
        "\n",
        "\n",
        "model_pretrained = Model(inputs=new_input, outputs=out)\n",
        "model_pretrained.compile(\n",
        "  optimizer=adam,\n",
        "  loss=bc, \n",
        "  metrics=['accuracy', auc, prec, rec],\n",
        ")\n",
        "\n",
        "model_pretrained.summary()"
      ],
      "metadata": {
        "colab": {
          "base_uri": "https://localhost:8080/"
        },
        "id": "yCm1KKiBDqkW",
        "outputId": "8595dec7-5968-4763-a39f-09702671123d"
      },
      "id": "yCm1KKiBDqkW",
      "execution_count": null,
      "outputs": [
        {
          "output_type": "stream",
          "name": "stdout",
          "text": [
            "Model: \"model_25\"\n",
            "__________________________________________________________________________________________________\n",
            " Layer (type)                   Output Shape         Param #     Connected to                     \n",
            "==================================================================================================\n",
            " input_26 (InputLayer)          [(None, 98, 98, 3)]  0           []                               \n",
            "                                                                                                  \n",
            " conv2d_1090 (Conv2D)           (None, 48, 48, 32)   864         ['input_26[0][0]']               \n",
            "                                                                                                  \n",
            " batch_normalization_1034 (Batc  (None, 48, 48, 32)  96          ['conv2d_1090[0][0]']            \n",
            " hNormalization)                                                                                  \n",
            "                                                                                                  \n",
            " activation_1034 (Activation)   (None, 48, 48, 32)   0           ['batch_normalization_1034[0][0]'\n",
            "                                                                 ]                                \n",
            "                                                                                                  \n",
            " conv2d_1091 (Conv2D)           (None, 46, 46, 32)   9216        ['activation_1034[0][0]']        \n",
            "                                                                                                  \n",
            " batch_normalization_1035 (Batc  (None, 46, 46, 32)  96          ['conv2d_1091[0][0]']            \n",
            " hNormalization)                                                                                  \n",
            "                                                                                                  \n",
            " activation_1035 (Activation)   (None, 46, 46, 32)   0           ['batch_normalization_1035[0][0]'\n",
            "                                                                 ]                                \n",
            "                                                                                                  \n",
            " conv2d_1092 (Conv2D)           (None, 46, 46, 64)   18432       ['activation_1035[0][0]']        \n",
            "                                                                                                  \n",
            " batch_normalization_1036 (Batc  (None, 46, 46, 64)  192         ['conv2d_1092[0][0]']            \n",
            " hNormalization)                                                                                  \n",
            "                                                                                                  \n",
            " activation_1036 (Activation)   (None, 46, 46, 64)   0           ['batch_normalization_1036[0][0]'\n",
            "                                                                 ]                                \n",
            "                                                                                                  \n",
            " max_pooling2d_72 (MaxPooling2D  (None, 22, 22, 64)  0           ['activation_1036[0][0]']        \n",
            " )                                                                                                \n",
            "                                                                                                  \n",
            " conv2d_1093 (Conv2D)           (None, 22, 22, 80)   5120        ['max_pooling2d_72[0][0]']       \n",
            "                                                                                                  \n",
            " batch_normalization_1037 (Batc  (None, 22, 22, 80)  240         ['conv2d_1093[0][0]']            \n",
            " hNormalization)                                                                                  \n",
            "                                                                                                  \n",
            " activation_1037 (Activation)   (None, 22, 22, 80)   0           ['batch_normalization_1037[0][0]'\n",
            "                                                                 ]                                \n",
            "                                                                                                  \n",
            " conv2d_1094 (Conv2D)           (None, 20, 20, 192)  138240      ['activation_1037[0][0]']        \n",
            "                                                                                                  \n",
            " batch_normalization_1038 (Batc  (None, 20, 20, 192)  576        ['conv2d_1094[0][0]']            \n",
            " hNormalization)                                                                                  \n",
            "                                                                                                  \n",
            " activation_1038 (Activation)   (None, 20, 20, 192)  0           ['batch_normalization_1038[0][0]'\n",
            "                                                                 ]                                \n",
            "                                                                                                  \n",
            " max_pooling2d_73 (MaxPooling2D  (None, 9, 9, 192)   0           ['activation_1038[0][0]']        \n",
            " )                                                                                                \n",
            "                                                                                                  \n",
            " conv2d_1098 (Conv2D)           (None, 9, 9, 64)     12288       ['max_pooling2d_73[0][0]']       \n",
            "                                                                                                  \n",
            " batch_normalization_1042 (Batc  (None, 9, 9, 64)    192         ['conv2d_1098[0][0]']            \n",
            " hNormalization)                                                                                  \n",
            "                                                                                                  \n",
            " activation_1042 (Activation)   (None, 9, 9, 64)     0           ['batch_normalization_1042[0][0]'\n",
            "                                                                 ]                                \n",
            "                                                                                                  \n",
            " conv2d_1096 (Conv2D)           (None, 9, 9, 48)     9216        ['max_pooling2d_73[0][0]']       \n",
            "                                                                                                  \n",
            " conv2d_1099 (Conv2D)           (None, 9, 9, 96)     55296       ['activation_1042[0][0]']        \n",
            "                                                                                                  \n",
            " batch_normalization_1040 (Batc  (None, 9, 9, 48)    144         ['conv2d_1096[0][0]']            \n",
            " hNormalization)                                                                                  \n",
            "                                                                                                  \n",
            " batch_normalization_1043 (Batc  (None, 9, 9, 96)    288         ['conv2d_1099[0][0]']            \n",
            " hNormalization)                                                                                  \n",
            "                                                                                                  \n",
            " activation_1040 (Activation)   (None, 9, 9, 48)     0           ['batch_normalization_1040[0][0]'\n",
            "                                                                 ]                                \n",
            "                                                                                                  \n",
            " activation_1043 (Activation)   (None, 9, 9, 96)     0           ['batch_normalization_1043[0][0]'\n",
            "                                                                 ]                                \n",
            "                                                                                                  \n",
            " average_pooling2d_99 (AverageP  (None, 9, 9, 192)   0           ['max_pooling2d_73[0][0]']       \n",
            " ooling2D)                                                                                        \n",
            "                                                                                                  \n",
            " conv2d_1095 (Conv2D)           (None, 9, 9, 64)     12288       ['max_pooling2d_73[0][0]']       \n",
            "                                                                                                  \n",
            " conv2d_1097 (Conv2D)           (None, 9, 9, 64)     76800       ['activation_1040[0][0]']        \n",
            "                                                                                                  \n",
            " conv2d_1100 (Conv2D)           (None, 9, 9, 96)     82944       ['activation_1043[0][0]']        \n",
            "                                                                                                  \n",
            " conv2d_1101 (Conv2D)           (None, 9, 9, 32)     6144        ['average_pooling2d_99[0][0]']   \n",
            "                                                                                                  \n",
            " batch_normalization_1039 (Batc  (None, 9, 9, 64)    192         ['conv2d_1095[0][0]']            \n",
            " hNormalization)                                                                                  \n",
            "                                                                                                  \n",
            " batch_normalization_1041 (Batc  (None, 9, 9, 64)    192         ['conv2d_1097[0][0]']            \n",
            " hNormalization)                                                                                  \n",
            "                                                                                                  \n",
            " batch_normalization_1044 (Batc  (None, 9, 9, 96)    288         ['conv2d_1100[0][0]']            \n",
            " hNormalization)                                                                                  \n",
            "                                                                                                  \n",
            " batch_normalization_1045 (Batc  (None, 9, 9, 32)    96          ['conv2d_1101[0][0]']            \n",
            " hNormalization)                                                                                  \n",
            "                                                                                                  \n",
            " activation_1039 (Activation)   (None, 9, 9, 64)     0           ['batch_normalization_1039[0][0]'\n",
            "                                                                 ]                                \n",
            "                                                                                                  \n",
            " activation_1041 (Activation)   (None, 9, 9, 64)     0           ['batch_normalization_1041[0][0]'\n",
            "                                                                 ]                                \n",
            "                                                                                                  \n",
            " activation_1044 (Activation)   (None, 9, 9, 96)     0           ['batch_normalization_1044[0][0]'\n",
            "                                                                 ]                                \n",
            "                                                                                                  \n",
            " activation_1045 (Activation)   (None, 9, 9, 32)     0           ['batch_normalization_1045[0][0]'\n",
            "                                                                 ]                                \n",
            "                                                                                                  \n",
            " mixed0 (Concatenate)           (None, 9, 9, 256)    0           ['activation_1039[0][0]',        \n",
            "                                                                  'activation_1041[0][0]',        \n",
            "                                                                  'activation_1044[0][0]',        \n",
            "                                                                  'activation_1045[0][0]']        \n",
            "                                                                                                  \n",
            " conv2d_1105 (Conv2D)           (None, 9, 9, 64)     16384       ['mixed0[0][0]']                 \n",
            "                                                                                                  \n",
            " batch_normalization_1049 (Batc  (None, 9, 9, 64)    192         ['conv2d_1105[0][0]']            \n",
            " hNormalization)                                                                                  \n",
            "                                                                                                  \n",
            " activation_1049 (Activation)   (None, 9, 9, 64)     0           ['batch_normalization_1049[0][0]'\n",
            "                                                                 ]                                \n",
            "                                                                                                  \n",
            " conv2d_1103 (Conv2D)           (None, 9, 9, 48)     12288       ['mixed0[0][0]']                 \n",
            "                                                                                                  \n",
            " conv2d_1106 (Conv2D)           (None, 9, 9, 96)     55296       ['activation_1049[0][0]']        \n",
            "                                                                                                  \n",
            " batch_normalization_1047 (Batc  (None, 9, 9, 48)    144         ['conv2d_1103[0][0]']            \n",
            " hNormalization)                                                                                  \n",
            "                                                                                                  \n",
            " batch_normalization_1050 (Batc  (None, 9, 9, 96)    288         ['conv2d_1106[0][0]']            \n",
            " hNormalization)                                                                                  \n",
            "                                                                                                  \n",
            " activation_1047 (Activation)   (None, 9, 9, 48)     0           ['batch_normalization_1047[0][0]'\n",
            "                                                                 ]                                \n",
            "                                                                                                  \n",
            " activation_1050 (Activation)   (None, 9, 9, 96)     0           ['batch_normalization_1050[0][0]'\n",
            "                                                                 ]                                \n",
            "                                                                                                  \n",
            " average_pooling2d_100 (Average  (None, 9, 9, 256)   0           ['mixed0[0][0]']                 \n",
            " Pooling2D)                                                                                       \n",
            "                                                                                                  \n",
            " conv2d_1102 (Conv2D)           (None, 9, 9, 64)     16384       ['mixed0[0][0]']                 \n",
            "                                                                                                  \n",
            " conv2d_1104 (Conv2D)           (None, 9, 9, 64)     76800       ['activation_1047[0][0]']        \n",
            "                                                                                                  \n",
            " conv2d_1107 (Conv2D)           (None, 9, 9, 96)     82944       ['activation_1050[0][0]']        \n",
            "                                                                                                  \n",
            " conv2d_1108 (Conv2D)           (None, 9, 9, 64)     16384       ['average_pooling2d_100[0][0]']  \n",
            "                                                                                                  \n",
            " batch_normalization_1046 (Batc  (None, 9, 9, 64)    192         ['conv2d_1102[0][0]']            \n",
            " hNormalization)                                                                                  \n",
            "                                                                                                  \n",
            " batch_normalization_1048 (Batc  (None, 9, 9, 64)    192         ['conv2d_1104[0][0]']            \n",
            " hNormalization)                                                                                  \n",
            "                                                                                                  \n",
            " batch_normalization_1051 (Batc  (None, 9, 9, 96)    288         ['conv2d_1107[0][0]']            \n",
            " hNormalization)                                                                                  \n",
            "                                                                                                  \n",
            " batch_normalization_1052 (Batc  (None, 9, 9, 64)    192         ['conv2d_1108[0][0]']            \n",
            " hNormalization)                                                                                  \n",
            "                                                                                                  \n",
            " activation_1046 (Activation)   (None, 9, 9, 64)     0           ['batch_normalization_1046[0][0]'\n",
            "                                                                 ]                                \n",
            "                                                                                                  \n",
            " activation_1048 (Activation)   (None, 9, 9, 64)     0           ['batch_normalization_1048[0][0]'\n",
            "                                                                 ]                                \n",
            "                                                                                                  \n",
            " activation_1051 (Activation)   (None, 9, 9, 96)     0           ['batch_normalization_1051[0][0]'\n",
            "                                                                 ]                                \n",
            "                                                                                                  \n",
            " activation_1052 (Activation)   (None, 9, 9, 64)     0           ['batch_normalization_1052[0][0]'\n",
            "                                                                 ]                                \n",
            "                                                                                                  \n",
            " mixed1 (Concatenate)           (None, 9, 9, 288)    0           ['activation_1046[0][0]',        \n",
            "                                                                  'activation_1048[0][0]',        \n",
            "                                                                  'activation_1051[0][0]',        \n",
            "                                                                  'activation_1052[0][0]']        \n",
            "                                                                                                  \n",
            " conv2d_1112 (Conv2D)           (None, 9, 9, 64)     18432       ['mixed1[0][0]']                 \n",
            "                                                                                                  \n",
            " batch_normalization_1056 (Batc  (None, 9, 9, 64)    192         ['conv2d_1112[0][0]']            \n",
            " hNormalization)                                                                                  \n",
            "                                                                                                  \n",
            " activation_1056 (Activation)   (None, 9, 9, 64)     0           ['batch_normalization_1056[0][0]'\n",
            "                                                                 ]                                \n",
            "                                                                                                  \n",
            " conv2d_1110 (Conv2D)           (None, 9, 9, 48)     13824       ['mixed1[0][0]']                 \n",
            "                                                                                                  \n",
            " conv2d_1113 (Conv2D)           (None, 9, 9, 96)     55296       ['activation_1056[0][0]']        \n",
            "                                                                                                  \n",
            " batch_normalization_1054 (Batc  (None, 9, 9, 48)    144         ['conv2d_1110[0][0]']            \n",
            " hNormalization)                                                                                  \n",
            "                                                                                                  \n",
            " batch_normalization_1057 (Batc  (None, 9, 9, 96)    288         ['conv2d_1113[0][0]']            \n",
            " hNormalization)                                                                                  \n",
            "                                                                                                  \n",
            " activation_1054 (Activation)   (None, 9, 9, 48)     0           ['batch_normalization_1054[0][0]'\n",
            "                                                                 ]                                \n",
            "                                                                                                  \n",
            " activation_1057 (Activation)   (None, 9, 9, 96)     0           ['batch_normalization_1057[0][0]'\n",
            "                                                                 ]                                \n",
            "                                                                                                  \n",
            " average_pooling2d_101 (Average  (None, 9, 9, 288)   0           ['mixed1[0][0]']                 \n",
            " Pooling2D)                                                                                       \n",
            "                                                                                                  \n",
            " conv2d_1109 (Conv2D)           (None, 9, 9, 64)     18432       ['mixed1[0][0]']                 \n",
            "                                                                                                  \n",
            " conv2d_1111 (Conv2D)           (None, 9, 9, 64)     76800       ['activation_1054[0][0]']        \n",
            "                                                                                                  \n",
            " conv2d_1114 (Conv2D)           (None, 9, 9, 96)     82944       ['activation_1057[0][0]']        \n",
            "                                                                                                  \n",
            " conv2d_1115 (Conv2D)           (None, 9, 9, 64)     18432       ['average_pooling2d_101[0][0]']  \n",
            "                                                                                                  \n",
            " batch_normalization_1053 (Batc  (None, 9, 9, 64)    192         ['conv2d_1109[0][0]']            \n",
            " hNormalization)                                                                                  \n",
            "                                                                                                  \n",
            " batch_normalization_1055 (Batc  (None, 9, 9, 64)    192         ['conv2d_1111[0][0]']            \n",
            " hNormalization)                                                                                  \n",
            "                                                                                                  \n",
            " batch_normalization_1058 (Batc  (None, 9, 9, 96)    288         ['conv2d_1114[0][0]']            \n",
            " hNormalization)                                                                                  \n",
            "                                                                                                  \n",
            " batch_normalization_1059 (Batc  (None, 9, 9, 64)    192         ['conv2d_1115[0][0]']            \n",
            " hNormalization)                                                                                  \n",
            "                                                                                                  \n",
            " activation_1053 (Activation)   (None, 9, 9, 64)     0           ['batch_normalization_1053[0][0]'\n",
            "                                                                 ]                                \n",
            "                                                                                                  \n",
            " activation_1055 (Activation)   (None, 9, 9, 64)     0           ['batch_normalization_1055[0][0]'\n",
            "                                                                 ]                                \n",
            "                                                                                                  \n",
            " activation_1058 (Activation)   (None, 9, 9, 96)     0           ['batch_normalization_1058[0][0]'\n",
            "                                                                 ]                                \n",
            "                                                                                                  \n",
            " activation_1059 (Activation)   (None, 9, 9, 64)     0           ['batch_normalization_1059[0][0]'\n",
            "                                                                 ]                                \n",
            "                                                                                                  \n",
            " mixed2 (Concatenate)           (None, 9, 9, 288)    0           ['activation_1053[0][0]',        \n",
            "                                                                  'activation_1055[0][0]',        \n",
            "                                                                  'activation_1058[0][0]',        \n",
            "                                                                  'activation_1059[0][0]']        \n",
            "                                                                                                  \n",
            " conv2d_1117 (Conv2D)           (None, 9, 9, 64)     18432       ['mixed2[0][0]']                 \n",
            "                                                                                                  \n",
            " batch_normalization_1061 (Batc  (None, 9, 9, 64)    192         ['conv2d_1117[0][0]']            \n",
            " hNormalization)                                                                                  \n",
            "                                                                                                  \n",
            " activation_1061 (Activation)   (None, 9, 9, 64)     0           ['batch_normalization_1061[0][0]'\n",
            "                                                                 ]                                \n",
            "                                                                                                  \n",
            " conv2d_1118 (Conv2D)           (None, 9, 9, 96)     55296       ['activation_1061[0][0]']        \n",
            "                                                                                                  \n",
            " batch_normalization_1062 (Batc  (None, 9, 9, 96)    288         ['conv2d_1118[0][0]']            \n",
            " hNormalization)                                                                                  \n",
            "                                                                                                  \n",
            " activation_1062 (Activation)   (None, 9, 9, 96)     0           ['batch_normalization_1062[0][0]'\n",
            "                                                                 ]                                \n",
            "                                                                                                  \n",
            " conv2d_1116 (Conv2D)           (None, 4, 4, 384)    995328      ['mixed2[0][0]']                 \n",
            "                                                                                                  \n",
            " conv2d_1119 (Conv2D)           (None, 4, 4, 96)     82944       ['activation_1062[0][0]']        \n",
            "                                                                                                  \n",
            " batch_normalization_1060 (Batc  (None, 4, 4, 384)   1152        ['conv2d_1116[0][0]']            \n",
            " hNormalization)                                                                                  \n",
            "                                                                                                  \n",
            " batch_normalization_1063 (Batc  (None, 4, 4, 96)    288         ['conv2d_1119[0][0]']            \n",
            " hNormalization)                                                                                  \n",
            "                                                                                                  \n",
            " activation_1060 (Activation)   (None, 4, 4, 384)    0           ['batch_normalization_1060[0][0]'\n",
            "                                                                 ]                                \n",
            "                                                                                                  \n",
            " activation_1063 (Activation)   (None, 4, 4, 96)     0           ['batch_normalization_1063[0][0]'\n",
            "                                                                 ]                                \n",
            "                                                                                                  \n",
            " max_pooling2d_74 (MaxPooling2D  (None, 4, 4, 288)   0           ['mixed2[0][0]']                 \n",
            " )                                                                                                \n",
            "                                                                                                  \n",
            " mixed3 (Concatenate)           (None, 4, 4, 768)    0           ['activation_1060[0][0]',        \n",
            "                                                                  'activation_1063[0][0]',        \n",
            "                                                                  'max_pooling2d_74[0][0]']       \n",
            "                                                                                                  \n",
            " conv2d_1124 (Conv2D)           (None, 4, 4, 128)    98304       ['mixed3[0][0]']                 \n",
            "                                                                                                  \n",
            " batch_normalization_1068 (Batc  (None, 4, 4, 128)   384         ['conv2d_1124[0][0]']            \n",
            " hNormalization)                                                                                  \n",
            "                                                                                                  \n",
            " activation_1068 (Activation)   (None, 4, 4, 128)    0           ['batch_normalization_1068[0][0]'\n",
            "                                                                 ]                                \n",
            "                                                                                                  \n",
            " conv2d_1125 (Conv2D)           (None, 4, 4, 128)    114688      ['activation_1068[0][0]']        \n",
            "                                                                                                  \n",
            " batch_normalization_1069 (Batc  (None, 4, 4, 128)   384         ['conv2d_1125[0][0]']            \n",
            " hNormalization)                                                                                  \n",
            "                                                                                                  \n",
            " activation_1069 (Activation)   (None, 4, 4, 128)    0           ['batch_normalization_1069[0][0]'\n",
            "                                                                 ]                                \n",
            "                                                                                                  \n",
            " conv2d_1121 (Conv2D)           (None, 4, 4, 128)    98304       ['mixed3[0][0]']                 \n",
            "                                                                                                  \n",
            " conv2d_1126 (Conv2D)           (None, 4, 4, 128)    114688      ['activation_1069[0][0]']        \n",
            "                                                                                                  \n",
            " batch_normalization_1065 (Batc  (None, 4, 4, 128)   384         ['conv2d_1121[0][0]']            \n",
            " hNormalization)                                                                                  \n",
            "                                                                                                  \n",
            " batch_normalization_1070 (Batc  (None, 4, 4, 128)   384         ['conv2d_1126[0][0]']            \n",
            " hNormalization)                                                                                  \n",
            "                                                                                                  \n",
            " activation_1065 (Activation)   (None, 4, 4, 128)    0           ['batch_normalization_1065[0][0]'\n",
            "                                                                 ]                                \n",
            "                                                                                                  \n",
            " activation_1070 (Activation)   (None, 4, 4, 128)    0           ['batch_normalization_1070[0][0]'\n",
            "                                                                 ]                                \n",
            "                                                                                                  \n",
            " conv2d_1122 (Conv2D)           (None, 4, 4, 128)    114688      ['activation_1065[0][0]']        \n",
            "                                                                                                  \n",
            " conv2d_1127 (Conv2D)           (None, 4, 4, 128)    114688      ['activation_1070[0][0]']        \n",
            "                                                                                                  \n",
            " batch_normalization_1066 (Batc  (None, 4, 4, 128)   384         ['conv2d_1122[0][0]']            \n",
            " hNormalization)                                                                                  \n",
            "                                                                                                  \n",
            " batch_normalization_1071 (Batc  (None, 4, 4, 128)   384         ['conv2d_1127[0][0]']            \n",
            " hNormalization)                                                                                  \n",
            "                                                                                                  \n",
            " activation_1066 (Activation)   (None, 4, 4, 128)    0           ['batch_normalization_1066[0][0]'\n",
            "                                                                 ]                                \n",
            "                                                                                                  \n",
            " activation_1071 (Activation)   (None, 4, 4, 128)    0           ['batch_normalization_1071[0][0]'\n",
            "                                                                 ]                                \n",
            "                                                                                                  \n",
            " average_pooling2d_102 (Average  (None, 4, 4, 768)   0           ['mixed3[0][0]']                 \n",
            " Pooling2D)                                                                                       \n",
            "                                                                                                  \n",
            " conv2d_1120 (Conv2D)           (None, 4, 4, 192)    147456      ['mixed3[0][0]']                 \n",
            "                                                                                                  \n",
            " conv2d_1123 (Conv2D)           (None, 4, 4, 192)    172032      ['activation_1066[0][0]']        \n",
            "                                                                                                  \n",
            " conv2d_1128 (Conv2D)           (None, 4, 4, 192)    172032      ['activation_1071[0][0]']        \n",
            "                                                                                                  \n",
            " conv2d_1129 (Conv2D)           (None, 4, 4, 192)    147456      ['average_pooling2d_102[0][0]']  \n",
            "                                                                                                  \n",
            " batch_normalization_1064 (Batc  (None, 4, 4, 192)   576         ['conv2d_1120[0][0]']            \n",
            " hNormalization)                                                                                  \n",
            "                                                                                                  \n",
            " batch_normalization_1067 (Batc  (None, 4, 4, 192)   576         ['conv2d_1123[0][0]']            \n",
            " hNormalization)                                                                                  \n",
            "                                                                                                  \n",
            " batch_normalization_1072 (Batc  (None, 4, 4, 192)   576         ['conv2d_1128[0][0]']            \n",
            " hNormalization)                                                                                  \n",
            "                                                                                                  \n",
            " batch_normalization_1073 (Batc  (None, 4, 4, 192)   576         ['conv2d_1129[0][0]']            \n",
            " hNormalization)                                                                                  \n",
            "                                                                                                  \n",
            " activation_1064 (Activation)   (None, 4, 4, 192)    0           ['batch_normalization_1064[0][0]'\n",
            "                                                                 ]                                \n",
            "                                                                                                  \n",
            " activation_1067 (Activation)   (None, 4, 4, 192)    0           ['batch_normalization_1067[0][0]'\n",
            "                                                                 ]                                \n",
            "                                                                                                  \n",
            " activation_1072 (Activation)   (None, 4, 4, 192)    0           ['batch_normalization_1072[0][0]'\n",
            "                                                                 ]                                \n",
            "                                                                                                  \n",
            " activation_1073 (Activation)   (None, 4, 4, 192)    0           ['batch_normalization_1073[0][0]'\n",
            "                                                                 ]                                \n",
            "                                                                                                  \n",
            " mixed4 (Concatenate)           (None, 4, 4, 768)    0           ['activation_1064[0][0]',        \n",
            "                                                                  'activation_1067[0][0]',        \n",
            "                                                                  'activation_1072[0][0]',        \n",
            "                                                                  'activation_1073[0][0]']        \n",
            "                                                                                                  \n",
            " conv2d_1134 (Conv2D)           (None, 4, 4, 160)    122880      ['mixed4[0][0]']                 \n",
            "                                                                                                  \n",
            " batch_normalization_1078 (Batc  (None, 4, 4, 160)   480         ['conv2d_1134[0][0]']            \n",
            " hNormalization)                                                                                  \n",
            "                                                                                                  \n",
            " activation_1078 (Activation)   (None, 4, 4, 160)    0           ['batch_normalization_1078[0][0]'\n",
            "                                                                 ]                                \n",
            "                                                                                                  \n",
            " conv2d_1135 (Conv2D)           (None, 4, 4, 160)    179200      ['activation_1078[0][0]']        \n",
            "                                                                                                  \n",
            " batch_normalization_1079 (Batc  (None, 4, 4, 160)   480         ['conv2d_1135[0][0]']            \n",
            " hNormalization)                                                                                  \n",
            "                                                                                                  \n",
            " activation_1079 (Activation)   (None, 4, 4, 160)    0           ['batch_normalization_1079[0][0]'\n",
            "                                                                 ]                                \n",
            "                                                                                                  \n",
            " conv2d_1131 (Conv2D)           (None, 4, 4, 160)    122880      ['mixed4[0][0]']                 \n",
            "                                                                                                  \n",
            " conv2d_1136 (Conv2D)           (None, 4, 4, 160)    179200      ['activation_1079[0][0]']        \n",
            "                                                                                                  \n",
            " batch_normalization_1075 (Batc  (None, 4, 4, 160)   480         ['conv2d_1131[0][0]']            \n",
            " hNormalization)                                                                                  \n",
            "                                                                                                  \n",
            " batch_normalization_1080 (Batc  (None, 4, 4, 160)   480         ['conv2d_1136[0][0]']            \n",
            " hNormalization)                                                                                  \n",
            "                                                                                                  \n",
            " activation_1075 (Activation)   (None, 4, 4, 160)    0           ['batch_normalization_1075[0][0]'\n",
            "                                                                 ]                                \n",
            "                                                                                                  \n",
            " activation_1080 (Activation)   (None, 4, 4, 160)    0           ['batch_normalization_1080[0][0]'\n",
            "                                                                 ]                                \n",
            "                                                                                                  \n",
            " conv2d_1132 (Conv2D)           (None, 4, 4, 160)    179200      ['activation_1075[0][0]']        \n",
            "                                                                                                  \n",
            " conv2d_1137 (Conv2D)           (None, 4, 4, 160)    179200      ['activation_1080[0][0]']        \n",
            "                                                                                                  \n",
            " batch_normalization_1076 (Batc  (None, 4, 4, 160)   480         ['conv2d_1132[0][0]']            \n",
            " hNormalization)                                                                                  \n",
            "                                                                                                  \n",
            " batch_normalization_1081 (Batc  (None, 4, 4, 160)   480         ['conv2d_1137[0][0]']            \n",
            " hNormalization)                                                                                  \n",
            "                                                                                                  \n",
            " activation_1076 (Activation)   (None, 4, 4, 160)    0           ['batch_normalization_1076[0][0]'\n",
            "                                                                 ]                                \n",
            "                                                                                                  \n",
            " activation_1081 (Activation)   (None, 4, 4, 160)    0           ['batch_normalization_1081[0][0]'\n",
            "                                                                 ]                                \n",
            "                                                                                                  \n",
            " average_pooling2d_103 (Average  (None, 4, 4, 768)   0           ['mixed4[0][0]']                 \n",
            " Pooling2D)                                                                                       \n",
            "                                                                                                  \n",
            " conv2d_1130 (Conv2D)           (None, 4, 4, 192)    147456      ['mixed4[0][0]']                 \n",
            "                                                                                                  \n",
            " conv2d_1133 (Conv2D)           (None, 4, 4, 192)    215040      ['activation_1076[0][0]']        \n",
            "                                                                                                  \n",
            " conv2d_1138 (Conv2D)           (None, 4, 4, 192)    215040      ['activation_1081[0][0]']        \n",
            "                                                                                                  \n",
            " conv2d_1139 (Conv2D)           (None, 4, 4, 192)    147456      ['average_pooling2d_103[0][0]']  \n",
            "                                                                                                  \n",
            " batch_normalization_1074 (Batc  (None, 4, 4, 192)   576         ['conv2d_1130[0][0]']            \n",
            " hNormalization)                                                                                  \n",
            "                                                                                                  \n",
            " batch_normalization_1077 (Batc  (None, 4, 4, 192)   576         ['conv2d_1133[0][0]']            \n",
            " hNormalization)                                                                                  \n",
            "                                                                                                  \n",
            " batch_normalization_1082 (Batc  (None, 4, 4, 192)   576         ['conv2d_1138[0][0]']            \n",
            " hNormalization)                                                                                  \n",
            "                                                                                                  \n",
            " batch_normalization_1083 (Batc  (None, 4, 4, 192)   576         ['conv2d_1139[0][0]']            \n",
            " hNormalization)                                                                                  \n",
            "                                                                                                  \n",
            " activation_1074 (Activation)   (None, 4, 4, 192)    0           ['batch_normalization_1074[0][0]'\n",
            "                                                                 ]                                \n",
            "                                                                                                  \n",
            " activation_1077 (Activation)   (None, 4, 4, 192)    0           ['batch_normalization_1077[0][0]'\n",
            "                                                                 ]                                \n",
            "                                                                                                  \n",
            " activation_1082 (Activation)   (None, 4, 4, 192)    0           ['batch_normalization_1082[0][0]'\n",
            "                                                                 ]                                \n",
            "                                                                                                  \n",
            " activation_1083 (Activation)   (None, 4, 4, 192)    0           ['batch_normalization_1083[0][0]'\n",
            "                                                                 ]                                \n",
            "                                                                                                  \n",
            " mixed5 (Concatenate)           (None, 4, 4, 768)    0           ['activation_1074[0][0]',        \n",
            "                                                                  'activation_1077[0][0]',        \n",
            "                                                                  'activation_1082[0][0]',        \n",
            "                                                                  'activation_1083[0][0]']        \n",
            "                                                                                                  \n",
            " conv2d_1144 (Conv2D)           (None, 4, 4, 160)    122880      ['mixed5[0][0]']                 \n",
            "                                                                                                  \n",
            " batch_normalization_1088 (Batc  (None, 4, 4, 160)   480         ['conv2d_1144[0][0]']            \n",
            " hNormalization)                                                                                  \n",
            "                                                                                                  \n",
            " activation_1088 (Activation)   (None, 4, 4, 160)    0           ['batch_normalization_1088[0][0]'\n",
            "                                                                 ]                                \n",
            "                                                                                                  \n",
            " conv2d_1145 (Conv2D)           (None, 4, 4, 160)    179200      ['activation_1088[0][0]']        \n",
            "                                                                                                  \n",
            " batch_normalization_1089 (Batc  (None, 4, 4, 160)   480         ['conv2d_1145[0][0]']            \n",
            " hNormalization)                                                                                  \n",
            "                                                                                                  \n",
            " activation_1089 (Activation)   (None, 4, 4, 160)    0           ['batch_normalization_1089[0][0]'\n",
            "                                                                 ]                                \n",
            "                                                                                                  \n",
            " conv2d_1141 (Conv2D)           (None, 4, 4, 160)    122880      ['mixed5[0][0]']                 \n",
            "                                                                                                  \n",
            " conv2d_1146 (Conv2D)           (None, 4, 4, 160)    179200      ['activation_1089[0][0]']        \n",
            "                                                                                                  \n",
            " batch_normalization_1085 (Batc  (None, 4, 4, 160)   480         ['conv2d_1141[0][0]']            \n",
            " hNormalization)                                                                                  \n",
            "                                                                                                  \n",
            " batch_normalization_1090 (Batc  (None, 4, 4, 160)   480         ['conv2d_1146[0][0]']            \n",
            " hNormalization)                                                                                  \n",
            "                                                                                                  \n",
            " activation_1085 (Activation)   (None, 4, 4, 160)    0           ['batch_normalization_1085[0][0]'\n",
            "                                                                 ]                                \n",
            "                                                                                                  \n",
            " activation_1090 (Activation)   (None, 4, 4, 160)    0           ['batch_normalization_1090[0][0]'\n",
            "                                                                 ]                                \n",
            "                                                                                                  \n",
            " conv2d_1142 (Conv2D)           (None, 4, 4, 160)    179200      ['activation_1085[0][0]']        \n",
            "                                                                                                  \n",
            " conv2d_1147 (Conv2D)           (None, 4, 4, 160)    179200      ['activation_1090[0][0]']        \n",
            "                                                                                                  \n",
            " batch_normalization_1086 (Batc  (None, 4, 4, 160)   480         ['conv2d_1142[0][0]']            \n",
            " hNormalization)                                                                                  \n",
            "                                                                                                  \n",
            " batch_normalization_1091 (Batc  (None, 4, 4, 160)   480         ['conv2d_1147[0][0]']            \n",
            " hNormalization)                                                                                  \n",
            "                                                                                                  \n",
            " activation_1086 (Activation)   (None, 4, 4, 160)    0           ['batch_normalization_1086[0][0]'\n",
            "                                                                 ]                                \n",
            "                                                                                                  \n",
            " activation_1091 (Activation)   (None, 4, 4, 160)    0           ['batch_normalization_1091[0][0]'\n",
            "                                                                 ]                                \n",
            "                                                                                                  \n",
            " average_pooling2d_104 (Average  (None, 4, 4, 768)   0           ['mixed5[0][0]']                 \n",
            " Pooling2D)                                                                                       \n",
            "                                                                                                  \n",
            " conv2d_1140 (Conv2D)           (None, 4, 4, 192)    147456      ['mixed5[0][0]']                 \n",
            "                                                                                                  \n",
            " conv2d_1143 (Conv2D)           (None, 4, 4, 192)    215040      ['activation_1086[0][0]']        \n",
            "                                                                                                  \n",
            " conv2d_1148 (Conv2D)           (None, 4, 4, 192)    215040      ['activation_1091[0][0]']        \n",
            "                                                                                                  \n",
            " conv2d_1149 (Conv2D)           (None, 4, 4, 192)    147456      ['average_pooling2d_104[0][0]']  \n",
            "                                                                                                  \n",
            " batch_normalization_1084 (Batc  (None, 4, 4, 192)   576         ['conv2d_1140[0][0]']            \n",
            " hNormalization)                                                                                  \n",
            "                                                                                                  \n",
            " batch_normalization_1087 (Batc  (None, 4, 4, 192)   576         ['conv2d_1143[0][0]']            \n",
            " hNormalization)                                                                                  \n",
            "                                                                                                  \n",
            " batch_normalization_1092 (Batc  (None, 4, 4, 192)   576         ['conv2d_1148[0][0]']            \n",
            " hNormalization)                                                                                  \n",
            "                                                                                                  \n",
            " batch_normalization_1093 (Batc  (None, 4, 4, 192)   576         ['conv2d_1149[0][0]']            \n",
            " hNormalization)                                                                                  \n",
            "                                                                                                  \n",
            " activation_1084 (Activation)   (None, 4, 4, 192)    0           ['batch_normalization_1084[0][0]'\n",
            "                                                                 ]                                \n",
            "                                                                                                  \n",
            " activation_1087 (Activation)   (None, 4, 4, 192)    0           ['batch_normalization_1087[0][0]'\n",
            "                                                                 ]                                \n",
            "                                                                                                  \n",
            " activation_1092 (Activation)   (None, 4, 4, 192)    0           ['batch_normalization_1092[0][0]'\n",
            "                                                                 ]                                \n",
            "                                                                                                  \n",
            " activation_1093 (Activation)   (None, 4, 4, 192)    0           ['batch_normalization_1093[0][0]'\n",
            "                                                                 ]                                \n",
            "                                                                                                  \n",
            " mixed6 (Concatenate)           (None, 4, 4, 768)    0           ['activation_1084[0][0]',        \n",
            "                                                                  'activation_1087[0][0]',        \n",
            "                                                                  'activation_1092[0][0]',        \n",
            "                                                                  'activation_1093[0][0]']        \n",
            "                                                                                                  \n",
            " conv2d_1154 (Conv2D)           (None, 4, 4, 192)    147456      ['mixed6[0][0]']                 \n",
            "                                                                                                  \n",
            " batch_normalization_1098 (Batc  (None, 4, 4, 192)   576         ['conv2d_1154[0][0]']            \n",
            " hNormalization)                                                                                  \n",
            "                                                                                                  \n",
            " activation_1098 (Activation)   (None, 4, 4, 192)    0           ['batch_normalization_1098[0][0]'\n",
            "                                                                 ]                                \n",
            "                                                                                                  \n",
            " conv2d_1155 (Conv2D)           (None, 4, 4, 192)    258048      ['activation_1098[0][0]']        \n",
            "                                                                                                  \n",
            " batch_normalization_1099 (Batc  (None, 4, 4, 192)   576         ['conv2d_1155[0][0]']            \n",
            " hNormalization)                                                                                  \n",
            "                                                                                                  \n",
            " activation_1099 (Activation)   (None, 4, 4, 192)    0           ['batch_normalization_1099[0][0]'\n",
            "                                                                 ]                                \n",
            "                                                                                                  \n",
            " conv2d_1151 (Conv2D)           (None, 4, 4, 192)    147456      ['mixed6[0][0]']                 \n",
            "                                                                                                  \n",
            " conv2d_1156 (Conv2D)           (None, 4, 4, 192)    258048      ['activation_1099[0][0]']        \n",
            "                                                                                                  \n",
            " batch_normalization_1095 (Batc  (None, 4, 4, 192)   576         ['conv2d_1151[0][0]']            \n",
            " hNormalization)                                                                                  \n",
            "                                                                                                  \n",
            " batch_normalization_1100 (Batc  (None, 4, 4, 192)   576         ['conv2d_1156[0][0]']            \n",
            " hNormalization)                                                                                  \n",
            "                                                                                                  \n",
            " activation_1095 (Activation)   (None, 4, 4, 192)    0           ['batch_normalization_1095[0][0]'\n",
            "                                                                 ]                                \n",
            "                                                                                                  \n",
            " activation_1100 (Activation)   (None, 4, 4, 192)    0           ['batch_normalization_1100[0][0]'\n",
            "                                                                 ]                                \n",
            "                                                                                                  \n",
            " conv2d_1152 (Conv2D)           (None, 4, 4, 192)    258048      ['activation_1095[0][0]']        \n",
            "                                                                                                  \n",
            " conv2d_1157 (Conv2D)           (None, 4, 4, 192)    258048      ['activation_1100[0][0]']        \n",
            "                                                                                                  \n",
            " batch_normalization_1096 (Batc  (None, 4, 4, 192)   576         ['conv2d_1152[0][0]']            \n",
            " hNormalization)                                                                                  \n",
            "                                                                                                  \n",
            " batch_normalization_1101 (Batc  (None, 4, 4, 192)   576         ['conv2d_1157[0][0]']            \n",
            " hNormalization)                                                                                  \n",
            "                                                                                                  \n",
            " activation_1096 (Activation)   (None, 4, 4, 192)    0           ['batch_normalization_1096[0][0]'\n",
            "                                                                 ]                                \n",
            "                                                                                                  \n",
            " activation_1101 (Activation)   (None, 4, 4, 192)    0           ['batch_normalization_1101[0][0]'\n",
            "                                                                 ]                                \n",
            "                                                                                                  \n",
            " average_pooling2d_105 (Average  (None, 4, 4, 768)   0           ['mixed6[0][0]']                 \n",
            " Pooling2D)                                                                                       \n",
            "                                                                                                  \n",
            " conv2d_1150 (Conv2D)           (None, 4, 4, 192)    147456      ['mixed6[0][0]']                 \n",
            "                                                                                                  \n",
            " conv2d_1153 (Conv2D)           (None, 4, 4, 192)    258048      ['activation_1096[0][0]']        \n",
            "                                                                                                  \n",
            " conv2d_1158 (Conv2D)           (None, 4, 4, 192)    258048      ['activation_1101[0][0]']        \n",
            "                                                                                                  \n",
            " conv2d_1159 (Conv2D)           (None, 4, 4, 192)    147456      ['average_pooling2d_105[0][0]']  \n",
            "                                                                                                  \n",
            " batch_normalization_1094 (Batc  (None, 4, 4, 192)   576         ['conv2d_1150[0][0]']            \n",
            " hNormalization)                                                                                  \n",
            "                                                                                                  \n",
            " batch_normalization_1097 (Batc  (None, 4, 4, 192)   576         ['conv2d_1153[0][0]']            \n",
            " hNormalization)                                                                                  \n",
            "                                                                                                  \n",
            " batch_normalization_1102 (Batc  (None, 4, 4, 192)   576         ['conv2d_1158[0][0]']            \n",
            " hNormalization)                                                                                  \n",
            "                                                                                                  \n",
            " batch_normalization_1103 (Batc  (None, 4, 4, 192)   576         ['conv2d_1159[0][0]']            \n",
            " hNormalization)                                                                                  \n",
            "                                                                                                  \n",
            " activation_1094 (Activation)   (None, 4, 4, 192)    0           ['batch_normalization_1094[0][0]'\n",
            "                                                                 ]                                \n",
            "                                                                                                  \n",
            " activation_1097 (Activation)   (None, 4, 4, 192)    0           ['batch_normalization_1097[0][0]'\n",
            "                                                                 ]                                \n",
            "                                                                                                  \n",
            " activation_1102 (Activation)   (None, 4, 4, 192)    0           ['batch_normalization_1102[0][0]'\n",
            "                                                                 ]                                \n",
            "                                                                                                  \n",
            " activation_1103 (Activation)   (None, 4, 4, 192)    0           ['batch_normalization_1103[0][0]'\n",
            "                                                                 ]                                \n",
            "                                                                                                  \n",
            " mixed7 (Concatenate)           (None, 4, 4, 768)    0           ['activation_1094[0][0]',        \n",
            "                                                                  'activation_1097[0][0]',        \n",
            "                                                                  'activation_1102[0][0]',        \n",
            "                                                                  'activation_1103[0][0]']        \n",
            "                                                                                                  \n",
            " conv2d_1162 (Conv2D)           (None, 4, 4, 192)    147456      ['mixed7[0][0]']                 \n",
            "                                                                                                  \n",
            " batch_normalization_1106 (Batc  (None, 4, 4, 192)   576         ['conv2d_1162[0][0]']            \n",
            " hNormalization)                                                                                  \n",
            "                                                                                                  \n",
            " activation_1106 (Activation)   (None, 4, 4, 192)    0           ['batch_normalization_1106[0][0]'\n",
            "                                                                 ]                                \n",
            "                                                                                                  \n",
            " conv2d_1163 (Conv2D)           (None, 4, 4, 192)    258048      ['activation_1106[0][0]']        \n",
            "                                                                                                  \n",
            " batch_normalization_1107 (Batc  (None, 4, 4, 192)   576         ['conv2d_1163[0][0]']            \n",
            " hNormalization)                                                                                  \n",
            "                                                                                                  \n",
            " activation_1107 (Activation)   (None, 4, 4, 192)    0           ['batch_normalization_1107[0][0]'\n",
            "                                                                 ]                                \n",
            "                                                                                                  \n",
            " conv2d_1160 (Conv2D)           (None, 4, 4, 192)    147456      ['mixed7[0][0]']                 \n",
            "                                                                                                  \n",
            " conv2d_1164 (Conv2D)           (None, 4, 4, 192)    258048      ['activation_1107[0][0]']        \n",
            "                                                                                                  \n",
            " batch_normalization_1104 (Batc  (None, 4, 4, 192)   576         ['conv2d_1160[0][0]']            \n",
            " hNormalization)                                                                                  \n",
            "                                                                                                  \n",
            " batch_normalization_1108 (Batc  (None, 4, 4, 192)   576         ['conv2d_1164[0][0]']            \n",
            " hNormalization)                                                                                  \n",
            "                                                                                                  \n",
            " activation_1104 (Activation)   (None, 4, 4, 192)    0           ['batch_normalization_1104[0][0]'\n",
            "                                                                 ]                                \n",
            "                                                                                                  \n",
            " activation_1108 (Activation)   (None, 4, 4, 192)    0           ['batch_normalization_1108[0][0]'\n",
            "                                                                 ]                                \n",
            "                                                                                                  \n",
            " conv2d_1161 (Conv2D)           (None, 1, 1, 320)    552960      ['activation_1104[0][0]']        \n",
            "                                                                                                  \n",
            " conv2d_1165 (Conv2D)           (None, 1, 1, 192)    331776      ['activation_1108[0][0]']        \n",
            "                                                                                                  \n",
            " batch_normalization_1105 (Batc  (None, 1, 1, 320)   960         ['conv2d_1161[0][0]']            \n",
            " hNormalization)                                                                                  \n",
            "                                                                                                  \n",
            " batch_normalization_1109 (Batc  (None, 1, 1, 192)   576         ['conv2d_1165[0][0]']            \n",
            " hNormalization)                                                                                  \n",
            "                                                                                                  \n",
            " activation_1105 (Activation)   (None, 1, 1, 320)    0           ['batch_normalization_1105[0][0]'\n",
            "                                                                 ]                                \n",
            "                                                                                                  \n",
            " activation_1109 (Activation)   (None, 1, 1, 192)    0           ['batch_normalization_1109[0][0]'\n",
            "                                                                 ]                                \n",
            "                                                                                                  \n",
            " max_pooling2d_75 (MaxPooling2D  (None, 1, 1, 768)   0           ['mixed7[0][0]']                 \n",
            " )                                                                                                \n",
            "                                                                                                  \n",
            " mixed8 (Concatenate)           (None, 1, 1, 1280)   0           ['activation_1105[0][0]',        \n",
            "                                                                  'activation_1109[0][0]',        \n",
            "                                                                  'max_pooling2d_75[0][0]']       \n",
            "                                                                                                  \n",
            " conv2d_1170 (Conv2D)           (None, 1, 1, 448)    573440      ['mixed8[0][0]']                 \n",
            "                                                                                                  \n",
            " batch_normalization_1114 (Batc  (None, 1, 1, 448)   1344        ['conv2d_1170[0][0]']            \n",
            " hNormalization)                                                                                  \n",
            "                                                                                                  \n",
            " activation_1114 (Activation)   (None, 1, 1, 448)    0           ['batch_normalization_1114[0][0]'\n",
            "                                                                 ]                                \n",
            "                                                                                                  \n",
            " conv2d_1167 (Conv2D)           (None, 1, 1, 384)    491520      ['mixed8[0][0]']                 \n",
            "                                                                                                  \n",
            " conv2d_1171 (Conv2D)           (None, 1, 1, 384)    1548288     ['activation_1114[0][0]']        \n",
            "                                                                                                  \n",
            " batch_normalization_1111 (Batc  (None, 1, 1, 384)   1152        ['conv2d_1167[0][0]']            \n",
            " hNormalization)                                                                                  \n",
            "                                                                                                  \n",
            " batch_normalization_1115 (Batc  (None, 1, 1, 384)   1152        ['conv2d_1171[0][0]']            \n",
            " hNormalization)                                                                                  \n",
            "                                                                                                  \n",
            " activation_1111 (Activation)   (None, 1, 1, 384)    0           ['batch_normalization_1111[0][0]'\n",
            "                                                                 ]                                \n",
            "                                                                                                  \n",
            " activation_1115 (Activation)   (None, 1, 1, 384)    0           ['batch_normalization_1115[0][0]'\n",
            "                                                                 ]                                \n",
            "                                                                                                  \n",
            " conv2d_1168 (Conv2D)           (None, 1, 1, 384)    442368      ['activation_1111[0][0]']        \n",
            "                                                                                                  \n",
            " conv2d_1169 (Conv2D)           (None, 1, 1, 384)    442368      ['activation_1111[0][0]']        \n",
            "                                                                                                  \n",
            " conv2d_1172 (Conv2D)           (None, 1, 1, 384)    442368      ['activation_1115[0][0]']        \n",
            "                                                                                                  \n",
            " conv2d_1173 (Conv2D)           (None, 1, 1, 384)    442368      ['activation_1115[0][0]']        \n",
            "                                                                                                  \n",
            " average_pooling2d_106 (Average  (None, 1, 1, 1280)  0           ['mixed8[0][0]']                 \n",
            " Pooling2D)                                                                                       \n",
            "                                                                                                  \n",
            " conv2d_1166 (Conv2D)           (None, 1, 1, 320)    409600      ['mixed8[0][0]']                 \n",
            "                                                                                                  \n",
            " batch_normalization_1112 (Batc  (None, 1, 1, 384)   1152        ['conv2d_1168[0][0]']            \n",
            " hNormalization)                                                                                  \n",
            "                                                                                                  \n",
            " batch_normalization_1113 (Batc  (None, 1, 1, 384)   1152        ['conv2d_1169[0][0]']            \n",
            " hNormalization)                                                                                  \n",
            "                                                                                                  \n",
            " batch_normalization_1116 (Batc  (None, 1, 1, 384)   1152        ['conv2d_1172[0][0]']            \n",
            " hNormalization)                                                                                  \n",
            "                                                                                                  \n",
            " batch_normalization_1117 (Batc  (None, 1, 1, 384)   1152        ['conv2d_1173[0][0]']            \n",
            " hNormalization)                                                                                  \n",
            "                                                                                                  \n",
            " conv2d_1174 (Conv2D)           (None, 1, 1, 192)    245760      ['average_pooling2d_106[0][0]']  \n",
            "                                                                                                  \n",
            " batch_normalization_1110 (Batc  (None, 1, 1, 320)   960         ['conv2d_1166[0][0]']            \n",
            " hNormalization)                                                                                  \n",
            "                                                                                                  \n",
            " activation_1112 (Activation)   (None, 1, 1, 384)    0           ['batch_normalization_1112[0][0]'\n",
            "                                                                 ]                                \n",
            "                                                                                                  \n",
            " activation_1113 (Activation)   (None, 1, 1, 384)    0           ['batch_normalization_1113[0][0]'\n",
            "                                                                 ]                                \n",
            "                                                                                                  \n",
            " activation_1116 (Activation)   (None, 1, 1, 384)    0           ['batch_normalization_1116[0][0]'\n",
            "                                                                 ]                                \n",
            "                                                                                                  \n",
            " activation_1117 (Activation)   (None, 1, 1, 384)    0           ['batch_normalization_1117[0][0]'\n",
            "                                                                 ]                                \n",
            "                                                                                                  \n",
            " batch_normalization_1118 (Batc  (None, 1, 1, 192)   576         ['conv2d_1174[0][0]']            \n",
            " hNormalization)                                                                                  \n",
            "                                                                                                  \n",
            " activation_1110 (Activation)   (None, 1, 1, 320)    0           ['batch_normalization_1110[0][0]'\n",
            "                                                                 ]                                \n",
            "                                                                                                  \n",
            " mixed9_0 (Concatenate)         (None, 1, 1, 768)    0           ['activation_1112[0][0]',        \n",
            "                                                                  'activation_1113[0][0]']        \n",
            "                                                                                                  \n",
            " concatenate_22 (Concatenate)   (None, 1, 1, 768)    0           ['activation_1116[0][0]',        \n",
            "                                                                  'activation_1117[0][0]']        \n",
            "                                                                                                  \n",
            " activation_1118 (Activation)   (None, 1, 1, 192)    0           ['batch_normalization_1118[0][0]'\n",
            "                                                                 ]                                \n",
            "                                                                                                  \n",
            " mixed9 (Concatenate)           (None, 1, 1, 2048)   0           ['activation_1110[0][0]',        \n",
            "                                                                  'mixed9_0[0][0]',               \n",
            "                                                                  'concatenate_22[0][0]',         \n",
            "                                                                  'activation_1118[0][0]']        \n",
            "                                                                                                  \n",
            " conv2d_1179 (Conv2D)           (None, 1, 1, 448)    917504      ['mixed9[0][0]']                 \n",
            "                                                                                                  \n",
            " batch_normalization_1123 (Batc  (None, 1, 1, 448)   1344        ['conv2d_1179[0][0]']            \n",
            " hNormalization)                                                                                  \n",
            "                                                                                                  \n",
            " activation_1123 (Activation)   (None, 1, 1, 448)    0           ['batch_normalization_1123[0][0]'\n",
            "                                                                 ]                                \n",
            "                                                                                                  \n",
            " conv2d_1176 (Conv2D)           (None, 1, 1, 384)    786432      ['mixed9[0][0]']                 \n",
            "                                                                                                  \n",
            " conv2d_1180 (Conv2D)           (None, 1, 1, 384)    1548288     ['activation_1123[0][0]']        \n",
            "                                                                                                  \n",
            " batch_normalization_1120 (Batc  (None, 1, 1, 384)   1152        ['conv2d_1176[0][0]']            \n",
            " hNormalization)                                                                                  \n",
            "                                                                                                  \n",
            " batch_normalization_1124 (Batc  (None, 1, 1, 384)   1152        ['conv2d_1180[0][0]']            \n",
            " hNormalization)                                                                                  \n",
            "                                                                                                  \n",
            " activation_1120 (Activation)   (None, 1, 1, 384)    0           ['batch_normalization_1120[0][0]'\n",
            "                                                                 ]                                \n",
            "                                                                                                  \n",
            " activation_1124 (Activation)   (None, 1, 1, 384)    0           ['batch_normalization_1124[0][0]'\n",
            "                                                                 ]                                \n",
            "                                                                                                  \n",
            " conv2d_1177 (Conv2D)           (None, 1, 1, 384)    442368      ['activation_1120[0][0]']        \n",
            "                                                                                                  \n",
            " conv2d_1178 (Conv2D)           (None, 1, 1, 384)    442368      ['activation_1120[0][0]']        \n",
            "                                                                                                  \n",
            " conv2d_1181 (Conv2D)           (None, 1, 1, 384)    442368      ['activation_1124[0][0]']        \n",
            "                                                                                                  \n",
            " conv2d_1182 (Conv2D)           (None, 1, 1, 384)    442368      ['activation_1124[0][0]']        \n",
            "                                                                                                  \n",
            " average_pooling2d_107 (Average  (None, 1, 1, 2048)  0           ['mixed9[0][0]']                 \n",
            " Pooling2D)                                                                                       \n",
            "                                                                                                  \n",
            " conv2d_1175 (Conv2D)           (None, 1, 1, 320)    655360      ['mixed9[0][0]']                 \n",
            "                                                                                                  \n",
            " batch_normalization_1121 (Batc  (None, 1, 1, 384)   1152        ['conv2d_1177[0][0]']            \n",
            " hNormalization)                                                                                  \n",
            "                                                                                                  \n",
            " batch_normalization_1122 (Batc  (None, 1, 1, 384)   1152        ['conv2d_1178[0][0]']            \n",
            " hNormalization)                                                                                  \n",
            "                                                                                                  \n",
            " batch_normalization_1125 (Batc  (None, 1, 1, 384)   1152        ['conv2d_1181[0][0]']            \n",
            " hNormalization)                                                                                  \n",
            "                                                                                                  \n",
            " batch_normalization_1126 (Batc  (None, 1, 1, 384)   1152        ['conv2d_1182[0][0]']            \n",
            " hNormalization)                                                                                  \n",
            "                                                                                                  \n",
            " conv2d_1183 (Conv2D)           (None, 1, 1, 192)    393216      ['average_pooling2d_107[0][0]']  \n",
            "                                                                                                  \n",
            " batch_normalization_1119 (Batc  (None, 1, 1, 320)   960         ['conv2d_1175[0][0]']            \n",
            " hNormalization)                                                                                  \n",
            "                                                                                                  \n",
            " activation_1121 (Activation)   (None, 1, 1, 384)    0           ['batch_normalization_1121[0][0]'\n",
            "                                                                 ]                                \n",
            "                                                                                                  \n",
            " activation_1122 (Activation)   (None, 1, 1, 384)    0           ['batch_normalization_1122[0][0]'\n",
            "                                                                 ]                                \n",
            "                                                                                                  \n",
            " activation_1125 (Activation)   (None, 1, 1, 384)    0           ['batch_normalization_1125[0][0]'\n",
            "                                                                 ]                                \n",
            "                                                                                                  \n",
            " activation_1126 (Activation)   (None, 1, 1, 384)    0           ['batch_normalization_1126[0][0]'\n",
            "                                                                 ]                                \n",
            "                                                                                                  \n",
            " batch_normalization_1127 (Batc  (None, 1, 1, 192)   576         ['conv2d_1183[0][0]']            \n",
            " hNormalization)                                                                                  \n",
            "                                                                                                  \n",
            " activation_1119 (Activation)   (None, 1, 1, 320)    0           ['batch_normalization_1119[0][0]'\n",
            "                                                                 ]                                \n",
            "                                                                                                  \n",
            " mixed9_1 (Concatenate)         (None, 1, 1, 768)    0           ['activation_1121[0][0]',        \n",
            "                                                                  'activation_1122[0][0]']        \n",
            "                                                                                                  \n",
            " concatenate_23 (Concatenate)   (None, 1, 1, 768)    0           ['activation_1125[0][0]',        \n",
            "                                                                  'activation_1126[0][0]']        \n",
            "                                                                                                  \n",
            " activation_1127 (Activation)   (None, 1, 1, 192)    0           ['batch_normalization_1127[0][0]'\n",
            "                                                                 ]                                \n",
            "                                                                                                  \n",
            " mixed10 (Concatenate)          (None, 1, 1, 2048)   0           ['activation_1119[0][0]',        \n",
            "                                                                  'mixed9_1[0][0]',               \n",
            "                                                                  'concatenate_23[0][0]',         \n",
            "                                                                  'activation_1127[0][0]']        \n",
            "                                                                                                  \n",
            " global_average_pooling2d_11 (G  (None, 2048)        0           ['mixed10[0][0]']                \n",
            " lobalAveragePooling2D)                                                                           \n",
            "                                                                                                  \n",
            " dense_39 (Dense)               (None, 1)            2049        ['global_average_pooling2d_11[0][\n",
            "                                                                 0]']                             \n",
            "                                                                                                  \n",
            "==================================================================================================\n",
            "Total params: 21,804,833\n",
            "Trainable params: 21,770,401\n",
            "Non-trainable params: 34,432\n",
            "__________________________________________________________________________________________________\n"
          ]
        }
      ]
    },
    {
      "cell_type": "code",
      "source": [
        "from keras.callbacks import EarlyStopping, ModelCheckpoint\n",
        "\n",
        "# es = EarlyStopping(monitor='val_loss', patience=15)\n",
        "\n",
        "if shuffled:\n",
        "  MODEL_SAVE_DIR = PROJECT_DIR + 'results/shuffled/' + '.' + image_size + '_incv3_fine_tune_best_weights.hdf5'\n",
        "else:\n",
        "  MODEL_SAVE_DIR = PROJECT_DIR + 'results/' + '.' + image_size + '_70c_incv3_fine_tune_best_weights.hdf5'\n",
        "\n",
        "print(\"Saving model to: \", MODEL_SAVE_DIR)\n",
        "\n",
        "mcp_save = ModelCheckpoint(MODEL_SAVE_DIR, save_best_only=True, monitor='val_loss', mode='min')\n",
        "\n",
        "info3 = model_pretrained.fit(x=X_train, y=y_train, epochs=70, verbose=True, validation_data=(X_val, y_val), \\\n",
        "                              callbacks=[mcp_save])\n"
      ],
      "metadata": {
        "colab": {
          "base_uri": "https://localhost:8080/"
        },
        "id": "KOER7mSoYvG2",
        "outputId": "c7abbff8-6849-4841-c7ff-a156ef54f69f"
      },
      "id": "KOER7mSoYvG2",
      "execution_count": null,
      "outputs": [
        {
          "output_type": "stream",
          "name": "stdout",
          "text": [
            "Saving model to:  drive/MyDrive/CSCI 5922 - Final Project/results/.small_70c_incv3_fine_tune_best_weights.hdf5\n",
            "Epoch 1/70\n",
            "6/6 [==============================] - 15s 952ms/step - loss: 0.7333 - accuracy: 0.4649 - auc_25: 0.4496 - precision_25: 0.4577 - recall_25: 0.7471 - val_loss: 0.6742 - val_accuracy: 0.6226 - val_auc_25: 0.6760 - val_precision_25: 0.6122 - val_recall_25: 0.9677\n",
            "Epoch 2/70\n",
            "6/6 [==============================] - 0s 83ms/step - loss: 0.7334 - accuracy: 0.4811 - auc_25: 0.4539 - precision_25: 0.4667 - recall_25: 0.7241 - val_loss: 0.7050 - val_accuracy: 0.5849 - val_auc_25: 0.5638 - val_precision_25: 0.5918 - val_recall_25: 0.9355\n",
            "Epoch 3/70\n",
            "6/6 [==============================] - 0s 84ms/step - loss: 0.7170 - accuracy: 0.5027 - auc_25: 0.4996 - precision_25: 0.4803 - recall_25: 0.7011 - val_loss: 0.7062 - val_accuracy: 0.5283 - val_auc_25: 0.5704 - val_precision_25: 0.5652 - val_recall_25: 0.8387\n",
            "Epoch 4/70\n",
            "6/6 [==============================] - 0s 84ms/step - loss: 0.7428 - accuracy: 0.5027 - auc_25: 0.4871 - precision_25: 0.4803 - recall_25: 0.7011 - val_loss: 0.6998 - val_accuracy: 0.5472 - val_auc_25: 0.5814 - val_precision_25: 0.5714 - val_recall_25: 0.9032\n",
            "Epoch 5/70\n",
            "6/6 [==============================] - 3s 581ms/step - loss: 0.7220 - accuracy: 0.4703 - auc_25: 0.4836 - precision_25: 0.4593 - recall_25: 0.7126 - val_loss: 0.6599 - val_accuracy: 0.6226 - val_auc_25: 0.6767 - val_precision_25: 0.6122 - val_recall_25: 0.9677\n",
            "Epoch 6/70\n",
            "6/6 [==============================] - 3s 546ms/step - loss: 0.7125 - accuracy: 0.4703 - auc_25: 0.5102 - precision_25: 0.4586 - recall_25: 0.7011 - val_loss: 0.6521 - val_accuracy: 0.6415 - val_auc_25: 0.6650 - val_precision_25: 0.6364 - val_recall_25: 0.9032\n",
            "Epoch 7/70\n",
            "6/6 [==============================] - 0s 83ms/step - loss: 0.7151 - accuracy: 0.4270 - auc_25: 0.4547 - precision_25: 0.4240 - recall_25: 0.6092 - val_loss: 0.6570 - val_accuracy: 0.6415 - val_auc_25: 0.6488 - val_precision_25: 0.6364 - val_recall_25: 0.9032\n",
            "Epoch 8/70\n",
            "6/6 [==============================] - 0s 84ms/step - loss: 0.7077 - accuracy: 0.5027 - auc_25: 0.5055 - precision_25: 0.4800 - recall_25: 0.6897 - val_loss: 0.6586 - val_accuracy: 0.6604 - val_auc_25: 0.6510 - val_precision_25: 0.6585 - val_recall_25: 0.8710\n",
            "Epoch 9/70\n",
            "6/6 [==============================] - 0s 83ms/step - loss: 0.6989 - accuracy: 0.5297 - auc_25: 0.5347 - precision_25: 0.5000 - recall_25: 0.7126 - val_loss: 0.6662 - val_accuracy: 0.6604 - val_auc_25: 0.6041 - val_precision_25: 0.6585 - val_recall_25: 0.8710\n",
            "Epoch 10/70\n",
            "6/6 [==============================] - 0s 86ms/step - loss: 0.7027 - accuracy: 0.5081 - auc_25: 0.5511 - precision_25: 0.4846 - recall_25: 0.7241 - val_loss: 0.6546 - val_accuracy: 0.6792 - val_auc_25: 0.6518 - val_precision_25: 0.6842 - val_recall_25: 0.8387\n",
            "Epoch 11/70\n",
            "6/6 [==============================] - 0s 79ms/step - loss: 0.7295 - accuracy: 0.4432 - auc_25: 0.4667 - precision_25: 0.4375 - recall_25: 0.6437 - val_loss: 0.6600 - val_accuracy: 0.6415 - val_auc_25: 0.6466 - val_precision_25: 0.6765 - val_recall_25: 0.7419\n",
            "Epoch 12/70\n",
            "6/6 [==============================] - 0s 83ms/step - loss: 0.7050 - accuracy: 0.5081 - auc_25: 0.4965 - precision_25: 0.4841 - recall_25: 0.7011 - val_loss: 0.6551 - val_accuracy: 0.6038 - val_auc_25: 0.6745 - val_precision_25: 0.6562 - val_recall_25: 0.6774\n",
            "Epoch 13/70\n",
            "6/6 [==============================] - 0s 85ms/step - loss: 0.7192 - accuracy: 0.4811 - auc_25: 0.4685 - precision_25: 0.4667 - recall_25: 0.7241 - val_loss: 0.6569 - val_accuracy: 0.6792 - val_auc_25: 0.6466 - val_precision_25: 0.6842 - val_recall_25: 0.8387\n",
            "Epoch 14/70\n",
            "6/6 [==============================] - 0s 81ms/step - loss: 0.7112 - accuracy: 0.5027 - auc_25: 0.5192 - precision_25: 0.4793 - recall_25: 0.6667 - val_loss: 0.6615 - val_accuracy: 0.6981 - val_auc_25: 0.6107 - val_precision_25: 0.6829 - val_recall_25: 0.9032\n",
            "Epoch 15/70\n",
            "6/6 [==============================] - 0s 82ms/step - loss: 0.7115 - accuracy: 0.4703 - auc_25: 0.5045 - precision_25: 0.4586 - recall_25: 0.7011 - val_loss: 0.6581 - val_accuracy: 0.6415 - val_auc_25: 0.5938 - val_precision_25: 0.6429 - val_recall_25: 0.8710\n",
            "Epoch 16/70\n",
            "6/6 [==============================] - 3s 533ms/step - loss: 0.6811 - accuracy: 0.5568 - auc_25: 0.5959 - precision_25: 0.5214 - recall_25: 0.7011 - val_loss: 0.6478 - val_accuracy: 0.6226 - val_auc_25: 0.6437 - val_precision_25: 0.6170 - val_recall_25: 0.9355\n",
            "Epoch 17/70\n",
            "6/6 [==============================] - 0s 83ms/step - loss: 0.6778 - accuracy: 0.5081 - auc_25: 0.5949 - precision_25: 0.4844 - recall_25: 0.7126 - val_loss: 0.6617 - val_accuracy: 0.5849 - val_auc_25: 0.6004 - val_precision_25: 0.6000 - val_recall_25: 0.8710\n",
            "Epoch 18/70\n",
            "6/6 [==============================] - 0s 81ms/step - loss: 0.6662 - accuracy: 0.5568 - auc_25: 0.6144 - precision_25: 0.5217 - recall_25: 0.6897 - val_loss: 0.6936 - val_accuracy: 0.5660 - val_auc_25: 0.5117 - val_precision_25: 0.5909 - val_recall_25: 0.8387\n",
            "Epoch 19/70\n",
            "6/6 [==============================] - 0s 83ms/step - loss: 0.6858 - accuracy: 0.5514 - auc_25: 0.5701 - precision_25: 0.5161 - recall_25: 0.7356 - val_loss: 0.7178 - val_accuracy: 0.4906 - val_auc_25: 0.3482 - val_precision_25: 0.5435 - val_recall_25: 0.8065\n",
            "Epoch 20/70\n",
            "6/6 [==============================] - 0s 86ms/step - loss: 0.6873 - accuracy: 0.5568 - auc_25: 0.5649 - precision_25: 0.5217 - recall_25: 0.6897 - val_loss: 0.7157 - val_accuracy: 0.5094 - val_auc_25: 0.3314 - val_precision_25: 0.5556 - val_recall_25: 0.8065\n",
            "Epoch 21/70\n",
            "6/6 [==============================] - 0s 82ms/step - loss: 0.6991 - accuracy: 0.4973 - auc_25: 0.5209 - precision_25: 0.4758 - recall_25: 0.6782 - val_loss: 0.7055 - val_accuracy: 0.5094 - val_auc_25: 0.3673 - val_precision_25: 0.5556 - val_recall_25: 0.8065\n",
            "Epoch 22/70\n",
            "6/6 [==============================] - 0s 81ms/step - loss: 0.7196 - accuracy: 0.4811 - auc_25: 0.5133 - precision_25: 0.4628 - recall_25: 0.6437 - val_loss: 0.6994 - val_accuracy: 0.5472 - val_auc_25: 0.3622 - val_precision_25: 0.5814 - val_recall_25: 0.8065\n",
            "Epoch 23/70\n",
            "6/6 [==============================] - 0s 82ms/step - loss: 0.6863 - accuracy: 0.5568 - auc_25: 0.5854 - precision_25: 0.5217 - recall_25: 0.6897 - val_loss: 0.6997 - val_accuracy: 0.5849 - val_auc_25: 0.4128 - val_precision_25: 0.6047 - val_recall_25: 0.8387\n",
            "Epoch 24/70\n",
            "6/6 [==============================] - 1s 87ms/step - loss: 0.6844 - accuracy: 0.5459 - auc_25: 0.6404 - precision_25: 0.5126 - recall_25: 0.7011 - val_loss: 0.6978 - val_accuracy: 0.5472 - val_auc_25: 0.4223 - val_precision_25: 0.5854 - val_recall_25: 0.7742\n",
            "Epoch 25/70\n",
            "6/6 [==============================] - 0s 81ms/step - loss: 0.6737 - accuracy: 0.5351 - auc_25: 0.5749 - precision_25: 0.5043 - recall_25: 0.6667 - val_loss: 0.6979 - val_accuracy: 0.5094 - val_auc_25: 0.4135 - val_precision_25: 0.5581 - val_recall_25: 0.7742\n",
            "Epoch 26/70\n",
            "6/6 [==============================] - 0s 84ms/step - loss: 0.6778 - accuracy: 0.5514 - auc_25: 0.6330 - precision_25: 0.5161 - recall_25: 0.7356 - val_loss: 0.6914 - val_accuracy: 0.4906 - val_auc_25: 0.4443 - val_precision_25: 0.5476 - val_recall_25: 0.7419\n",
            "Epoch 27/70\n",
            "6/6 [==============================] - 0s 84ms/step - loss: 0.6586 - accuracy: 0.6054 - auc_25: 0.6596 - precision_25: 0.5593 - recall_25: 0.7586 - val_loss: 0.6831 - val_accuracy: 0.4717 - val_auc_25: 0.4875 - val_precision_25: 0.5366 - val_recall_25: 0.7097\n",
            "Epoch 28/70\n",
            "6/6 [==============================] - 0s 81ms/step - loss: 0.6748 - accuracy: 0.6108 - auc_25: 0.6617 - precision_25: 0.5664 - recall_25: 0.7356 - val_loss: 0.6765 - val_accuracy: 0.5283 - val_auc_25: 0.5139 - val_precision_25: 0.5714 - val_recall_25: 0.7742\n",
            "Epoch 29/70\n",
            "6/6 [==============================] - 1s 91ms/step - loss: 0.6532 - accuracy: 0.6054 - auc_25: 0.6668 - precision_25: 0.5648 - recall_25: 0.7011 - val_loss: 0.6715 - val_accuracy: 0.5849 - val_auc_25: 0.5374 - val_precision_25: 0.6047 - val_recall_25: 0.8387\n",
            "Epoch 30/70\n",
            "6/6 [==============================] - 0s 82ms/step - loss: 0.6661 - accuracy: 0.5946 - auc_25: 0.6516 - precision_25: 0.5476 - recall_25: 0.7931 - val_loss: 0.6704 - val_accuracy: 0.5849 - val_auc_25: 0.5477 - val_precision_25: 0.6098 - val_recall_25: 0.8065\n",
            "Epoch 31/70\n",
            "6/6 [==============================] - 0s 84ms/step - loss: 0.6887 - accuracy: 0.5297 - auc_25: 0.5802 - precision_25: 0.5000 - recall_25: 0.6667 - val_loss: 0.6712 - val_accuracy: 0.6038 - val_auc_25: 0.5440 - val_precision_25: 0.6190 - val_recall_25: 0.8387\n",
            "Epoch 32/70\n",
            "6/6 [==============================] - 0s 83ms/step - loss: 0.6577 - accuracy: 0.6216 - auc_25: 0.6666 - precision_25: 0.5739 - recall_25: 0.7586 - val_loss: 0.6718 - val_accuracy: 0.5849 - val_auc_25: 0.5455 - val_precision_25: 0.6098 - val_recall_25: 0.8065\n",
            "Epoch 33/70\n",
            "6/6 [==============================] - 1s 94ms/step - loss: 0.6531 - accuracy: 0.6162 - auc_25: 0.6599 - precision_25: 0.5727 - recall_25: 0.7241 - val_loss: 0.6694 - val_accuracy: 0.5283 - val_auc_25: 0.5652 - val_precision_25: 0.5789 - val_recall_25: 0.7097\n",
            "Epoch 34/70\n",
            "6/6 [==============================] - 1s 154ms/step - loss: 0.6482 - accuracy: 0.5946 - auc_25: 0.6770 - precision_25: 0.5517 - recall_25: 0.7356 - val_loss: 0.6702 - val_accuracy: 0.5094 - val_auc_25: 0.5535 - val_precision_25: 0.5676 - val_recall_25: 0.6774\n",
            "Epoch 35/70\n",
            "6/6 [==============================] - 1s 110ms/step - loss: 0.6840 - accuracy: 0.5568 - auc_25: 0.6011 - precision_25: 0.5207 - recall_25: 0.7241 - val_loss: 0.6684 - val_accuracy: 0.5660 - val_auc_25: 0.5674 - val_precision_25: 0.6111 - val_recall_25: 0.7097\n",
            "Epoch 36/70\n",
            "6/6 [==============================] - 1s 122ms/step - loss: 0.6326 - accuracy: 0.6432 - auc_25: 0.7206 - precision_25: 0.5929 - recall_25: 0.7701 - val_loss: 0.6666 - val_accuracy: 0.5660 - val_auc_25: 0.5828 - val_precision_25: 0.6111 - val_recall_25: 0.7097\n",
            "Epoch 37/70\n",
            "6/6 [==============================] - 1s 123ms/step - loss: 0.6551 - accuracy: 0.5892 - auc_25: 0.6369 - precision_25: 0.5524 - recall_25: 0.6667 - val_loss: 0.6668 - val_accuracy: 0.5660 - val_auc_25: 0.5696 - val_precision_25: 0.6111 - val_recall_25: 0.7097\n",
            "Epoch 38/70\n",
            "6/6 [==============================] - 1s 109ms/step - loss: 0.6458 - accuracy: 0.5730 - auc_25: 0.6483 - precision_25: 0.5357 - recall_25: 0.6897 - val_loss: 0.6669 - val_accuracy: 0.5660 - val_auc_25: 0.5594 - val_precision_25: 0.6053 - val_recall_25: 0.7419\n",
            "Epoch 39/70\n",
            "6/6 [==============================] - 1s 85ms/step - loss: 0.6532 - accuracy: 0.5892 - auc_25: 0.6498 - precision_25: 0.5524 - recall_25: 0.6667 - val_loss: 0.6688 - val_accuracy: 0.5094 - val_auc_25: 0.5447 - val_precision_25: 0.5676 - val_recall_25: 0.6774\n",
            "Epoch 40/70\n",
            "6/6 [==============================] - 0s 85ms/step - loss: 0.6252 - accuracy: 0.6595 - auc_25: 0.7306 - precision_25: 0.6154 - recall_25: 0.7356 - val_loss: 0.6695 - val_accuracy: 0.5283 - val_auc_25: 0.5469 - val_precision_25: 0.5789 - val_recall_25: 0.7097\n",
            "Epoch 41/70\n",
            "6/6 [==============================] - 1s 87ms/step - loss: 0.6657 - accuracy: 0.6000 - auc_25: 0.6423 - precision_25: 0.5556 - recall_25: 0.7471 - val_loss: 0.6704 - val_accuracy: 0.5094 - val_auc_25: 0.5484 - val_precision_25: 0.5676 - val_recall_25: 0.6774\n",
            "Epoch 42/70\n",
            "6/6 [==============================] - 0s 84ms/step - loss: 0.6941 - accuracy: 0.5676 - auc_25: 0.6202 - precision_25: 0.5321 - recall_25: 0.6667 - val_loss: 0.6704 - val_accuracy: 0.5660 - val_auc_25: 0.5594 - val_precision_25: 0.6053 - val_recall_25: 0.7419\n",
            "Epoch 43/70\n",
            "6/6 [==============================] - 0s 82ms/step - loss: 0.6777 - accuracy: 0.6108 - auc_25: 0.6497 - precision_25: 0.5714 - recall_25: 0.6897 - val_loss: 0.6680 - val_accuracy: 0.5660 - val_auc_25: 0.5682 - val_precision_25: 0.6111 - val_recall_25: 0.7097\n",
            "Epoch 44/70\n",
            "6/6 [==============================] - 0s 80ms/step - loss: 0.6282 - accuracy: 0.6595 - auc_25: 0.7549 - precision_25: 0.6053 - recall_25: 0.7931 - val_loss: 0.6628 - val_accuracy: 0.5472 - val_auc_25: 0.5572 - val_precision_25: 0.6000 - val_recall_25: 0.6774\n",
            "Epoch 45/70\n",
            "6/6 [==============================] - 0s 85ms/step - loss: 0.6327 - accuracy: 0.6324 - auc_25: 0.7074 - precision_25: 0.5960 - recall_25: 0.6782 - val_loss: 0.6619 - val_accuracy: 0.5283 - val_auc_25: 0.5557 - val_precision_25: 0.5882 - val_recall_25: 0.6452\n",
            "Epoch 46/70\n",
            "6/6 [==============================] - 0s 86ms/step - loss: 0.6175 - accuracy: 0.6703 - auc_25: 0.7591 - precision_25: 0.6140 - recall_25: 0.8046 - val_loss: 0.6607 - val_accuracy: 0.5283 - val_auc_25: 0.5543 - val_precision_25: 0.5882 - val_recall_25: 0.6452\n",
            "Epoch 47/70\n",
            "6/6 [==============================] - 1s 88ms/step - loss: 0.6750 - accuracy: 0.5676 - auc_25: 0.6323 - precision_25: 0.5321 - recall_25: 0.6667 - val_loss: 0.6590 - val_accuracy: 0.5472 - val_auc_25: 0.5689 - val_precision_25: 0.6061 - val_recall_25: 0.6452\n",
            "Epoch 48/70\n",
            "6/6 [==============================] - 0s 84ms/step - loss: 0.6216 - accuracy: 0.6649 - auc_25: 0.7467 - precision_25: 0.6263 - recall_25: 0.7126 - val_loss: 0.6584 - val_accuracy: 0.5849 - val_auc_25: 0.5638 - val_precision_25: 0.6452 - val_recall_25: 0.6452\n",
            "Epoch 49/70\n",
            "6/6 [==============================] - 0s 85ms/step - loss: 0.6536 - accuracy: 0.5676 - auc_25: 0.6536 - precision_25: 0.5304 - recall_25: 0.7011 - val_loss: 0.6539 - val_accuracy: 0.6038 - val_auc_25: 0.5836 - val_precision_25: 0.6471 - val_recall_25: 0.7097\n",
            "Epoch 50/70\n",
            "6/6 [==============================] - 0s 80ms/step - loss: 0.6292 - accuracy: 0.6486 - auc_25: 0.7258 - precision_25: 0.6019 - recall_25: 0.7471 - val_loss: 0.6495 - val_accuracy: 0.5849 - val_auc_25: 0.6078 - val_precision_25: 0.6286 - val_recall_25: 0.7097\n",
            "Epoch 51/70\n",
            "6/6 [==============================] - 4s 766ms/step - loss: 0.6271 - accuracy: 0.6541 - auc_25: 0.7304 - precision_25: 0.6139 - recall_25: 0.7126 - val_loss: 0.6446 - val_accuracy: 0.6038 - val_auc_25: 0.6217 - val_precision_25: 0.6389 - val_recall_25: 0.7419\n",
            "Epoch 52/70\n",
            "6/6 [==============================] - 3s 538ms/step - loss: 0.6231 - accuracy: 0.6649 - auc_25: 0.7423 - precision_25: 0.6214 - recall_25: 0.7356 - val_loss: 0.6386 - val_accuracy: 0.5660 - val_auc_25: 0.6422 - val_precision_25: 0.6111 - val_recall_25: 0.7097\n",
            "Epoch 53/70\n",
            "6/6 [==============================] - 3s 524ms/step - loss: 0.6349 - accuracy: 0.6270 - auc_25: 0.7156 - precision_25: 0.5849 - recall_25: 0.7126 - val_loss: 0.6353 - val_accuracy: 0.6226 - val_auc_25: 0.6554 - val_precision_25: 0.6571 - val_recall_25: 0.7419\n",
            "Epoch 54/70\n",
            "6/6 [==============================] - 3s 538ms/step - loss: 0.6280 - accuracy: 0.6432 - auc_25: 0.7203 - precision_25: 0.5981 - recall_25: 0.7356 - val_loss: 0.6327 - val_accuracy: 0.6226 - val_auc_25: 0.6635 - val_precision_25: 0.6571 - val_recall_25: 0.7419\n",
            "Epoch 55/70\n",
            "6/6 [==============================] - 3s 537ms/step - loss: 0.6181 - accuracy: 0.6757 - auc_25: 0.7433 - precision_25: 0.6311 - recall_25: 0.7471 - val_loss: 0.6311 - val_accuracy: 0.6415 - val_auc_25: 0.6664 - val_precision_25: 0.6765 - val_recall_25: 0.7419\n",
            "Epoch 56/70\n",
            "6/6 [==============================] - 3s 565ms/step - loss: 0.6099 - accuracy: 0.6919 - auc_25: 0.7679 - precision_25: 0.6667 - recall_25: 0.6897 - val_loss: 0.6305 - val_accuracy: 0.6415 - val_auc_25: 0.6730 - val_precision_25: 0.6765 - val_recall_25: 0.7419\n",
            "Epoch 57/70\n",
            "6/6 [==============================] - 3s 541ms/step - loss: 0.6075 - accuracy: 0.6919 - auc_25: 0.7844 - precision_25: 0.6442 - recall_25: 0.7701 - val_loss: 0.6277 - val_accuracy: 0.6415 - val_auc_25: 0.7016 - val_precision_25: 0.6765 - val_recall_25: 0.7419\n",
            "Epoch 58/70\n",
            "6/6 [==============================] - 3s 572ms/step - loss: 0.6098 - accuracy: 0.6486 - auc_25: 0.7530 - precision_25: 0.6058 - recall_25: 0.7241 - val_loss: 0.6257 - val_accuracy: 0.6415 - val_auc_25: 0.7148 - val_precision_25: 0.6765 - val_recall_25: 0.7419\n",
            "Epoch 59/70\n",
            "6/6 [==============================] - 3s 535ms/step - loss: 0.6089 - accuracy: 0.6973 - auc_25: 0.7677 - precision_25: 0.6742 - recall_25: 0.6897 - val_loss: 0.6256 - val_accuracy: 0.6415 - val_auc_25: 0.7141 - val_precision_25: 0.6765 - val_recall_25: 0.7419\n",
            "Epoch 60/70\n",
            "6/6 [==============================] - 1s 86ms/step - loss: 0.6134 - accuracy: 0.6486 - auc_25: 0.7664 - precision_25: 0.6058 - recall_25: 0.7241 - val_loss: 0.6271 - val_accuracy: 0.6226 - val_auc_25: 0.7016 - val_precision_25: 0.6571 - val_recall_25: 0.7419\n",
            "Epoch 61/70\n",
            "6/6 [==============================] - 3s 545ms/step - loss: 0.6441 - accuracy: 0.6811 - auc_25: 0.7333 - precision_25: 0.6429 - recall_25: 0.7241 - val_loss: 0.6256 - val_accuracy: 0.6415 - val_auc_25: 0.7023 - val_precision_25: 0.6667 - val_recall_25: 0.7742\n",
            "Epoch 62/70\n",
            "6/6 [==============================] - 3s 538ms/step - loss: 0.6137 - accuracy: 0.7135 - auc_25: 0.7613 - precision_25: 0.6604 - recall_25: 0.8046 - val_loss: 0.6252 - val_accuracy: 0.6226 - val_auc_25: 0.6979 - val_precision_25: 0.6571 - val_recall_25: 0.7419\n",
            "Epoch 63/70\n",
            "6/6 [==============================] - 3s 540ms/step - loss: 0.6410 - accuracy: 0.6811 - auc_25: 0.7233 - precision_25: 0.6321 - recall_25: 0.7701 - val_loss: 0.6218 - val_accuracy: 0.6415 - val_auc_25: 0.6979 - val_precision_25: 0.6667 - val_recall_25: 0.7742\n",
            "Epoch 64/70\n",
            "6/6 [==============================] - 3s 562ms/step - loss: 0.6391 - accuracy: 0.6865 - auc_25: 0.7623 - precision_25: 0.6593 - recall_25: 0.6897 - val_loss: 0.6204 - val_accuracy: 0.6415 - val_auc_25: 0.6899 - val_precision_25: 0.6667 - val_recall_25: 0.7742\n",
            "Epoch 65/70\n",
            "6/6 [==============================] - 0s 82ms/step - loss: 0.6316 - accuracy: 0.6486 - auc_25: 0.6976 - precision_25: 0.6222 - recall_25: 0.6437 - val_loss: 0.6205 - val_accuracy: 0.6226 - val_auc_25: 0.6965 - val_precision_25: 0.6571 - val_recall_25: 0.7419\n",
            "Epoch 66/70\n",
            "6/6 [==============================] - 3s 550ms/step - loss: 0.6024 - accuracy: 0.6973 - auc_25: 0.7774 - precision_25: 0.6535 - recall_25: 0.7586 - val_loss: 0.6193 - val_accuracy: 0.6415 - val_auc_25: 0.6877 - val_precision_25: 0.6765 - val_recall_25: 0.7419\n",
            "Epoch 67/70\n",
            "6/6 [==============================] - 3s 530ms/step - loss: 0.6267 - accuracy: 0.6649 - auc_25: 0.7423 - precision_25: 0.6190 - recall_25: 0.7471 - val_loss: 0.6173 - val_accuracy: 0.6226 - val_auc_25: 0.6935 - val_precision_25: 0.6667 - val_recall_25: 0.7097\n",
            "Epoch 68/70\n",
            "6/6 [==============================] - 3s 541ms/step - loss: 0.6199 - accuracy: 0.6919 - auc_25: 0.7806 - precision_25: 0.6471 - recall_25: 0.7586 - val_loss: 0.6169 - val_accuracy: 0.6226 - val_auc_25: 0.6921 - val_precision_25: 0.6667 - val_recall_25: 0.7097\n",
            "Epoch 69/70\n",
            "6/6 [==============================] - 3s 547ms/step - loss: 0.5943 - accuracy: 0.7135 - auc_25: 0.8125 - precision_25: 0.6700 - recall_25: 0.7701 - val_loss: 0.6153 - val_accuracy: 0.6415 - val_auc_25: 0.6965 - val_precision_25: 0.6875 - val_recall_25: 0.7097\n",
            "Epoch 70/70\n",
            "6/6 [==============================] - 3s 540ms/step - loss: 0.6055 - accuracy: 0.6865 - auc_25: 0.7766 - precision_25: 0.6495 - recall_25: 0.7241 - val_loss: 0.6151 - val_accuracy: 0.6604 - val_auc_25: 0.6987 - val_precision_25: 0.6970 - val_recall_25: 0.7419\n"
          ]
        }
      ]
    },
    {
      "cell_type": "code",
      "source": [
        "epochs = [i for i in range(len(info3.history['accuracy']))]\n",
        "plt.figure(figsize=(8,6))\n",
        "plt.plot(epochs, info3.history['loss'], label=\"Train loss\")\n",
        "plt.plot(epochs, info3.history['val_loss'], label=\"Validation loss\")\n",
        "plt.legend(fontsize=12)\n",
        "plt.xlabel(\"Epoch\", fontsize=15)\n",
        "plt.ylabel(\"Pre-trained Model - Binary Crossentropy Loss\", fontsize=15)\n",
        "plt.title(\"Train vs. Validation Loss\", fontsize=18)\n",
        "plt.savefig(PROJECT_DIR + 'results/Pretrained_binary')\n",
        "\n",
        "if shuffled:\n",
        "  LOSS_SAVE_DIR = PROJECT_DIR + 'results/shuffled/' + image_size + '_incv3_fine_tune__loss'\n",
        "else:\n",
        "  LOSS_SAVE_DIR = PROJECT_DIR + 'results/' + image_size + '_70c_incv3_fine_tune__loss'\n",
        "\n",
        "plt.savefig(LOSS_SAVE_DIR)\n"
      ],
      "metadata": {
        "colab": {
          "base_uri": "https://localhost:8080/",
          "height": 412
        },
        "id": "aGDlZHhOYu_E",
        "outputId": "d2ca1e7e-f349-41ff-a0b4-b6ae04f46a42"
      },
      "id": "aGDlZHhOYu_E",
      "execution_count": null,
      "outputs": [
        {
          "output_type": "display_data",
          "data": {
            "text/plain": [
              "<Figure size 576x432 with 1 Axes>"
            ],
            "image/png": "[encoded data removed]"
          },
          "metadata": {
            "needs_background": "light"
          }
        }
      ]
    },
    {
      "cell_type": "code",
      "source": [
        "from keras.models import load_model\n",
        "fresh_model = load_model(MODEL_SAVE_DIR)"
      ],
      "metadata": {
        "id": "FecxLyumbSKD"
      },
      "id": "FecxLyumbSKD",
      "execution_count": null,
      "outputs": []
    },
    {
      "cell_type": "code",
      "source": [
        "train_scores = fresh_model.evaluate(X_train, y_train, verbose = 0) \n",
        "\n",
        "print(\"===== Train Set Results =====\\n\")\n",
        "for metric,val in zip(fresh_model.metrics_names, train_scores):\n",
        "  print(\"%12s: %.3f\" % (metric, val))"
      ],
      "metadata": {
        "colab": {
          "base_uri": "https://localhost:8080/"
        },
        "id": "yQEEyylQb-Wa",
        "outputId": "97de9690-a215-4bb3-9a01-82821e35122c"
      },
      "id": "yQEEyylQb-Wa",
      "execution_count": null,
      "outputs": [
        {
          "output_type": "stream",
          "name": "stdout",
          "text": [
            "===== Train Set Results =====\n",
            "\n",
            "        loss: 0.560\n",
            "    accuracy: 0.816\n",
            "      auc_25: 0.918\n",
            "precision_25: 0.798\n",
            "   recall_25: 0.816\n"
          ]
        }
      ]
    },
    {
      "cell_type": "code",
      "source": [
        "val_scores = fresh_model.evaluate(X_val, y_val, verbose = 0) \n",
        "\n",
        "print(\"===== Val Set Results =====\\n\")\n",
        "for metric,val in zip(fresh_model.metrics_names, val_scores):\n",
        "  print(\"%12s: %.3f\" % (metric, val))"
      ],
      "metadata": {
        "colab": {
          "base_uri": "https://localhost:8080/"
        },
        "id": "98Be9B6m6R99",
        "outputId": "eb9cee15-e993-42fa-a2a0-7885c6fc49fd"
      },
      "id": "98Be9B6m6R99",
      "execution_count": null,
      "outputs": [
        {
          "output_type": "stream",
          "name": "stdout",
          "text": [
            "===== Val Set Results =====\n",
            "\n",
            "        loss: 0.615\n",
            "    accuracy: 0.660\n",
            "      auc_25: 0.699\n",
            "precision_25: 0.697\n",
            "   recall_25: 0.742\n"
          ]
        }
      ]
    },
    {
      "cell_type": "code",
      "source": [
        "test_scores = fresh_model.evaluate(X_test, y_test, verbose = 0) \n",
        "\n",
        "print(\"===== Test Set Results =====\\n\")\n",
        "for metric,val in zip(fresh_model.metrics_names, test_scores):\n",
        "  print(\"%12s: %.3f\" % (metric, val))"
      ],
      "metadata": {
        "colab": {
          "base_uri": "https://localhost:8080/"
        },
        "id": "5EZ5D1CN6Rzg",
        "outputId": "6523b05d-fe68-4a53-a8e6-b8292a501aef"
      },
      "id": "5EZ5D1CN6Rzg",
      "execution_count": null,
      "outputs": [
        {
          "output_type": "stream",
          "name": "stdout",
          "text": [
            "===== Test Set Results =====\n",
            "\n",
            "        loss: 0.704\n",
            "    accuracy: 0.394\n",
            "      auc_25: 0.477\n",
            "precision_25: 0.333\n",
            "   recall_25: 0.429\n"
          ]
        }
      ]
    },
    {
      "cell_type": "markdown",
      "id": "OMfapbNpePb6",
      "metadata": {
        "id": "OMfapbNpePb6"
      },
      "source": [
        "# Now lets try regression\n",
        "Ideas -- <br>\n",
        "1) Use tanh activation function (-1, 1). Scale labels to between -1, 1. One issue is that our data is [0, 15].\n",
        "  - we could scale to (-0.99999, 0.999999). \n",
        "  - we could add labels for -1 and 16, then scale to betwen (-1, 1) then remove these fake labels.\n",
        "\n",
        "<br>\n",
        "2) sigmoid output ^ same but (0, 1)\n",
        "\n"
      ]
    },
    {
      "cell_type": "code",
      "source": [
        "import sklearn\n",
        "from sklearn.model_selection import train_test_split\n",
        "\n",
        "# Split into train/test/val set\n",
        "# Roughly val - 15%, test - 15%, train - 70%\n",
        "X_train, X_test, y_train, y_test = train_test_split(recurrence_plot_list, labels, train_size=0.88)\n",
        "X_train, X_val, y_train, y_val = train_test_split(X_train, y_train, train_size=0.78)\n",
        "\n",
        "print(\"X_train: \", X_train.shape)\n",
        "print(\"y_train: \", y_train.shape)\n",
        "print(\"\\n\")\n",
        "print(\"X_val: \", X_val.shape)\n",
        "print(\"y_val: \", y_val.shape)\n",
        "print(\"\\n\")\n",
        "print(\"X_test: \", X_test.shape)\n",
        "print(\"y_test: \", y_test.shape)\n",
        "print(\"\\n\")\n",
        "\n",
        "print(y_test)"
      ],
      "metadata": {
        "colab": {
          "base_uri": "https://localhost:8080/"
        },
        "id": "_RcTSZvWFr7c",
        "outputId": "2a2ae4f9-617c-435b-f958-421fae5071c6"
      },
      "id": "_RcTSZvWFr7c",
      "execution_count": null,
      "outputs": [
        {
          "output_type": "stream",
          "name": "stdout",
          "text": [
            "X_train:  (185, 359, 359, 1)\n",
            "y_train:  (185,)\n",
            "\n",
            "\n",
            "X_val:  (53, 359, 359, 1)\n",
            "y_val:  (53,)\n",
            "\n",
            "\n",
            "X_test:  (33, 359, 359, 1)\n",
            "y_test:  (33,)\n",
            "\n",
            "\n",
            "[ 6.  3.  6.  2.  7.  1.  4.  1.  5.  1.  1.  2.  3.  9.  6. 10.  0.  0.\n",
            "  1. 11.  0.  1.  6.  1.  6.  3.  4.  2.  3.  2.  7.  4.  2.]\n"
          ]
        }
      ]
    },
    {
      "cell_type": "code",
      "execution_count": null,
      "id": "f77XXAP-fbtj",
      "metadata": {
        "id": "f77XXAP-fbtj"
      },
      "outputs": [],
      "source": [
        "# Garcia-Ceja paper feeds CNN images with dims 100 x 100 x 4 (width x height x channels)\n",
        "# Labels are one hot encoded\n",
        "\n",
        "inputs = Input(shape=(imgsize[0], imgsize[1], 1))\n",
        "x = layers.Conv2D(filters=16, kernel_size=3, strides=(1, 1), activation=\"relu\")(inputs)\n",
        "x = layers.Conv2D(filters=16, kernel_size=3, strides=(1, 1), activation=\"relu\")(x)\n",
        "x = layers.MaxPooling2D(pool_size=(2, 2))(x)\n",
        "x = layers.Dropout(0.25)(x)\n",
        "x = layers.Conv2D(filters=32, kernel_size=3, strides=(1, 1), activation=\"relu\")(x)\n",
        "x = layers.Conv2D(filters=32, kernel_size=3, strides=(1, 1), activation=\"relu\")(x)\n",
        "x = layers.MaxPooling2D(pool_size=(2, 2))(x)\n",
        "x = layers.Dropout(0.25)(x)\n",
        "x = layers.Dense(512, activation=\"relu\")(x) \n",
        "x = layers.Dropout(0.50)(x)\n",
        "x = layers.Flatten()(x)\n",
        "out = layers.Dense(1, activation=\"linear\")(x) \n",
        "\n",
        "regression_model = Model(inputs=inputs, outputs=out)\n",
        "regression_model.compile(\n",
        "  optimizer = \"adam\",\n",
        "  loss= \"mse\", #tf.keras.losses.MeanSquaredError(),  \n",
        "  metrics=['accuracy'],\n",
        ")\n",
        "\n",
        "regression_model.summary()"
      ]
    },
    {
      "cell_type": "code",
      "execution_count": null,
      "id": "AtOkGltUeOfC",
      "metadata": {
        "id": "AtOkGltUeOfC"
      },
      "outputs": [],
      "source": [
        "from sklearn.preprocessing import StandardScaler, MinMaxScaler\n",
        "#Scale y train data from [0, 15] to (-1, 1) for training the neural network\n",
        "\n",
        "scaler = MinMaxScaler(feature_range=(-1, 1))\n",
        "scale_data = np.array([i for i in range(-1, 17)]).reshape(-1, 1)\n",
        "scaler.fit(scale_data)\n",
        "\n",
        "y_train_scaled = scaler.transform(y_train.reshape(-1, 1))\n",
        "y_val_scaled = scaler.transform(y_val.reshape(-1, 1)) \n",
        "\n",
        "# #scale to our target range [0, 15]\n",
        "# scaled_predictions = scaler.inverse_transform(test_predictions) #/6 * 15\n",
        "\n",
        "# # round to nearest int\n",
        "# final_pred = np.array([round(i) for i in scaled_predictions])"
      ]
    },
    {
      "cell_type": "code",
      "execution_count": null,
      "id": "S5aXjmS4qgPV",
      "metadata": {
        "id": "S5aXjmS4qgPV"
      },
      "outputs": [],
      "source": [
        "es = EarlyStopping(monitor='val_loss', patience=10)\n",
        "mcp_save = ModelCheckpoint('drive/MyDrive/data/results/.regression_best_weights.hdf5', save_best_only=True, monitor='val_loss', mode='min')\n",
        "\n",
        "info_regression = regression_model.fit(x=X_train, y=y_train, epochs=50, verbose=True, validation_data=(X_val, y_val), callbacks=[mcp_save])"
      ]
    },
    {
      "cell_type": "code",
      "execution_count": null,
      "id": "Z167UcYSrfBG",
      "metadata": {
        "id": "Z167UcYSrfBG"
      },
      "outputs": [],
      "source": [
        "epochs = [i for i in range(len(info_regression.history['accuracy']))]\n",
        "plt.figure(figsize=(8,6))\n",
        "plt.plot(epochs, info_regression.history['loss'], label=\"Train loss\")\n",
        "plt.plot(epochs, info_regression.history['val_loss'], label=\"Validation loss\")\n",
        "plt.legend(fontsize=12)\n",
        "plt.xlabel(\"Epoch\", fontsize=15)\n",
        "plt.ylabel(\"MSE Loss\", fontsize=15)\n",
        "plt.title(\"Loss for Tanh, 16 nodes in output\", fontsize=18)\n",
        "#plt.savefig('drive/MyDrive/data/results/Softmax_categorical')"
      ]
    },
    {
      "cell_type": "code",
      "execution_count": null,
      "id": "s_JroT_Qrv1g",
      "metadata": {
        "id": "s_JroT_Qrv1g"
      },
      "outputs": [],
      "source": [
        "regression_model.load_weights(filepath = 'drive/MyDrive/data/results/.regression_best_weights.hdf5')"
      ]
    },
    {
      "cell_type": "code",
      "execution_count": null,
      "id": "_Syt_b9OtbLj",
      "metadata": {
        "id": "_Syt_b9OtbLj"
      },
      "outputs": [],
      "source": [
        "# now calculate the actual accuracy\n",
        "test_predictions = regression_model.predict(X_test)\n",
        "train_predictions = regression_model.predict(X_train)\n",
        "val_predictions = regression_model.predict(X_val)"
      ]
    },
    {
      "cell_type": "code",
      "execution_count": null,
      "id": "XVe1jC8qthxM",
      "metadata": {
        "id": "XVe1jC8qthxM"
      },
      "outputs": [],
      "source": [
        "final_pred = enc.inverse_transform(test_predictions).squeeze()\n",
        "final_train_pred = enc.inverse_transform(train_predictions).squeeze()\n",
        "final_val_pred = enc.inverse_transform(val_predictions).squeeze()"
      ]
    },
    {
      "cell_type": "code",
      "execution_count": null,
      "id": "zHm3jH9QsXi0",
      "metadata": {
        "id": "zHm3jH9QsXi0"
      },
      "outputs": [],
      "source": [
        "test_acc = accuracy(final_pred, y_test)\n",
        "train_acc = accuracy(final_train_pred, y_train)\n",
        "val_acc = accuracy(final_val_pred, y_val)\n",
        "print(\"Classification with tanh\")\n",
        "print(\"----Results----\")\n",
        "print(f\"Size of train set: {y_train.shape[0]}\")\n",
        "print(f\"Train acc: {train_acc}\")\n",
        "print(f\"----\\nSize of validation set: {y_val.shape[0]}\")\n",
        "print(f\"Validation acc: {val_acc}\")\n",
        "print(f\"----\\nSize of test set: {y_test.shape[0]}\")\n",
        "print(f\"Test acc: {test_acc}\")"
      ]
    },
    {
      "cell_type": "code",
      "execution_count": null,
      "id": "Y4Q7Bn8kvGpt",
      "metadata": {
        "id": "Y4Q7Bn8kvGpt"
      },
      "outputs": [],
      "source": [
        "y_train"
      ]
    },
    {
      "cell_type": "code",
      "execution_count": null,
      "id": "AkW-Jc5ZvNXY",
      "metadata": {
        "id": "AkW-Jc5ZvNXY"
      },
      "outputs": [],
      "source": [
        ""
      ]
    }
  ],
  "metadata": {
    "accelerator": "GPU",
    "colab": {
      "name": "learning_pipeline-angelina.ipynb",
      "provenance": [],
      "collapsed_sections": [],
      "toc_visible": true,
      "include_colab_link": true
    },
    "kernelspec": {
      "display_name": "Python 3 (ipykernel)",
      "language": "python",
      "name": "python3"
    },
    "language_info": {
      "codemirror_mode": {
        "name": "ipython",
        "version": 3
      },
      "file_extension": ".py",
      "mimetype": "text/x-python",
      "name": "python",
      "nbconvert_exporter": "python",
      "pygments_lexer": "ipython3",
      "version": "3.9.10"
    }
  },
  "nbformat": 4,
  "nbformat_minor": 5
}