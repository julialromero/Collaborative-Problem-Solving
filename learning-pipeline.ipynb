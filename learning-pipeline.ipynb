{
 "cells": [
  {
   "cell_type": "code",
   "execution_count": 1,
   "id": "91956b3e",
   "metadata": {},
   "outputs": [],
   "source": [
    "import pandas as pd\n",
    "import numpy as np\n",
    "import sklearn\n",
    "import seaborn as sns\n",
    "import matplotlib.pyplot as plt\n",
    "import tensorflow as tf\n",
    "from tensorflow import keras\n",
    "from tensorflow.keras.preprocessing import image\n",
    "from tensorflow.keras.applications.inception_v3 import preprocess_input\n",
    "from keras import layers, Input, Model, optimizers"
   ]
  },
  {
   "cell_type": "markdown",
   "id": "276ad7ff",
   "metadata": {},
   "source": [
    "# Scratchwork"
   ]
  },
  {
   "cell_type": "code",
   "execution_count": 102,
   "id": "a72ba0c3",
   "metadata": {},
   "outputs": [],
   "source": [
    "from skimage import io\n",
    "\n",
    "imag = io.imread('data/RAW/1010-ExpBlock1_RAW.png', as_gray=True)\n",
    "x = image.img_to_array(imag)\n",
    "#n = preprocess_input(x)    # preprocess input for Inception v3"
   ]
  },
  {
   "cell_type": "markdown",
   "id": "fbbc8090",
   "metadata": {},
   "source": [
    "### (760, 598, 4)"
   ]
  },
  {
   "cell_type": "code",
   "execution_count": 104,
   "id": "70a3bd6c",
   "metadata": {},
   "outputs": [],
   "source": [
    "# read, preprocess, and scale images to uniform dimension\n",
    "imgsize = (760, 598)  \n",
    "def extract_image(image_path):\n",
    "    imag = io.imread(image_path, as_gray=True)\n",
    "    x = image.img_to_array(imag)\n",
    "\n",
    "    x = tf.keras.preprocessing.image.smart_resize(x, imgsize)\n",
    "    \n",
    "    n = preprocess_input(x)\n",
    "    return n"
   ]
  },
  {
   "cell_type": "code",
   "execution_count": 6,
   "id": "e301c5d2",
   "metadata": {},
   "outputs": [],
   "source": [
    "# Use InceptionV3 model for feature extraction\n",
    "base_model = tf.keras.applications.InceptionV3(\n",
    "    include_top=False,\n",
    "    weights=\"imagenet\",\n",
    "    input_tensor=None,\n",
    "    input_shape=(None, None, 3),\n",
    "    pooling='max',\n",
    ")"
   ]
  },
  {
   "cell_type": "code",
   "execution_count": 107,
   "id": "be75deee",
   "metadata": {},
   "outputs": [
    {
     "name": "stdout",
     "output_type": "stream",
     "text": [
      "Model: \"model_3\"\n",
      "_________________________________________________________________\n",
      " Layer (type)                Output Shape              Param #   \n",
      "=================================================================\n",
      " input_7 (InputLayer)        [(None, 760, 598, 1)]     0         \n",
      "                                                                 \n",
      " conv2d_112 (Conv2D)         (None, 758, 596, 16)      160       \n",
      "                                                                 \n",
      " conv2d_113 (Conv2D)         (None, 756, 594, 16)      2320      \n",
      "                                                                 \n",
      " max_pooling2d_13 (MaxPoolin  (None, 378, 297, 16)     0         \n",
      " g2D)                                                            \n",
      "                                                                 \n",
      " dropout_12 (Dropout)        (None, 378, 297, 16)      0         \n",
      "                                                                 \n",
      " conv2d_114 (Conv2D)         (None, 376, 295, 32)      4640      \n",
      "                                                                 \n",
      " conv2d_115 (Conv2D)         (None, 374, 293, 32)      9248      \n",
      "                                                                 \n",
      " max_pooling2d_14 (MaxPoolin  (None, 187, 146, 32)     0         \n",
      " g2D)                                                            \n",
      "                                                                 \n",
      " dropout_13 (Dropout)        (None, 187, 146, 32)      0         \n",
      "                                                                 \n",
      " dense_8 (Dense)             (None, 187, 146, 512)     16896     \n",
      "                                                                 \n",
      " dropout_14 (Dropout)        (None, 187, 146, 512)     0         \n",
      "                                                                 \n",
      " dense_9 (Dense)             (None, 187, 146, 1)       513       \n",
      "                                                                 \n",
      "=================================================================\n",
      "Total params: 33,777\n",
      "Trainable params: 33,777\n",
      "Non-trainable params: 0\n",
      "_________________________________________________________________\n"
     ]
    }
   ],
   "source": [
    "# Garcia-Ceja paper feeds CNN images with dims 100 x 100 x 4 (width x height x channels)\n",
    "# Labels are one hot encoded\n",
    "\n",
    "inputs = Input(shape=(760, 598, 1))\n",
    "x = layers.Conv2D(filters=16, kernel_size=3, strides=(1, 1), activation=\"relu\")(inputs)\n",
    "x = layers.Conv2D(filters=16, kernel_size=3, strides=(1, 1), activation=\"relu\")(x)\n",
    "x = layers.MaxPooling2D(pool_size=(2, 2))(x)\n",
    "x = layers.Dropout(0.25)(x)\n",
    "x = layers.Conv2D(filters=32, kernel_size=3, strides=(1, 1), activation=\"relu\")(x)\n",
    "x = layers.Conv2D(filters=32, kernel_size=3, strides=(1, 1), activation=\"relu\")(x)\n",
    "x = layers.MaxPooling2D(pool_size=(2, 2))(x)\n",
    "x = layers.Dropout(0.25)(x)\n",
    "x = layers.Dense(512, activation=\"relu\")(x) \n",
    "x = layers.Dropout(0.50)(x)\n",
    "out = layers.Dense(1, activation=tf.nn.relu6)(x) \n",
    "\n",
    "# ---- Output layer ----\n",
    "# Try a ReLU6 activation function -> f(x) = min(max(0,x),6). Restricted between 0 and 6, inclusive.\n",
    "# Then scale the range [0,6] to our target [0, 15] range and round to nearest integer\n",
    "\n",
    "model = Model(inputs=inputs, outputs=out)\n",
    "model.compile(\n",
    "  optimizer = 'adam',\n",
    "  loss=tf.keras.losses.MeanSquaredError(),  \n",
    "  metrics=['accuracy'],\n",
    ")\n",
    "\n",
    "model.summary()"
   ]
  },
  {
   "cell_type": "markdown",
   "id": "c7dd6e80",
   "metadata": {},
   "source": [
    "## Load and preprocess data"
   ]
  },
  {
   "cell_type": "code",
   "execution_count": 105,
   "id": "97137e7d",
   "metadata": {},
   "outputs": [
    {
     "name": "stdout",
     "output_type": "stream",
     "text": [
      "Number of samples: 271\n"
     ]
    }
   ],
   "source": [
    "import os\n",
    "import random\n",
    "\n",
    "# read data to np arrays\n",
    "recurrence_plot_list = []\n",
    "labels = []\n",
    "for filename in os.listdir('data/RAW/'):\n",
    "    t = extract_image('data/RAW/' + filename)\n",
    "    \n",
    "    # randomly generate y labels for now\n",
    "    lab = random.randrange(15)\n",
    "    \n",
    "    recurrence_plot_list.append(t)\n",
    "    labels.append(lab)\n",
    "\n",
    "recurrence_plot_list = np.array(recurrence_plot_list)\n",
    "labels = np.array(labels)\n",
    "\n",
    "print(f\"Number of samples: {recurrence_plot_list.shape[0]}\")"
   ]
  },
  {
   "cell_type": "code",
   "execution_count": 108,
   "id": "972e5553",
   "metadata": {},
   "outputs": [],
   "source": [
    "import sklearn\n",
    "from sklearn.model_selection import train_test_split\n",
    "\n",
    "# Split into train/test set\n",
    "X_train, X_test, y_train, y_test = train_test_split(recurrence_plot_list, labels, train_size=0.75)\n",
    "\n",
    "# Scale y train data from [0, 15] to [0, 6] for training the neural network\n",
    "y_train = y_train/15 * 6"
   ]
  },
  {
   "cell_type": "code",
   "execution_count": 110,
   "id": "7ff35da3",
   "metadata": {},
   "outputs": [
    {
     "name": "stdout",
     "output_type": "stream",
     "text": [
      "Epoch 1/3\n",
      "7/7 [==============================] - 159s 22s/step - loss: 8.8502 - accuracy: 0.0156\n",
      "Epoch 2/3\n",
      "7/7 [==============================] - 142s 20s/step - loss: 3.4713 - accuracy: 5.6384e-09\n",
      "Epoch 3/3\n",
      "7/7 [==============================] - 119s 17s/step - loss: 2.8689 - accuracy: 0.0000e+00\n"
     ]
    },
    {
     "data": {
      "text/plain": [
       "<keras.callbacks.History at 0x7f7495dec820>"
      ]
     },
     "execution_count": 110,
     "metadata": {},
     "output_type": "execute_result"
    }
   ],
   "source": [
    "# fit model\n",
    "info = model.fit(x=X_train, y=y_train, epochs=3, verbose=True)"
   ]
  },
  {
   "cell_type": "code",
   "execution_count": null,
   "id": "279e1fc9",
   "metadata": {},
   "outputs": [],
   "source": []
  }
 ],
 "metadata": {
  "kernelspec": {
   "display_name": "Python 3 (ipykernel)",
   "language": "python",
   "name": "python3"
  },
  "language_info": {
   "codemirror_mode": {
    "name": "ipython",
    "version": 3
   },
   "file_extension": ".py",
   "mimetype": "text/x-python",
   "name": "python",
   "nbconvert_exporter": "python",
   "pygments_lexer": "ipython3",
   "version": "3.9.7"
  }
 },
 "nbformat": 4,
 "nbformat_minor": 5
}
